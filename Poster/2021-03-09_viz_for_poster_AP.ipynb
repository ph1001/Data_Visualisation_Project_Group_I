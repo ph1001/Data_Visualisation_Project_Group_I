{
 "cells": [
  {
   "cell_type": "code",
   "execution_count": 1,
   "id": "wrong-enlargement",
   "metadata": {},
   "outputs": [],
   "source": [
    "import pandas as pd\n",
    "import plotly.graph_objects as go\n",
    "from plotly.subplots import make_subplots\n",
    "import datetime\n",
    "from sklearn.preprocessing import MinMaxScaler"
   ]
  },
  {
   "cell_type": "code",
   "execution_count": 2,
   "id": "responsible-property",
   "metadata": {},
   "outputs": [
    {
     "ename": "FileNotFoundError",
     "evalue": "[Errno 2] No such file or directory: 'Data/owid-covid-data.csv'",
     "output_type": "error",
     "traceback": [
      "\u001b[1;31m---------------------------------------------------------------------------\u001b[0m",
      "\u001b[1;31mFileNotFoundError\u001b[0m                         Traceback (most recent call last)",
      "\u001b[1;32m<ipython-input-2-b5cad5d4f94d>\u001b[0m in \u001b[0;36m<module>\u001b[1;34m\u001b[0m\n\u001b[1;32m----> 1\u001b[1;33m \u001b[0mcovidNumbers\u001b[0m \u001b[1;33m=\u001b[0m \u001b[0mpd\u001b[0m\u001b[1;33m.\u001b[0m\u001b[0mread_csv\u001b[0m\u001b[1;33m(\u001b[0m\u001b[1;34m'Data/owid-covid-data.csv'\u001b[0m\u001b[1;33m)\u001b[0m\u001b[1;33m\u001b[0m\u001b[1;33m\u001b[0m\u001b[0m\n\u001b[0m\u001b[0;32m      2\u001b[0m \u001b[0mcovidNumbers\u001b[0m\u001b[1;33m.\u001b[0m\u001b[0mhead\u001b[0m\u001b[1;33m(\u001b[0m\u001b[1;33m)\u001b[0m\u001b[1;33m\u001b[0m\u001b[1;33m\u001b[0m\u001b[0m\n",
      "\u001b[1;32m~\\anaconda3\\envs\\datavis\\lib\\site-packages\\pandas\\io\\parsers.py\u001b[0m in \u001b[0;36mread_csv\u001b[1;34m(filepath_or_buffer, sep, delimiter, header, names, index_col, usecols, squeeze, prefix, mangle_dupe_cols, dtype, engine, converters, true_values, false_values, skipinitialspace, skiprows, skipfooter, nrows, na_values, keep_default_na, na_filter, verbose, skip_blank_lines, parse_dates, infer_datetime_format, keep_date_col, date_parser, dayfirst, cache_dates, iterator, chunksize, compression, thousands, decimal, lineterminator, quotechar, quoting, doublequote, escapechar, comment, encoding, dialect, error_bad_lines, warn_bad_lines, delim_whitespace, low_memory, memory_map, float_precision, storage_options)\u001b[0m\n\u001b[0;32m    603\u001b[0m     \u001b[0mkwds\u001b[0m\u001b[1;33m.\u001b[0m\u001b[0mupdate\u001b[0m\u001b[1;33m(\u001b[0m\u001b[0mkwds_defaults\u001b[0m\u001b[1;33m)\u001b[0m\u001b[1;33m\u001b[0m\u001b[1;33m\u001b[0m\u001b[0m\n\u001b[0;32m    604\u001b[0m \u001b[1;33m\u001b[0m\u001b[0m\n\u001b[1;32m--> 605\u001b[1;33m     \u001b[1;32mreturn\u001b[0m \u001b[0m_read\u001b[0m\u001b[1;33m(\u001b[0m\u001b[0mfilepath_or_buffer\u001b[0m\u001b[1;33m,\u001b[0m \u001b[0mkwds\u001b[0m\u001b[1;33m)\u001b[0m\u001b[1;33m\u001b[0m\u001b[1;33m\u001b[0m\u001b[0m\n\u001b[0m\u001b[0;32m    606\u001b[0m \u001b[1;33m\u001b[0m\u001b[0m\n\u001b[0;32m    607\u001b[0m \u001b[1;33m\u001b[0m\u001b[0m\n",
      "\u001b[1;32m~\\anaconda3\\envs\\datavis\\lib\\site-packages\\pandas\\io\\parsers.py\u001b[0m in \u001b[0;36m_read\u001b[1;34m(filepath_or_buffer, kwds)\u001b[0m\n\u001b[0;32m    455\u001b[0m \u001b[1;33m\u001b[0m\u001b[0m\n\u001b[0;32m    456\u001b[0m     \u001b[1;31m# Create the parser.\u001b[0m\u001b[1;33m\u001b[0m\u001b[1;33m\u001b[0m\u001b[1;33m\u001b[0m\u001b[0m\n\u001b[1;32m--> 457\u001b[1;33m     \u001b[0mparser\u001b[0m \u001b[1;33m=\u001b[0m \u001b[0mTextFileReader\u001b[0m\u001b[1;33m(\u001b[0m\u001b[0mfilepath_or_buffer\u001b[0m\u001b[1;33m,\u001b[0m \u001b[1;33m**\u001b[0m\u001b[0mkwds\u001b[0m\u001b[1;33m)\u001b[0m\u001b[1;33m\u001b[0m\u001b[1;33m\u001b[0m\u001b[0m\n\u001b[0m\u001b[0;32m    458\u001b[0m \u001b[1;33m\u001b[0m\u001b[0m\n\u001b[0;32m    459\u001b[0m     \u001b[1;32mif\u001b[0m \u001b[0mchunksize\u001b[0m \u001b[1;32mor\u001b[0m \u001b[0miterator\u001b[0m\u001b[1;33m:\u001b[0m\u001b[1;33m\u001b[0m\u001b[1;33m\u001b[0m\u001b[0m\n",
      "\u001b[1;32m~\\anaconda3\\envs\\datavis\\lib\\site-packages\\pandas\\io\\parsers.py\u001b[0m in \u001b[0;36m__init__\u001b[1;34m(self, f, engine, **kwds)\u001b[0m\n\u001b[0;32m    812\u001b[0m             \u001b[0mself\u001b[0m\u001b[1;33m.\u001b[0m\u001b[0moptions\u001b[0m\u001b[1;33m[\u001b[0m\u001b[1;34m\"has_index_names\"\u001b[0m\u001b[1;33m]\u001b[0m \u001b[1;33m=\u001b[0m \u001b[0mkwds\u001b[0m\u001b[1;33m[\u001b[0m\u001b[1;34m\"has_index_names\"\u001b[0m\u001b[1;33m]\u001b[0m\u001b[1;33m\u001b[0m\u001b[1;33m\u001b[0m\u001b[0m\n\u001b[0;32m    813\u001b[0m \u001b[1;33m\u001b[0m\u001b[0m\n\u001b[1;32m--> 814\u001b[1;33m         \u001b[0mself\u001b[0m\u001b[1;33m.\u001b[0m\u001b[0m_engine\u001b[0m \u001b[1;33m=\u001b[0m \u001b[0mself\u001b[0m\u001b[1;33m.\u001b[0m\u001b[0m_make_engine\u001b[0m\u001b[1;33m(\u001b[0m\u001b[0mself\u001b[0m\u001b[1;33m.\u001b[0m\u001b[0mengine\u001b[0m\u001b[1;33m)\u001b[0m\u001b[1;33m\u001b[0m\u001b[1;33m\u001b[0m\u001b[0m\n\u001b[0m\u001b[0;32m    815\u001b[0m \u001b[1;33m\u001b[0m\u001b[0m\n\u001b[0;32m    816\u001b[0m     \u001b[1;32mdef\u001b[0m \u001b[0mclose\u001b[0m\u001b[1;33m(\u001b[0m\u001b[0mself\u001b[0m\u001b[1;33m)\u001b[0m\u001b[1;33m:\u001b[0m\u001b[1;33m\u001b[0m\u001b[1;33m\u001b[0m\u001b[0m\n",
      "\u001b[1;32m~\\anaconda3\\envs\\datavis\\lib\\site-packages\\pandas\\io\\parsers.py\u001b[0m in \u001b[0;36m_make_engine\u001b[1;34m(self, engine)\u001b[0m\n\u001b[0;32m   1043\u001b[0m             )\n\u001b[0;32m   1044\u001b[0m         \u001b[1;31m# error: Too many arguments for \"ParserBase\"\u001b[0m\u001b[1;33m\u001b[0m\u001b[1;33m\u001b[0m\u001b[1;33m\u001b[0m\u001b[0m\n\u001b[1;32m-> 1045\u001b[1;33m         \u001b[1;32mreturn\u001b[0m \u001b[0mmapping\u001b[0m\u001b[1;33m[\u001b[0m\u001b[0mengine\u001b[0m\u001b[1;33m]\u001b[0m\u001b[1;33m(\u001b[0m\u001b[0mself\u001b[0m\u001b[1;33m.\u001b[0m\u001b[0mf\u001b[0m\u001b[1;33m,\u001b[0m \u001b[1;33m**\u001b[0m\u001b[0mself\u001b[0m\u001b[1;33m.\u001b[0m\u001b[0moptions\u001b[0m\u001b[1;33m)\u001b[0m  \u001b[1;31m# type: ignore[call-arg]\u001b[0m\u001b[1;33m\u001b[0m\u001b[1;33m\u001b[0m\u001b[0m\n\u001b[0m\u001b[0;32m   1046\u001b[0m \u001b[1;33m\u001b[0m\u001b[0m\n\u001b[0;32m   1047\u001b[0m     \u001b[1;32mdef\u001b[0m \u001b[0m_failover_to_python\u001b[0m\u001b[1;33m(\u001b[0m\u001b[0mself\u001b[0m\u001b[1;33m)\u001b[0m\u001b[1;33m:\u001b[0m\u001b[1;33m\u001b[0m\u001b[1;33m\u001b[0m\u001b[0m\n",
      "\u001b[1;32m~\\anaconda3\\envs\\datavis\\lib\\site-packages\\pandas\\io\\parsers.py\u001b[0m in \u001b[0;36m__init__\u001b[1;34m(self, src, **kwds)\u001b[0m\n\u001b[0;32m   1860\u001b[0m \u001b[1;33m\u001b[0m\u001b[0m\n\u001b[0;32m   1861\u001b[0m         \u001b[1;31m# open handles\u001b[0m\u001b[1;33m\u001b[0m\u001b[1;33m\u001b[0m\u001b[1;33m\u001b[0m\u001b[0m\n\u001b[1;32m-> 1862\u001b[1;33m         \u001b[0mself\u001b[0m\u001b[1;33m.\u001b[0m\u001b[0m_open_handles\u001b[0m\u001b[1;33m(\u001b[0m\u001b[0msrc\u001b[0m\u001b[1;33m,\u001b[0m \u001b[0mkwds\u001b[0m\u001b[1;33m)\u001b[0m\u001b[1;33m\u001b[0m\u001b[1;33m\u001b[0m\u001b[0m\n\u001b[0m\u001b[0;32m   1863\u001b[0m         \u001b[1;32massert\u001b[0m \u001b[0mself\u001b[0m\u001b[1;33m.\u001b[0m\u001b[0mhandles\u001b[0m \u001b[1;32mis\u001b[0m \u001b[1;32mnot\u001b[0m \u001b[1;32mNone\u001b[0m\u001b[1;33m\u001b[0m\u001b[1;33m\u001b[0m\u001b[0m\n\u001b[0;32m   1864\u001b[0m         \u001b[1;32mfor\u001b[0m \u001b[0mkey\u001b[0m \u001b[1;32min\u001b[0m \u001b[1;33m(\u001b[0m\u001b[1;34m\"storage_options\"\u001b[0m\u001b[1;33m,\u001b[0m \u001b[1;34m\"encoding\"\u001b[0m\u001b[1;33m,\u001b[0m \u001b[1;34m\"memory_map\"\u001b[0m\u001b[1;33m,\u001b[0m \u001b[1;34m\"compression\"\u001b[0m\u001b[1;33m)\u001b[0m\u001b[1;33m:\u001b[0m\u001b[1;33m\u001b[0m\u001b[1;33m\u001b[0m\u001b[0m\n",
      "\u001b[1;32m~\\anaconda3\\envs\\datavis\\lib\\site-packages\\pandas\\io\\parsers.py\u001b[0m in \u001b[0;36m_open_handles\u001b[1;34m(self, src, kwds)\u001b[0m\n\u001b[0;32m   1355\u001b[0m         \u001b[0mLet\u001b[0m \u001b[0mthe\u001b[0m \u001b[0mreaders\u001b[0m \u001b[0mopen\u001b[0m \u001b[0mIOHanldes\u001b[0m \u001b[0mafter\u001b[0m \u001b[0mthey\u001b[0m \u001b[0mare\u001b[0m \u001b[0mdone\u001b[0m \u001b[1;32mwith\u001b[0m \u001b[0mtheir\u001b[0m \u001b[0mpotential\u001b[0m \u001b[0mraises\u001b[0m\u001b[1;33m.\u001b[0m\u001b[1;33m\u001b[0m\u001b[1;33m\u001b[0m\u001b[0m\n\u001b[0;32m   1356\u001b[0m         \"\"\"\n\u001b[1;32m-> 1357\u001b[1;33m         self.handles = get_handle(\n\u001b[0m\u001b[0;32m   1358\u001b[0m             \u001b[0msrc\u001b[0m\u001b[1;33m,\u001b[0m\u001b[1;33m\u001b[0m\u001b[1;33m\u001b[0m\u001b[0m\n\u001b[0;32m   1359\u001b[0m             \u001b[1;34m\"r\"\u001b[0m\u001b[1;33m,\u001b[0m\u001b[1;33m\u001b[0m\u001b[1;33m\u001b[0m\u001b[0m\n",
      "\u001b[1;32m~\\anaconda3\\envs\\datavis\\lib\\site-packages\\pandas\\io\\common.py\u001b[0m in \u001b[0;36mget_handle\u001b[1;34m(path_or_buf, mode, encoding, compression, memory_map, is_text, errors, storage_options)\u001b[0m\n\u001b[0;32m    640\u001b[0m                 \u001b[0merrors\u001b[0m \u001b[1;33m=\u001b[0m \u001b[1;34m\"replace\"\u001b[0m\u001b[1;33m\u001b[0m\u001b[1;33m\u001b[0m\u001b[0m\n\u001b[0;32m    641\u001b[0m             \u001b[1;31m# Encoding\u001b[0m\u001b[1;33m\u001b[0m\u001b[1;33m\u001b[0m\u001b[1;33m\u001b[0m\u001b[0m\n\u001b[1;32m--> 642\u001b[1;33m             handle = open(\n\u001b[0m\u001b[0;32m    643\u001b[0m                 \u001b[0mhandle\u001b[0m\u001b[1;33m,\u001b[0m\u001b[1;33m\u001b[0m\u001b[1;33m\u001b[0m\u001b[0m\n\u001b[0;32m    644\u001b[0m                 \u001b[0mioargs\u001b[0m\u001b[1;33m.\u001b[0m\u001b[0mmode\u001b[0m\u001b[1;33m,\u001b[0m\u001b[1;33m\u001b[0m\u001b[1;33m\u001b[0m\u001b[0m\n",
      "\u001b[1;31mFileNotFoundError\u001b[0m: [Errno 2] No such file or directory: 'Data/owid-covid-data.csv'"
     ]
    }
   ],
   "source": [
    "covidNumbers = pd.read_csv('Data/owid-covid-data.csv')\n",
    "covidNumbers.head()"
   ]
  },
  {
   "cell_type": "code",
   "execution_count": null,
   "id": "toxic-rebound",
   "metadata": {},
   "outputs": [],
   "source": [
    "print(covidNumbers['date'].dtypes)\n",
    "covidNumbers['date'] = pd.to_datetime(covidNumbers['date'], format = '%Y-%m-%d')"
   ]
  },
  {
   "cell_type": "code",
   "execution_count": null,
   "id": "driving-hartford",
   "metadata": {},
   "outputs": [],
   "source": [
    "covidUsa = covidNumbers[covidNumbers['iso_code'] == 'USA']\n",
    "covidUsa.head()"
   ]
  },
  {
   "cell_type": "code",
   "execution_count": null,
   "id": "prompt-samuel",
   "metadata": {},
   "outputs": [],
   "source": [
    "stringencyData = pd.read_csv('Data/covid-stringency-index.csv')\n",
    "stringencyData.head()"
   ]
  },
  {
   "cell_type": "code",
   "execution_count": null,
   "id": "cultural-intention",
   "metadata": {},
   "outputs": [],
   "source": [
    "stringencyData['Date'] = pd.to_datetime(stringencyData['Date'], format = '%Y-%m-%d')"
   ]
  },
  {
   "cell_type": "code",
   "execution_count": null,
   "id": "coated-fossil",
   "metadata": {},
   "outputs": [],
   "source": [
    "stringencyUsa = stringencyData[stringencyData['Code'] == 'USA']\n",
    "stringencyUsa.tail()"
   ]
  },
  {
   "cell_type": "code",
   "execution_count": null,
   "id": "opposed-flesh",
   "metadata": {},
   "outputs": [],
   "source": [
    "stringencyUsa.rename(columns={\"Date\": \"date\"}, inplace=True)\n",
    "casesStringency = pd.merge(covidUsa[['date', 'new_cases_smoothed']].copy(), \n",
    "                           stringencyUsa[['date', 'stringency_index']].copy(), on='date')\n",
    "casesStringency.fillna(0, inplace=True)"
   ]
  },
  {
   "cell_type": "code",
   "execution_count": null,
   "id": "catholic-briefing",
   "metadata": {},
   "outputs": [],
   "source": [
    "# Create figure with secondary y-axis\n",
    "fig = make_subplots(specs=[[{\"secondary_y\": True}]])\n",
    "\n",
    "# Add traces\n",
    "fig.add_trace(\n",
    "    go.Scatter(x=casesStringency['date'], y=casesStringency['new_cases_smoothed'], name=\"# New Cases\"),\n",
    "    secondary_y=False,\n",
    ")\n",
    "\n",
    "fig.add_trace(\n",
    "    go.Scatter(x=casesStringency['date'], y=casesStringency['stringency_index'], name=\"Stringency Index\"),\n",
    "    secondary_y=True,\n",
    ")\n",
    "\n",
    "# Add figure title\n",
    "fig.update_layout(\n",
    "    title_text=\"Comparison between cases and stringency\",\n",
    "    paper_bgcolor='rgba(0,0,0,0)',\n",
    "    plot_bgcolor='rgba(0,0,0,0)',\n",
    "    yaxis=dict(\n",
    "        title=\"# New Cases\",\n",
    "        titlefont=dict(\n",
    "            color=\"#636efa\"\n",
    "        ),\n",
    "        tickfont=dict(\n",
    "            color=\"#1f77b4\"\n",
    "        )\n",
    "    ),\n",
    "    yaxis2=dict(\n",
    "        title=\"Stringency Index\",\n",
    "        titlefont=dict(\n",
    "            color=\"#ef553c\"\n",
    "        ),\n",
    "        tickfont=dict(\n",
    "            color=\"#d62728\"\n",
    "        ),\n",
    "        anchor=\"x\",\n",
    "        overlaying=\"y\",\n",
    "        side=\"right\"\n",
    "    ),\n",
    ")\n",
    "\n",
    "# Set x-axis title\n",
    "fig.update_xaxes(title_text=\"Date\")\n",
    "\n",
    "# Set y-axes titles\n",
    "fig.update_yaxes(title_text=\"# New Cases\", secondary_y=False)\n",
    "fig.update_yaxes(title_text=\"Stringency index\", secondary_y=True)\n",
    "\n",
    "fig.show()"
   ]
  },
  {
   "cell_type": "code",
   "execution_count": null,
   "id": "activated-being",
   "metadata": {},
   "outputs": [],
   "source": [
    "industry = pd.read_csv('Data/Stocks/sm_dj_industry.csv')\n",
    "pharma = pd.read_csv('Data/Stocks/sm_dj_pharma.csv')\n",
    "tourism = pd.read_csv('Data/Stocks/sm_dj_tourism.csv')\n",
    "sp500 = pd.read_csv('Data/Stocks/sm_sp500.csv')\n",
    "hero = pd.read_csv('Data/Stocks/sm_hero.csv')\n",
    "nasdaq100 = pd.read_csv('Data/Stocks/sm_nasdaq.csv')\n",
    "retail = pd.read_csv('Data/Stocks/sm_dj_retail.csv')\n",
    "vix = pd.read_csv('Data/vix.csv', index_col = 0)"
   ]
  },
  {
   "cell_type": "code",
   "execution_count": null,
   "id": "empirical-apollo",
   "metadata": {},
   "outputs": [],
   "source": [
    "industry.dtypes"
   ]
  },
  {
   "cell_type": "code",
   "execution_count": null,
   "id": "effective-martin",
   "metadata": {},
   "outputs": [],
   "source": [
    "vix.reset_index(inplace=True)\n",
    "vix['Data'] = pd.to_datetime(vix['Data'], format = '%d.%m.%Y')"
   ]
  },
  {
   "cell_type": "code",
   "execution_count": null,
   "id": "corresponding-butterfly",
   "metadata": {},
   "outputs": [],
   "source": [
    "industry.head()"
   ]
  },
  {
   "cell_type": "code",
   "execution_count": null,
   "id": "current-governor",
   "metadata": {},
   "outputs": [],
   "source": [
    "# stocksConcatList= [pharma, tourism, sp500, hero, nasdaq100, retail, vix]\n",
    "\n",
    "casesStringency = industry[['Data', 'Último']].copy()\n",
    "casesStringency.rename(columns={\"Último\": \"industry\"}, inplace=True)\n",
    "casesStringency['Data'] = pd.to_datetime(casesStringency['Data'], format = '%d.%m.%Y')\n",
    "\n",
    "pharma.rename(columns={\"Último\": \"pharma\"}, inplace=True)\n",
    "pharma['Data'] = pd.to_datetime(pharma['Data'], format = '%d.%m.%Y')\n",
    "casesStringency = pd.merge(casesStringency, pharma[['Data', 'pharma']].copy(), on='Data')\n",
    "\n",
    "tourism.rename(columns={\"Último\": \"tourism\"}, inplace=True)\n",
    "tourism['Data'] = pd.to_datetime(tourism['Data'], format = '%d.%m.%Y')\n",
    "casesStringency = pd.merge(casesStringency, tourism[['Data', 'tourism']].copy(), on='Data')\n",
    "\n",
    "sp500.rename(columns={\"Último\": \"sp500\"}, inplace=True)\n",
    "sp500['Data'] = pd.to_datetime(sp500['Data'], format = '%d.%m.%Y')\n",
    "casesStringency = pd.merge(casesStringency, sp500[['Data', 'sp500']].copy(), on='Data')\n",
    "\n",
    "hero.rename(columns={\"Último\": \"hero\"}, inplace=True)\n",
    "hero['Data'] = pd.to_datetime(hero['Data'], format = '%d.%m.%Y')\n",
    "casesStringency = pd.merge(casesStringency, hero[['Data', 'hero']].copy(), how='outer', on='Data')\n",
    "\n",
    "nasdaq100.rename(columns={\"Último\": \"nasdaq100\"}, inplace=True)\n",
    "nasdaq100['Data'] = pd.to_datetime(nasdaq100['Data'], format = '%d.%m.%Y')\n",
    "casesStringency = pd.merge(casesStringency, nasdaq100[['Data', 'nasdaq100']].copy(), on='Data')\n",
    "\n",
    "retail.rename(columns={\"Último\": \"retail\"}, inplace=True)\n",
    "retail['Data'] = pd.to_datetime(retail['Data'], format = '%d.%m.%Y')\n",
    "casesStringency = pd.merge(casesStringency, retail[['Data', 'retail']].copy(), on='Data')\n",
    "\n",
    "vix.rename(columns={\"Último\": \"vix\"}, inplace=True)\n",
    "vix['Data'] = pd.to_datetime(vix['Data'], format = '%d.%m.%Y')\n",
    "casesStringency = pd.merge(casesStringency, vix[['Data', 'vix']].copy(), on='Data')"
   ]
  },
  {
   "cell_type": "code",
   "execution_count": null,
   "id": "cooperative-click",
   "metadata": {},
   "outputs": [],
   "source": [
    "casesStringency.set_index('Data', inplace=True)\n",
    "casesStringency.tail()"
   ]
  },
  {
   "cell_type": "code",
   "execution_count": null,
   "id": "warming-spectacular",
   "metadata": {},
   "outputs": [],
   "source": [
    "sp500 = sp500[['Data', 'sp500']]\n",
    "sp500 = sp500[(sp500['Data'] > '2020-01-22') & (sp500['Data'] < '2021-02-22')]\n",
    "sp500['sp500'] = (sp500['sp500'].replace('\\.','', regex=True)\n",
    "                        .replace(',','.', regex=True)\n",
    "                        .astype(float))\n",
    "sp500.head()"
   ]
  },
  {
   "cell_type": "code",
   "execution_count": null,
   "id": "raising-northeast",
   "metadata": {
    "scrolled": false
   },
   "outputs": [],
   "source": [
    "data_sectors = [dict(type='scatter',\n",
    "                     x=sp500.Data,\n",
    "                     y=sp500['sp500'])]\n",
    "\n",
    "layout_sectors = dict(title=dict(text='SP500 stock price'),\n",
    "                      xaxis=dict(title='Date'),\n",
    "                      yaxis=dict(title='Price'),\n",
    "                      paper_bgcolor='rgba(0,0,0,0)',\n",
    "                      plot_bgcolor='rgba(0,0,0,0)',)\n",
    "\n",
    "fig_sectors = go.Figure(data=data_sectors, layout=layout_sectors)\n",
    "\n",
    "fig_sectors.show()"
   ]
  },
  {
   "cell_type": "code",
   "execution_count": null,
   "id": "bulgarian-israeli",
   "metadata": {},
   "outputs": [],
   "source": [
    "sectors_list = casesStringency.columns\n",
    "scaler = MinMaxScaler()\n",
    "for s in sectors_list:\n",
    "    casesStringency[s] = (casesStringency[s].replace('\\.','', regex=True)\n",
    "                        .replace(',','.', regex=True)\n",
    "                        .astype(float))\n",
    "    casesStringency[s] = scaler.fit_transform(casesStringency[s].values.reshape(-1, 1))"
   ]
  },
  {
   "cell_type": "code",
   "execution_count": null,
   "id": "neural-devil",
   "metadata": {},
   "outputs": [],
   "source": [
    "sectors_list = casesStringency.columns\n",
    "\n",
    "data_sectors = [dict(type='scatter',\n",
    "                     x=casesStringency.index,\n",
    "                     y=casesStringency[sector],\n",
    "                     name=sector)\n",
    "                            for sector in sectors_list]\n",
    "\n",
    "layout_sectors = dict(title=dict(text='Sectors stock price'),\n",
    "                      xaxis=dict(title='Date'),\n",
    "                      yaxis=dict(title='Price'),\n",
    "                      paper_bgcolor='rgba(0,0,0,0)',\n",
    "                      plot_bgcolor='rgba(0,0,0,0)',)\n",
    "\n",
    "fig_sectors = go.Figure(data=data_sectors, layout=layout_sectors)\n",
    "\n",
    "fig_sectors.show()"
   ]
  },
  {
   "cell_type": "code",
   "execution_count": null,
   "id": "exclusive-tuesday",
   "metadata": {},
   "outputs": [],
   "source": [
    "casesStringency"
   ]
  },
  {
   "cell_type": "code",
   "execution_count": null,
   "id": "polished-superior",
   "metadata": {},
   "outputs": [],
   "source": [
    "stockVsCovid = pd.read_csv('Data/StockVsCovid.csv')\n",
    "geoCovid = pd.read_csv('Data/geoMap-Covid.csv')\n",
    "geoStock = pd.read_csv('Data/geoMap-Stock.csv')"
   ]
  },
  {
   "cell_type": "code",
   "execution_count": null,
   "id": "structured-assignment",
   "metadata": {
    "scrolled": true
   },
   "outputs": [],
   "source": [
    "stockVsCovid.reset_index(level=1, inplace=True)\n",
    "stockVsCovid.rename(columns={\"level_1\": \"Stock\", 'Categoria: Todas as categorias': 'Covid'}, inplace=True)\n",
    "stockVsCovid = stockVsCovid.iloc[3:]"
   ]
  },
  {
   "cell_type": "code",
   "execution_count": null,
   "id": "documented-crisis",
   "metadata": {},
   "outputs": [],
   "source": [
    "stockVsCovid = stockVsCovid.astype('int32').copy()"
   ]
  },
  {
   "cell_type": "code",
   "execution_count": null,
   "id": "faced-integrity",
   "metadata": {},
   "outputs": [],
   "source": [
    "stockVsCovid_list = stockVsCovid.columns\n",
    "\n",
    "data_stockVsCovid = [dict(type='scatter',\n",
    "                     x=stockVsCovid.index,\n",
    "                     y=stockVsCovid[sc],\n",
    "                     name=sc)\n",
    "                            for sc in stockVsCovid_list]\n",
    "\n",
    "layout_stockVsCovid = dict(title=dict(text='Trends in interests'),\n",
    "                      xaxis=dict(title='Date'),\n",
    "                      yaxis=dict(title='Interest'),\n",
    "                      paper_bgcolor='rgba(0,0,0,0)',\n",
    "                      plot_bgcolor='rgba(0,0,0,0)',)\n",
    "\n",
    "fig_sectors = go.Figure(data=data_stockVsCovid, layout=layout_stockVsCovid)\n",
    "\n",
    "fig_sectors.show()"
   ]
  },
  {
   "cell_type": "code",
   "execution_count": null,
   "id": "powered-electricity",
   "metadata": {},
   "outputs": [],
   "source": [
    "geoCovid.head()"
   ]
  },
  {
   "cell_type": "code",
   "execution_count": null,
   "id": "defined-buyer",
   "metadata": {},
   "outputs": [],
   "source": [
    "geoCovid.reset_index(level=0, inplace=True)\n",
    "geoCovid.rename(columns={\"Category: All categories\": \"Interest\", \"index\": \"state\"}, inplace=True)\n",
    "geoCovid = geoCovid.iloc[1:]"
   ]
  },
  {
   "cell_type": "code",
   "execution_count": null,
   "id": "bearing-tower",
   "metadata": {},
   "outputs": [],
   "source": [
    "df_locations = pd.read_csv('https://raw.githubusercontent.com/plotly/datasets/master/2011_us_ag_exports.csv')\n",
    "df_locations.head()"
   ]
  },
  {
   "cell_type": "code",
   "execution_count": null,
   "id": "pleased-latest",
   "metadata": {},
   "outputs": [],
   "source": [
    "df_us_covid = pd.merge(geoCovid, df_locations[['code', 'state']].copy(), on='state')\n",
    "df_us_covid.shape"
   ]
  },
  {
   "cell_type": "code",
   "execution_count": null,
   "id": "white-mineral",
   "metadata": {},
   "outputs": [],
   "source": [
    "df_us_covid.head()"
   ]
  },
  {
   "cell_type": "code",
   "execution_count": null,
   "id": "chronic-chest",
   "metadata": {},
   "outputs": [],
   "source": [
    "fig = go.Figure(data=go.Choropleth(\n",
    "    locations=df_us_covid['code'],\n",
    "    z = df_us_covid['Interest'].astype(float),\n",
    "    locationmode = 'USA-states',\n",
    "    colorbar_title = \"Interest\",\n",
    "    colorscale = 'Reds'\n",
    "))\n",
    "\n",
    "fig.update_layout(\n",
    "    title_text = \"Google trends interest on 'Covid'\",\n",
    "    geo_scope='usa',\n",
    "    paper_bgcolor='rgba(0,0,0,0)',\n",
    "    plot_bgcolor='rgba(0,0,0,0)'\n",
    ")\n",
    "\n",
    "fig.show()"
   ]
  },
  {
   "cell_type": "code",
   "execution_count": null,
   "id": "civic-interval",
   "metadata": {},
   "outputs": [],
   "source": [
    "geoStock.reset_index(level=0, inplace=True)\n",
    "geoStock.rename(columns={\"Category: All categories\": \"Interest\", \"index\": \"state\"}, inplace=True)\n",
    "geoStock = geoStock.iloc[1:]\n",
    "geoStock.head()"
   ]
  },
  {
   "cell_type": "code",
   "execution_count": null,
   "id": "musical-attempt",
   "metadata": {},
   "outputs": [],
   "source": [
    "df_us_stock = pd.merge(geoStock, df_locations[['code', 'state']].copy(), on='state')\n",
    "df_us_stock.shape"
   ]
  },
  {
   "cell_type": "code",
   "execution_count": null,
   "id": "excited-country",
   "metadata": {},
   "outputs": [],
   "source": [
    "fig = go.Figure(data=go.Choropleth(\n",
    "    locations=df_us_stock['code'],\n",
    "    z = df_us_stock['Interest'].astype(float),\n",
    "    locationmode = 'USA-states',\n",
    "    colorbar_title = \"Interest\",\n",
    "    colorscale = 'Blues'\n",
    "))\n",
    "\n",
    "fig.update_layout(\n",
    "    title_text = \"Google trends interest on 'Stocks'\",\n",
    "    geo_scope='usa',\n",
    "    paper_bgcolor='rgba(0,0,0,0)',\n",
    "    plot_bgcolor='rgba(0,0,0,0)'\n",
    ")\n",
    "\n",
    "fig.show()"
   ]
  },
  {
   "cell_type": "code",
   "execution_count": null,
   "id": "aware-definition",
   "metadata": {},
   "outputs": [],
   "source": [
    "trendCovid19_20 = pd.read_csv('Data/multiTimeline-stock19_20.csv')"
   ]
  },
  {
   "cell_type": "code",
   "execution_count": null,
   "id": "attractive-tower",
   "metadata": {},
   "outputs": [],
   "source": [
    "trendCovid19_20.head()"
   ]
  },
  {
   "cell_type": "code",
   "execution_count": null,
   "id": "organizational-colon",
   "metadata": {},
   "outputs": [],
   "source": [
    "trendCovid19_20.reset_index(inplace=True)\n",
    "trendCovid19_20.rename(columns={\"index\": \"date\", \"Category: All categories\": \"trendRating\"}, inplace=True)\n",
    "trendCovid19_20 = trendCovid19_20.iloc[1:]\n",
    "\n",
    "trendCovid19_20['trendRating'] = trendCovid19_20['trendRating'].astype('int32').copy()\n",
    "trendCovid19_20['date'] = pd.to_datetime(trendCovid19_20['date'], format = '%Y-%m-%d')"
   ]
  },
  {
   "cell_type": "code",
   "execution_count": null,
   "id": "worse-majority",
   "metadata": {},
   "outputs": [],
   "source": [
    "mean19 = trendCovid19_20[trendCovid19_20['date'].dt.year == 2019]['trendRating'].mean()\n",
    "mean20 = trendCovid19_20[trendCovid19_20['date'].dt.year == 2020]['trendRating'].mean()\n",
    "print(mean19)\n",
    "print(mean20)\n",
    "ratio = mean19/mean20\n",
    "print(ratio)\n",
    "trendCovid19_20.head()"
   ]
  },
  {
   "cell_type": "code",
   "execution_count": null,
   "id": "abroad-stranger",
   "metadata": {},
   "outputs": [],
   "source": [
    "geoStock19 = pd.read_csv('Data/geoMap-Stock19.csv')\n",
    "geoStock20 = pd.read_csv('Data/geoMap-Stock20.csv')"
   ]
  },
  {
   "cell_type": "code",
   "execution_count": null,
   "id": "abroad-vector",
   "metadata": {},
   "outputs": [],
   "source": [
    "geoStock19.head()"
   ]
  },
  {
   "cell_type": "code",
   "execution_count": null,
   "id": "contrary-education",
   "metadata": {},
   "outputs": [],
   "source": [
    "geoStock19.reset_index(level=0, inplace=True)\n",
    "geoStock19.rename(columns={\"Category: All categories\": \"Interest\", \"index\": \"state\"}, inplace=True)\n",
    "geoStock19 = geoStock19.iloc[1:]\n",
    "geoStock19['Interest'] = geoStock19['Interest'].astype('int32').copy()\n",
    "\n",
    "geoStock19 = pd.merge(geoStock19, df_locations[['code', 'state']].copy(), on='state')\n",
    "geoStock19.head()"
   ]
  },
  {
   "cell_type": "code",
   "execution_count": null,
   "id": "ethical-parcel",
   "metadata": {},
   "outputs": [],
   "source": [
    "geoStock19['Interest'] = geoStock19['Interest']*ratio\n",
    "geoStock19.head()"
   ]
  },
  {
   "cell_type": "code",
   "execution_count": null,
   "id": "square-hurricane",
   "metadata": {},
   "outputs": [],
   "source": [
    "fig = go.Figure(data=go.Choropleth(\n",
    "    locations=geoStock19['code'],\n",
    "    z = geoStock19['Interest'].astype(float),\n",
    "    locationmode = 'USA-states',\n",
    "    colorbar_title = \"Interest\",\n",
    "    colorscale = 'YlGnBu',\n",
    "    zmin=0, zmax=100,\n",
    "))\n",
    "\n",
    "fig.update_layout(\n",
    "    title_text = \"Google trends interest on 'Stocks' in 2019\",\n",
    "    geo_scope='usa',\n",
    "    paper_bgcolor='rgba(0,0,0,0)',\n",
    "    plot_bgcolor='rgba(0,0,0,0)'\n",
    ")\n",
    "\n",
    "fig.show()"
   ]
  },
  {
   "cell_type": "code",
   "execution_count": null,
   "id": "adjacent-northwest",
   "metadata": {},
   "outputs": [],
   "source": [
    "geoStock20.reset_index(level=0, inplace=True)\n",
    "geoStock20.rename(columns={\"Category: All categories\": \"Interest\", \"index\": \"state\"}, inplace=True)\n",
    "geoStock20 = geoStock20.iloc[1:]\n",
    "geoStock20['Interest'] = geoStock20['Interest'].astype('int32').copy()\n",
    "\n",
    "geoStock20 = pd.merge(geoStock20, df_locations[['code', 'state']].copy(), on='state')\n",
    "geoStock20.head()"
   ]
  },
  {
   "cell_type": "code",
   "execution_count": null,
   "id": "fuzzy-effects",
   "metadata": {},
   "outputs": [],
   "source": [
    "fig = go.Figure(data=go.Choropleth(\n",
    "    locations=geoStock20['code'],\n",
    "    z = geoStock20['Interest'].astype(float),\n",
    "    locationmode = 'USA-states',\n",
    "    colorbar_title = \"Interest\",\n",
    "    colorscale = 'YlGnBu',\n",
    "    zmin=0, zmax=100\n",
    "))\n",
    "\n",
    "fig.update_layout(\n",
    "    title_text = \"Google trends interest on 'Stocks' in 2020\",\n",
    "    geo_scope='usa',\n",
    "    paper_bgcolor='rgba(0,0,0,0)',\n",
    "    plot_bgcolor='rgba(0,0,0,0)'\n",
    ")\n",
    "\n",
    "fig.show()"
   ]
  },
  {
   "cell_type": "code",
   "execution_count": null,
   "id": "dimensional-border",
   "metadata": {},
   "outputs": [],
   "source": []
  }
 ],
 "metadata": {
  "kernelspec": {
   "display_name": "Python 3",
   "language": "python",
   "name": "python3"
  },
  "language_info": {
   "codemirror_mode": {
    "name": "ipython",
    "version": 3
   },
   "file_extension": ".py",
   "mimetype": "text/x-python",
   "name": "python",
   "nbconvert_exporter": "python",
   "pygments_lexer": "ipython3",
   "version": "3.9.1"
  }
 },
 "nbformat": 4,
 "nbformat_minor": 5
}
