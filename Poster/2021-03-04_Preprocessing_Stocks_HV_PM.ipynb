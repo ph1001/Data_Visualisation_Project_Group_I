{
 "cells": [
  {
   "cell_type": "code",
   "execution_count": 1,
   "id": "weird-authorization",
   "metadata": {},
   "outputs": [],
   "source": [
    "import pandas as pd\n",
    "import numpy as np\n",
    "import plotly"
   ]
  },
  {
   "cell_type": "code",
   "execution_count": 2,
   "id": "occasional-learning",
   "metadata": {},
   "outputs": [],
   "source": [
    "industry = pd.read_csv('sm_dj_industry.csv')\n",
    "pharma = pd.read_csv('sm_dj_pharma.csv')\n",
    "tourism = pd.read_csv('sm_dj_tourism.csv')\n",
    "dax = pd.read_csv('sm_dax.csv')\n",
    "sp500 = pd.read_csv('sm_sp500.csv')\n",
    "hero = pd.read_csv('sm_hero.csv')\n",
    "nasdaq100 = pd.read_csv('sm_nasdaq.csv')\n",
    "psi20 = pd.read_csv('sm_psi20.csv')\n",
    "retail = pd.read_csv('sm_dj_retail.csv')\n",
    "cac = pd.read_csv('sm_dj_cac.csv')"
   ]
  },
  {
   "cell_type": "code",
   "execution_count": 3,
   "id": "rental-royalty",
   "metadata": {},
   "outputs": [],
   "source": [
    "def pre_processor (df):\n",
    "    \n",
    "    \"\"\"This function applies some pre processing to each stock market dataframe\"\"\"\n",
    "    \n",
    "    # List the columns that do not contain special characters in the name\n",
    "    columns_wo_char = ['Último', 'Abertura', 'Alta', 'Baixa']\n",
    "    \n",
    "    # List the columns that contain special characters in the name '%' or 'M'\n",
    "    columns_w_char = ['Vol.', 'Var. %']\n",
    "    \n",
    "    # Convert the columns into float\n",
    "    for column_wo_char in columns_wo_char:\n",
    "        # Replace characters in the middle of the string\n",
    "        df[column_wo_char] = df[column_wo_char].map(lambda number: number.replace('.', '').replace(',', '.'))\n",
    "        # Convert to float\n",
    "        df[column_wo_char] = df[column_wo_char].astype(float)\n",
    "        \n",
    "    # Convert the columns into float and remove the last character\n",
    "    for column_w_char in columns_w_char:\n",
    "        # Remove the last character\n",
    "        df[column_w_char] = df[column_w_char].map(lambda value : value[:-1])\n",
    "        # Replace characters in the middle of the string\n",
    "        df[column_w_char] = df[column_w_char].map(lambda number: number.replace('.', '').replace(',', '.'))\n",
    "        # Replace ''\n",
    "        df[column_w_char] = df[column_w_char].map(lambda number: '0' if number == '' else number) \n",
    "        # Convert to float\n",
    "        df[column_w_char] = df[column_w_char].astype(float)\n",
    "        \n",
    "    # Rename column in order to keep the measure unit    \n",
    "    df.rename(columns={'Vol.' : 'Vol. (M)'})\n",
    "    \n",
    "    # Convert 'Data' (portuguese for date) into datetime\n",
    "    df['Data'] = pd.to_datetime(df['Data'], errors = 'raise', format = '%d.%m.%Y')\n",
    "    # Create column with the year\n",
    "    df['Year'] = df['Data'].dt.year\n",
    "    # Create column with the month\n",
    "    df['Month'] = df['Data'].dt.month\n",
    "    # Add a 0 before the month if it is < 10\n",
    "    df['Month'] = df['Month'].map(lambda month : '0' + str(month) if month < 10 else month)\n",
    "    \n",
    "    # Drop column 'Data' for further actions (groupby)\n",
    "    # df.drop(columns = 'Data', inplace = True)\n",
    "    \n",
    "    # Concatenate Month and Year into one column\n",
    "    df['Year+Month'] = df['Year'].map(str) + '-' + df['Month'].map(str) "
   ]
  },
  {
   "cell_type": "code",
   "execution_count": 4,
   "id": "buried-electric",
   "metadata": {},
   "outputs": [],
   "source": [
    "df_list = [nasdaq100, pharma, industry, tourism, dax, hero, psi20, retail, cac, sp500]\n",
    "for df in df_list:\n",
    "    pre_processor(df)"
   ]
  },
  {
   "cell_type": "code",
   "execution_count": 6,
   "id": "horizontal-vehicle",
   "metadata": {},
   "outputs": [],
   "source": [
    "df_list = [[nasdaq100, 'nasdaq100'], \n",
    "           [pharma, 'pharma'], \n",
    "           [industry, 'industry'], \n",
    "           [tourism, 'tourism'], \n",
    "           [dax, 'dax'], \n",
    "           [hero, 'hero'], \n",
    "           [psi20, 'psi20'], \n",
    "           [retail, 'retail'], \n",
    "           [cac, 'cac'], \n",
    "           [sp500, 'sp500']\n",
    "          ]\n",
    "\n",
    "for df in df_list:\n",
    "    df[0].to_csv(df[1] + '.csv', sep='\\t')"
   ]
  },
  {
   "cell_type": "code",
   "execution_count": null,
   "id": "wanted-robinson",
   "metadata": {},
   "outputs": [],
   "source": []
  }
 ],
 "metadata": {
  "kernelspec": {
   "display_name": "Python 3",
   "language": "python",
   "name": "python3"
  },
  "language_info": {
   "codemirror_mode": {
    "name": "ipython",
    "version": 3
   },
   "file_extension": ".py",
   "mimetype": "text/x-python",
   "name": "python",
   "nbconvert_exporter": "python",
   "pygments_lexer": "ipython3",
   "version": "3.8.5"
  }
 },
 "nbformat": 4,
 "nbformat_minor": 5
}
