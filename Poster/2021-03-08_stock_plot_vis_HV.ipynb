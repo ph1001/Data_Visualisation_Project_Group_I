{
 "cells": [
  {
   "cell_type": "code",
   "execution_count": 1,
   "id": "humanitarian-protocol",
   "metadata": {},
   "outputs": [
    {
     "ename": "ModuleNotFoundError",
     "evalue": "No module named 'matplotlib'",
     "output_type": "error",
     "traceback": [
      "\u001b[1;31m---------------------------------------------------------------------------\u001b[0m",
      "\u001b[1;31mModuleNotFoundError\u001b[0m                       Traceback (most recent call last)",
      "\u001b[1;32m<ipython-input-1-c2b6fdb1853a>\u001b[0m in \u001b[0;36m<module>\u001b[1;34m\u001b[0m\n\u001b[0;32m      2\u001b[0m \u001b[1;32mimport\u001b[0m \u001b[0mnumpy\u001b[0m \u001b[1;32mas\u001b[0m \u001b[0mnp\u001b[0m\u001b[1;33m\u001b[0m\u001b[1;33m\u001b[0m\u001b[0m\n\u001b[0;32m      3\u001b[0m \u001b[1;32mimport\u001b[0m \u001b[0mplotly\u001b[0m\u001b[1;33m.\u001b[0m\u001b[0mgraph_objects\u001b[0m \u001b[1;32mas\u001b[0m \u001b[0mgo\u001b[0m\u001b[1;33m\u001b[0m\u001b[1;33m\u001b[0m\u001b[0m\n\u001b[1;32m----> 4\u001b[1;33m \u001b[1;32mimport\u001b[0m \u001b[0mmatplotlib\u001b[0m\u001b[1;33m.\u001b[0m\u001b[0mpyplot\u001b[0m \u001b[1;32mas\u001b[0m \u001b[0mplt\u001b[0m\u001b[1;33m\u001b[0m\u001b[1;33m\u001b[0m\u001b[0m\n\u001b[0m\u001b[0;32m      5\u001b[0m \u001b[1;32mfrom\u001b[0m \u001b[0msklearn\u001b[0m\u001b[1;33m.\u001b[0m\u001b[0mpreprocessing\u001b[0m \u001b[1;32mimport\u001b[0m \u001b[0mMinMaxScaler\u001b[0m\u001b[1;33m\u001b[0m\u001b[1;33m\u001b[0m\u001b[0m\n\u001b[0;32m      6\u001b[0m \u001b[1;32mfrom\u001b[0m \u001b[0mplotly\u001b[0m\u001b[1;33m.\u001b[0m\u001b[0msubplots\u001b[0m \u001b[1;32mimport\u001b[0m \u001b[0mmake_subplots\u001b[0m\u001b[1;33m\u001b[0m\u001b[1;33m\u001b[0m\u001b[0m\n",
      "\u001b[1;31mModuleNotFoundError\u001b[0m: No module named 'matplotlib'"
     ]
    }
   ],
   "source": [
    "import pandas as pd\n",
    "import numpy as np\n",
    "import plotly.graph_objects as go\n",
    "import matplotlib.pyplot as plt\n",
    "from sklearn.preprocessing import MinMaxScaler\n",
    "from plotly.subplots import make_subplots"
   ]
  },
  {
   "cell_type": "code",
   "execution_count": null,
   "id": "cardiac-subcommittee",
   "metadata": {},
   "outputs": [],
   "source": [
    "industry = pd.read_csv('/Users/henriquevaz/NOVA IMS/YEAR 1/SPRING SEMESTER/DV/Projects/Project 1/Stocks_Preprocessed/industry.csv', sep = '\\t', index_col = 0)\n",
    "pharma = pd.read_csv('/Users/henriquevaz/NOVA IMS/YEAR 1/SPRING SEMESTER/DV/Projects/Project 1/Stocks_Preprocessed/pharma.csv', sep = '\\t', index_col = 0)\n",
    "tourism = pd.read_csv('/Users/henriquevaz/NOVA IMS/YEAR 1/SPRING SEMESTER/DV/Projects/Project 1/Stocks_Preprocessed/tourism.csv', sep = '\\t', index_col = 0)\n",
    "dax = pd.read_csv('/Users/henriquevaz/NOVA IMS/YEAR 1/SPRING SEMESTER/DV/Projects/Project 1/Stocks_Preprocessed/dax.csv', sep = '\\t', index_col = 0)\n",
    "sp500 = pd.read_csv('/Users/henriquevaz/NOVA IMS/YEAR 1/SPRING SEMESTER/DV/Projects/Project 1/Stocks_Preprocessed/sp500.csv', sep = '\\t', index_col = 0)\n",
    "hero = pd.read_csv('/Users/henriquevaz/NOVA IMS/YEAR 1/SPRING SEMESTER/DV/Projects/Project 1/Stocks_Preprocessed/hero.csv', sep = '\\t', index_col = 0)\n",
    "nasdaq100 = pd.read_csv('/Users/henriquevaz/NOVA IMS/YEAR 1/SPRING SEMESTER/DV/Projects/Project 1/Stocks_Preprocessed/nasdaq100.csv', sep = '\\t', index_col = 0)\n",
    "psi20 = pd.read_csv('/Users/henriquevaz/NOVA IMS/YEAR 1/SPRING SEMESTER/DV/Projects/Project 1/Stocks_Preprocessed/psi20.csv', sep = '\\t', index_col = 0)\n",
    "retail = pd.read_csv('/Users/henriquevaz/NOVA IMS/YEAR 1/SPRING SEMESTER/DV/Projects/Project 1/Stocks_Preprocessed/retail.csv', sep = '\\t', index_col = 0)\n",
    "cac = pd.read_csv('/Users/henriquevaz/NOVA IMS/YEAR 1/SPRING SEMESTER/DV/Projects/Project 1/Stocks_Preprocessed/cac.csv', sep = '\\t', index_col = 0)\n",
    "covid = pd.read_csv('/Users/henriquevaz/NOVA IMS/YEAR 1/SPRING SEMESTER/DV/Projects/Project 1/Covid_Henrique/covid_data.csv', sep = '\\t', index_col = 0)"
   ]
  },
  {
   "cell_type": "code",
   "execution_count": null,
   "id": "drawn-motion",
   "metadata": {
    "scrolled": true
   },
   "outputs": [],
   "source": [
    "industry.head()"
   ]
  },
  {
   "cell_type": "code",
   "execution_count": null,
   "id": "received-renewal",
   "metadata": {},
   "outputs": [],
   "source": [
    "covid.head()"
   ]
  },
  {
   "cell_type": "code",
   "execution_count": null,
   "id": "backed-electricity",
   "metadata": {
    "scrolled": true
   },
   "outputs": [],
   "source": [
    "covid.columns"
   ]
  },
  {
   "cell_type": "code",
   "execution_count": null,
   "id": "compliant-haiti",
   "metadata": {},
   "outputs": [],
   "source": [
    "relevant_features = ['iso_code', \n",
    "                     'continent', \n",
    "                     'location', \n",
    "                     'date', \n",
    "                     'total_cases', \n",
    "                     'new_cases',\n",
    "                     'new_cases_smoothed', \n",
    "                     'total_deaths', \n",
    "                     'new_deaths',\n",
    "                     'new_deaths_smoothed', \n",
    "                     'total_cases_per_million',\n",
    "                     'new_cases_per_million', \n",
    "                     'new_cases_smoothed_per_million',\n",
    "                     'total_deaths_per_million', \n",
    "                     'new_deaths_per_million',\n",
    "                     'new_deaths_smoothed_per_million', \n",
    "                     'icu_patients',\n",
    "                     'icu_patients_per_million', \n",
    "                     'people_vaccinated', \n",
    "                     'people_fully_vaccinated', \n",
    "                     'new_vaccinations',\n",
    "                     'new_vaccinations_smoothed', \n",
    "                     'total_vaccinations_per_hundred',\n",
    "                     'people_vaccinated_per_hundred', \n",
    "                     'people_fully_vaccinated_per_hundred',\n",
    "                     'new_vaccinations_smoothed_per_million',\n",
    "                     'stringency_index','population', \n",
    "                     'human_development_index', \n",
    "                     'Year', \n",
    "                     'Month',\n",
    "                     'Year+Month']\n",
    "\n",
    "covid_relevant = covid[relevant_features]"
   ]
  },
  {
   "cell_type": "code",
   "execution_count": null,
   "id": "compressed-conclusion",
   "metadata": {
    "scrolled": true
   },
   "outputs": [],
   "source": [
    "covid_relevant"
   ]
  },
  {
   "cell_type": "markdown",
   "id": "fuzzy-nerve",
   "metadata": {},
   "source": [
    "### USA Analysis"
   ]
  },
  {
   "cell_type": "code",
   "execution_count": null,
   "id": "respective-spectacular",
   "metadata": {},
   "outputs": [],
   "source": [
    "covid_us = covid_relevant[covid_relevant['location'] == 'United States']\n",
    "covid_us"
   ]
  },
  {
   "cell_type": "code",
   "execution_count": null,
   "id": "disturbed-review",
   "metadata": {},
   "outputs": [],
   "source": [
    "# Plotting number of covid cases\n",
    "\n",
    "plt.figure(figsize=(5, 2))\n",
    "\n",
    "covid_scatter = dict(type='scatter',\n",
    "                        x=covid_us['date'],\n",
    "                        y=covid_us['new_cases_smoothed'],\n",
    "                        name='Covid Cases USA'\n",
    "                       ) \n",
    "               \n",
    "layout_scatter =dict(title=dict(text='Total Cases USA'),\n",
    "                 yaxis=dict(title='Covid New Cases'),\n",
    "                 xaxis=dict(title='Date')\n",
    "                )\n",
    "\n",
    "scatter = go.Figure(data = covid_scatter, layout=layout_scatter)\n",
    "           \n",
    "scatter.show()"
   ]
  },
  {
   "cell_type": "code",
   "execution_count": null,
   "id": "national-fairy",
   "metadata": {},
   "outputs": [],
   "source": [
    "# Plotting SP500 stock value\n",
    "\n",
    "plt.figure(figsize=(5, 2))\n",
    "\n",
    "sp500_scatter = dict(type='scatter',\n",
    "                        x=sp500['Data'][sp500['Year'] >= 2020],\n",
    "                        y=sp500['Alta'],\n",
    "                        name='SP500 stock value'\n",
    "                       ) \n",
    "               \n",
    "layout_scatter =dict(title=dict(text='SP500 Stocks'),\n",
    "                 yaxis=dict(title='Stock Value'),\n",
    "                 xaxis=dict(title='Date')\n",
    "                )\n",
    "\n",
    "scatter = go.Figure(data = sp500_scatter, layout=layout_scatter)\n",
    "           \n",
    "scatter.show()"
   ]
  },
  {
   "cell_type": "code",
   "execution_count": null,
   "id": "speaking-farming",
   "metadata": {},
   "outputs": [],
   "source": [
    "# Plotting both together\n",
    "\n",
    "titles = ['Covid Cases USA', 'S&P500 Stock Value'] # It ignores None type positions in the specs matrix\n",
    "\n",
    "plot = make_subplots(rows=2, \n",
    "                     cols=1,\n",
    "                     subplot_titles=titles,\n",
    "                     specs=[ [dict(type='xy', rowspan=1)], [dict(type='xy')] ]\n",
    "                    )\n",
    "\n",
    "plot.add_trace(covid_scatter, row=1, col=1)\n",
    "plot.add_trace(sp500_scatter, row=2, col=1)\n",
    "\n",
    "plot.update_layout(height=500, legend_orientation=\"h\")\n",
    "plot.show()"
   ]
  },
  {
   "cell_type": "markdown",
   "id": "constitutional-cache",
   "metadata": {},
   "source": [
    "### Portugal Analysis"
   ]
  },
  {
   "cell_type": "code",
   "execution_count": null,
   "id": "related-estonia",
   "metadata": {},
   "outputs": [],
   "source": [
    "covid_pt = covid_relevant[covid_relevant['location'] == 'Portugal']\n",
    "covid_pt"
   ]
  },
  {
   "cell_type": "code",
   "execution_count": null,
   "id": "specialized-employee",
   "metadata": {},
   "outputs": [],
   "source": [
    "# Plotting number of covid cases\n",
    "\n",
    "plt.figure(figsize=(5, 2))\n",
    "\n",
    "covid_scatter = dict(type='scatter',\n",
    "                        x=covid_pt['date'],\n",
    "                        y=covid_pt['new_cases_smoothed'],\n",
    "                        name='Covid Cases Portugal'\n",
    "                       ) \n",
    "               \n",
    "layout_scatter =dict(title=dict(text='Total Cases USA'),\n",
    "                 yaxis=dict(title='Covid New Cases'),\n",
    "                 xaxis=dict(title='Date')\n",
    "                )\n",
    "\n",
    "scatter = go.Figure(data = covid_scatter, layout=layout_scatter)\n",
    "           \n",
    "scatter.show()"
   ]
  },
  {
   "cell_type": "code",
   "execution_count": null,
   "id": "complex-flash",
   "metadata": {},
   "outputs": [],
   "source": [
    "# Plotting PSI20 stock value\n",
    "\n",
    "plt.figure(figsize=(5, 2))\n",
    "\n",
    "psi20_scatter = dict(type='scatter',\n",
    "                        x=psi20['Data'][sp500['Year'] >= 2020],\n",
    "                        y=psi20['Alta'],\n",
    "                        name='PSI20 stock value'\n",
    "                       ) \n",
    "               \n",
    "layout_scatter =dict(title=dict(text='PSI20 Stocks'),\n",
    "                 yaxis=dict(title='Stock Value'),\n",
    "                 xaxis=dict(title='Date')\n",
    "                )\n",
    "\n",
    "scatter = go.Figure(data = psi20_scatter, layout=layout_scatter)\n",
    "           \n",
    "scatter.show()"
   ]
  },
  {
   "cell_type": "code",
   "execution_count": null,
   "id": "noted-liquid",
   "metadata": {},
   "outputs": [],
   "source": [
    "# Plotting both together\n",
    "\n",
    "titles = ['Covid Cases PT', 'PSI20 Stock Value'] # It ignores None type positions in the specs matrix\n",
    "\n",
    "plot = make_subplots(rows=2, \n",
    "                     cols=1,\n",
    "                     subplot_titles=titles,\n",
    "                     specs=[ [dict(type='xy', rowspan=1)], [dict(type='xy')] ]\n",
    "                    )\n",
    "\n",
    "plot.add_trace(covid_scatter, row=1, col=1)\n",
    "plot.add_trace(psi20_scatter, row=2, col=1)\n",
    "\n",
    "plot.update_layout(height=500, legend_orientation=\"h\")\n",
    "plot.show()"
   ]
  },
  {
   "cell_type": "markdown",
   "id": "amateur-spyware",
   "metadata": {},
   "source": [
    "### Strigency Analysis"
   ]
  },
  {
   "cell_type": "code",
   "execution_count": null,
   "id": "returning-elephant",
   "metadata": {
    "scrolled": true
   },
   "outputs": [],
   "source": [
    "covid_us['stringency_index'].head()"
   ]
  },
  {
   "cell_type": "code",
   "execution_count": null,
   "id": "prerequisite-infrared",
   "metadata": {},
   "outputs": [],
   "source": [
    "# Plot strigency index over time\n",
    "\n",
    "# Plotting number of covid cases\n",
    "\n",
    "plt.figure(figsize=(5, 2))\n",
    "\n",
    "strigency_scatter = dict(type='scatter',\n",
    "                        x=covid_us['date'],\n",
    "                        y=covid_us['stringency_index'],\n",
    "                        name='Stringency Index USA', \n",
    "                         fill = 'tozeroy',\n",
    "                         line_color='rgba(217, 217, 217, 1.0)'\n",
    "                       ) \n",
    "               \n",
    "layout_scatter =dict(title=dict(text='Stringency Index USA'),\n",
    "                 yaxis=dict(title='Stringency Index'),\n",
    "                 xaxis=dict(title='Date'),\n",
    "                plot_bgcolor='rgba(0,0,0,0)'\n",
    "                    )\n",
    "\n",
    "scatter = go.Figure(data = strigency_scatter, layout=layout_scatter)\n",
    "           \n",
    "scatter.show()"
   ]
  },
  {
   "cell_type": "code",
   "execution_count": null,
   "id": "atmospheric-nurse",
   "metadata": {
    "scrolled": true
   },
   "outputs": [],
   "source": [
    "# Plotting nasdaq100 stock value\n",
    "\n",
    "nasdaq100_scatter = dict(type='scatter',\n",
    "                        x=nasdaq100['Data'][nasdaq100['Year'] >= 2020],\n",
    "                        y=nasdaq100['Alta'],\n",
    "                        name='Nasdaq100 stock value',  \n",
    "                         fill = 'tozeroy', \n",
    "                         line_color='rgba(156, 165, 196, 1.0)'\n",
    "                       ) \n",
    "               \n",
    "layout_scatter =dict(title=dict(text='Nasdaq100 Stocks'),\n",
    "                 yaxis=dict(title='Stock Value'),\n",
    "                 xaxis=dict(title='Date'),\n",
    "                plot_bgcolor='rgba(0,0,0,0)',\n",
    "                )\n",
    "\n",
    "scatter = go.Figure(data = nasdaq100_scatter, layout=layout_scatter)\n",
    "           \n",
    "scatter.show()"
   ]
  },
  {
   "cell_type": "code",
   "execution_count": null,
   "id": "fewer-latter",
   "metadata": {},
   "outputs": [],
   "source": [
    "# Plotting hero stock value\n",
    "\n",
    "plt.figure(figsize=(5, 2))\n",
    "\n",
    "hero_scatter = dict(type='scatter',\n",
    "                        x=hero['Data'][hero['Year'] >= 2020],\n",
    "                        y=hero['Alta'],\n",
    "                        name='Hero stock value', \n",
    "                    fill = 'tozeroy',\n",
    "                    line_color='rgba(156, 165, 196, 1.0)'\n",
    "                       ) \n",
    "               \n",
    "layout_scatter =dict(title=dict(text='Hero Stocks'),\n",
    "                 yaxis=dict(title='Stock Value'),\n",
    "                 xaxis=dict(title='Date'),\n",
    "                plot_bgcolor='rgba(0,0,0,0)'\n",
    "                )\n",
    "\n",
    "scatter = go.Figure(data = hero_scatter, layout=layout_scatter)\n",
    "           \n",
    "scatter.show()"
   ]
  },
  {
   "cell_type": "code",
   "execution_count": null,
   "id": "frozen-substance",
   "metadata": {},
   "outputs": [],
   "source": [
    "# Plotting both together\n",
    "\n",
    "titles = ['Nasdaq100 Stock Value', 'Strigency Index', 'Hero Stock Value'] \n",
    "\n",
    "plot = make_subplots(rows=3, \n",
    "                     cols=1,\n",
    "                     subplot_titles=titles,\n",
    "                     specs=[[dict(type='xy', rowspan=1)],\n",
    "                            [dict(type='xy', rowspan=1)], \n",
    "                            [dict(type='xy', rowspan=1)]]\n",
    "                    )\n",
    "\n",
    "plot.add_trace(nasdaq100_scatter, row=1, col=1)\n",
    "plot.add_trace(strigency_scatter, row=2, col=1)\n",
    "plot.add_trace(hero_scatter, row=3, col=1)\n",
    "\n",
    "plot.update_layout(height=800, \n",
    "                   legend_orientation=\"h\", \n",
    "                   paper_bgcolor = 'rgba(0,0,0,0)',\n",
    "                  plot_bgcolor='rgba(0,0,0,0)')\n",
    "plot.show()"
   ]
  },
  {
   "cell_type": "markdown",
   "id": "interesting-extra",
   "metadata": {},
   "source": [
    "### Radar"
   ]
  },
  {
   "cell_type": "code",
   "execution_count": null,
   "id": "royal-renewal",
   "metadata": {
    "scrolled": true
   },
   "outputs": [],
   "source": [
    "radar = pd.read_excel('/Users/henriquevaz/NOVA IMS/YEAR 1/SPRING SEMESTER/DV/Projects/Project 1/radar_data.xlsx')\n",
    "radar"
   ]
  },
  {
   "cell_type": "code",
   "execution_count": null,
   "id": "digital-preserve",
   "metadata": {},
   "outputs": [],
   "source": [
    "radar_log = radar.copy()\n",
    "for column in radar_log.columns[1:]:\n",
    "    radar_log[column] = radar_log[column].map(lambda x : np.log(x))"
   ]
  },
  {
   "cell_type": "code",
   "execution_count": null,
   "id": "ethical-garbage",
   "metadata": {},
   "outputs": [],
   "source": [
    "radar_log"
   ]
  },
  {
   "cell_type": "code",
   "execution_count": null,
   "id": "verbal-visitor",
   "metadata": {},
   "outputs": [],
   "source": [
    "from sklearn.preprocessing import MinMaxScaler"
   ]
  },
  {
   "cell_type": "code",
   "execution_count": null,
   "id": "necessary-financing",
   "metadata": {},
   "outputs": [],
   "source": [
    "sc = StandardScaler()\n",
    "radar_scaled = radar.copy()\n",
    "for column in radar_scaled.columns[1:]:\n",
    "    radar_scaled[column] = sc.fit_transform(radar_scaled[column].values.reshape(-1, 1))"
   ]
  },
  {
   "cell_type": "code",
   "execution_count": null,
   "id": "growing-yukon",
   "metadata": {},
   "outputs": [],
   "source": [
    "radar_scaled"
   ]
  },
  {
   "cell_type": "code",
   "execution_count": null,
   "id": "intellectual-packing",
   "metadata": {},
   "outputs": [],
   "source": [
    "categories = list(radar_log['Metric'])\n",
    "\n",
    "fig = go.Figure()\n",
    "\n",
    "fig.add_trace(go.Scatterpolar(\n",
    "      r = list(radar_log['Ebola']),\n",
    "      theta=categories,\n",
    "    fill='toself',\n",
    "      name='Ebola'\n",
    "))\n",
    "\n",
    "fig.add_trace(go.Scatterpolar(\n",
    "      r = list(radar_log['Covid']),\n",
    "      theta=categories,\n",
    "    fill='toself',\n",
    "      name='Covid'\n",
    "))\n",
    "\n",
    "fig.add_trace(go.Scatterpolar(\n",
    "      r = list(radar_log['Spanish Flu']),\n",
    "      theta=categories,\n",
    "    fill='toself',\n",
    "      name='Spanish Flu'\n",
    "))\n",
    "\n",
    "fig.update_layout(\n",
    "  polar=dict(\n",
    "    radialaxis=dict(\n",
    "      visible=False,\n",
    "      #range=[-15, 25]\n",
    "    )),\n",
    "  showlegend=True\n",
    ")\n",
    "\n",
    "fig.show()"
   ]
  },
  {
   "cell_type": "markdown",
   "id": "unlike-filling",
   "metadata": {},
   "source": [
    "### Donut"
   ]
  },
  {
   "cell_type": "code",
   "execution_count": null,
   "id": "considered-richmond",
   "metadata": {},
   "outputs": [],
   "source": [
    "deaths = [11000.000000, 2.569422e+06, 5.000000e+04]"
   ]
  },
  {
   "cell_type": "code",
   "execution_count": null,
   "id": "lyric-explanation",
   "metadata": {},
   "outputs": [],
   "source": [
    "import matplotlib.pyplot as plt\n",
    "\n",
    "# create data\n",
    "size_of_groups=deaths\n",
    "\n",
    "# Create a pieplot\n",
    "plt.pie(size_of_groups)\n",
    "\n",
    "# add a circle at the center to transform it in a donut chart\n",
    "my_circle=plt.Circle( (0,0), 0.7, color='white')\n",
    "p=plt.gcf()\n",
    "p.gca().add_artist(my_circle)\n",
    "\n",
    "plt.show()"
   ]
  },
  {
   "cell_type": "markdown",
   "id": "prostate-burke",
   "metadata": {},
   "source": [
    "### Before and After Analysis"
   ]
  },
  {
   "cell_type": "code",
   "execution_count": null,
   "id": "conscious-bunny",
   "metadata": {},
   "outputs": [],
   "source": [
    "# Davide's Code\n",
    "\n",
    "df_list = [[nasdaq100, 'nasdaq100'], \n",
    "           [pharma, 'pharma'], \n",
    "           [industry, 'industry'], \n",
    "           [tourism, 'tourism'], \n",
    "           [dax, 'dax'], \n",
    "           [hero, 'hero'], \n",
    "           [psi20, 'psi20'], \n",
    "           [retail, 'retail'], \n",
    "           [cac, 'cac'], \n",
    "           [sp500, 'sp500']\n",
    "          ]\n",
    "\n",
    "bef = []\n",
    "aft = []\n",
    "type_ = []\n",
    "for df in df_list:\n",
    "    bef.append(df[0][df[0]['Data'] == '2020-03-11']['Último'].values[0])\n",
    "    aft.append(df[0][df[0]['Data'] == max(df[0]['Data'])]['Último'].values[0])\n",
    "    type_.append(df[1])\n",
    "\n",
    "covid_comp = pd.DataFrame()\n",
    "covid_comp['Type of Stock'] = type_\n",
    "covid_comp['Before the Pandemic'] = bef\n",
    "covid_comp['Up to now'] = aft\n",
    "\n",
    "covid_comp"
   ]
  },
  {
   "cell_type": "code",
   "execution_count": null,
   "id": "sunset-franchise",
   "metadata": {},
   "outputs": [],
   "source": [
    "import plotly.graph_objects as go\n",
    "\n",
    "sector = [x.upper() for x in list(covid_comp['Type of Stock'])]\n",
    "before = list(covid_comp['Before the Pandemic'])\n",
    "now = list(covid_comp['Up to now'])\n",
    "\n",
    "fig = go.Figure()\n",
    "\n",
    "fig.add_trace(go.Scatter(\n",
    "    x=before,\n",
    "    y=sector,\n",
    "    name='Stock Value Before Pandemic',\n",
    "    marker=dict(\n",
    "        color='rgba(156, 165, 196, 0.95)',\n",
    "        line_color='rgba(156, 165, 196, 1.0)',\n",
    "    )\n",
    "))\n",
    "fig.add_trace(go.Scatter(\n",
    "    x=now,\n",
    "    y=sector,\n",
    "    name='Stock Value After Pandemic',\n",
    "    marker=dict(\n",
    "        color='rgba(204, 204, 204, 0.95)',\n",
    "        line_color='rgba(217, 217, 217, 1.0)'\n",
    "    )\n",
    "))\n",
    "\n",
    "fig.update_traces(mode='markers', marker=dict(line_width=1, symbol='circle', size=16))\n",
    "\n",
    "fig.update_layout(\n",
    "    title=\"Changes in the stock market values during the pandemic\",\n",
    "    xaxis=dict(\n",
    "        showgrid=False,\n",
    "        showline=True,\n",
    "        linecolor='rgb(102, 102, 102)',\n",
    "        tickfont_color='rgb(102, 102, 102)',\n",
    "        showticklabels=True,\n",
    "        #dtick=10,\n",
    "        ticks='outside',\n",
    "        tickcolor='rgb(102, 102, 102)',\n",
    "    ),\n",
    "    margin=dict(l=140, r=40, b=50, t=80),\n",
    "    legend=dict(\n",
    "        font_size=10,\n",
    "        yanchor='middle',\n",
    "        xanchor='right',\n",
    "    ),\n",
    "    width=800,\n",
    "    height=600,\n",
    "    paper_bgcolor='white',\n",
    "    plot_bgcolor='white',\n",
    "    hovermode='closest',\n",
    ")\n",
    "fig.show()"
   ]
  },
  {
   "cell_type": "code",
   "execution_count": null,
   "id": "warming-celebration",
   "metadata": {},
   "outputs": [],
   "source": []
  }
 ],
 "metadata": {
  "kernelspec": {
   "display_name": "Python 3",
   "language": "python",
   "name": "python3"
  },
  "language_info": {
   "codemirror_mode": {
    "name": "ipython",
    "version": 3
   },
   "file_extension": ".py",
   "mimetype": "text/x-python",
   "name": "python",
   "nbconvert_exporter": "python",
   "pygments_lexer": "ipython3",
   "version": "3.9.1"
  }
 },
 "nbformat": 4,
 "nbformat_minor": 5
}
