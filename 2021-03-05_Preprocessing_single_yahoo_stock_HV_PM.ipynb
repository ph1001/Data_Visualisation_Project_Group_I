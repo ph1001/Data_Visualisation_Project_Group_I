{
 "cells": [
  {
   "cell_type": "code",
   "execution_count": 1,
   "id": "weird-authorization",
   "metadata": {},
   "outputs": [],
   "source": [
    "import pandas as pd\n",
    "import numpy as np"
   ]
  },
  {
   "cell_type": "code",
   "execution_count": 2,
   "id": "occasional-learning",
   "metadata": {},
   "outputs": [],
   "source": [
    "path = '/Users/philippmetzger/Documents/GitHub/Data_Visualisation_Project_Group_I/Data/companies_PM/01_unprocessed/AMZN.csv'\n",
    "name = 'amazon'\n",
    "data = pd.read_csv(path)"
   ]
  },
  {
   "cell_type": "code",
   "execution_count": 3,
   "id": "rental-royalty",
   "metadata": {},
   "outputs": [],
   "source": [
    "def pre_processor (df):\n",
    "    \n",
    "    \"\"\"This function applies some pre processing to each stock market dataframe\"\"\"\n",
    "    \n",
    "    # Convert 'Data' (portuguese for date) into datetime\n",
    "    df['Date'] = pd.to_datetime(df['Date'], errors = 'raise', format = '%Y-%m-%d')\n",
    "    # Create column with the year\n",
    "    df['Year'] = df['Date'].dt.year\n",
    "    # Create column with the month\n",
    "    df['Month'] = df['Date'].dt.month\n",
    "    # Add a 0 before the month if it is < 10\n",
    "    df['Month'] = df['Month'].map(lambda month : '0' + str(month) if month < 10 else month)\n",
    "    \n",
    "    # Drop column 'Data' for further actions (groupby)\n",
    "    # df.drop(columns = 'Data', inplace = True)\n",
    "    \n",
    "    # Concatenate Month and Year into one column\n",
    "    df['Year+Month'] = df['Year'].map(str) + '-' + df['Month'].map(str) "
   ]
  },
  {
   "cell_type": "code",
   "execution_count": 4,
   "id": "buried-electric",
   "metadata": {},
   "outputs": [],
   "source": [
    "pre_processor(data)"
   ]
  },
  {
   "cell_type": "code",
   "execution_count": 5,
   "id": "horizontal-vehicle",
   "metadata": {},
   "outputs": [],
   "source": [
    "data.to_csv(name + '.csv', sep=',')"
   ]
  },
  {
   "cell_type": "code",
   "execution_count": null,
   "id": "wanted-robinson",
   "metadata": {},
   "outputs": [],
   "source": []
  }
 ],
 "metadata": {
  "kernelspec": {
   "display_name": "Python 3",
   "language": "python",
   "name": "python3"
  },
  "language_info": {
   "codemirror_mode": {
    "name": "ipython",
    "version": 3
   },
   "file_extension": ".py",
   "mimetype": "text/x-python",
   "name": "python",
   "nbconvert_exporter": "python",
   "pygments_lexer": "ipython3",
   "version": "3.8.5"
  }
 },
 "nbformat": 4,
 "nbformat_minor": 5
}
