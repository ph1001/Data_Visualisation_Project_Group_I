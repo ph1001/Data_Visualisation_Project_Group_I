{
 "cells": [
  {
   "cell_type": "code",
   "execution_count": 69,
   "id": "duplicate-joseph",
   "metadata": {},
   "outputs": [],
   "source": [
    "import pandas as pd\n",
    "import plotly.express as px"
   ]
  },
  {
   "cell_type": "markdown",
   "id": "macro-mailing",
   "metadata": {},
   "source": [
    "## Look at the original data"
   ]
  },
  {
   "cell_type": "code",
   "execution_count": 52,
   "id": "identical-italic",
   "metadata": {},
   "outputs": [],
   "source": [
    "path_dax_orig = '/Users/philippmetzger/Documents/GitHub/Data_Visualisation_Project_Group_I/Data/2020-03-04-1259_Datasets/Stocks_Henrique/sm_dax.csv'\n",
    "dax_orig = pd.read_csv(path_dax_orig, delimiter = ',', index_col = 0)"
   ]
  },
  {
   "cell_type": "code",
   "execution_count": 53,
   "id": "terminal-disney",
   "metadata": {
    "scrolled": true
   },
   "outputs": [
    {
     "data": {
      "text/html": [
       "<div>\n",
       "<style scoped>\n",
       "    .dataframe tbody tr th:only-of-type {\n",
       "        vertical-align: middle;\n",
       "    }\n",
       "\n",
       "    .dataframe tbody tr th {\n",
       "        vertical-align: top;\n",
       "    }\n",
       "\n",
       "    .dataframe thead th {\n",
       "        text-align: right;\n",
       "    }\n",
       "</style>\n",
       "<table border=\"1\" class=\"dataframe\">\n",
       "  <thead>\n",
       "    <tr style=\"text-align: right;\">\n",
       "      <th></th>\n",
       "      <th>Último</th>\n",
       "      <th>Abertura</th>\n",
       "      <th>Alta</th>\n",
       "      <th>Baixa</th>\n",
       "      <th>Vol.</th>\n",
       "      <th>Var. %</th>\n",
       "    </tr>\n",
       "    <tr>\n",
       "      <th>Data</th>\n",
       "      <th></th>\n",
       "      <th></th>\n",
       "      <th></th>\n",
       "      <th></th>\n",
       "      <th></th>\n",
       "      <th></th>\n",
       "    </tr>\n",
       "  </thead>\n",
       "  <tbody>\n",
       "    <tr>\n",
       "      <th>23.02.2021</th>\n",
       "      <td>13.781,0</td>\n",
       "      <td>13.925,8</td>\n",
       "      <td>14.005,0</td>\n",
       "      <td>13.656,5</td>\n",
       "      <td>-</td>\n",
       "      <td>-1,04%</td>\n",
       "    </tr>\n",
       "    <tr>\n",
       "      <th>22.02.2021</th>\n",
       "      <td>13.925,4</td>\n",
       "      <td>13.969,4</td>\n",
       "      <td>14.029,0</td>\n",
       "      <td>13.791,5</td>\n",
       "      <td>63,90K</td>\n",
       "      <td>-0,55%</td>\n",
       "    </tr>\n",
       "    <tr>\n",
       "      <th>19.02.2021</th>\n",
       "      <td>14.003,0</td>\n",
       "      <td>13.897,0</td>\n",
       "      <td>14.020,0</td>\n",
       "      <td>13.844,0</td>\n",
       "      <td>63,49K</td>\n",
       "      <td>0,74%</td>\n",
       "    </tr>\n",
       "    <tr>\n",
       "      <th>18.02.2021</th>\n",
       "      <td>13.900,3</td>\n",
       "      <td>13.954,4</td>\n",
       "      <td>13.968,5</td>\n",
       "      <td>13.844,5</td>\n",
       "      <td>63,08K</td>\n",
       "      <td>-0,38%</td>\n",
       "    </tr>\n",
       "    <tr>\n",
       "      <th>17.02.2021</th>\n",
       "      <td>13.953,5</td>\n",
       "      <td>14.022,4</td>\n",
       "      <td>14.063,5</td>\n",
       "      <td>13.876,0</td>\n",
       "      <td>75,05K</td>\n",
       "      <td>-0,49%</td>\n",
       "    </tr>\n",
       "  </tbody>\n",
       "</table>\n",
       "</div>"
      ],
      "text/plain": [
       "              Último  Abertura      Alta     Baixa    Vol.  Var. %\n",
       "Data                                                              \n",
       "23.02.2021  13.781,0  13.925,8  14.005,0  13.656,5       -  -1,04%\n",
       "22.02.2021  13.925,4  13.969,4  14.029,0  13.791,5  63,90K  -0,55%\n",
       "19.02.2021  14.003,0  13.897,0  14.020,0  13.844,0  63,49K   0,74%\n",
       "18.02.2021  13.900,3  13.954,4  13.968,5  13.844,5  63,08K  -0,38%\n",
       "17.02.2021  13.953,5  14.022,4  14.063,5  13.876,0  75,05K  -0,49%"
      ]
     },
     "execution_count": 53,
     "metadata": {},
     "output_type": "execute_result"
    }
   ],
   "source": [
    "dax_orig.head()"
   ]
  },
  {
   "cell_type": "markdown",
   "id": "progressive-jurisdiction",
   "metadata": {},
   "source": [
    "## Look at Henrique's preprocessed data"
   ]
  },
  {
   "cell_type": "code",
   "execution_count": 44,
   "id": "apparent-ceiling",
   "metadata": {},
   "outputs": [],
   "source": [
    "path_dax_preprocessed = '/Users/philippmetzger/Documents/GitHub/Data_Visualisation_Project_Group_I/Data/2020-03-04-1259_Datasets/Stocks_Preprocessed/dax.csv'\n",
    "dax_preprocessed = pd.read_csv(path_dax_preprocessed, delimiter = '\\t', index_col = 0)"
   ]
  },
  {
   "cell_type": "code",
   "execution_count": 45,
   "id": "proud-difficulty",
   "metadata": {},
   "outputs": [
    {
     "data": {
      "text/html": [
       "<div>\n",
       "<style scoped>\n",
       "    .dataframe tbody tr th:only-of-type {\n",
       "        vertical-align: middle;\n",
       "    }\n",
       "\n",
       "    .dataframe tbody tr th {\n",
       "        vertical-align: top;\n",
       "    }\n",
       "\n",
       "    .dataframe thead th {\n",
       "        text-align: right;\n",
       "    }\n",
       "</style>\n",
       "<table border=\"1\" class=\"dataframe\">\n",
       "  <thead>\n",
       "    <tr style=\"text-align: right;\">\n",
       "      <th></th>\n",
       "      <th>Último</th>\n",
       "      <th>Abertura</th>\n",
       "      <th>Alta</th>\n",
       "      <th>Baixa</th>\n",
       "      <th>Vol.</th>\n",
       "      <th>Var. %</th>\n",
       "      <th>Year</th>\n",
       "      <th>Month</th>\n",
       "      <th>Month+Year</th>\n",
       "    </tr>\n",
       "  </thead>\n",
       "  <tbody>\n",
       "    <tr>\n",
       "      <th>0</th>\n",
       "      <td>13781.0</td>\n",
       "      <td>13925.8</td>\n",
       "      <td>14005.0</td>\n",
       "      <td>13656.5</td>\n",
       "      <td>0.00</td>\n",
       "      <td>-1.04</td>\n",
       "      <td>2021</td>\n",
       "      <td>2</td>\n",
       "      <td>02-2021</td>\n",
       "    </tr>\n",
       "    <tr>\n",
       "      <th>1</th>\n",
       "      <td>13925.4</td>\n",
       "      <td>13969.4</td>\n",
       "      <td>14029.0</td>\n",
       "      <td>13791.5</td>\n",
       "      <td>63.90</td>\n",
       "      <td>-0.55</td>\n",
       "      <td>2021</td>\n",
       "      <td>2</td>\n",
       "      <td>02-2021</td>\n",
       "    </tr>\n",
       "    <tr>\n",
       "      <th>2</th>\n",
       "      <td>14003.0</td>\n",
       "      <td>13897.0</td>\n",
       "      <td>14020.0</td>\n",
       "      <td>13844.0</td>\n",
       "      <td>63.49</td>\n",
       "      <td>0.74</td>\n",
       "      <td>2021</td>\n",
       "      <td>2</td>\n",
       "      <td>02-2021</td>\n",
       "    </tr>\n",
       "    <tr>\n",
       "      <th>3</th>\n",
       "      <td>13900.3</td>\n",
       "      <td>13954.4</td>\n",
       "      <td>13968.5</td>\n",
       "      <td>13844.5</td>\n",
       "      <td>63.08</td>\n",
       "      <td>-0.38</td>\n",
       "      <td>2021</td>\n",
       "      <td>2</td>\n",
       "      <td>02-2021</td>\n",
       "    </tr>\n",
       "    <tr>\n",
       "      <th>4</th>\n",
       "      <td>13953.5</td>\n",
       "      <td>14022.4</td>\n",
       "      <td>14063.5</td>\n",
       "      <td>13876.0</td>\n",
       "      <td>75.05</td>\n",
       "      <td>-0.49</td>\n",
       "      <td>2021</td>\n",
       "      <td>2</td>\n",
       "      <td>02-2021</td>\n",
       "    </tr>\n",
       "  </tbody>\n",
       "</table>\n",
       "</div>"
      ],
      "text/plain": [
       "    Último  Abertura     Alta    Baixa   Vol.  Var. %  Year  Month Month+Year\n",
       "0  13781.0   13925.8  14005.0  13656.5   0.00   -1.04  2021      2    02-2021\n",
       "1  13925.4   13969.4  14029.0  13791.5  63.90   -0.55  2021      2    02-2021\n",
       "2  14003.0   13897.0  14020.0  13844.0  63.49    0.74  2021      2    02-2021\n",
       "3  13900.3   13954.4  13968.5  13844.5  63.08   -0.38  2021      2    02-2021\n",
       "4  13953.5   14022.4  14063.5  13876.0  75.05   -0.49  2021      2    02-2021"
      ]
     },
     "execution_count": 45,
     "metadata": {},
     "output_type": "execute_result"
    }
   ],
   "source": [
    "dax_preprocessed.head()"
   ]
  },
  {
   "cell_type": "code",
   "execution_count": 46,
   "id": "specified-therapy",
   "metadata": {},
   "outputs": [
    {
     "data": {
      "text/plain": [
       "numpy.int64"
      ]
     },
     "execution_count": 46,
     "metadata": {},
     "output_type": "execute_result"
    }
   ],
   "source": [
    "type(dax_preprocessed['Year'][0])"
   ]
  },
  {
   "cell_type": "code",
   "execution_count": 47,
   "id": "interested-genome",
   "metadata": {},
   "outputs": [
    {
     "data": {
      "text/plain": [
       "numpy.int64"
      ]
     },
     "execution_count": 47,
     "metadata": {},
     "output_type": "execute_result"
    }
   ],
   "source": [
    "type(dax_preprocessed['Month'][0])"
   ]
  },
  {
   "cell_type": "code",
   "execution_count": 48,
   "id": "pediatric-trade",
   "metadata": {},
   "outputs": [
    {
     "data": {
      "text/plain": [
       "Último         9727.7\n",
       "Abertura       9801.3\n",
       "Alta           9804.3\n",
       "Baixa          9711.0\n",
       "Vol.              0.0\n",
       "Var. %          -0.75\n",
       "Year             2015\n",
       "Month               1\n",
       "Month+Year    01-2015\n",
       "Name: 1580, dtype: object"
      ]
     },
     "execution_count": 48,
     "metadata": {},
     "output_type": "execute_result"
    }
   ],
   "source": [
    "# Show the last row\n",
    "\n",
    "dax_preprocessed.iloc[-1,:]\n",
    "\n",
    "# Dataset starts at Jan. 2015"
   ]
  },
  {
   "cell_type": "code",
   "execution_count": 49,
   "id": "dried-shanghai",
   "metadata": {},
   "outputs": [
    {
     "data": {
      "text/plain": [
       "(21, 9)"
      ]
     },
     "execution_count": 49,
     "metadata": {},
     "output_type": "execute_result"
    }
   ],
   "source": [
    "dax_preprocessed[(dax['Year'] == 2020) & (dax['Month'] == 8)].shape"
   ]
  },
  {
   "cell_type": "code",
   "execution_count": 54,
   "id": "voluntary-tennessee",
   "metadata": {},
   "outputs": [
    {
     "data": {
      "text/html": [
       "<div>\n",
       "<style scoped>\n",
       "    .dataframe tbody tr th:only-of-type {\n",
       "        vertical-align: middle;\n",
       "    }\n",
       "\n",
       "    .dataframe tbody tr th {\n",
       "        vertical-align: top;\n",
       "    }\n",
       "\n",
       "    .dataframe thead th {\n",
       "        text-align: right;\n",
       "    }\n",
       "</style>\n",
       "<table border=\"1\" class=\"dataframe\">\n",
       "  <thead>\n",
       "    <tr style=\"text-align: right;\">\n",
       "      <th></th>\n",
       "      <th>Último</th>\n",
       "      <th>Abertura</th>\n",
       "      <th>Alta</th>\n",
       "      <th>Baixa</th>\n",
       "      <th>Vol.</th>\n",
       "      <th>Var. %</th>\n",
       "      <th>Year</th>\n",
       "      <th>Month</th>\n",
       "    </tr>\n",
       "    <tr>\n",
       "      <th>Month+Year</th>\n",
       "      <th></th>\n",
       "      <th></th>\n",
       "      <th></th>\n",
       "      <th></th>\n",
       "      <th></th>\n",
       "      <th></th>\n",
       "      <th></th>\n",
       "      <th></th>\n",
       "    </tr>\n",
       "  </thead>\n",
       "  <tbody>\n",
       "    <tr>\n",
       "      <th>01-2015</th>\n",
       "      <td>10550.659091</td>\n",
       "      <td>10525.381818</td>\n",
       "      <td>10647.022727</td>\n",
       "      <td>10417.363636</td>\n",
       "      <td>123.279091</td>\n",
       "      <td>0.247273</td>\n",
       "      <td>2015</td>\n",
       "      <td>1</td>\n",
       "    </tr>\n",
       "    <tr>\n",
       "      <th>01-2016</th>\n",
       "      <td>9868.227273</td>\n",
       "      <td>9902.886364</td>\n",
       "      <td>9995.931818</td>\n",
       "      <td>9748.318182</td>\n",
       "      <td>118.399091</td>\n",
       "      <td>-0.210000</td>\n",
       "      <td>2016</td>\n",
       "      <td>1</td>\n",
       "    </tr>\n",
       "    <tr>\n",
       "      <th>01-2017</th>\n",
       "      <td>11951.585714</td>\n",
       "      <td>11933.690476</td>\n",
       "      <td>12005.957143</td>\n",
       "      <td>11879.076190</td>\n",
       "      <td>78.908571</td>\n",
       "      <td>0.262857</td>\n",
       "      <td>2017</td>\n",
       "      <td>1</td>\n",
       "    </tr>\n",
       "    <tr>\n",
       "      <th>01-2018</th>\n",
       "      <td>12997.900000</td>\n",
       "      <td>13027.425000</td>\n",
       "      <td>13097.900000</td>\n",
       "      <td>12934.450000</td>\n",
       "      <td>86.390500</td>\n",
       "      <td>-0.177500</td>\n",
       "      <td>2018</td>\n",
       "      <td>1</td>\n",
       "    </tr>\n",
       "    <tr>\n",
       "      <th>01-2019</th>\n",
       "      <td>11451.036364</td>\n",
       "      <td>11435.413636</td>\n",
       "      <td>11519.159091</td>\n",
       "      <td>11370.281818</td>\n",
       "      <td>98.071818</td>\n",
       "      <td>0.249091</td>\n",
       "      <td>2019</td>\n",
       "      <td>1</td>\n",
       "    </tr>\n",
       "    <tr>\n",
       "      <th>...</th>\n",
       "      <td>...</td>\n",
       "      <td>...</td>\n",
       "      <td>...</td>\n",
       "      <td>...</td>\n",
       "      <td>...</td>\n",
       "      <td>...</td>\n",
       "      <td>...</td>\n",
       "      <td>...</td>\n",
       "    </tr>\n",
       "    <tr>\n",
       "      <th>12-2017</th>\n",
       "      <td>12876.390000</td>\n",
       "      <td>12884.675000</td>\n",
       "      <td>12935.625000</td>\n",
       "      <td>12817.950000</td>\n",
       "      <td>72.635000</td>\n",
       "      <td>-0.014500</td>\n",
       "      <td>2017</td>\n",
       "      <td>12</td>\n",
       "    </tr>\n",
       "    <tr>\n",
       "      <th>12-2018</th>\n",
       "      <td>11414.735000</td>\n",
       "      <td>11440.825000</td>\n",
       "      <td>11502.800000</td>\n",
       "      <td>11324.000000</td>\n",
       "      <td>105.389000</td>\n",
       "      <td>0.044500</td>\n",
       "      <td>2018</td>\n",
       "      <td>12</td>\n",
       "    </tr>\n",
       "    <tr>\n",
       "      <th>12-2019</th>\n",
       "      <td>12770.952632</td>\n",
       "      <td>12769.205263</td>\n",
       "      <td>12833.584211</td>\n",
       "      <td>12702.542105</td>\n",
       "      <td>96.477895</td>\n",
       "      <td>0.152105</td>\n",
       "      <td>2019</td>\n",
       "      <td>12</td>\n",
       "    </tr>\n",
       "    <tr>\n",
       "      <th>12-2020</th>\n",
       "      <td>13008.727778</td>\n",
       "      <td>13020.422222</td>\n",
       "      <td>13142.888889</td>\n",
       "      <td>12843.377778</td>\n",
       "      <td>68.357778</td>\n",
       "      <td>-0.317778</td>\n",
       "      <td>2020</td>\n",
       "      <td>12</td>\n",
       "    </tr>\n",
       "    <tr>\n",
       "      <th>12-2021</th>\n",
       "      <td>13980.400000</td>\n",
       "      <td>13992.300000</td>\n",
       "      <td>14030.750000</td>\n",
       "      <td>13867.500000</td>\n",
       "      <td>41.290000</td>\n",
       "      <td>-0.040000</td>\n",
       "      <td>2021</td>\n",
       "      <td>12</td>\n",
       "    </tr>\n",
       "  </tbody>\n",
       "</table>\n",
       "<p>84 rows × 8 columns</p>\n",
       "</div>"
      ],
      "text/plain": [
       "                  Último      Abertura          Alta         Baixa  \\\n",
       "Month+Year                                                           \n",
       "01-2015     10550.659091  10525.381818  10647.022727  10417.363636   \n",
       "01-2016      9868.227273   9902.886364   9995.931818   9748.318182   \n",
       "01-2017     11951.585714  11933.690476  12005.957143  11879.076190   \n",
       "01-2018     12997.900000  13027.425000  13097.900000  12934.450000   \n",
       "01-2019     11451.036364  11435.413636  11519.159091  11370.281818   \n",
       "...                  ...           ...           ...           ...   \n",
       "12-2017     12876.390000  12884.675000  12935.625000  12817.950000   \n",
       "12-2018     11414.735000  11440.825000  11502.800000  11324.000000   \n",
       "12-2019     12770.952632  12769.205263  12833.584211  12702.542105   \n",
       "12-2020     13008.727778  13020.422222  13142.888889  12843.377778   \n",
       "12-2021     13980.400000  13992.300000  14030.750000  13867.500000   \n",
       "\n",
       "                  Vol.    Var. %  Year  Month  \n",
       "Month+Year                                     \n",
       "01-2015     123.279091  0.247273  2015      1  \n",
       "01-2016     118.399091 -0.210000  2016      1  \n",
       "01-2017      78.908571  0.262857  2017      1  \n",
       "01-2018      86.390500 -0.177500  2018      1  \n",
       "01-2019      98.071818  0.249091  2019      1  \n",
       "...                ...       ...   ...    ...  \n",
       "12-2017      72.635000 -0.014500  2017     12  \n",
       "12-2018     105.389000  0.044500  2018     12  \n",
       "12-2019      96.477895  0.152105  2019     12  \n",
       "12-2020      68.357778 -0.317778  2020     12  \n",
       "12-2021      41.290000 -0.040000  2021     12  \n",
       "\n",
       "[84 rows x 8 columns]"
      ]
     },
     "execution_count": 54,
     "metadata": {},
     "output_type": "execute_result"
    }
   ],
   "source": [
    "dax_preprocessed.groupby(['Month+Year']).mean()"
   ]
  },
  {
   "cell_type": "markdown",
   "id": "pointed-adelaide",
   "metadata": {},
   "source": [
    "## My preprocessed version"
   ]
  },
  {
   "cell_type": "code",
   "execution_count": 77,
   "id": "raised-giving",
   "metadata": {},
   "outputs": [],
   "source": [
    "path_dax_preprocessed2 = '/Users/philippmetzger/Documents/GitHub/Data_Visualisation_Project_Group_I/Data/preprocessed_new_PM/dax.csv'\n",
    "dax_preprocessed2 = pd.read_csv(path_dax_preprocessed2, delimiter = '\\t', index_col = 0)"
   ]
  },
  {
   "cell_type": "code",
   "execution_count": 78,
   "id": "desperate-supervisor",
   "metadata": {},
   "outputs": [
    {
     "data": {
      "text/html": [
       "<div>\n",
       "<style scoped>\n",
       "    .dataframe tbody tr th:only-of-type {\n",
       "        vertical-align: middle;\n",
       "    }\n",
       "\n",
       "    .dataframe tbody tr th {\n",
       "        vertical-align: top;\n",
       "    }\n",
       "\n",
       "    .dataframe thead th {\n",
       "        text-align: right;\n",
       "    }\n",
       "</style>\n",
       "<table border=\"1\" class=\"dataframe\">\n",
       "  <thead>\n",
       "    <tr style=\"text-align: right;\">\n",
       "      <th></th>\n",
       "      <th>Último</th>\n",
       "      <th>Abertura</th>\n",
       "      <th>Alta</th>\n",
       "      <th>Baixa</th>\n",
       "      <th>Vol.</th>\n",
       "      <th>Var. %</th>\n",
       "      <th>Year</th>\n",
       "      <th>Month</th>\n",
       "      <th>Year+Month</th>\n",
       "    </tr>\n",
       "  </thead>\n",
       "  <tbody>\n",
       "    <tr>\n",
       "      <th>0</th>\n",
       "      <td>13781.0</td>\n",
       "      <td>13925.8</td>\n",
       "      <td>14005.0</td>\n",
       "      <td>13656.5</td>\n",
       "      <td>0.00</td>\n",
       "      <td>-1.04</td>\n",
       "      <td>2021</td>\n",
       "      <td>2</td>\n",
       "      <td>2021-02</td>\n",
       "    </tr>\n",
       "    <tr>\n",
       "      <th>1</th>\n",
       "      <td>13925.4</td>\n",
       "      <td>13969.4</td>\n",
       "      <td>14029.0</td>\n",
       "      <td>13791.5</td>\n",
       "      <td>63.90</td>\n",
       "      <td>-0.55</td>\n",
       "      <td>2021</td>\n",
       "      <td>2</td>\n",
       "      <td>2021-02</td>\n",
       "    </tr>\n",
       "    <tr>\n",
       "      <th>2</th>\n",
       "      <td>14003.0</td>\n",
       "      <td>13897.0</td>\n",
       "      <td>14020.0</td>\n",
       "      <td>13844.0</td>\n",
       "      <td>63.49</td>\n",
       "      <td>0.74</td>\n",
       "      <td>2021</td>\n",
       "      <td>2</td>\n",
       "      <td>2021-02</td>\n",
       "    </tr>\n",
       "    <tr>\n",
       "      <th>3</th>\n",
       "      <td>13900.3</td>\n",
       "      <td>13954.4</td>\n",
       "      <td>13968.5</td>\n",
       "      <td>13844.5</td>\n",
       "      <td>63.08</td>\n",
       "      <td>-0.38</td>\n",
       "      <td>2021</td>\n",
       "      <td>2</td>\n",
       "      <td>2021-02</td>\n",
       "    </tr>\n",
       "    <tr>\n",
       "      <th>4</th>\n",
       "      <td>13953.5</td>\n",
       "      <td>14022.4</td>\n",
       "      <td>14063.5</td>\n",
       "      <td>13876.0</td>\n",
       "      <td>75.05</td>\n",
       "      <td>-0.49</td>\n",
       "      <td>2021</td>\n",
       "      <td>2</td>\n",
       "      <td>2021-02</td>\n",
       "    </tr>\n",
       "  </tbody>\n",
       "</table>\n",
       "</div>"
      ],
      "text/plain": [
       "    Último  Abertura     Alta    Baixa   Vol.  Var. %  Year  Month Year+Month\n",
       "0  13781.0   13925.8  14005.0  13656.5   0.00   -1.04  2021      2    2021-02\n",
       "1  13925.4   13969.4  14029.0  13791.5  63.90   -0.55  2021      2    2021-02\n",
       "2  14003.0   13897.0  14020.0  13844.0  63.49    0.74  2021      2    2021-02\n",
       "3  13900.3   13954.4  13968.5  13844.5  63.08   -0.38  2021      2    2021-02\n",
       "4  13953.5   14022.4  14063.5  13876.0  75.05   -0.49  2021      2    2021-02"
      ]
     },
     "execution_count": 78,
     "metadata": {},
     "output_type": "execute_result"
    }
   ],
   "source": [
    "dax_preprocessed2.head()"
   ]
  },
  {
   "cell_type": "code",
   "execution_count": 79,
   "id": "varied-joyce",
   "metadata": {},
   "outputs": [
    {
     "data": {
      "text/html": [
       "<div>\n",
       "<style scoped>\n",
       "    .dataframe tbody tr th:only-of-type {\n",
       "        vertical-align: middle;\n",
       "    }\n",
       "\n",
       "    .dataframe tbody tr th {\n",
       "        vertical-align: top;\n",
       "    }\n",
       "\n",
       "    .dataframe thead th {\n",
       "        text-align: right;\n",
       "    }\n",
       "</style>\n",
       "<table border=\"1\" class=\"dataframe\">\n",
       "  <thead>\n",
       "    <tr style=\"text-align: right;\">\n",
       "      <th></th>\n",
       "      <th>Último</th>\n",
       "      <th>Abertura</th>\n",
       "      <th>Alta</th>\n",
       "      <th>Baixa</th>\n",
       "      <th>Vol.</th>\n",
       "      <th>Var. %</th>\n",
       "      <th>Year</th>\n",
       "      <th>Month</th>\n",
       "    </tr>\n",
       "    <tr>\n",
       "      <th>Year+Month</th>\n",
       "      <th></th>\n",
       "      <th></th>\n",
       "      <th></th>\n",
       "      <th></th>\n",
       "      <th></th>\n",
       "      <th></th>\n",
       "      <th></th>\n",
       "      <th></th>\n",
       "    </tr>\n",
       "  </thead>\n",
       "  <tbody>\n",
       "    <tr>\n",
       "      <th>2015-01</th>\n",
       "      <td>10121.850000</td>\n",
       "      <td>10096.695455</td>\n",
       "      <td>10223.672727</td>\n",
       "      <td>9992.409091</td>\n",
       "      <td>131.298182</td>\n",
       "      <td>0.409091</td>\n",
       "      <td>2015</td>\n",
       "      <td>1</td>\n",
       "    </tr>\n",
       "    <tr>\n",
       "      <th>2015-02</th>\n",
       "      <td>10975.100000</td>\n",
       "      <td>10940.625000</td>\n",
       "      <td>11024.350000</td>\n",
       "      <td>10880.250000</td>\n",
       "      <td>98.368000</td>\n",
       "      <td>0.315000</td>\n",
       "      <td>2015</td>\n",
       "      <td>2</td>\n",
       "    </tr>\n",
       "    <tr>\n",
       "      <th>2015-03</th>\n",
       "      <td>11796.927273</td>\n",
       "      <td>11776.500000</td>\n",
       "      <td>11876.227273</td>\n",
       "      <td>11676.636364</td>\n",
       "      <td>123.331818</td>\n",
       "      <td>0.249091</td>\n",
       "      <td>2015</td>\n",
       "      <td>3</td>\n",
       "    </tr>\n",
       "    <tr>\n",
       "      <th>2015-04</th>\n",
       "      <td>11984.036364</td>\n",
       "      <td>12018.100000</td>\n",
       "      <td>12113.736364</td>\n",
       "      <td>11892.809091</td>\n",
       "      <td>102.976364</td>\n",
       "      <td>-0.191818</td>\n",
       "      <td>2015</td>\n",
       "      <td>4</td>\n",
       "    </tr>\n",
       "    <tr>\n",
       "      <th>2015-05</th>\n",
       "      <td>11623.627273</td>\n",
       "      <td>11631.404545</td>\n",
       "      <td>11729.831818</td>\n",
       "      <td>11505.827273</td>\n",
       "      <td>90.420909</td>\n",
       "      <td>-0.020455</td>\n",
       "      <td>2015</td>\n",
       "      <td>5</td>\n",
       "    </tr>\n",
       "    <tr>\n",
       "      <th>...</th>\n",
       "      <td>...</td>\n",
       "      <td>...</td>\n",
       "      <td>...</td>\n",
       "      <td>...</td>\n",
       "      <td>...</td>\n",
       "      <td>...</td>\n",
       "      <td>...</td>\n",
       "      <td>...</td>\n",
       "    </tr>\n",
       "    <tr>\n",
       "      <th>2020-10</th>\n",
       "      <td>12586.454545</td>\n",
       "      <td>12640.431818</td>\n",
       "      <td>12723.568182</td>\n",
       "      <td>12475.409091</td>\n",
       "      <td>85.730909</td>\n",
       "      <td>-0.442273</td>\n",
       "      <td>2020</td>\n",
       "      <td>10</td>\n",
       "    </tr>\n",
       "    <tr>\n",
       "      <th>2020-11</th>\n",
       "      <td>12965.500000</td>\n",
       "      <td>12878.666667</td>\n",
       "      <td>13035.976190</td>\n",
       "      <td>12787.428571</td>\n",
       "      <td>74.498095</td>\n",
       "      <td>0.689524</td>\n",
       "      <td>2020</td>\n",
       "      <td>11</td>\n",
       "    </tr>\n",
       "    <tr>\n",
       "      <th>2020-12</th>\n",
       "      <td>13434.855000</td>\n",
       "      <td>13411.830000</td>\n",
       "      <td>13508.375000</td>\n",
       "      <td>13309.740000</td>\n",
       "      <td>57.728000</td>\n",
       "      <td>0.158000</td>\n",
       "      <td>2020</td>\n",
       "      <td>12</td>\n",
       "    </tr>\n",
       "    <tr>\n",
       "      <th>2021-01</th>\n",
       "      <td>13816.775000</td>\n",
       "      <td>13834.715000</td>\n",
       "      <td>13928.735000</td>\n",
       "      <td>13683.660000</td>\n",
       "      <td>55.790500</td>\n",
       "      <td>-0.105500</td>\n",
       "      <td>2021</td>\n",
       "      <td>1</td>\n",
       "    </tr>\n",
       "    <tr>\n",
       "      <th>2021-02</th>\n",
       "      <td>13964.764706</td>\n",
       "      <td>13938.941176</td>\n",
       "      <td>14035.976471</td>\n",
       "      <td>13847.129412</td>\n",
       "      <td>47.816471</td>\n",
       "      <td>0.148824</td>\n",
       "      <td>2021</td>\n",
       "      <td>2</td>\n",
       "    </tr>\n",
       "  </tbody>\n",
       "</table>\n",
       "<p>74 rows × 8 columns</p>\n",
       "</div>"
      ],
      "text/plain": [
       "                  Último      Abertura          Alta         Baixa  \\\n",
       "Year+Month                                                           \n",
       "2015-01     10121.850000  10096.695455  10223.672727   9992.409091   \n",
       "2015-02     10975.100000  10940.625000  11024.350000  10880.250000   \n",
       "2015-03     11796.927273  11776.500000  11876.227273  11676.636364   \n",
       "2015-04     11984.036364  12018.100000  12113.736364  11892.809091   \n",
       "2015-05     11623.627273  11631.404545  11729.831818  11505.827273   \n",
       "...                  ...           ...           ...           ...   \n",
       "2020-10     12586.454545  12640.431818  12723.568182  12475.409091   \n",
       "2020-11     12965.500000  12878.666667  13035.976190  12787.428571   \n",
       "2020-12     13434.855000  13411.830000  13508.375000  13309.740000   \n",
       "2021-01     13816.775000  13834.715000  13928.735000  13683.660000   \n",
       "2021-02     13964.764706  13938.941176  14035.976471  13847.129412   \n",
       "\n",
       "                  Vol.    Var. %  Year  Month  \n",
       "Year+Month                                     \n",
       "2015-01     131.298182  0.409091  2015      1  \n",
       "2015-02      98.368000  0.315000  2015      2  \n",
       "2015-03     123.331818  0.249091  2015      3  \n",
       "2015-04     102.976364 -0.191818  2015      4  \n",
       "2015-05      90.420909 -0.020455  2015      5  \n",
       "...                ...       ...   ...    ...  \n",
       "2020-10      85.730909 -0.442273  2020     10  \n",
       "2020-11      74.498095  0.689524  2020     11  \n",
       "2020-12      57.728000  0.158000  2020     12  \n",
       "2021-01      55.790500 -0.105500  2021      1  \n",
       "2021-02      47.816471  0.148824  2021      2  \n",
       "\n",
       "[74 rows x 8 columns]"
      ]
     },
     "execution_count": 79,
     "metadata": {},
     "output_type": "execute_result"
    }
   ],
   "source": [
    "dax_preprocessed2_grouped_mean = dax_preprocessed2.groupby(['Year+Month']).mean()\n",
    "dax_preprocessed2_grouped_mean"
   ]
  },
  {
   "cell_type": "code",
   "execution_count": 80,
   "id": "fitting-pillow",
   "metadata": {},
   "outputs": [
    {
     "data": {
      "text/html": [
       "<div>\n",
       "<style scoped>\n",
       "    .dataframe tbody tr th:only-of-type {\n",
       "        vertical-align: middle;\n",
       "    }\n",
       "\n",
       "    .dataframe tbody tr th {\n",
       "        vertical-align: top;\n",
       "    }\n",
       "\n",
       "    .dataframe thead th {\n",
       "        text-align: right;\n",
       "    }\n",
       "</style>\n",
       "<table border=\"1\" class=\"dataframe\">\n",
       "  <thead>\n",
       "    <tr style=\"text-align: right;\">\n",
       "      <th></th>\n",
       "      <th>Year+Month</th>\n",
       "      <th>Último</th>\n",
       "      <th>Abertura</th>\n",
       "      <th>Alta</th>\n",
       "      <th>Baixa</th>\n",
       "      <th>Vol.</th>\n",
       "      <th>Var. %</th>\n",
       "      <th>Year</th>\n",
       "      <th>Month</th>\n",
       "    </tr>\n",
       "  </thead>\n",
       "  <tbody>\n",
       "    <tr>\n",
       "      <th>0</th>\n",
       "      <td>2015-01</td>\n",
       "      <td>10121.850000</td>\n",
       "      <td>10096.695455</td>\n",
       "      <td>10223.672727</td>\n",
       "      <td>9992.409091</td>\n",
       "      <td>131.298182</td>\n",
       "      <td>0.409091</td>\n",
       "      <td>2015</td>\n",
       "      <td>1</td>\n",
       "    </tr>\n",
       "    <tr>\n",
       "      <th>1</th>\n",
       "      <td>2015-02</td>\n",
       "      <td>10975.100000</td>\n",
       "      <td>10940.625000</td>\n",
       "      <td>11024.350000</td>\n",
       "      <td>10880.250000</td>\n",
       "      <td>98.368000</td>\n",
       "      <td>0.315000</td>\n",
       "      <td>2015</td>\n",
       "      <td>2</td>\n",
       "    </tr>\n",
       "    <tr>\n",
       "      <th>2</th>\n",
       "      <td>2015-03</td>\n",
       "      <td>11796.927273</td>\n",
       "      <td>11776.500000</td>\n",
       "      <td>11876.227273</td>\n",
       "      <td>11676.636364</td>\n",
       "      <td>123.331818</td>\n",
       "      <td>0.249091</td>\n",
       "      <td>2015</td>\n",
       "      <td>3</td>\n",
       "    </tr>\n",
       "    <tr>\n",
       "      <th>3</th>\n",
       "      <td>2015-04</td>\n",
       "      <td>11984.036364</td>\n",
       "      <td>12018.100000</td>\n",
       "      <td>12113.736364</td>\n",
       "      <td>11892.809091</td>\n",
       "      <td>102.976364</td>\n",
       "      <td>-0.191818</td>\n",
       "      <td>2015</td>\n",
       "      <td>4</td>\n",
       "    </tr>\n",
       "    <tr>\n",
       "      <th>4</th>\n",
       "      <td>2015-05</td>\n",
       "      <td>11623.627273</td>\n",
       "      <td>11631.404545</td>\n",
       "      <td>11729.831818</td>\n",
       "      <td>11505.827273</td>\n",
       "      <td>90.420909</td>\n",
       "      <td>-0.020455</td>\n",
       "      <td>2015</td>\n",
       "      <td>5</td>\n",
       "    </tr>\n",
       "    <tr>\n",
       "      <th>...</th>\n",
       "      <td>...</td>\n",
       "      <td>...</td>\n",
       "      <td>...</td>\n",
       "      <td>...</td>\n",
       "      <td>...</td>\n",
       "      <td>...</td>\n",
       "      <td>...</td>\n",
       "      <td>...</td>\n",
       "      <td>...</td>\n",
       "    </tr>\n",
       "    <tr>\n",
       "      <th>69</th>\n",
       "      <td>2020-10</td>\n",
       "      <td>12586.454545</td>\n",
       "      <td>12640.431818</td>\n",
       "      <td>12723.568182</td>\n",
       "      <td>12475.409091</td>\n",
       "      <td>85.730909</td>\n",
       "      <td>-0.442273</td>\n",
       "      <td>2020</td>\n",
       "      <td>10</td>\n",
       "    </tr>\n",
       "    <tr>\n",
       "      <th>70</th>\n",
       "      <td>2020-11</td>\n",
       "      <td>12965.500000</td>\n",
       "      <td>12878.666667</td>\n",
       "      <td>13035.976190</td>\n",
       "      <td>12787.428571</td>\n",
       "      <td>74.498095</td>\n",
       "      <td>0.689524</td>\n",
       "      <td>2020</td>\n",
       "      <td>11</td>\n",
       "    </tr>\n",
       "    <tr>\n",
       "      <th>71</th>\n",
       "      <td>2020-12</td>\n",
       "      <td>13434.855000</td>\n",
       "      <td>13411.830000</td>\n",
       "      <td>13508.375000</td>\n",
       "      <td>13309.740000</td>\n",
       "      <td>57.728000</td>\n",
       "      <td>0.158000</td>\n",
       "      <td>2020</td>\n",
       "      <td>12</td>\n",
       "    </tr>\n",
       "    <tr>\n",
       "      <th>72</th>\n",
       "      <td>2021-01</td>\n",
       "      <td>13816.775000</td>\n",
       "      <td>13834.715000</td>\n",
       "      <td>13928.735000</td>\n",
       "      <td>13683.660000</td>\n",
       "      <td>55.790500</td>\n",
       "      <td>-0.105500</td>\n",
       "      <td>2021</td>\n",
       "      <td>1</td>\n",
       "    </tr>\n",
       "    <tr>\n",
       "      <th>73</th>\n",
       "      <td>2021-02</td>\n",
       "      <td>13964.764706</td>\n",
       "      <td>13938.941176</td>\n",
       "      <td>14035.976471</td>\n",
       "      <td>13847.129412</td>\n",
       "      <td>47.816471</td>\n",
       "      <td>0.148824</td>\n",
       "      <td>2021</td>\n",
       "      <td>2</td>\n",
       "    </tr>\n",
       "  </tbody>\n",
       "</table>\n",
       "<p>74 rows × 9 columns</p>\n",
       "</div>"
      ],
      "text/plain": [
       "   Year+Month        Último      Abertura          Alta         Baixa  \\\n",
       "0     2015-01  10121.850000  10096.695455  10223.672727   9992.409091   \n",
       "1     2015-02  10975.100000  10940.625000  11024.350000  10880.250000   \n",
       "2     2015-03  11796.927273  11776.500000  11876.227273  11676.636364   \n",
       "3     2015-04  11984.036364  12018.100000  12113.736364  11892.809091   \n",
       "4     2015-05  11623.627273  11631.404545  11729.831818  11505.827273   \n",
       "..        ...           ...           ...           ...           ...   \n",
       "69    2020-10  12586.454545  12640.431818  12723.568182  12475.409091   \n",
       "70    2020-11  12965.500000  12878.666667  13035.976190  12787.428571   \n",
       "71    2020-12  13434.855000  13411.830000  13508.375000  13309.740000   \n",
       "72    2021-01  13816.775000  13834.715000  13928.735000  13683.660000   \n",
       "73    2021-02  13964.764706  13938.941176  14035.976471  13847.129412   \n",
       "\n",
       "          Vol.    Var. %  Year  Month  \n",
       "0   131.298182  0.409091  2015      1  \n",
       "1    98.368000  0.315000  2015      2  \n",
       "2   123.331818  0.249091  2015      3  \n",
       "3   102.976364 -0.191818  2015      4  \n",
       "4    90.420909 -0.020455  2015      5  \n",
       "..         ...       ...   ...    ...  \n",
       "69   85.730909 -0.442273  2020     10  \n",
       "70   74.498095  0.689524  2020     11  \n",
       "71   57.728000  0.158000  2020     12  \n",
       "72   55.790500 -0.105500  2021      1  \n",
       "73   47.816471  0.148824  2021      2  \n",
       "\n",
       "[74 rows x 9 columns]"
      ]
     },
     "execution_count": 80,
     "metadata": {},
     "output_type": "execute_result"
    }
   ],
   "source": [
    "dax_preprocessed2_grouped_mean.reset_index(inplace=True)\n",
    "dax_preprocessed2_grouped_mean"
   ]
  },
  {
   "cell_type": "code",
   "execution_count": 81,
   "id": "loving-bundle",
   "metadata": {},
   "outputs": [
    {
     "data": {
      "application/vnd.plotly.v1+json": {
       "config": {
        "plotlyServerURL": "https://plot.ly"
       },
       "data": [
        {
         "hovertemplate": "Year+Month=%{x}<br>Último=%{y}<extra></extra>",
         "legendgroup": "",
         "line": {
          "color": "#636efa",
          "dash": "solid"
         },
         "mode": "lines",
         "name": "",
         "orientation": "v",
         "showlegend": false,
         "type": "scatter",
         "x": [
          "2015-01",
          "2015-02",
          "2015-03",
          "2015-04",
          "2015-05",
          "2015-06",
          "2015-07",
          "2015-08",
          "2015-09",
          "2015-10",
          "2015-11",
          "2015-12",
          "2016-01",
          "2016-02",
          "2016-03",
          "2016-04",
          "2016-05",
          "2016-06",
          "2016-07",
          "2016-08",
          "2016-09",
          "2016-10",
          "2016-11",
          "2016-12",
          "2017-01",
          "2017-02",
          "2017-03",
          "2017-04",
          "2017-05",
          "2017-06",
          "2017-07",
          "2017-08",
          "2017-09",
          "2017-10",
          "2017-11",
          "2017-12",
          "2018-01",
          "2018-02",
          "2018-03",
          "2018-04",
          "2018-05",
          "2018-06",
          "2018-07",
          "2018-08",
          "2018-09",
          "2018-10",
          "2018-11",
          "2018-12",
          "2019-01",
          "2019-02",
          "2019-03",
          "2019-04",
          "2019-05",
          "2019-06",
          "2019-07",
          "2019-08",
          "2019-09",
          "2019-10",
          "2019-11",
          "2019-12",
          "2020-01",
          "2020-02",
          "2020-03",
          "2020-04",
          "2020-05",
          "2020-06",
          "2020-07",
          "2020-08",
          "2020-09",
          "2020-10",
          "2020-11",
          "2020-12",
          "2021-01",
          "2021-02"
         ],
         "xaxis": "x",
         "y": [
          10121.85,
          10975.1,
          11796.927272727273,
          11984.036363636364,
          11623.627272727272,
          11251.027272727273,
          11289.760869565218,
          10822.547619047618,
          9963.64090909091,
          10221,
          10983.833333333334,
          10684.804761904763,
          9821.775,
          9285.142857142857,
          9868.452380952382,
          10057.02380952381,
          10007.5,
          9859.472727272727,
          9955.261904761905,
          10530.41304347826,
          10499.44090909091,
          10614.261904761905,
          10590.84090909091,
          11225.904545454547,
          11618.40909090909,
          11745.05,
          12060.360869565216,
          12256.257894736842,
          12652.904347826086,
          12712.986363636364,
          12386,
          12150.869565217392,
          12475.452380952382,
          13009.977272727272,
          13161.068181818182,
          13076.164999999999,
          13261.795454545454,
          12450.8,
          12162.390476190476,
          12399.952380952382,
          12907.304347826086,
          12664.290476190476,
          12575.613636363636,
          12454,
          12179.335000000001,
          11677.565217391304,
          11355.045454545454,
          10817.650000000001,
          10959.522727272728,
          11279.35,
          11553.847619047618,
          12102.685714285713,
          12091.55652173913,
          12160.375,
          12398.826086956522,
          11710.886363636364,
          12281.938095238096,
          12511.173913043478,
          13197.238095238095,
          13200.873684210526,
          13363.181818181818,
          13324.225,
          10019.622727272728,
          10373.390476190476,
          10996.4,
          12302.195454545454,
          12730.782608695652,
          12877.5,
          12957.345454545453,
          12586.454545454546,
          12965.5,
          13434.855,
          13816.775,
          13964.764705882357
         ],
         "yaxis": "y"
        }
       ],
       "layout": {
        "legend": {
         "tracegroupgap": 0
        },
        "template": {
         "data": {
          "bar": [
           {
            "error_x": {
             "color": "#2a3f5f"
            },
            "error_y": {
             "color": "#2a3f5f"
            },
            "marker": {
             "line": {
              "color": "#E5ECF6",
              "width": 0.5
             }
            },
            "type": "bar"
           }
          ],
          "barpolar": [
           {
            "marker": {
             "line": {
              "color": "#E5ECF6",
              "width": 0.5
             }
            },
            "type": "barpolar"
           }
          ],
          "carpet": [
           {
            "aaxis": {
             "endlinecolor": "#2a3f5f",
             "gridcolor": "white",
             "linecolor": "white",
             "minorgridcolor": "white",
             "startlinecolor": "#2a3f5f"
            },
            "baxis": {
             "endlinecolor": "#2a3f5f",
             "gridcolor": "white",
             "linecolor": "white",
             "minorgridcolor": "white",
             "startlinecolor": "#2a3f5f"
            },
            "type": "carpet"
           }
          ],
          "choropleth": [
           {
            "colorbar": {
             "outlinewidth": 0,
             "ticks": ""
            },
            "type": "choropleth"
           }
          ],
          "contour": [
           {
            "colorbar": {
             "outlinewidth": 0,
             "ticks": ""
            },
            "colorscale": [
             [
              0,
              "#0d0887"
             ],
             [
              0.1111111111111111,
              "#46039f"
             ],
             [
              0.2222222222222222,
              "#7201a8"
             ],
             [
              0.3333333333333333,
              "#9c179e"
             ],
             [
              0.4444444444444444,
              "#bd3786"
             ],
             [
              0.5555555555555556,
              "#d8576b"
             ],
             [
              0.6666666666666666,
              "#ed7953"
             ],
             [
              0.7777777777777778,
              "#fb9f3a"
             ],
             [
              0.8888888888888888,
              "#fdca26"
             ],
             [
              1,
              "#f0f921"
             ]
            ],
            "type": "contour"
           }
          ],
          "contourcarpet": [
           {
            "colorbar": {
             "outlinewidth": 0,
             "ticks": ""
            },
            "type": "contourcarpet"
           }
          ],
          "heatmap": [
           {
            "colorbar": {
             "outlinewidth": 0,
             "ticks": ""
            },
            "colorscale": [
             [
              0,
              "#0d0887"
             ],
             [
              0.1111111111111111,
              "#46039f"
             ],
             [
              0.2222222222222222,
              "#7201a8"
             ],
             [
              0.3333333333333333,
              "#9c179e"
             ],
             [
              0.4444444444444444,
              "#bd3786"
             ],
             [
              0.5555555555555556,
              "#d8576b"
             ],
             [
              0.6666666666666666,
              "#ed7953"
             ],
             [
              0.7777777777777778,
              "#fb9f3a"
             ],
             [
              0.8888888888888888,
              "#fdca26"
             ],
             [
              1,
              "#f0f921"
             ]
            ],
            "type": "heatmap"
           }
          ],
          "heatmapgl": [
           {
            "colorbar": {
             "outlinewidth": 0,
             "ticks": ""
            },
            "colorscale": [
             [
              0,
              "#0d0887"
             ],
             [
              0.1111111111111111,
              "#46039f"
             ],
             [
              0.2222222222222222,
              "#7201a8"
             ],
             [
              0.3333333333333333,
              "#9c179e"
             ],
             [
              0.4444444444444444,
              "#bd3786"
             ],
             [
              0.5555555555555556,
              "#d8576b"
             ],
             [
              0.6666666666666666,
              "#ed7953"
             ],
             [
              0.7777777777777778,
              "#fb9f3a"
             ],
             [
              0.8888888888888888,
              "#fdca26"
             ],
             [
              1,
              "#f0f921"
             ]
            ],
            "type": "heatmapgl"
           }
          ],
          "histogram": [
           {
            "marker": {
             "colorbar": {
              "outlinewidth": 0,
              "ticks": ""
             }
            },
            "type": "histogram"
           }
          ],
          "histogram2d": [
           {
            "colorbar": {
             "outlinewidth": 0,
             "ticks": ""
            },
            "colorscale": [
             [
              0,
              "#0d0887"
             ],
             [
              0.1111111111111111,
              "#46039f"
             ],
             [
              0.2222222222222222,
              "#7201a8"
             ],
             [
              0.3333333333333333,
              "#9c179e"
             ],
             [
              0.4444444444444444,
              "#bd3786"
             ],
             [
              0.5555555555555556,
              "#d8576b"
             ],
             [
              0.6666666666666666,
              "#ed7953"
             ],
             [
              0.7777777777777778,
              "#fb9f3a"
             ],
             [
              0.8888888888888888,
              "#fdca26"
             ],
             [
              1,
              "#f0f921"
             ]
            ],
            "type": "histogram2d"
           }
          ],
          "histogram2dcontour": [
           {
            "colorbar": {
             "outlinewidth": 0,
             "ticks": ""
            },
            "colorscale": [
             [
              0,
              "#0d0887"
             ],
             [
              0.1111111111111111,
              "#46039f"
             ],
             [
              0.2222222222222222,
              "#7201a8"
             ],
             [
              0.3333333333333333,
              "#9c179e"
             ],
             [
              0.4444444444444444,
              "#bd3786"
             ],
             [
              0.5555555555555556,
              "#d8576b"
             ],
             [
              0.6666666666666666,
              "#ed7953"
             ],
             [
              0.7777777777777778,
              "#fb9f3a"
             ],
             [
              0.8888888888888888,
              "#fdca26"
             ],
             [
              1,
              "#f0f921"
             ]
            ],
            "type": "histogram2dcontour"
           }
          ],
          "mesh3d": [
           {
            "colorbar": {
             "outlinewidth": 0,
             "ticks": ""
            },
            "type": "mesh3d"
           }
          ],
          "parcoords": [
           {
            "line": {
             "colorbar": {
              "outlinewidth": 0,
              "ticks": ""
             }
            },
            "type": "parcoords"
           }
          ],
          "pie": [
           {
            "automargin": true,
            "type": "pie"
           }
          ],
          "scatter": [
           {
            "marker": {
             "colorbar": {
              "outlinewidth": 0,
              "ticks": ""
             }
            },
            "type": "scatter"
           }
          ],
          "scatter3d": [
           {
            "line": {
             "colorbar": {
              "outlinewidth": 0,
              "ticks": ""
             }
            },
            "marker": {
             "colorbar": {
              "outlinewidth": 0,
              "ticks": ""
             }
            },
            "type": "scatter3d"
           }
          ],
          "scattercarpet": [
           {
            "marker": {
             "colorbar": {
              "outlinewidth": 0,
              "ticks": ""
             }
            },
            "type": "scattercarpet"
           }
          ],
          "scattergeo": [
           {
            "marker": {
             "colorbar": {
              "outlinewidth": 0,
              "ticks": ""
             }
            },
            "type": "scattergeo"
           }
          ],
          "scattergl": [
           {
            "marker": {
             "colorbar": {
              "outlinewidth": 0,
              "ticks": ""
             }
            },
            "type": "scattergl"
           }
          ],
          "scattermapbox": [
           {
            "marker": {
             "colorbar": {
              "outlinewidth": 0,
              "ticks": ""
             }
            },
            "type": "scattermapbox"
           }
          ],
          "scatterpolar": [
           {
            "marker": {
             "colorbar": {
              "outlinewidth": 0,
              "ticks": ""
             }
            },
            "type": "scatterpolar"
           }
          ],
          "scatterpolargl": [
           {
            "marker": {
             "colorbar": {
              "outlinewidth": 0,
              "ticks": ""
             }
            },
            "type": "scatterpolargl"
           }
          ],
          "scatterternary": [
           {
            "marker": {
             "colorbar": {
              "outlinewidth": 0,
              "ticks": ""
             }
            },
            "type": "scatterternary"
           }
          ],
          "surface": [
           {
            "colorbar": {
             "outlinewidth": 0,
             "ticks": ""
            },
            "colorscale": [
             [
              0,
              "#0d0887"
             ],
             [
              0.1111111111111111,
              "#46039f"
             ],
             [
              0.2222222222222222,
              "#7201a8"
             ],
             [
              0.3333333333333333,
              "#9c179e"
             ],
             [
              0.4444444444444444,
              "#bd3786"
             ],
             [
              0.5555555555555556,
              "#d8576b"
             ],
             [
              0.6666666666666666,
              "#ed7953"
             ],
             [
              0.7777777777777778,
              "#fb9f3a"
             ],
             [
              0.8888888888888888,
              "#fdca26"
             ],
             [
              1,
              "#f0f921"
             ]
            ],
            "type": "surface"
           }
          ],
          "table": [
           {
            "cells": {
             "fill": {
              "color": "#EBF0F8"
             },
             "line": {
              "color": "white"
             }
            },
            "header": {
             "fill": {
              "color": "#C8D4E3"
             },
             "line": {
              "color": "white"
             }
            },
            "type": "table"
           }
          ]
         },
         "layout": {
          "annotationdefaults": {
           "arrowcolor": "#2a3f5f",
           "arrowhead": 0,
           "arrowwidth": 1
          },
          "autotypenumbers": "strict",
          "coloraxis": {
           "colorbar": {
            "outlinewidth": 0,
            "ticks": ""
           }
          },
          "colorscale": {
           "diverging": [
            [
             0,
             "#8e0152"
            ],
            [
             0.1,
             "#c51b7d"
            ],
            [
             0.2,
             "#de77ae"
            ],
            [
             0.3,
             "#f1b6da"
            ],
            [
             0.4,
             "#fde0ef"
            ],
            [
             0.5,
             "#f7f7f7"
            ],
            [
             0.6,
             "#e6f5d0"
            ],
            [
             0.7,
             "#b8e186"
            ],
            [
             0.8,
             "#7fbc41"
            ],
            [
             0.9,
             "#4d9221"
            ],
            [
             1,
             "#276419"
            ]
           ],
           "sequential": [
            [
             0,
             "#0d0887"
            ],
            [
             0.1111111111111111,
             "#46039f"
            ],
            [
             0.2222222222222222,
             "#7201a8"
            ],
            [
             0.3333333333333333,
             "#9c179e"
            ],
            [
             0.4444444444444444,
             "#bd3786"
            ],
            [
             0.5555555555555556,
             "#d8576b"
            ],
            [
             0.6666666666666666,
             "#ed7953"
            ],
            [
             0.7777777777777778,
             "#fb9f3a"
            ],
            [
             0.8888888888888888,
             "#fdca26"
            ],
            [
             1,
             "#f0f921"
            ]
           ],
           "sequentialminus": [
            [
             0,
             "#0d0887"
            ],
            [
             0.1111111111111111,
             "#46039f"
            ],
            [
             0.2222222222222222,
             "#7201a8"
            ],
            [
             0.3333333333333333,
             "#9c179e"
            ],
            [
             0.4444444444444444,
             "#bd3786"
            ],
            [
             0.5555555555555556,
             "#d8576b"
            ],
            [
             0.6666666666666666,
             "#ed7953"
            ],
            [
             0.7777777777777778,
             "#fb9f3a"
            ],
            [
             0.8888888888888888,
             "#fdca26"
            ],
            [
             1,
             "#f0f921"
            ]
           ]
          },
          "colorway": [
           "#636efa",
           "#EF553B",
           "#00cc96",
           "#ab63fa",
           "#FFA15A",
           "#19d3f3",
           "#FF6692",
           "#B6E880",
           "#FF97FF",
           "#FECB52"
          ],
          "font": {
           "color": "#2a3f5f"
          },
          "geo": {
           "bgcolor": "white",
           "lakecolor": "white",
           "landcolor": "#E5ECF6",
           "showlakes": true,
           "showland": true,
           "subunitcolor": "white"
          },
          "hoverlabel": {
           "align": "left"
          },
          "hovermode": "closest",
          "mapbox": {
           "style": "light"
          },
          "paper_bgcolor": "white",
          "plot_bgcolor": "#E5ECF6",
          "polar": {
           "angularaxis": {
            "gridcolor": "white",
            "linecolor": "white",
            "ticks": ""
           },
           "bgcolor": "#E5ECF6",
           "radialaxis": {
            "gridcolor": "white",
            "linecolor": "white",
            "ticks": ""
           }
          },
          "scene": {
           "xaxis": {
            "backgroundcolor": "#E5ECF6",
            "gridcolor": "white",
            "gridwidth": 2,
            "linecolor": "white",
            "showbackground": true,
            "ticks": "",
            "zerolinecolor": "white"
           },
           "yaxis": {
            "backgroundcolor": "#E5ECF6",
            "gridcolor": "white",
            "gridwidth": 2,
            "linecolor": "white",
            "showbackground": true,
            "ticks": "",
            "zerolinecolor": "white"
           },
           "zaxis": {
            "backgroundcolor": "#E5ECF6",
            "gridcolor": "white",
            "gridwidth": 2,
            "linecolor": "white",
            "showbackground": true,
            "ticks": "",
            "zerolinecolor": "white"
           }
          },
          "shapedefaults": {
           "line": {
            "color": "#2a3f5f"
           }
          },
          "ternary": {
           "aaxis": {
            "gridcolor": "white",
            "linecolor": "white",
            "ticks": ""
           },
           "baxis": {
            "gridcolor": "white",
            "linecolor": "white",
            "ticks": ""
           },
           "bgcolor": "#E5ECF6",
           "caxis": {
            "gridcolor": "white",
            "linecolor": "white",
            "ticks": ""
           }
          },
          "title": {
           "x": 0.05
          },
          "xaxis": {
           "automargin": true,
           "gridcolor": "white",
           "linecolor": "white",
           "ticks": "",
           "title": {
            "standoff": 15
           },
           "zerolinecolor": "white",
           "zerolinewidth": 2
          },
          "yaxis": {
           "automargin": true,
           "gridcolor": "white",
           "linecolor": "white",
           "ticks": "",
           "title": {
            "standoff": 15
           },
           "zerolinecolor": "white",
           "zerolinewidth": 2
          }
         }
        },
        "title": {
         "text": "Dax monthly data"
        },
        "xaxis": {
         "anchor": "y",
         "domain": [
          0,
          1
         ],
         "title": {
          "text": "Year+Month"
         }
        },
        "yaxis": {
         "anchor": "x",
         "domain": [
          0,
          1
         ],
         "title": {
          "text": "Último"
         }
        }
       }
      },
      "text/html": [
       "<div>                            <div id=\"c97e51a4-2b66-43cc-bdaf-d399262458f1\" class=\"plotly-graph-div\" style=\"height:525px; width:100%;\"></div>            <script type=\"text/javascript\">                require([\"plotly\"], function(Plotly) {                    window.PLOTLYENV=window.PLOTLYENV || {};                                    if (document.getElementById(\"c97e51a4-2b66-43cc-bdaf-d399262458f1\")) {                    Plotly.newPlot(                        \"c97e51a4-2b66-43cc-bdaf-d399262458f1\",                        [{\"hovertemplate\": \"Year+Month=%{x}<br>\\u00daltimo=%{y}<extra></extra>\", \"legendgroup\": \"\", \"line\": {\"color\": \"#636efa\", \"dash\": \"solid\"}, \"mode\": \"lines\", \"name\": \"\", \"orientation\": \"v\", \"showlegend\": false, \"type\": \"scatter\", \"x\": [\"2015-01\", \"2015-02\", \"2015-03\", \"2015-04\", \"2015-05\", \"2015-06\", \"2015-07\", \"2015-08\", \"2015-09\", \"2015-10\", \"2015-11\", \"2015-12\", \"2016-01\", \"2016-02\", \"2016-03\", \"2016-04\", \"2016-05\", \"2016-06\", \"2016-07\", \"2016-08\", \"2016-09\", \"2016-10\", \"2016-11\", \"2016-12\", \"2017-01\", \"2017-02\", \"2017-03\", \"2017-04\", \"2017-05\", \"2017-06\", \"2017-07\", \"2017-08\", \"2017-09\", \"2017-10\", \"2017-11\", \"2017-12\", \"2018-01\", \"2018-02\", \"2018-03\", \"2018-04\", \"2018-05\", \"2018-06\", \"2018-07\", \"2018-08\", \"2018-09\", \"2018-10\", \"2018-11\", \"2018-12\", \"2019-01\", \"2019-02\", \"2019-03\", \"2019-04\", \"2019-05\", \"2019-06\", \"2019-07\", \"2019-08\", \"2019-09\", \"2019-10\", \"2019-11\", \"2019-12\", \"2020-01\", \"2020-02\", \"2020-03\", \"2020-04\", \"2020-05\", \"2020-06\", \"2020-07\", \"2020-08\", \"2020-09\", \"2020-10\", \"2020-11\", \"2020-12\", \"2021-01\", \"2021-02\"], \"xaxis\": \"x\", \"y\": [10121.85, 10975.1, 11796.927272727273, 11984.036363636364, 11623.627272727272, 11251.027272727273, 11289.760869565218, 10822.547619047618, 9963.64090909091, 10221.0, 10983.833333333334, 10684.804761904763, 9821.775, 9285.142857142857, 9868.452380952382, 10057.02380952381, 10007.5, 9859.472727272727, 9955.261904761905, 10530.41304347826, 10499.44090909091, 10614.261904761905, 10590.84090909091, 11225.904545454547, 11618.40909090909, 11745.05, 12060.360869565216, 12256.257894736842, 12652.904347826086, 12712.986363636364, 12386.0, 12150.869565217392, 12475.452380952382, 13009.977272727272, 13161.068181818182, 13076.164999999999, 13261.795454545454, 12450.8, 12162.390476190476, 12399.952380952382, 12907.304347826086, 12664.290476190476, 12575.613636363636, 12454.0, 12179.335000000001, 11677.565217391304, 11355.045454545454, 10817.650000000001, 10959.522727272728, 11279.35, 11553.847619047618, 12102.685714285713, 12091.55652173913, 12160.375, 12398.826086956522, 11710.886363636364, 12281.938095238096, 12511.173913043478, 13197.238095238095, 13200.873684210526, 13363.181818181818, 13324.225, 10019.622727272728, 10373.390476190476, 10996.4, 12302.195454545454, 12730.782608695652, 12877.5, 12957.345454545453, 12586.454545454546, 12965.5, 13434.855, 13816.775, 13964.764705882357], \"yaxis\": \"y\"}],                        {\"legend\": {\"tracegroupgap\": 0}, \"template\": {\"data\": {\"bar\": [{\"error_x\": {\"color\": \"#2a3f5f\"}, \"error_y\": {\"color\": \"#2a3f5f\"}, \"marker\": {\"line\": {\"color\": \"#E5ECF6\", \"width\": 0.5}}, \"type\": \"bar\"}], \"barpolar\": [{\"marker\": {\"line\": {\"color\": \"#E5ECF6\", \"width\": 0.5}}, \"type\": \"barpolar\"}], \"carpet\": [{\"aaxis\": {\"endlinecolor\": \"#2a3f5f\", \"gridcolor\": \"white\", \"linecolor\": \"white\", \"minorgridcolor\": \"white\", \"startlinecolor\": \"#2a3f5f\"}, \"baxis\": {\"endlinecolor\": \"#2a3f5f\", \"gridcolor\": \"white\", \"linecolor\": \"white\", \"minorgridcolor\": \"white\", \"startlinecolor\": \"#2a3f5f\"}, \"type\": \"carpet\"}], \"choropleth\": [{\"colorbar\": {\"outlinewidth\": 0, \"ticks\": \"\"}, \"type\": \"choropleth\"}], \"contour\": [{\"colorbar\": {\"outlinewidth\": 0, \"ticks\": \"\"}, \"colorscale\": [[0.0, \"#0d0887\"], [0.1111111111111111, \"#46039f\"], [0.2222222222222222, \"#7201a8\"], [0.3333333333333333, \"#9c179e\"], [0.4444444444444444, \"#bd3786\"], [0.5555555555555556, \"#d8576b\"], [0.6666666666666666, \"#ed7953\"], [0.7777777777777778, \"#fb9f3a\"], [0.8888888888888888, \"#fdca26\"], [1.0, \"#f0f921\"]], \"type\": \"contour\"}], \"contourcarpet\": [{\"colorbar\": {\"outlinewidth\": 0, \"ticks\": \"\"}, \"type\": \"contourcarpet\"}], \"heatmap\": [{\"colorbar\": {\"outlinewidth\": 0, \"ticks\": \"\"}, \"colorscale\": [[0.0, \"#0d0887\"], [0.1111111111111111, \"#46039f\"], [0.2222222222222222, \"#7201a8\"], [0.3333333333333333, \"#9c179e\"], [0.4444444444444444, \"#bd3786\"], [0.5555555555555556, \"#d8576b\"], [0.6666666666666666, \"#ed7953\"], [0.7777777777777778, \"#fb9f3a\"], [0.8888888888888888, \"#fdca26\"], [1.0, \"#f0f921\"]], \"type\": \"heatmap\"}], \"heatmapgl\": [{\"colorbar\": {\"outlinewidth\": 0, \"ticks\": \"\"}, \"colorscale\": [[0.0, \"#0d0887\"], [0.1111111111111111, \"#46039f\"], [0.2222222222222222, \"#7201a8\"], [0.3333333333333333, \"#9c179e\"], [0.4444444444444444, \"#bd3786\"], [0.5555555555555556, \"#d8576b\"], [0.6666666666666666, \"#ed7953\"], [0.7777777777777778, \"#fb9f3a\"], [0.8888888888888888, \"#fdca26\"], [1.0, \"#f0f921\"]], \"type\": \"heatmapgl\"}], \"histogram\": [{\"marker\": {\"colorbar\": {\"outlinewidth\": 0, \"ticks\": \"\"}}, \"type\": \"histogram\"}], \"histogram2d\": [{\"colorbar\": {\"outlinewidth\": 0, \"ticks\": \"\"}, \"colorscale\": [[0.0, \"#0d0887\"], [0.1111111111111111, \"#46039f\"], [0.2222222222222222, \"#7201a8\"], [0.3333333333333333, \"#9c179e\"], [0.4444444444444444, \"#bd3786\"], [0.5555555555555556, \"#d8576b\"], [0.6666666666666666, \"#ed7953\"], [0.7777777777777778, \"#fb9f3a\"], [0.8888888888888888, \"#fdca26\"], [1.0, \"#f0f921\"]], \"type\": \"histogram2d\"}], \"histogram2dcontour\": [{\"colorbar\": {\"outlinewidth\": 0, \"ticks\": \"\"}, \"colorscale\": [[0.0, \"#0d0887\"], [0.1111111111111111, \"#46039f\"], [0.2222222222222222, \"#7201a8\"], [0.3333333333333333, \"#9c179e\"], [0.4444444444444444, \"#bd3786\"], [0.5555555555555556, \"#d8576b\"], [0.6666666666666666, \"#ed7953\"], [0.7777777777777778, \"#fb9f3a\"], [0.8888888888888888, \"#fdca26\"], [1.0, \"#f0f921\"]], \"type\": \"histogram2dcontour\"}], \"mesh3d\": [{\"colorbar\": {\"outlinewidth\": 0, \"ticks\": \"\"}, \"type\": \"mesh3d\"}], \"parcoords\": [{\"line\": {\"colorbar\": {\"outlinewidth\": 0, \"ticks\": \"\"}}, \"type\": \"parcoords\"}], \"pie\": [{\"automargin\": true, \"type\": \"pie\"}], \"scatter\": [{\"marker\": {\"colorbar\": {\"outlinewidth\": 0, \"ticks\": \"\"}}, \"type\": \"scatter\"}], \"scatter3d\": [{\"line\": {\"colorbar\": {\"outlinewidth\": 0, \"ticks\": \"\"}}, \"marker\": {\"colorbar\": {\"outlinewidth\": 0, \"ticks\": \"\"}}, \"type\": \"scatter3d\"}], \"scattercarpet\": [{\"marker\": {\"colorbar\": {\"outlinewidth\": 0, \"ticks\": \"\"}}, \"type\": \"scattercarpet\"}], \"scattergeo\": [{\"marker\": {\"colorbar\": {\"outlinewidth\": 0, \"ticks\": \"\"}}, \"type\": \"scattergeo\"}], \"scattergl\": [{\"marker\": {\"colorbar\": {\"outlinewidth\": 0, \"ticks\": \"\"}}, \"type\": \"scattergl\"}], \"scattermapbox\": [{\"marker\": {\"colorbar\": {\"outlinewidth\": 0, \"ticks\": \"\"}}, \"type\": \"scattermapbox\"}], \"scatterpolar\": [{\"marker\": {\"colorbar\": {\"outlinewidth\": 0, \"ticks\": \"\"}}, \"type\": \"scatterpolar\"}], \"scatterpolargl\": [{\"marker\": {\"colorbar\": {\"outlinewidth\": 0, \"ticks\": \"\"}}, \"type\": \"scatterpolargl\"}], \"scatterternary\": [{\"marker\": {\"colorbar\": {\"outlinewidth\": 0, \"ticks\": \"\"}}, \"type\": \"scatterternary\"}], \"surface\": [{\"colorbar\": {\"outlinewidth\": 0, \"ticks\": \"\"}, \"colorscale\": [[0.0, \"#0d0887\"], [0.1111111111111111, \"#46039f\"], [0.2222222222222222, \"#7201a8\"], [0.3333333333333333, \"#9c179e\"], [0.4444444444444444, \"#bd3786\"], [0.5555555555555556, \"#d8576b\"], [0.6666666666666666, \"#ed7953\"], [0.7777777777777778, \"#fb9f3a\"], [0.8888888888888888, \"#fdca26\"], [1.0, \"#f0f921\"]], \"type\": \"surface\"}], \"table\": [{\"cells\": {\"fill\": {\"color\": \"#EBF0F8\"}, \"line\": {\"color\": \"white\"}}, \"header\": {\"fill\": {\"color\": \"#C8D4E3\"}, \"line\": {\"color\": \"white\"}}, \"type\": \"table\"}]}, \"layout\": {\"annotationdefaults\": {\"arrowcolor\": \"#2a3f5f\", \"arrowhead\": 0, \"arrowwidth\": 1}, \"autotypenumbers\": \"strict\", \"coloraxis\": {\"colorbar\": {\"outlinewidth\": 0, \"ticks\": \"\"}}, \"colorscale\": {\"diverging\": [[0, \"#8e0152\"], [0.1, \"#c51b7d\"], [0.2, \"#de77ae\"], [0.3, \"#f1b6da\"], [0.4, \"#fde0ef\"], [0.5, \"#f7f7f7\"], [0.6, \"#e6f5d0\"], [0.7, \"#b8e186\"], [0.8, \"#7fbc41\"], [0.9, \"#4d9221\"], [1, \"#276419\"]], \"sequential\": [[0.0, \"#0d0887\"], [0.1111111111111111, \"#46039f\"], [0.2222222222222222, \"#7201a8\"], [0.3333333333333333, \"#9c179e\"], [0.4444444444444444, \"#bd3786\"], [0.5555555555555556, \"#d8576b\"], [0.6666666666666666, \"#ed7953\"], [0.7777777777777778, \"#fb9f3a\"], [0.8888888888888888, \"#fdca26\"], [1.0, \"#f0f921\"]], \"sequentialminus\": [[0.0, \"#0d0887\"], [0.1111111111111111, \"#46039f\"], [0.2222222222222222, \"#7201a8\"], [0.3333333333333333, \"#9c179e\"], [0.4444444444444444, \"#bd3786\"], [0.5555555555555556, \"#d8576b\"], [0.6666666666666666, \"#ed7953\"], [0.7777777777777778, \"#fb9f3a\"], [0.8888888888888888, \"#fdca26\"], [1.0, \"#f0f921\"]]}, \"colorway\": [\"#636efa\", \"#EF553B\", \"#00cc96\", \"#ab63fa\", \"#FFA15A\", \"#19d3f3\", \"#FF6692\", \"#B6E880\", \"#FF97FF\", \"#FECB52\"], \"font\": {\"color\": \"#2a3f5f\"}, \"geo\": {\"bgcolor\": \"white\", \"lakecolor\": \"white\", \"landcolor\": \"#E5ECF6\", \"showlakes\": true, \"showland\": true, \"subunitcolor\": \"white\"}, \"hoverlabel\": {\"align\": \"left\"}, \"hovermode\": \"closest\", \"mapbox\": {\"style\": \"light\"}, \"paper_bgcolor\": \"white\", \"plot_bgcolor\": \"#E5ECF6\", \"polar\": {\"angularaxis\": {\"gridcolor\": \"white\", \"linecolor\": \"white\", \"ticks\": \"\"}, \"bgcolor\": \"#E5ECF6\", \"radialaxis\": {\"gridcolor\": \"white\", \"linecolor\": \"white\", \"ticks\": \"\"}}, \"scene\": {\"xaxis\": {\"backgroundcolor\": \"#E5ECF6\", \"gridcolor\": \"white\", \"gridwidth\": 2, \"linecolor\": \"white\", \"showbackground\": true, \"ticks\": \"\", \"zerolinecolor\": \"white\"}, \"yaxis\": {\"backgroundcolor\": \"#E5ECF6\", \"gridcolor\": \"white\", \"gridwidth\": 2, \"linecolor\": \"white\", \"showbackground\": true, \"ticks\": \"\", \"zerolinecolor\": \"white\"}, \"zaxis\": {\"backgroundcolor\": \"#E5ECF6\", \"gridcolor\": \"white\", \"gridwidth\": 2, \"linecolor\": \"white\", \"showbackground\": true, \"ticks\": \"\", \"zerolinecolor\": \"white\"}}, \"shapedefaults\": {\"line\": {\"color\": \"#2a3f5f\"}}, \"ternary\": {\"aaxis\": {\"gridcolor\": \"white\", \"linecolor\": \"white\", \"ticks\": \"\"}, \"baxis\": {\"gridcolor\": \"white\", \"linecolor\": \"white\", \"ticks\": \"\"}, \"bgcolor\": \"#E5ECF6\", \"caxis\": {\"gridcolor\": \"white\", \"linecolor\": \"white\", \"ticks\": \"\"}}, \"title\": {\"x\": 0.05}, \"xaxis\": {\"automargin\": true, \"gridcolor\": \"white\", \"linecolor\": \"white\", \"ticks\": \"\", \"title\": {\"standoff\": 15}, \"zerolinecolor\": \"white\", \"zerolinewidth\": 2}, \"yaxis\": {\"automargin\": true, \"gridcolor\": \"white\", \"linecolor\": \"white\", \"ticks\": \"\", \"title\": {\"standoff\": 15}, \"zerolinecolor\": \"white\", \"zerolinewidth\": 2}}}, \"title\": {\"text\": \"Dax monthly data\"}, \"xaxis\": {\"anchor\": \"y\", \"domain\": [0.0, 1.0], \"title\": {\"text\": \"Year+Month\"}}, \"yaxis\": {\"anchor\": \"x\", \"domain\": [0.0, 1.0], \"title\": {\"text\": \"\\u00daltimo\"}}},                        {\"responsive\": true}                    ).then(function(){\n",
       "                            \n",
       "var gd = document.getElementById('c97e51a4-2b66-43cc-bdaf-d399262458f1');\n",
       "var x = new MutationObserver(function (mutations, observer) {{\n",
       "        var display = window.getComputedStyle(gd).display;\n",
       "        if (!display || display === 'none') {{\n",
       "            console.log([gd, 'removed!']);\n",
       "            Plotly.purge(gd);\n",
       "            observer.disconnect();\n",
       "        }}\n",
       "}});\n",
       "\n",
       "// Listen for the removal of the full notebook cells\n",
       "var notebookContainer = gd.closest('#notebook-container');\n",
       "if (notebookContainer) {{\n",
       "    x.observe(notebookContainer, {childList: true});\n",
       "}}\n",
       "\n",
       "// Listen for the clearing of the current output cell\n",
       "var outputEl = gd.closest('.output');\n",
       "if (outputEl) {{\n",
       "    x.observe(outputEl, {childList: true});\n",
       "}}\n",
       "\n",
       "                        })                };                });            </script>        </div>"
      ]
     },
     "metadata": {},
     "output_type": "display_data"
    }
   ],
   "source": [
    "fig = px.line(dax_preprocessed2_grouped_mean, x=\"Year+Month\", y=\"Último\", title='Dax monthly data')\n",
    "fig.show()"
   ]
  },
  {
   "cell_type": "code",
   "execution_count": null,
   "id": "sharp-sensitivity",
   "metadata": {},
   "outputs": [],
   "source": []
  }
 ],
 "metadata": {
  "kernelspec": {
   "display_name": "Python 3",
   "language": "python",
   "name": "python3"
  },
  "language_info": {
   "codemirror_mode": {
    "name": "ipython",
    "version": 3
   },
   "file_extension": ".py",
   "mimetype": "text/x-python",
   "name": "python",
   "nbconvert_exporter": "python",
   "pygments_lexer": "ipython3",
   "version": "3.8.5"
  }
 },
 "nbformat": 4,
 "nbformat_minor": 5
}
