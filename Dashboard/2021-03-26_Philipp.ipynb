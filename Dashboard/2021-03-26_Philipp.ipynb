{
 "cells": [
  {
   "cell_type": "code",
   "execution_count": 13,
   "id": "adolescent-vanilla",
   "metadata": {},
   "outputs": [],
   "source": [
    "import pandas as pd\n",
    "import plotly.graph_objects as go\n",
    "import plotly.express as px"
   ]
  },
  {
   "cell_type": "code",
   "execution_count": 155,
   "id": "western-payday",
   "metadata": {},
   "outputs": [
    {
     "data": {
      "text/html": [
       "<div>\n",
       "<style scoped>\n",
       "    .dataframe tbody tr th:only-of-type {\n",
       "        vertical-align: middle;\n",
       "    }\n",
       "\n",
       "    .dataframe tbody tr th {\n",
       "        vertical-align: top;\n",
       "    }\n",
       "\n",
       "    .dataframe thead th {\n",
       "        text-align: right;\n",
       "    }\n",
       "</style>\n",
       "<table border=\"1\" class=\"dataframe\">\n",
       "  <thead>\n",
       "    <tr style=\"text-align: right;\">\n",
       "      <th></th>\n",
       "      <th>DR_NO</th>\n",
       "      <th>Date Rptd</th>\n",
       "      <th>DATE OCC</th>\n",
       "      <th>TIME OCC</th>\n",
       "      <th>AREA</th>\n",
       "      <th>AREA NAME</th>\n",
       "      <th>Rpt Dist No</th>\n",
       "      <th>Part 1-2</th>\n",
       "      <th>Crm Cd</th>\n",
       "      <th>Crm Cd Desc</th>\n",
       "      <th>...</th>\n",
       "      <th>Status</th>\n",
       "      <th>Status Desc</th>\n",
       "      <th>Crm Cd 1</th>\n",
       "      <th>Crm Cd 2</th>\n",
       "      <th>Crm Cd 3</th>\n",
       "      <th>Crm Cd 4</th>\n",
       "      <th>LOCATION</th>\n",
       "      <th>Cross Street</th>\n",
       "      <th>LAT</th>\n",
       "      <th>LON</th>\n",
       "    </tr>\n",
       "  </thead>\n",
       "  <tbody>\n",
       "    <tr>\n",
       "      <th>0</th>\n",
       "      <td>1307355</td>\n",
       "      <td>02/20/2010 12:00:00 AM</td>\n",
       "      <td>02/20/2010 12:00:00 AM</td>\n",
       "      <td>1350</td>\n",
       "      <td>13</td>\n",
       "      <td>Newton</td>\n",
       "      <td>1385</td>\n",
       "      <td>2</td>\n",
       "      <td>900</td>\n",
       "      <td>VIOLATION OF COURT ORDER</td>\n",
       "      <td>...</td>\n",
       "      <td>AA</td>\n",
       "      <td>Adult Arrest</td>\n",
       "      <td>900.0</td>\n",
       "      <td>NaN</td>\n",
       "      <td>NaN</td>\n",
       "      <td>NaN</td>\n",
       "      <td>300 E  GAGE                         AV</td>\n",
       "      <td>NaN</td>\n",
       "      <td>33.9825</td>\n",
       "      <td>-118.2695</td>\n",
       "    </tr>\n",
       "    <tr>\n",
       "      <th>1</th>\n",
       "      <td>11401303</td>\n",
       "      <td>09/13/2010 12:00:00 AM</td>\n",
       "      <td>09/12/2010 12:00:00 AM</td>\n",
       "      <td>45</td>\n",
       "      <td>14</td>\n",
       "      <td>Pacific</td>\n",
       "      <td>1485</td>\n",
       "      <td>2</td>\n",
       "      <td>740</td>\n",
       "      <td>VANDALISM - FELONY ($400 &amp; OVER, ALL CHURCH VA...</td>\n",
       "      <td>...</td>\n",
       "      <td>IC</td>\n",
       "      <td>Invest Cont</td>\n",
       "      <td>740.0</td>\n",
       "      <td>NaN</td>\n",
       "      <td>NaN</td>\n",
       "      <td>NaN</td>\n",
       "      <td>SEPULVEDA                    BL</td>\n",
       "      <td>MANCHESTER                   AV</td>\n",
       "      <td>33.9599</td>\n",
       "      <td>-118.3962</td>\n",
       "    </tr>\n",
       "    <tr>\n",
       "      <th>2</th>\n",
       "      <td>70309629</td>\n",
       "      <td>08/09/2010 12:00:00 AM</td>\n",
       "      <td>08/09/2010 12:00:00 AM</td>\n",
       "      <td>1515</td>\n",
       "      <td>13</td>\n",
       "      <td>Newton</td>\n",
       "      <td>1324</td>\n",
       "      <td>2</td>\n",
       "      <td>946</td>\n",
       "      <td>OTHER MISCELLANEOUS CRIME</td>\n",
       "      <td>...</td>\n",
       "      <td>IC</td>\n",
       "      <td>Invest Cont</td>\n",
       "      <td>946.0</td>\n",
       "      <td>NaN</td>\n",
       "      <td>NaN</td>\n",
       "      <td>NaN</td>\n",
       "      <td>1300 E  21ST                         ST</td>\n",
       "      <td>NaN</td>\n",
       "      <td>34.0224</td>\n",
       "      <td>-118.2524</td>\n",
       "    </tr>\n",
       "    <tr>\n",
       "      <th>3</th>\n",
       "      <td>90631215</td>\n",
       "      <td>01/05/2010 12:00:00 AM</td>\n",
       "      <td>01/05/2010 12:00:00 AM</td>\n",
       "      <td>150</td>\n",
       "      <td>6</td>\n",
       "      <td>Hollywood</td>\n",
       "      <td>646</td>\n",
       "      <td>2</td>\n",
       "      <td>900</td>\n",
       "      <td>VIOLATION OF COURT ORDER</td>\n",
       "      <td>...</td>\n",
       "      <td>IC</td>\n",
       "      <td>Invest Cont</td>\n",
       "      <td>900.0</td>\n",
       "      <td>998.0</td>\n",
       "      <td>NaN</td>\n",
       "      <td>NaN</td>\n",
       "      <td>CAHUENGA                     BL</td>\n",
       "      <td>HOLLYWOOD                    BL</td>\n",
       "      <td>34.1016</td>\n",
       "      <td>-118.3295</td>\n",
       "    </tr>\n",
       "    <tr>\n",
       "      <th>4</th>\n",
       "      <td>100100501</td>\n",
       "      <td>01/03/2010 12:00:00 AM</td>\n",
       "      <td>01/02/2010 12:00:00 AM</td>\n",
       "      <td>2100</td>\n",
       "      <td>1</td>\n",
       "      <td>Central</td>\n",
       "      <td>176</td>\n",
       "      <td>1</td>\n",
       "      <td>122</td>\n",
       "      <td>RAPE, ATTEMPTED</td>\n",
       "      <td>...</td>\n",
       "      <td>IC</td>\n",
       "      <td>Invest Cont</td>\n",
       "      <td>122.0</td>\n",
       "      <td>NaN</td>\n",
       "      <td>NaN</td>\n",
       "      <td>NaN</td>\n",
       "      <td>8TH                          ST</td>\n",
       "      <td>SAN PEDRO                    ST</td>\n",
       "      <td>34.0387</td>\n",
       "      <td>-118.2488</td>\n",
       "    </tr>\n",
       "  </tbody>\n",
       "</table>\n",
       "<p>5 rows × 28 columns</p>\n",
       "</div>"
      ],
      "text/plain": [
       "       DR_NO               Date Rptd                DATE OCC  TIME OCC  AREA   \\\n",
       "0    1307355  02/20/2010 12:00:00 AM  02/20/2010 12:00:00 AM      1350     13   \n",
       "1   11401303  09/13/2010 12:00:00 AM  09/12/2010 12:00:00 AM        45     14   \n",
       "2   70309629  08/09/2010 12:00:00 AM  08/09/2010 12:00:00 AM      1515     13   \n",
       "3   90631215  01/05/2010 12:00:00 AM  01/05/2010 12:00:00 AM       150      6   \n",
       "4  100100501  01/03/2010 12:00:00 AM  01/02/2010 12:00:00 AM      2100      1   \n",
       "\n",
       "   AREA NAME  Rpt Dist No  Part 1-2  Crm Cd  \\\n",
       "0     Newton         1385         2     900   \n",
       "1    Pacific         1485         2     740   \n",
       "2     Newton         1324         2     946   \n",
       "3  Hollywood          646         2     900   \n",
       "4    Central          176         1     122   \n",
       "\n",
       "                                         Crm Cd Desc  ... Status  \\\n",
       "0                           VIOLATION OF COURT ORDER  ...     AA   \n",
       "1  VANDALISM - FELONY ($400 & OVER, ALL CHURCH VA...  ...     IC   \n",
       "2                          OTHER MISCELLANEOUS CRIME  ...     IC   \n",
       "3                           VIOLATION OF COURT ORDER  ...     IC   \n",
       "4                                    RAPE, ATTEMPTED  ...     IC   \n",
       "\n",
       "    Status Desc Crm Cd 1 Crm Cd 2  Crm Cd 3 Crm Cd 4  \\\n",
       "0  Adult Arrest    900.0      NaN       NaN      NaN   \n",
       "1   Invest Cont    740.0      NaN       NaN      NaN   \n",
       "2   Invest Cont    946.0      NaN       NaN      NaN   \n",
       "3   Invest Cont    900.0    998.0       NaN      NaN   \n",
       "4   Invest Cont    122.0      NaN       NaN      NaN   \n",
       "\n",
       "                                  LOCATION                     Cross Street  \\\n",
       "0   300 E  GAGE                         AV                              NaN   \n",
       "1          SEPULVEDA                    BL  MANCHESTER                   AV   \n",
       "2  1300 E  21ST                         ST                              NaN   \n",
       "3          CAHUENGA                     BL  HOLLYWOOD                    BL   \n",
       "4          8TH                          ST  SAN PEDRO                    ST   \n",
       "\n",
       "       LAT       LON  \n",
       "0  33.9825 -118.2695  \n",
       "1  33.9599 -118.3962  \n",
       "2  34.0224 -118.2524  \n",
       "3  34.1016 -118.3295  \n",
       "4  34.0387 -118.2488  \n",
       "\n",
       "[5 rows x 28 columns]"
      ]
     },
     "execution_count": 155,
     "metadata": {},
     "output_type": "execute_result"
    }
   ],
   "source": [
    "to2019 = pd.read_csv('/Users/philippmetzger/OneDrive/PHILIPP/NOVA IMS/2nd Semester/02 Data Visualisation 4 ECTS/00 Projects/Project 2/Potential datasets/LA crime/Crime_Data_from_2010_to_2019.csv')\n",
    "to2019.head(5)"
   ]
  },
  {
   "cell_type": "code",
   "execution_count": 3,
   "id": "determined-batman",
   "metadata": {},
   "outputs": [
    {
     "data": {
      "text/html": [
       "<div>\n",
       "<style scoped>\n",
       "    .dataframe tbody tr th:only-of-type {\n",
       "        vertical-align: middle;\n",
       "    }\n",
       "\n",
       "    .dataframe tbody tr th {\n",
       "        vertical-align: top;\n",
       "    }\n",
       "\n",
       "    .dataframe thead th {\n",
       "        text-align: right;\n",
       "    }\n",
       "</style>\n",
       "<table border=\"1\" class=\"dataframe\">\n",
       "  <thead>\n",
       "    <tr style=\"text-align: right;\">\n",
       "      <th></th>\n",
       "      <th>DR_NO</th>\n",
       "      <th>Date Rptd</th>\n",
       "      <th>DATE OCC</th>\n",
       "      <th>TIME OCC</th>\n",
       "      <th>AREA</th>\n",
       "      <th>AREA NAME</th>\n",
       "      <th>Rpt Dist No</th>\n",
       "      <th>Part 1-2</th>\n",
       "      <th>Crm Cd</th>\n",
       "      <th>Crm Cd Desc</th>\n",
       "      <th>...</th>\n",
       "      <th>Status</th>\n",
       "      <th>Status Desc</th>\n",
       "      <th>Crm Cd 1</th>\n",
       "      <th>Crm Cd 2</th>\n",
       "      <th>Crm Cd 3</th>\n",
       "      <th>Crm Cd 4</th>\n",
       "      <th>LOCATION</th>\n",
       "      <th>Cross Street</th>\n",
       "      <th>LAT</th>\n",
       "      <th>LON</th>\n",
       "    </tr>\n",
       "  </thead>\n",
       "  <tbody>\n",
       "    <tr>\n",
       "      <th>0</th>\n",
       "      <td>10304468</td>\n",
       "      <td>01/08/2020 12:00:00 AM</td>\n",
       "      <td>01/08/2020 12:00:00 AM</td>\n",
       "      <td>2230</td>\n",
       "      <td>3</td>\n",
       "      <td>Southwest</td>\n",
       "      <td>377</td>\n",
       "      <td>2</td>\n",
       "      <td>624</td>\n",
       "      <td>BATTERY - SIMPLE ASSAULT</td>\n",
       "      <td>...</td>\n",
       "      <td>AO</td>\n",
       "      <td>Adult Other</td>\n",
       "      <td>624.0</td>\n",
       "      <td>NaN</td>\n",
       "      <td>NaN</td>\n",
       "      <td>NaN</td>\n",
       "      <td>1100 W  39TH                         PL</td>\n",
       "      <td>NaN</td>\n",
       "      <td>34.0141</td>\n",
       "      <td>-118.2978</td>\n",
       "    </tr>\n",
       "    <tr>\n",
       "      <th>1</th>\n",
       "      <td>190101086</td>\n",
       "      <td>01/02/2020 12:00:00 AM</td>\n",
       "      <td>01/01/2020 12:00:00 AM</td>\n",
       "      <td>330</td>\n",
       "      <td>1</td>\n",
       "      <td>Central</td>\n",
       "      <td>163</td>\n",
       "      <td>2</td>\n",
       "      <td>624</td>\n",
       "      <td>BATTERY - SIMPLE ASSAULT</td>\n",
       "      <td>...</td>\n",
       "      <td>IC</td>\n",
       "      <td>Invest Cont</td>\n",
       "      <td>624.0</td>\n",
       "      <td>NaN</td>\n",
       "      <td>NaN</td>\n",
       "      <td>NaN</td>\n",
       "      <td>700 S  HILL                         ST</td>\n",
       "      <td>NaN</td>\n",
       "      <td>34.0459</td>\n",
       "      <td>-118.2545</td>\n",
       "    </tr>\n",
       "    <tr>\n",
       "      <th>2</th>\n",
       "      <td>201220752</td>\n",
       "      <td>09/16/2020 12:00:00 AM</td>\n",
       "      <td>09/16/2020 12:00:00 AM</td>\n",
       "      <td>1230</td>\n",
       "      <td>12</td>\n",
       "      <td>77th Street</td>\n",
       "      <td>1259</td>\n",
       "      <td>2</td>\n",
       "      <td>745</td>\n",
       "      <td>VANDALISM - MISDEAMEANOR ($399 OR UNDER)</td>\n",
       "      <td>...</td>\n",
       "      <td>IC</td>\n",
       "      <td>Invest Cont</td>\n",
       "      <td>745.0</td>\n",
       "      <td>NaN</td>\n",
       "      <td>NaN</td>\n",
       "      <td>NaN</td>\n",
       "      <td>700 E  73RD                         ST</td>\n",
       "      <td>NaN</td>\n",
       "      <td>33.9739</td>\n",
       "      <td>-118.2630</td>\n",
       "    </tr>\n",
       "    <tr>\n",
       "      <th>3</th>\n",
       "      <td>191501505</td>\n",
       "      <td>01/01/2020 12:00:00 AM</td>\n",
       "      <td>01/01/2020 12:00:00 AM</td>\n",
       "      <td>1730</td>\n",
       "      <td>15</td>\n",
       "      <td>N Hollywood</td>\n",
       "      <td>1543</td>\n",
       "      <td>2</td>\n",
       "      <td>745</td>\n",
       "      <td>VANDALISM - MISDEAMEANOR ($399 OR UNDER)</td>\n",
       "      <td>...</td>\n",
       "      <td>IC</td>\n",
       "      <td>Invest Cont</td>\n",
       "      <td>745.0</td>\n",
       "      <td>998.0</td>\n",
       "      <td>NaN</td>\n",
       "      <td>NaN</td>\n",
       "      <td>5400    CORTEEN                      PL</td>\n",
       "      <td>NaN</td>\n",
       "      <td>34.1685</td>\n",
       "      <td>-118.4019</td>\n",
       "    </tr>\n",
       "    <tr>\n",
       "      <th>4</th>\n",
       "      <td>191921269</td>\n",
       "      <td>01/01/2020 12:00:00 AM</td>\n",
       "      <td>01/01/2020 12:00:00 AM</td>\n",
       "      <td>415</td>\n",
       "      <td>19</td>\n",
       "      <td>Mission</td>\n",
       "      <td>1998</td>\n",
       "      <td>2</td>\n",
       "      <td>740</td>\n",
       "      <td>VANDALISM - FELONY ($400 &amp; OVER, ALL CHURCH VA...</td>\n",
       "      <td>...</td>\n",
       "      <td>IC</td>\n",
       "      <td>Invest Cont</td>\n",
       "      <td>740.0</td>\n",
       "      <td>NaN</td>\n",
       "      <td>NaN</td>\n",
       "      <td>NaN</td>\n",
       "      <td>14400    TITUS                        ST</td>\n",
       "      <td>NaN</td>\n",
       "      <td>34.2198</td>\n",
       "      <td>-118.4468</td>\n",
       "    </tr>\n",
       "  </tbody>\n",
       "</table>\n",
       "<p>5 rows × 28 columns</p>\n",
       "</div>"
      ],
      "text/plain": [
       "       DR_NO               Date Rptd                DATE OCC  TIME OCC  AREA  \\\n",
       "0   10304468  01/08/2020 12:00:00 AM  01/08/2020 12:00:00 AM      2230     3   \n",
       "1  190101086  01/02/2020 12:00:00 AM  01/01/2020 12:00:00 AM       330     1   \n",
       "2  201220752  09/16/2020 12:00:00 AM  09/16/2020 12:00:00 AM      1230    12   \n",
       "3  191501505  01/01/2020 12:00:00 AM  01/01/2020 12:00:00 AM      1730    15   \n",
       "4  191921269  01/01/2020 12:00:00 AM  01/01/2020 12:00:00 AM       415    19   \n",
       "\n",
       "     AREA NAME  Rpt Dist No  Part 1-2  Crm Cd  \\\n",
       "0    Southwest          377         2     624   \n",
       "1      Central          163         2     624   \n",
       "2  77th Street         1259         2     745   \n",
       "3  N Hollywood         1543         2     745   \n",
       "4      Mission         1998         2     740   \n",
       "\n",
       "                                         Crm Cd Desc  ... Status  Status Desc  \\\n",
       "0                           BATTERY - SIMPLE ASSAULT  ...     AO  Adult Other   \n",
       "1                           BATTERY - SIMPLE ASSAULT  ...     IC  Invest Cont   \n",
       "2           VANDALISM - MISDEAMEANOR ($399 OR UNDER)  ...     IC  Invest Cont   \n",
       "3           VANDALISM - MISDEAMEANOR ($399 OR UNDER)  ...     IC  Invest Cont   \n",
       "4  VANDALISM - FELONY ($400 & OVER, ALL CHURCH VA...  ...     IC  Invest Cont   \n",
       "\n",
       "  Crm Cd 1 Crm Cd 2  Crm Cd 3 Crm Cd 4  \\\n",
       "0    624.0      NaN       NaN      NaN   \n",
       "1    624.0      NaN       NaN      NaN   \n",
       "2    745.0      NaN       NaN      NaN   \n",
       "3    745.0    998.0       NaN      NaN   \n",
       "4    740.0      NaN       NaN      NaN   \n",
       "\n",
       "                                   LOCATION Cross Street      LAT       LON  \n",
       "0   1100 W  39TH                         PL          NaN  34.0141 -118.2978  \n",
       "1    700 S  HILL                         ST          NaN  34.0459 -118.2545  \n",
       "2    700 E  73RD                         ST          NaN  33.9739 -118.2630  \n",
       "3   5400    CORTEEN                      PL          NaN  34.1685 -118.4019  \n",
       "4  14400    TITUS                        ST          NaN  34.2198 -118.4468  \n",
       "\n",
       "[5 rows x 28 columns]"
      ]
     },
     "execution_count": 3,
     "metadata": {},
     "output_type": "execute_result"
    }
   ],
   "source": [
    "toPresent = pd.read_csv('/Users/philippmetzger/OneDrive/PHILIPP/NOVA IMS/2nd Semester/02 Data Visualisation 4 ECTS/00 Projects/Project 2/Potential datasets/LA crime/Crime_Data_from_2020_to_Present.csv')\n",
    "toPresent.head(5)"
   ]
  },
  {
   "cell_type": "code",
   "execution_count": 4,
   "id": "southwest-recycling",
   "metadata": {},
   "outputs": [
    {
     "data": {
      "text/plain": [
       "['DR_NO',\n",
       " 'Date Rptd',\n",
       " 'DATE OCC',\n",
       " 'TIME OCC',\n",
       " 'AREA ',\n",
       " 'AREA NAME',\n",
       " 'Rpt Dist No',\n",
       " 'Part 1-2',\n",
       " 'Crm Cd',\n",
       " 'Crm Cd Desc',\n",
       " 'Mocodes',\n",
       " 'Vict Age',\n",
       " 'Vict Sex',\n",
       " 'Vict Descent',\n",
       " 'Premis Cd',\n",
       " 'Premis Desc',\n",
       " 'Weapon Used Cd',\n",
       " 'Weapon Desc',\n",
       " 'Status',\n",
       " 'Status Desc',\n",
       " 'Crm Cd 1',\n",
       " 'Crm Cd 2',\n",
       " 'Crm Cd 3',\n",
       " 'Crm Cd 4',\n",
       " 'LOCATION',\n",
       " 'Cross Street',\n",
       " 'LAT',\n",
       " 'LON']"
      ]
     },
     "execution_count": 4,
     "metadata": {},
     "output_type": "execute_result"
    }
   ],
   "source": [
    "list(to2019)"
   ]
  },
  {
   "cell_type": "code",
   "execution_count": 5,
   "id": "honey-carry",
   "metadata": {},
   "outputs": [
    {
     "name": "stdout",
     "output_type": "stream",
     "text": [
      "LON\n",
      "\n"
     ]
    },
    {
     "data": {
      "text/plain": [
       "0   -118.2695\n",
       "1   -118.3962\n",
       "2   -118.2524\n",
       "3   -118.3295\n",
       "4   -118.2488\n",
       "Name: LON, dtype: float64"
      ]
     },
     "execution_count": 5,
     "metadata": {},
     "output_type": "execute_result"
    }
   ],
   "source": [
    "i=27\n",
    "print(list(to2019)[i])\n",
    "print()\n",
    "to2019.iloc[0:5,i]"
   ]
  },
  {
   "cell_type": "code",
   "execution_count": 6,
   "id": "rocky-laugh",
   "metadata": {},
   "outputs": [
    {
     "data": {
      "text/plain": [
       "array(['Newton', 'Pacific', 'Hollywood', 'Central', 'Northeast',\n",
       "       'Hollenbeck', 'Southwest', 'Southeast', 'Rampart', 'Olympic',\n",
       "       'Wilshire', '77th Street', 'Harbor', 'West LA', 'Van Nuys',\n",
       "       'West Valley', 'Mission', 'Topanga', 'N Hollywood', 'Foothill',\n",
       "       'Devonshire'], dtype=object)"
      ]
     },
     "execution_count": 6,
     "metadata": {},
     "output_type": "execute_result"
    }
   ],
   "source": [
    "pd.unique(to2019['AREA NAME'])"
   ]
  },
  {
   "cell_type": "code",
   "execution_count": 11,
   "id": "referenced-magazine",
   "metadata": {},
   "outputs": [
    {
     "data": {
      "text/plain": [
       "DR_NO                   0\n",
       "Date Rptd               0\n",
       "DATE OCC                0\n",
       "TIME OCC                0\n",
       "AREA                    0\n",
       "AREA NAME               0\n",
       "Rpt Dist No             0\n",
       "Part 1-2                0\n",
       "Crm Cd                  0\n",
       "Crm Cd Desc             0\n",
       "Mocodes            228111\n",
       "Vict Age                0\n",
       "Vict Sex           196719\n",
       "Vict Descent       196765\n",
       "Premis Cd              53\n",
       "Premis Desc           187\n",
       "Weapon Used Cd    1405864\n",
       "Weapon Desc       1405865\n",
       "Status                  3\n",
       "Status Desc             0\n",
       "Crm Cd 1               10\n",
       "Crm Cd 2          1977178\n",
       "Crm Cd 3          2113439\n",
       "Crm Cd 4          2116850\n",
       "LOCATION                0\n",
       "Cross Street      1761493\n",
       "LAT                     0\n",
       "LON                     0\n",
       "dtype: int64"
      ]
     },
     "execution_count": 11,
     "metadata": {},
     "output_type": "execute_result"
    }
   ],
   "source": [
    "to2019.isnull().sum()"
   ]
  },
  {
   "cell_type": "code",
   "execution_count": 27,
   "id": "photographic-repository",
   "metadata": {},
   "outputs": [
    {
     "data": {
      "text/html": [
       "<div>\n",
       "<style scoped>\n",
       "    .dataframe tbody tr th:only-of-type {\n",
       "        vertical-align: middle;\n",
       "    }\n",
       "\n",
       "    .dataframe tbody tr th {\n",
       "        vertical-align: top;\n",
       "    }\n",
       "\n",
       "    .dataframe thead th {\n",
       "        text-align: right;\n",
       "    }\n",
       "</style>\n",
       "<table border=\"1\" class=\"dataframe\">\n",
       "  <thead>\n",
       "    <tr style=\"text-align: right;\">\n",
       "      <th></th>\n",
       "      <th>Area name</th>\n",
       "      <th>Count</th>\n",
       "    </tr>\n",
       "  </thead>\n",
       "  <tbody>\n",
       "    <tr>\n",
       "      <th>0</th>\n",
       "      <td>77th Street</td>\n",
       "      <td>145389</td>\n",
       "    </tr>\n",
       "    <tr>\n",
       "      <th>1</th>\n",
       "      <td>Central</td>\n",
       "      <td>98335</td>\n",
       "    </tr>\n",
       "    <tr>\n",
       "      <th>2</th>\n",
       "      <td>Devonshire</td>\n",
       "      <td>96563</td>\n",
       "    </tr>\n",
       "    <tr>\n",
       "      <th>3</th>\n",
       "      <td>Foothill</td>\n",
       "      <td>79927</td>\n",
       "    </tr>\n",
       "    <tr>\n",
       "      <th>4</th>\n",
       "      <td>Harbor</td>\n",
       "      <td>92060</td>\n",
       "    </tr>\n",
       "    <tr>\n",
       "      <th>5</th>\n",
       "      <td>Hollenbeck</td>\n",
       "      <td>77984</td>\n",
       "    </tr>\n",
       "    <tr>\n",
       "      <th>6</th>\n",
       "      <td>Hollywood</td>\n",
       "      <td>99083</td>\n",
       "    </tr>\n",
       "    <tr>\n",
       "      <th>7</th>\n",
       "      <td>Mission</td>\n",
       "      <td>103656</td>\n",
       "    </tr>\n",
       "    <tr>\n",
       "      <th>8</th>\n",
       "      <td>N Hollywood</td>\n",
       "      <td>113992</td>\n",
       "    </tr>\n",
       "    <tr>\n",
       "      <th>9</th>\n",
       "      <td>Newton</td>\n",
       "      <td>100052</td>\n",
       "    </tr>\n",
       "    <tr>\n",
       "      <th>10</th>\n",
       "      <td>Northeast</td>\n",
       "      <td>100324</td>\n",
       "    </tr>\n",
       "    <tr>\n",
       "      <th>11</th>\n",
       "      <td>Olympic</td>\n",
       "      <td>95382</td>\n",
       "    </tr>\n",
       "    <tr>\n",
       "      <th>12</th>\n",
       "      <td>Pacific</td>\n",
       "      <td>112582</td>\n",
       "    </tr>\n",
       "    <tr>\n",
       "      <th>13</th>\n",
       "      <td>Rampart</td>\n",
       "      <td>89653</td>\n",
       "    </tr>\n",
       "    <tr>\n",
       "      <th>14</th>\n",
       "      <td>Southeast</td>\n",
       "      <td>111526</td>\n",
       "    </tr>\n",
       "    <tr>\n",
       "      <th>15</th>\n",
       "      <td>Southwest</td>\n",
       "      <td>135523</td>\n",
       "    </tr>\n",
       "    <tr>\n",
       "      <th>16</th>\n",
       "      <td>Topanga</td>\n",
       "      <td>97688</td>\n",
       "    </tr>\n",
       "    <tr>\n",
       "      <th>17</th>\n",
       "      <td>Van Nuys</td>\n",
       "      <td>99807</td>\n",
       "    </tr>\n",
       "    <tr>\n",
       "      <th>18</th>\n",
       "      <td>West LA</td>\n",
       "      <td>89122</td>\n",
       "    </tr>\n",
       "    <tr>\n",
       "      <th>19</th>\n",
       "      <td>West Valley</td>\n",
       "      <td>89642</td>\n",
       "    </tr>\n",
       "    <tr>\n",
       "      <th>20</th>\n",
       "      <td>Wilshire</td>\n",
       "      <td>88664</td>\n",
       "    </tr>\n",
       "  </tbody>\n",
       "</table>\n",
       "</div>"
      ],
      "text/plain": [
       "      Area name   Count\n",
       "0   77th Street  145389\n",
       "1       Central   98335\n",
       "2    Devonshire   96563\n",
       "3      Foothill   79927\n",
       "4        Harbor   92060\n",
       "5    Hollenbeck   77984\n",
       "6     Hollywood   99083\n",
       "7       Mission  103656\n",
       "8   N Hollywood  113992\n",
       "9        Newton  100052\n",
       "10    Northeast  100324\n",
       "11      Olympic   95382\n",
       "12      Pacific  112582\n",
       "13      Rampart   89653\n",
       "14    Southeast  111526\n",
       "15    Southwest  135523\n",
       "16      Topanga   97688\n",
       "17     Van Nuys   99807\n",
       "18      West LA   89122\n",
       "19  West Valley   89642\n",
       "20     Wilshire   88664"
      ]
     },
     "execution_count": 27,
     "metadata": {},
     "output_type": "execute_result"
    }
   ],
   "source": [
    "area_counts = to2019.groupby('AREA NAME').count()\n",
    "area_counts.reset_index(inplace=True)\n",
    "area_counts = area_counts[['AREA NAME', 'DR_NO']]\n",
    "area_counts = area_counts.rename(columns={'AREA NAME':'Area name', 'DR_NO':'Count'})\n",
    "area_counts"
   ]
  },
  {
   "cell_type": "code",
   "execution_count": 25,
   "id": "political-track",
   "metadata": {},
   "outputs": [
    {
     "data": {
      "application/vnd.plotly.v1+json": {
       "config": {
        "plotlyServerURL": "https://plot.ly"
       },
       "data": [
        {
         "alignmentgroup": "True",
         "hovertemplate": "Area name=%{x}<br>Count=%{y}<extra></extra>",
         "legendgroup": "",
         "marker": {
          "color": "#636efa"
         },
         "name": "",
         "offsetgroup": "",
         "orientation": "v",
         "showlegend": false,
         "textposition": "auto",
         "type": "bar",
         "x": [
          "77th Street",
          "Central",
          "Devonshire",
          "Foothill",
          "Harbor",
          "Hollenbeck",
          "Hollywood",
          "Mission",
          "N Hollywood",
          "Newton",
          "Northeast",
          "Olympic",
          "Pacific",
          "Rampart",
          "Southeast",
          "Southwest",
          "Topanga",
          "Van Nuys",
          "West LA",
          "West Valley",
          "Wilshire"
         ],
         "xaxis": "x",
         "y": [
          145389,
          98335,
          96563,
          79927,
          92060,
          77984,
          99083,
          103656,
          113992,
          100052,
          100324,
          95382,
          112582,
          89653,
          111526,
          135523,
          97688,
          99807,
          89122,
          89642,
          88664
         ],
         "yaxis": "y"
        }
       ],
       "layout": {
        "barmode": "relative",
        "legend": {
         "tracegroupgap": 0
        },
        "template": {
         "data": {
          "bar": [
           {
            "error_x": {
             "color": "#2a3f5f"
            },
            "error_y": {
             "color": "#2a3f5f"
            },
            "marker": {
             "line": {
              "color": "#E5ECF6",
              "width": 0.5
             }
            },
            "type": "bar"
           }
          ],
          "barpolar": [
           {
            "marker": {
             "line": {
              "color": "#E5ECF6",
              "width": 0.5
             }
            },
            "type": "barpolar"
           }
          ],
          "carpet": [
           {
            "aaxis": {
             "endlinecolor": "#2a3f5f",
             "gridcolor": "white",
             "linecolor": "white",
             "minorgridcolor": "white",
             "startlinecolor": "#2a3f5f"
            },
            "baxis": {
             "endlinecolor": "#2a3f5f",
             "gridcolor": "white",
             "linecolor": "white",
             "minorgridcolor": "white",
             "startlinecolor": "#2a3f5f"
            },
            "type": "carpet"
           }
          ],
          "choropleth": [
           {
            "colorbar": {
             "outlinewidth": 0,
             "ticks": ""
            },
            "type": "choropleth"
           }
          ],
          "contour": [
           {
            "colorbar": {
             "outlinewidth": 0,
             "ticks": ""
            },
            "colorscale": [
             [
              0,
              "#0d0887"
             ],
             [
              0.1111111111111111,
              "#46039f"
             ],
             [
              0.2222222222222222,
              "#7201a8"
             ],
             [
              0.3333333333333333,
              "#9c179e"
             ],
             [
              0.4444444444444444,
              "#bd3786"
             ],
             [
              0.5555555555555556,
              "#d8576b"
             ],
             [
              0.6666666666666666,
              "#ed7953"
             ],
             [
              0.7777777777777778,
              "#fb9f3a"
             ],
             [
              0.8888888888888888,
              "#fdca26"
             ],
             [
              1,
              "#f0f921"
             ]
            ],
            "type": "contour"
           }
          ],
          "contourcarpet": [
           {
            "colorbar": {
             "outlinewidth": 0,
             "ticks": ""
            },
            "type": "contourcarpet"
           }
          ],
          "heatmap": [
           {
            "colorbar": {
             "outlinewidth": 0,
             "ticks": ""
            },
            "colorscale": [
             [
              0,
              "#0d0887"
             ],
             [
              0.1111111111111111,
              "#46039f"
             ],
             [
              0.2222222222222222,
              "#7201a8"
             ],
             [
              0.3333333333333333,
              "#9c179e"
             ],
             [
              0.4444444444444444,
              "#bd3786"
             ],
             [
              0.5555555555555556,
              "#d8576b"
             ],
             [
              0.6666666666666666,
              "#ed7953"
             ],
             [
              0.7777777777777778,
              "#fb9f3a"
             ],
             [
              0.8888888888888888,
              "#fdca26"
             ],
             [
              1,
              "#f0f921"
             ]
            ],
            "type": "heatmap"
           }
          ],
          "heatmapgl": [
           {
            "colorbar": {
             "outlinewidth": 0,
             "ticks": ""
            },
            "colorscale": [
             [
              0,
              "#0d0887"
             ],
             [
              0.1111111111111111,
              "#46039f"
             ],
             [
              0.2222222222222222,
              "#7201a8"
             ],
             [
              0.3333333333333333,
              "#9c179e"
             ],
             [
              0.4444444444444444,
              "#bd3786"
             ],
             [
              0.5555555555555556,
              "#d8576b"
             ],
             [
              0.6666666666666666,
              "#ed7953"
             ],
             [
              0.7777777777777778,
              "#fb9f3a"
             ],
             [
              0.8888888888888888,
              "#fdca26"
             ],
             [
              1,
              "#f0f921"
             ]
            ],
            "type": "heatmapgl"
           }
          ],
          "histogram": [
           {
            "marker": {
             "colorbar": {
              "outlinewidth": 0,
              "ticks": ""
             }
            },
            "type": "histogram"
           }
          ],
          "histogram2d": [
           {
            "colorbar": {
             "outlinewidth": 0,
             "ticks": ""
            },
            "colorscale": [
             [
              0,
              "#0d0887"
             ],
             [
              0.1111111111111111,
              "#46039f"
             ],
             [
              0.2222222222222222,
              "#7201a8"
             ],
             [
              0.3333333333333333,
              "#9c179e"
             ],
             [
              0.4444444444444444,
              "#bd3786"
             ],
             [
              0.5555555555555556,
              "#d8576b"
             ],
             [
              0.6666666666666666,
              "#ed7953"
             ],
             [
              0.7777777777777778,
              "#fb9f3a"
             ],
             [
              0.8888888888888888,
              "#fdca26"
             ],
             [
              1,
              "#f0f921"
             ]
            ],
            "type": "histogram2d"
           }
          ],
          "histogram2dcontour": [
           {
            "colorbar": {
             "outlinewidth": 0,
             "ticks": ""
            },
            "colorscale": [
             [
              0,
              "#0d0887"
             ],
             [
              0.1111111111111111,
              "#46039f"
             ],
             [
              0.2222222222222222,
              "#7201a8"
             ],
             [
              0.3333333333333333,
              "#9c179e"
             ],
             [
              0.4444444444444444,
              "#bd3786"
             ],
             [
              0.5555555555555556,
              "#d8576b"
             ],
             [
              0.6666666666666666,
              "#ed7953"
             ],
             [
              0.7777777777777778,
              "#fb9f3a"
             ],
             [
              0.8888888888888888,
              "#fdca26"
             ],
             [
              1,
              "#f0f921"
             ]
            ],
            "type": "histogram2dcontour"
           }
          ],
          "mesh3d": [
           {
            "colorbar": {
             "outlinewidth": 0,
             "ticks": ""
            },
            "type": "mesh3d"
           }
          ],
          "parcoords": [
           {
            "line": {
             "colorbar": {
              "outlinewidth": 0,
              "ticks": ""
             }
            },
            "type": "parcoords"
           }
          ],
          "pie": [
           {
            "automargin": true,
            "type": "pie"
           }
          ],
          "scatter": [
           {
            "marker": {
             "colorbar": {
              "outlinewidth": 0,
              "ticks": ""
             }
            },
            "type": "scatter"
           }
          ],
          "scatter3d": [
           {
            "line": {
             "colorbar": {
              "outlinewidth": 0,
              "ticks": ""
             }
            },
            "marker": {
             "colorbar": {
              "outlinewidth": 0,
              "ticks": ""
             }
            },
            "type": "scatter3d"
           }
          ],
          "scattercarpet": [
           {
            "marker": {
             "colorbar": {
              "outlinewidth": 0,
              "ticks": ""
             }
            },
            "type": "scattercarpet"
           }
          ],
          "scattergeo": [
           {
            "marker": {
             "colorbar": {
              "outlinewidth": 0,
              "ticks": ""
             }
            },
            "type": "scattergeo"
           }
          ],
          "scattergl": [
           {
            "marker": {
             "colorbar": {
              "outlinewidth": 0,
              "ticks": ""
             }
            },
            "type": "scattergl"
           }
          ],
          "scattermapbox": [
           {
            "marker": {
             "colorbar": {
              "outlinewidth": 0,
              "ticks": ""
             }
            },
            "type": "scattermapbox"
           }
          ],
          "scatterpolar": [
           {
            "marker": {
             "colorbar": {
              "outlinewidth": 0,
              "ticks": ""
             }
            },
            "type": "scatterpolar"
           }
          ],
          "scatterpolargl": [
           {
            "marker": {
             "colorbar": {
              "outlinewidth": 0,
              "ticks": ""
             }
            },
            "type": "scatterpolargl"
           }
          ],
          "scatterternary": [
           {
            "marker": {
             "colorbar": {
              "outlinewidth": 0,
              "ticks": ""
             }
            },
            "type": "scatterternary"
           }
          ],
          "surface": [
           {
            "colorbar": {
             "outlinewidth": 0,
             "ticks": ""
            },
            "colorscale": [
             [
              0,
              "#0d0887"
             ],
             [
              0.1111111111111111,
              "#46039f"
             ],
             [
              0.2222222222222222,
              "#7201a8"
             ],
             [
              0.3333333333333333,
              "#9c179e"
             ],
             [
              0.4444444444444444,
              "#bd3786"
             ],
             [
              0.5555555555555556,
              "#d8576b"
             ],
             [
              0.6666666666666666,
              "#ed7953"
             ],
             [
              0.7777777777777778,
              "#fb9f3a"
             ],
             [
              0.8888888888888888,
              "#fdca26"
             ],
             [
              1,
              "#f0f921"
             ]
            ],
            "type": "surface"
           }
          ],
          "table": [
           {
            "cells": {
             "fill": {
              "color": "#EBF0F8"
             },
             "line": {
              "color": "white"
             }
            },
            "header": {
             "fill": {
              "color": "#C8D4E3"
             },
             "line": {
              "color": "white"
             }
            },
            "type": "table"
           }
          ]
         },
         "layout": {
          "annotationdefaults": {
           "arrowcolor": "#2a3f5f",
           "arrowhead": 0,
           "arrowwidth": 1
          },
          "autotypenumbers": "strict",
          "coloraxis": {
           "colorbar": {
            "outlinewidth": 0,
            "ticks": ""
           }
          },
          "colorscale": {
           "diverging": [
            [
             0,
             "#8e0152"
            ],
            [
             0.1,
             "#c51b7d"
            ],
            [
             0.2,
             "#de77ae"
            ],
            [
             0.3,
             "#f1b6da"
            ],
            [
             0.4,
             "#fde0ef"
            ],
            [
             0.5,
             "#f7f7f7"
            ],
            [
             0.6,
             "#e6f5d0"
            ],
            [
             0.7,
             "#b8e186"
            ],
            [
             0.8,
             "#7fbc41"
            ],
            [
             0.9,
             "#4d9221"
            ],
            [
             1,
             "#276419"
            ]
           ],
           "sequential": [
            [
             0,
             "#0d0887"
            ],
            [
             0.1111111111111111,
             "#46039f"
            ],
            [
             0.2222222222222222,
             "#7201a8"
            ],
            [
             0.3333333333333333,
             "#9c179e"
            ],
            [
             0.4444444444444444,
             "#bd3786"
            ],
            [
             0.5555555555555556,
             "#d8576b"
            ],
            [
             0.6666666666666666,
             "#ed7953"
            ],
            [
             0.7777777777777778,
             "#fb9f3a"
            ],
            [
             0.8888888888888888,
             "#fdca26"
            ],
            [
             1,
             "#f0f921"
            ]
           ],
           "sequentialminus": [
            [
             0,
             "#0d0887"
            ],
            [
             0.1111111111111111,
             "#46039f"
            ],
            [
             0.2222222222222222,
             "#7201a8"
            ],
            [
             0.3333333333333333,
             "#9c179e"
            ],
            [
             0.4444444444444444,
             "#bd3786"
            ],
            [
             0.5555555555555556,
             "#d8576b"
            ],
            [
             0.6666666666666666,
             "#ed7953"
            ],
            [
             0.7777777777777778,
             "#fb9f3a"
            ],
            [
             0.8888888888888888,
             "#fdca26"
            ],
            [
             1,
             "#f0f921"
            ]
           ]
          },
          "colorway": [
           "#636efa",
           "#EF553B",
           "#00cc96",
           "#ab63fa",
           "#FFA15A",
           "#19d3f3",
           "#FF6692",
           "#B6E880",
           "#FF97FF",
           "#FECB52"
          ],
          "font": {
           "color": "#2a3f5f"
          },
          "geo": {
           "bgcolor": "white",
           "lakecolor": "white",
           "landcolor": "#E5ECF6",
           "showlakes": true,
           "showland": true,
           "subunitcolor": "white"
          },
          "hoverlabel": {
           "align": "left"
          },
          "hovermode": "closest",
          "mapbox": {
           "style": "light"
          },
          "paper_bgcolor": "white",
          "plot_bgcolor": "#E5ECF6",
          "polar": {
           "angularaxis": {
            "gridcolor": "white",
            "linecolor": "white",
            "ticks": ""
           },
           "bgcolor": "#E5ECF6",
           "radialaxis": {
            "gridcolor": "white",
            "linecolor": "white",
            "ticks": ""
           }
          },
          "scene": {
           "xaxis": {
            "backgroundcolor": "#E5ECF6",
            "gridcolor": "white",
            "gridwidth": 2,
            "linecolor": "white",
            "showbackground": true,
            "ticks": "",
            "zerolinecolor": "white"
           },
           "yaxis": {
            "backgroundcolor": "#E5ECF6",
            "gridcolor": "white",
            "gridwidth": 2,
            "linecolor": "white",
            "showbackground": true,
            "ticks": "",
            "zerolinecolor": "white"
           },
           "zaxis": {
            "backgroundcolor": "#E5ECF6",
            "gridcolor": "white",
            "gridwidth": 2,
            "linecolor": "white",
            "showbackground": true,
            "ticks": "",
            "zerolinecolor": "white"
           }
          },
          "shapedefaults": {
           "line": {
            "color": "#2a3f5f"
           }
          },
          "ternary": {
           "aaxis": {
            "gridcolor": "white",
            "linecolor": "white",
            "ticks": ""
           },
           "baxis": {
            "gridcolor": "white",
            "linecolor": "white",
            "ticks": ""
           },
           "bgcolor": "#E5ECF6",
           "caxis": {
            "gridcolor": "white",
            "linecolor": "white",
            "ticks": ""
           }
          },
          "title": {
           "x": 0.05
          },
          "xaxis": {
           "automargin": true,
           "gridcolor": "white",
           "linecolor": "white",
           "ticks": "",
           "title": {
            "standoff": 15
           },
           "zerolinecolor": "white",
           "zerolinewidth": 2
          },
          "yaxis": {
           "automargin": true,
           "gridcolor": "white",
           "linecolor": "white",
           "ticks": "",
           "title": {
            "standoff": 15
           },
           "zerolinecolor": "white",
           "zerolinewidth": 2
          }
         }
        },
        "title": {
         "text": "Counts of crimes per area"
        },
        "xaxis": {
         "anchor": "y",
         "domain": [
          0,
          1
         ],
         "title": {
          "text": "Area name"
         }
        },
        "yaxis": {
         "anchor": "x",
         "domain": [
          0,
          1
         ],
         "title": {
          "text": "Count"
         }
        }
       }
      },
      "text/html": [
       "<div>                            <div id=\"49dd5c89-69f5-4192-8c7b-e5dac93d4bf3\" class=\"plotly-graph-div\" style=\"height:525px; width:100%;\"></div>            <script type=\"text/javascript\">                require([\"plotly\"], function(Plotly) {                    window.PLOTLYENV=window.PLOTLYENV || {};                                    if (document.getElementById(\"49dd5c89-69f5-4192-8c7b-e5dac93d4bf3\")) {                    Plotly.newPlot(                        \"49dd5c89-69f5-4192-8c7b-e5dac93d4bf3\",                        [{\"alignmentgroup\": \"True\", \"hovertemplate\": \"Area name=%{x}<br>Count=%{y}<extra></extra>\", \"legendgroup\": \"\", \"marker\": {\"color\": \"#636efa\"}, \"name\": \"\", \"offsetgroup\": \"\", \"orientation\": \"v\", \"showlegend\": false, \"textposition\": \"auto\", \"type\": \"bar\", \"x\": [\"77th Street\", \"Central\", \"Devonshire\", \"Foothill\", \"Harbor\", \"Hollenbeck\", \"Hollywood\", \"Mission\", \"N Hollywood\", \"Newton\", \"Northeast\", \"Olympic\", \"Pacific\", \"Rampart\", \"Southeast\", \"Southwest\", \"Topanga\", \"Van Nuys\", \"West LA\", \"West Valley\", \"Wilshire\"], \"xaxis\": \"x\", \"y\": [145389, 98335, 96563, 79927, 92060, 77984, 99083, 103656, 113992, 100052, 100324, 95382, 112582, 89653, 111526, 135523, 97688, 99807, 89122, 89642, 88664], \"yaxis\": \"y\"}],                        {\"barmode\": \"relative\", \"legend\": {\"tracegroupgap\": 0}, \"template\": {\"data\": {\"bar\": [{\"error_x\": {\"color\": \"#2a3f5f\"}, \"error_y\": {\"color\": \"#2a3f5f\"}, \"marker\": {\"line\": {\"color\": \"#E5ECF6\", \"width\": 0.5}}, \"type\": \"bar\"}], \"barpolar\": [{\"marker\": {\"line\": {\"color\": \"#E5ECF6\", \"width\": 0.5}}, \"type\": \"barpolar\"}], \"carpet\": [{\"aaxis\": {\"endlinecolor\": \"#2a3f5f\", \"gridcolor\": \"white\", \"linecolor\": \"white\", \"minorgridcolor\": \"white\", \"startlinecolor\": \"#2a3f5f\"}, \"baxis\": {\"endlinecolor\": \"#2a3f5f\", \"gridcolor\": \"white\", \"linecolor\": \"white\", \"minorgridcolor\": \"white\", \"startlinecolor\": \"#2a3f5f\"}, \"type\": \"carpet\"}], \"choropleth\": [{\"colorbar\": {\"outlinewidth\": 0, \"ticks\": \"\"}, \"type\": \"choropleth\"}], \"contour\": [{\"colorbar\": {\"outlinewidth\": 0, \"ticks\": \"\"}, \"colorscale\": [[0.0, \"#0d0887\"], [0.1111111111111111, \"#46039f\"], [0.2222222222222222, \"#7201a8\"], [0.3333333333333333, \"#9c179e\"], [0.4444444444444444, \"#bd3786\"], [0.5555555555555556, \"#d8576b\"], [0.6666666666666666, \"#ed7953\"], [0.7777777777777778, \"#fb9f3a\"], [0.8888888888888888, \"#fdca26\"], [1.0, \"#f0f921\"]], \"type\": \"contour\"}], \"contourcarpet\": [{\"colorbar\": {\"outlinewidth\": 0, \"ticks\": \"\"}, \"type\": \"contourcarpet\"}], \"heatmap\": [{\"colorbar\": {\"outlinewidth\": 0, \"ticks\": \"\"}, \"colorscale\": [[0.0, \"#0d0887\"], [0.1111111111111111, \"#46039f\"], [0.2222222222222222, \"#7201a8\"], [0.3333333333333333, \"#9c179e\"], [0.4444444444444444, \"#bd3786\"], [0.5555555555555556, \"#d8576b\"], [0.6666666666666666, \"#ed7953\"], [0.7777777777777778, \"#fb9f3a\"], [0.8888888888888888, \"#fdca26\"], [1.0, \"#f0f921\"]], \"type\": \"heatmap\"}], \"heatmapgl\": [{\"colorbar\": {\"outlinewidth\": 0, \"ticks\": \"\"}, \"colorscale\": [[0.0, \"#0d0887\"], [0.1111111111111111, \"#46039f\"], [0.2222222222222222, \"#7201a8\"], [0.3333333333333333, \"#9c179e\"], [0.4444444444444444, \"#bd3786\"], [0.5555555555555556, \"#d8576b\"], [0.6666666666666666, \"#ed7953\"], [0.7777777777777778, \"#fb9f3a\"], [0.8888888888888888, \"#fdca26\"], [1.0, \"#f0f921\"]], \"type\": \"heatmapgl\"}], \"histogram\": [{\"marker\": {\"colorbar\": {\"outlinewidth\": 0, \"ticks\": \"\"}}, \"type\": \"histogram\"}], \"histogram2d\": [{\"colorbar\": {\"outlinewidth\": 0, \"ticks\": \"\"}, \"colorscale\": [[0.0, \"#0d0887\"], [0.1111111111111111, \"#46039f\"], [0.2222222222222222, \"#7201a8\"], [0.3333333333333333, \"#9c179e\"], [0.4444444444444444, \"#bd3786\"], [0.5555555555555556, \"#d8576b\"], [0.6666666666666666, \"#ed7953\"], [0.7777777777777778, \"#fb9f3a\"], [0.8888888888888888, \"#fdca26\"], [1.0, \"#f0f921\"]], \"type\": \"histogram2d\"}], \"histogram2dcontour\": [{\"colorbar\": {\"outlinewidth\": 0, \"ticks\": \"\"}, \"colorscale\": [[0.0, \"#0d0887\"], [0.1111111111111111, \"#46039f\"], [0.2222222222222222, \"#7201a8\"], [0.3333333333333333, \"#9c179e\"], [0.4444444444444444, \"#bd3786\"], [0.5555555555555556, \"#d8576b\"], [0.6666666666666666, \"#ed7953\"], [0.7777777777777778, \"#fb9f3a\"], [0.8888888888888888, \"#fdca26\"], [1.0, \"#f0f921\"]], \"type\": \"histogram2dcontour\"}], \"mesh3d\": [{\"colorbar\": {\"outlinewidth\": 0, \"ticks\": \"\"}, \"type\": \"mesh3d\"}], \"parcoords\": [{\"line\": {\"colorbar\": {\"outlinewidth\": 0, \"ticks\": \"\"}}, \"type\": \"parcoords\"}], \"pie\": [{\"automargin\": true, \"type\": \"pie\"}], \"scatter\": [{\"marker\": {\"colorbar\": {\"outlinewidth\": 0, \"ticks\": \"\"}}, \"type\": \"scatter\"}], \"scatter3d\": [{\"line\": {\"colorbar\": {\"outlinewidth\": 0, \"ticks\": \"\"}}, \"marker\": {\"colorbar\": {\"outlinewidth\": 0, \"ticks\": \"\"}}, \"type\": \"scatter3d\"}], \"scattercarpet\": [{\"marker\": {\"colorbar\": {\"outlinewidth\": 0, \"ticks\": \"\"}}, \"type\": \"scattercarpet\"}], \"scattergeo\": [{\"marker\": {\"colorbar\": {\"outlinewidth\": 0, \"ticks\": \"\"}}, \"type\": \"scattergeo\"}], \"scattergl\": [{\"marker\": {\"colorbar\": {\"outlinewidth\": 0, \"ticks\": \"\"}}, \"type\": \"scattergl\"}], \"scattermapbox\": [{\"marker\": {\"colorbar\": {\"outlinewidth\": 0, \"ticks\": \"\"}}, \"type\": \"scattermapbox\"}], \"scatterpolar\": [{\"marker\": {\"colorbar\": {\"outlinewidth\": 0, \"ticks\": \"\"}}, \"type\": \"scatterpolar\"}], \"scatterpolargl\": [{\"marker\": {\"colorbar\": {\"outlinewidth\": 0, \"ticks\": \"\"}}, \"type\": \"scatterpolargl\"}], \"scatterternary\": [{\"marker\": {\"colorbar\": {\"outlinewidth\": 0, \"ticks\": \"\"}}, \"type\": \"scatterternary\"}], \"surface\": [{\"colorbar\": {\"outlinewidth\": 0, \"ticks\": \"\"}, \"colorscale\": [[0.0, \"#0d0887\"], [0.1111111111111111, \"#46039f\"], [0.2222222222222222, \"#7201a8\"], [0.3333333333333333, \"#9c179e\"], [0.4444444444444444, \"#bd3786\"], [0.5555555555555556, \"#d8576b\"], [0.6666666666666666, \"#ed7953\"], [0.7777777777777778, \"#fb9f3a\"], [0.8888888888888888, \"#fdca26\"], [1.0, \"#f0f921\"]], \"type\": \"surface\"}], \"table\": [{\"cells\": {\"fill\": {\"color\": \"#EBF0F8\"}, \"line\": {\"color\": \"white\"}}, \"header\": {\"fill\": {\"color\": \"#C8D4E3\"}, \"line\": {\"color\": \"white\"}}, \"type\": \"table\"}]}, \"layout\": {\"annotationdefaults\": {\"arrowcolor\": \"#2a3f5f\", \"arrowhead\": 0, \"arrowwidth\": 1}, \"autotypenumbers\": \"strict\", \"coloraxis\": {\"colorbar\": {\"outlinewidth\": 0, \"ticks\": \"\"}}, \"colorscale\": {\"diverging\": [[0, \"#8e0152\"], [0.1, \"#c51b7d\"], [0.2, \"#de77ae\"], [0.3, \"#f1b6da\"], [0.4, \"#fde0ef\"], [0.5, \"#f7f7f7\"], [0.6, \"#e6f5d0\"], [0.7, \"#b8e186\"], [0.8, \"#7fbc41\"], [0.9, \"#4d9221\"], [1, \"#276419\"]], \"sequential\": [[0.0, \"#0d0887\"], [0.1111111111111111, \"#46039f\"], [0.2222222222222222, \"#7201a8\"], [0.3333333333333333, \"#9c179e\"], [0.4444444444444444, \"#bd3786\"], [0.5555555555555556, \"#d8576b\"], [0.6666666666666666, \"#ed7953\"], [0.7777777777777778, \"#fb9f3a\"], [0.8888888888888888, \"#fdca26\"], [1.0, \"#f0f921\"]], \"sequentialminus\": [[0.0, \"#0d0887\"], [0.1111111111111111, \"#46039f\"], [0.2222222222222222, \"#7201a8\"], [0.3333333333333333, \"#9c179e\"], [0.4444444444444444, \"#bd3786\"], [0.5555555555555556, \"#d8576b\"], [0.6666666666666666, \"#ed7953\"], [0.7777777777777778, \"#fb9f3a\"], [0.8888888888888888, \"#fdca26\"], [1.0, \"#f0f921\"]]}, \"colorway\": [\"#636efa\", \"#EF553B\", \"#00cc96\", \"#ab63fa\", \"#FFA15A\", \"#19d3f3\", \"#FF6692\", \"#B6E880\", \"#FF97FF\", \"#FECB52\"], \"font\": {\"color\": \"#2a3f5f\"}, \"geo\": {\"bgcolor\": \"white\", \"lakecolor\": \"white\", \"landcolor\": \"#E5ECF6\", \"showlakes\": true, \"showland\": true, \"subunitcolor\": \"white\"}, \"hoverlabel\": {\"align\": \"left\"}, \"hovermode\": \"closest\", \"mapbox\": {\"style\": \"light\"}, \"paper_bgcolor\": \"white\", \"plot_bgcolor\": \"#E5ECF6\", \"polar\": {\"angularaxis\": {\"gridcolor\": \"white\", \"linecolor\": \"white\", \"ticks\": \"\"}, \"bgcolor\": \"#E5ECF6\", \"radialaxis\": {\"gridcolor\": \"white\", \"linecolor\": \"white\", \"ticks\": \"\"}}, \"scene\": {\"xaxis\": {\"backgroundcolor\": \"#E5ECF6\", \"gridcolor\": \"white\", \"gridwidth\": 2, \"linecolor\": \"white\", \"showbackground\": true, \"ticks\": \"\", \"zerolinecolor\": \"white\"}, \"yaxis\": {\"backgroundcolor\": \"#E5ECF6\", \"gridcolor\": \"white\", \"gridwidth\": 2, \"linecolor\": \"white\", \"showbackground\": true, \"ticks\": \"\", \"zerolinecolor\": \"white\"}, \"zaxis\": {\"backgroundcolor\": \"#E5ECF6\", \"gridcolor\": \"white\", \"gridwidth\": 2, \"linecolor\": \"white\", \"showbackground\": true, \"ticks\": \"\", \"zerolinecolor\": \"white\"}}, \"shapedefaults\": {\"line\": {\"color\": \"#2a3f5f\"}}, \"ternary\": {\"aaxis\": {\"gridcolor\": \"white\", \"linecolor\": \"white\", \"ticks\": \"\"}, \"baxis\": {\"gridcolor\": \"white\", \"linecolor\": \"white\", \"ticks\": \"\"}, \"bgcolor\": \"#E5ECF6\", \"caxis\": {\"gridcolor\": \"white\", \"linecolor\": \"white\", \"ticks\": \"\"}}, \"title\": {\"x\": 0.05}, \"xaxis\": {\"automargin\": true, \"gridcolor\": \"white\", \"linecolor\": \"white\", \"ticks\": \"\", \"title\": {\"standoff\": 15}, \"zerolinecolor\": \"white\", \"zerolinewidth\": 2}, \"yaxis\": {\"automargin\": true, \"gridcolor\": \"white\", \"linecolor\": \"white\", \"ticks\": \"\", \"title\": {\"standoff\": 15}, \"zerolinecolor\": \"white\", \"zerolinewidth\": 2}}}, \"title\": {\"text\": \"Counts of crimes per area\"}, \"xaxis\": {\"anchor\": \"y\", \"domain\": [0.0, 1.0], \"title\": {\"text\": \"Area name\"}}, \"yaxis\": {\"anchor\": \"x\", \"domain\": [0.0, 1.0], \"title\": {\"text\": \"Count\"}}},                        {\"responsive\": true}                    ).then(function(){\n",
       "                            \n",
       "var gd = document.getElementById('49dd5c89-69f5-4192-8c7b-e5dac93d4bf3');\n",
       "var x = new MutationObserver(function (mutations, observer) {{\n",
       "        var display = window.getComputedStyle(gd).display;\n",
       "        if (!display || display === 'none') {{\n",
       "            console.log([gd, 'removed!']);\n",
       "            Plotly.purge(gd);\n",
       "            observer.disconnect();\n",
       "        }}\n",
       "}});\n",
       "\n",
       "// Listen for the removal of the full notebook cells\n",
       "var notebookContainer = gd.closest('#notebook-container');\n",
       "if (notebookContainer) {{\n",
       "    x.observe(notebookContainer, {childList: true});\n",
       "}}\n",
       "\n",
       "// Listen for the clearing of the current output cell\n",
       "var outputEl = gd.closest('.output');\n",
       "if (outputEl) {{\n",
       "    x.observe(outputEl, {childList: true});\n",
       "}}\n",
       "\n",
       "                        })                };                });            </script>        </div>"
      ]
     },
     "metadata": {},
     "output_type": "display_data"
    }
   ],
   "source": [
    "fig = px.bar(area_counts, x='Area name', y='Count', title='Counts of crimes per area')\n",
    "fig.show()"
   ]
  },
  {
   "cell_type": "markdown",
   "id": "vital-andrew",
   "metadata": {},
   "source": [
    "# \"Crime density\" as the average spacial distance of the points of an area to the centroid of that area"
   ]
  },
  {
   "cell_type": "code",
   "execution_count": 31,
   "id": "southern-probe",
   "metadata": {},
   "outputs": [
    {
     "data": {
      "text/plain": [
       "['Newton',\n",
       " 'Pacific',\n",
       " 'Hollywood',\n",
       " 'Central',\n",
       " 'Northeast',\n",
       " 'Hollenbeck',\n",
       " 'Southwest',\n",
       " 'Southeast',\n",
       " 'Rampart',\n",
       " 'Olympic',\n",
       " 'Wilshire',\n",
       " '77th Street',\n",
       " 'Harbor',\n",
       " 'West LA',\n",
       " 'Van Nuys',\n",
       " 'West Valley',\n",
       " 'Mission',\n",
       " 'Topanga',\n",
       " 'N Hollywood',\n",
       " 'Foothill',\n",
       " 'Devonshire']"
      ]
     },
     "execution_count": 31,
     "metadata": {},
     "output_type": "execute_result"
    }
   ],
   "source": [
    "areas_list = list(pd.unique(to2019['AREA NAME']))\n",
    "areas_list"
   ]
  },
  {
   "cell_type": "code",
   "execution_count": 32,
   "id": "motivated-ranch",
   "metadata": {},
   "outputs": [],
   "source": [
    "test = {}"
   ]
  },
  {
   "cell_type": "code",
   "execution_count": 35,
   "id": "annual-female",
   "metadata": {},
   "outputs": [
    {
     "data": {
      "text/plain": [
       "{'a': 'b', 'c': 'd'}"
      ]
     },
     "execution_count": 35,
     "metadata": {},
     "output_type": "execute_result"
    }
   ],
   "source": [
    "test['c'] = 'd'\n",
    "test"
   ]
  },
  {
   "cell_type": "code",
   "execution_count": 40,
   "id": "sapphire-syndicate",
   "metadata": {},
   "outputs": [],
   "source": [
    "data_by_area = {}\n",
    "for area in areas_list:\n",
    "    data = to2019[to2019['AREA NAME']==area]\n",
    "    data_by_area[area] = data"
   ]
  },
  {
   "cell_type": "code",
   "execution_count": 52,
   "id": "compact-basement",
   "metadata": {},
   "outputs": [
    {
     "data": {
      "text/html": [
       "<div>\n",
       "<style scoped>\n",
       "    .dataframe tbody tr th:only-of-type {\n",
       "        vertical-align: middle;\n",
       "    }\n",
       "\n",
       "    .dataframe tbody tr th {\n",
       "        vertical-align: top;\n",
       "    }\n",
       "\n",
       "    .dataframe thead th {\n",
       "        text-align: right;\n",
       "    }\n",
       "</style>\n",
       "<table border=\"1\" class=\"dataframe\">\n",
       "  <thead>\n",
       "    <tr style=\"text-align: right;\">\n",
       "      <th></th>\n",
       "      <th>DR_NO</th>\n",
       "      <th>Date Rptd</th>\n",
       "      <th>DATE OCC</th>\n",
       "      <th>TIME OCC</th>\n",
       "      <th>AREA</th>\n",
       "      <th>AREA NAME</th>\n",
       "      <th>Rpt Dist No</th>\n",
       "      <th>Part 1-2</th>\n",
       "      <th>Crm Cd</th>\n",
       "      <th>Crm Cd Desc</th>\n",
       "      <th>...</th>\n",
       "      <th>Status</th>\n",
       "      <th>Status Desc</th>\n",
       "      <th>Crm Cd 1</th>\n",
       "      <th>Crm Cd 2</th>\n",
       "      <th>Crm Cd 3</th>\n",
       "      <th>Crm Cd 4</th>\n",
       "      <th>LOCATION</th>\n",
       "      <th>Cross Street</th>\n",
       "      <th>LAT</th>\n",
       "      <th>LON</th>\n",
       "    </tr>\n",
       "  </thead>\n",
       "  <tbody>\n",
       "    <tr>\n",
       "      <th>0</th>\n",
       "      <td>1307355</td>\n",
       "      <td>02/20/2010 12:00:00 AM</td>\n",
       "      <td>02/20/2010 12:00:00 AM</td>\n",
       "      <td>1350</td>\n",
       "      <td>13</td>\n",
       "      <td>Newton</td>\n",
       "      <td>1385</td>\n",
       "      <td>2</td>\n",
       "      <td>900</td>\n",
       "      <td>VIOLATION OF COURT ORDER</td>\n",
       "      <td>...</td>\n",
       "      <td>AA</td>\n",
       "      <td>Adult Arrest</td>\n",
       "      <td>900.0</td>\n",
       "      <td>NaN</td>\n",
       "      <td>NaN</td>\n",
       "      <td>NaN</td>\n",
       "      <td>300 E  GAGE                         AV</td>\n",
       "      <td>NaN</td>\n",
       "      <td>33.9825</td>\n",
       "      <td>-118.2695</td>\n",
       "    </tr>\n",
       "    <tr>\n",
       "      <th>2</th>\n",
       "      <td>70309629</td>\n",
       "      <td>08/09/2010 12:00:00 AM</td>\n",
       "      <td>08/09/2010 12:00:00 AM</td>\n",
       "      <td>1515</td>\n",
       "      <td>13</td>\n",
       "      <td>Newton</td>\n",
       "      <td>1324</td>\n",
       "      <td>2</td>\n",
       "      <td>946</td>\n",
       "      <td>OTHER MISCELLANEOUS CRIME</td>\n",
       "      <td>...</td>\n",
       "      <td>IC</td>\n",
       "      <td>Invest Cont</td>\n",
       "      <td>946.0</td>\n",
       "      <td>NaN</td>\n",
       "      <td>NaN</td>\n",
       "      <td>NaN</td>\n",
       "      <td>1300 E  21ST                         ST</td>\n",
       "      <td>NaN</td>\n",
       "      <td>34.0224</td>\n",
       "      <td>-118.2524</td>\n",
       "    </tr>\n",
       "    <tr>\n",
       "      <th>77</th>\n",
       "      <td>100100726</td>\n",
       "      <td>03/19/2010 12:00:00 AM</td>\n",
       "      <td>03/19/2010 12:00:00 AM</td>\n",
       "      <td>1000</td>\n",
       "      <td>13</td>\n",
       "      <td>Newton</td>\n",
       "      <td>1307</td>\n",
       "      <td>2</td>\n",
       "      <td>624</td>\n",
       "      <td>BATTERY - SIMPLE ASSAULT</td>\n",
       "      <td>...</td>\n",
       "      <td>IC</td>\n",
       "      <td>Invest Cont</td>\n",
       "      <td>624.0</td>\n",
       "      <td>NaN</td>\n",
       "      <td>NaN</td>\n",
       "      <td>NaN</td>\n",
       "      <td>800 E  8TH                          ST</td>\n",
       "      <td>NaN</td>\n",
       "      <td>34.0371</td>\n",
       "      <td>-118.2475</td>\n",
       "    </tr>\n",
       "    <tr>\n",
       "      <th>344</th>\n",
       "      <td>100101421</td>\n",
       "      <td>09/04/2010 12:00:00 AM</td>\n",
       "      <td>09/04/2010 12:00:00 AM</td>\n",
       "      <td>1420</td>\n",
       "      <td>13</td>\n",
       "      <td>Newton</td>\n",
       "      <td>1303</td>\n",
       "      <td>2</td>\n",
       "      <td>623</td>\n",
       "      <td>BATTERY POLICE (SIMPLE)</td>\n",
       "      <td>...</td>\n",
       "      <td>IC</td>\n",
       "      <td>Invest Cont</td>\n",
       "      <td>623.0</td>\n",
       "      <td>NaN</td>\n",
       "      <td>NaN</td>\n",
       "      <td>NaN</td>\n",
       "      <td>WALL</td>\n",
       "      <td>OLYMPIC                      BL</td>\n",
       "      <td>34.0376</td>\n",
       "      <td>-118.2531</td>\n",
       "    </tr>\n",
       "    <tr>\n",
       "      <th>345</th>\n",
       "      <td>100101422</td>\n",
       "      <td>09/04/2010 12:00:00 AM</td>\n",
       "      <td>09/04/2010 12:00:00 AM</td>\n",
       "      <td>1420</td>\n",
       "      <td>13</td>\n",
       "      <td>Newton</td>\n",
       "      <td>1303</td>\n",
       "      <td>2</td>\n",
       "      <td>623</td>\n",
       "      <td>BATTERY POLICE (SIMPLE)</td>\n",
       "      <td>...</td>\n",
       "      <td>IC</td>\n",
       "      <td>Invest Cont</td>\n",
       "      <td>623.0</td>\n",
       "      <td>NaN</td>\n",
       "      <td>NaN</td>\n",
       "      <td>NaN</td>\n",
       "      <td>OLYMPIC</td>\n",
       "      <td>WALL</td>\n",
       "      <td>34.0369</td>\n",
       "      <td>-118.2522</td>\n",
       "    </tr>\n",
       "    <tr>\n",
       "      <th>...</th>\n",
       "      <td>...</td>\n",
       "      <td>...</td>\n",
       "      <td>...</td>\n",
       "      <td>...</td>\n",
       "      <td>...</td>\n",
       "      <td>...</td>\n",
       "      <td>...</td>\n",
       "      <td>...</td>\n",
       "      <td>...</td>\n",
       "      <td>...</td>\n",
       "      <td>...</td>\n",
       "      <td>...</td>\n",
       "      <td>...</td>\n",
       "      <td>...</td>\n",
       "      <td>...</td>\n",
       "      <td>...</td>\n",
       "      <td>...</td>\n",
       "      <td>...</td>\n",
       "      <td>...</td>\n",
       "      <td>...</td>\n",
       "      <td>...</td>\n",
       "    </tr>\n",
       "    <tr>\n",
       "      <th>2116850</th>\n",
       "      <td>191319410</td>\n",
       "      <td>11/27/2019 12:00:00 AM</td>\n",
       "      <td>11/09/2019 12:00:00 AM</td>\n",
       "      <td>1045</td>\n",
       "      <td>13</td>\n",
       "      <td>Newton</td>\n",
       "      <td>1342</td>\n",
       "      <td>2</td>\n",
       "      <td>624</td>\n",
       "      <td>BATTERY - SIMPLE ASSAULT</td>\n",
       "      <td>...</td>\n",
       "      <td>IC</td>\n",
       "      <td>Invest Cont</td>\n",
       "      <td>624.0</td>\n",
       "      <td>NaN</td>\n",
       "      <td>NaN</td>\n",
       "      <td>NaN</td>\n",
       "      <td>300 E  36TH                         ST</td>\n",
       "      <td>NaN</td>\n",
       "      <td>34.0157</td>\n",
       "      <td>-118.2704</td>\n",
       "    </tr>\n",
       "    <tr>\n",
       "      <th>2116867</th>\n",
       "      <td>191323267</td>\n",
       "      <td>12/04/2019 12:00:00 AM</td>\n",
       "      <td>12/03/2019 12:00:00 AM</td>\n",
       "      <td>2145</td>\n",
       "      <td>13</td>\n",
       "      <td>Newton</td>\n",
       "      <td>1393</td>\n",
       "      <td>1</td>\n",
       "      <td>331</td>\n",
       "      <td>THEFT FROM MOTOR VEHICLE - GRAND ($400 AND OVER)</td>\n",
       "      <td>...</td>\n",
       "      <td>IC</td>\n",
       "      <td>Invest Cont</td>\n",
       "      <td>331.0</td>\n",
       "      <td>NaN</td>\n",
       "      <td>NaN</td>\n",
       "      <td>NaN</td>\n",
       "      <td>65TH                         ST</td>\n",
       "      <td>BROADWAY</td>\n",
       "      <td>33.9807</td>\n",
       "      <td>-118.2783</td>\n",
       "    </tr>\n",
       "    <tr>\n",
       "      <th>2116897</th>\n",
       "      <td>191322934</td>\n",
       "      <td>11/26/2019 12:00:00 AM</td>\n",
       "      <td>11/26/2019 12:00:00 AM</td>\n",
       "      <td>1650</td>\n",
       "      <td>13</td>\n",
       "      <td>Newton</td>\n",
       "      <td>1354</td>\n",
       "      <td>1</td>\n",
       "      <td>442</td>\n",
       "      <td>SHOPLIFTING - PETTY THEFT ($950 &amp; UNDER)</td>\n",
       "      <td>...</td>\n",
       "      <td>IC</td>\n",
       "      <td>Invest Cont</td>\n",
       "      <td>442.0</td>\n",
       "      <td>NaN</td>\n",
       "      <td>NaN</td>\n",
       "      <td>NaN</td>\n",
       "      <td>4100 S  MAIN                         ST</td>\n",
       "      <td>NaN</td>\n",
       "      <td>34.0091</td>\n",
       "      <td>-118.2740</td>\n",
       "    </tr>\n",
       "    <tr>\n",
       "      <th>2116908</th>\n",
       "      <td>191315708</td>\n",
       "      <td>07/27/2019 12:00:00 AM</td>\n",
       "      <td>07/27/2019 12:00:00 AM</td>\n",
       "      <td>610</td>\n",
       "      <td>13</td>\n",
       "      <td>Newton</td>\n",
       "      <td>1307</td>\n",
       "      <td>2</td>\n",
       "      <td>624</td>\n",
       "      <td>BATTERY - SIMPLE ASSAULT</td>\n",
       "      <td>...</td>\n",
       "      <td>IC</td>\n",
       "      <td>Invest Cont</td>\n",
       "      <td>624.0</td>\n",
       "      <td>NaN</td>\n",
       "      <td>NaN</td>\n",
       "      <td>NaN</td>\n",
       "      <td>1200    PRODUCE ROW</td>\n",
       "      <td>NaN</td>\n",
       "      <td>34.0343</td>\n",
       "      <td>-118.2451</td>\n",
       "    </tr>\n",
       "    <tr>\n",
       "      <th>2116946</th>\n",
       "      <td>191307168</td>\n",
       "      <td>02/28/2019 12:00:00 AM</td>\n",
       "      <td>02/28/2019 12:00:00 AM</td>\n",
       "      <td>700</td>\n",
       "      <td>13</td>\n",
       "      <td>Newton</td>\n",
       "      <td>1394</td>\n",
       "      <td>1</td>\n",
       "      <td>510</td>\n",
       "      <td>VEHICLE - STOLEN</td>\n",
       "      <td>...</td>\n",
       "      <td>IC</td>\n",
       "      <td>Invest Cont</td>\n",
       "      <td>510.0</td>\n",
       "      <td>NaN</td>\n",
       "      <td>NaN</td>\n",
       "      <td>NaN</td>\n",
       "      <td>100 E  67TH                         ST</td>\n",
       "      <td>NaN</td>\n",
       "      <td>33.9788</td>\n",
       "      <td>-118.2739</td>\n",
       "    </tr>\n",
       "  </tbody>\n",
       "</table>\n",
       "<p>100052 rows × 28 columns</p>\n",
       "</div>"
      ],
      "text/plain": [
       "             DR_NO               Date Rptd                DATE OCC  TIME OCC  \\\n",
       "0          1307355  02/20/2010 12:00:00 AM  02/20/2010 12:00:00 AM      1350   \n",
       "2         70309629  08/09/2010 12:00:00 AM  08/09/2010 12:00:00 AM      1515   \n",
       "77       100100726  03/19/2010 12:00:00 AM  03/19/2010 12:00:00 AM      1000   \n",
       "344      100101421  09/04/2010 12:00:00 AM  09/04/2010 12:00:00 AM      1420   \n",
       "345      100101422  09/04/2010 12:00:00 AM  09/04/2010 12:00:00 AM      1420   \n",
       "...            ...                     ...                     ...       ...   \n",
       "2116850  191319410  11/27/2019 12:00:00 AM  11/09/2019 12:00:00 AM      1045   \n",
       "2116867  191323267  12/04/2019 12:00:00 AM  12/03/2019 12:00:00 AM      2145   \n",
       "2116897  191322934  11/26/2019 12:00:00 AM  11/26/2019 12:00:00 AM      1650   \n",
       "2116908  191315708  07/27/2019 12:00:00 AM  07/27/2019 12:00:00 AM       610   \n",
       "2116946  191307168  02/28/2019 12:00:00 AM  02/28/2019 12:00:00 AM       700   \n",
       "\n",
       "         AREA  AREA NAME  Rpt Dist No  Part 1-2  Crm Cd  \\\n",
       "0           13    Newton         1385         2     900   \n",
       "2           13    Newton         1324         2     946   \n",
       "77          13    Newton         1307         2     624   \n",
       "344         13    Newton         1303         2     623   \n",
       "345         13    Newton         1303         2     623   \n",
       "...        ...       ...          ...       ...     ...   \n",
       "2116850     13    Newton         1342         2     624   \n",
       "2116867     13    Newton         1393         1     331   \n",
       "2116897     13    Newton         1354         1     442   \n",
       "2116908     13    Newton         1307         2     624   \n",
       "2116946     13    Newton         1394         1     510   \n",
       "\n",
       "                                              Crm Cd Desc  ... Status  \\\n",
       "0                                VIOLATION OF COURT ORDER  ...     AA   \n",
       "2                               OTHER MISCELLANEOUS CRIME  ...     IC   \n",
       "77                               BATTERY - SIMPLE ASSAULT  ...     IC   \n",
       "344                               BATTERY POLICE (SIMPLE)  ...     IC   \n",
       "345                               BATTERY POLICE (SIMPLE)  ...     IC   \n",
       "...                                                   ...  ...    ...   \n",
       "2116850                          BATTERY - SIMPLE ASSAULT  ...     IC   \n",
       "2116867  THEFT FROM MOTOR VEHICLE - GRAND ($400 AND OVER)  ...     IC   \n",
       "2116897          SHOPLIFTING - PETTY THEFT ($950 & UNDER)  ...     IC   \n",
       "2116908                          BATTERY - SIMPLE ASSAULT  ...     IC   \n",
       "2116946                                  VEHICLE - STOLEN  ...     IC   \n",
       "\n",
       "          Status Desc Crm Cd 1 Crm Cd 2  Crm Cd 3 Crm Cd 4  \\\n",
       "0        Adult Arrest    900.0      NaN       NaN      NaN   \n",
       "2         Invest Cont    946.0      NaN       NaN      NaN   \n",
       "77        Invest Cont    624.0      NaN       NaN      NaN   \n",
       "344       Invest Cont    623.0      NaN       NaN      NaN   \n",
       "345       Invest Cont    623.0      NaN       NaN      NaN   \n",
       "...               ...      ...      ...       ...      ...   \n",
       "2116850   Invest Cont    624.0      NaN       NaN      NaN   \n",
       "2116867   Invest Cont    331.0      NaN       NaN      NaN   \n",
       "2116897   Invest Cont    442.0      NaN       NaN      NaN   \n",
       "2116908   Invest Cont    624.0      NaN       NaN      NaN   \n",
       "2116946   Invest Cont    510.0      NaN       NaN      NaN   \n",
       "\n",
       "                                        LOCATION  \\\n",
       "0         300 E  GAGE                         AV   \n",
       "2        1300 E  21ST                         ST   \n",
       "77        800 E  8TH                          ST   \n",
       "344                                         WALL   \n",
       "345                                      OLYMPIC   \n",
       "...                                          ...   \n",
       "2116850   300 E  36TH                         ST   \n",
       "2116867          65TH                         ST   \n",
       "2116897  4100 S  MAIN                         ST   \n",
       "2116908                      1200    PRODUCE ROW   \n",
       "2116946   100 E  67TH                         ST   \n",
       "\n",
       "                            Cross Street      LAT       LON  \n",
       "0                                    NaN  33.9825 -118.2695  \n",
       "2                                    NaN  34.0224 -118.2524  \n",
       "77                                   NaN  34.0371 -118.2475  \n",
       "344      OLYMPIC                      BL  34.0376 -118.2531  \n",
       "345                                 WALL  34.0369 -118.2522  \n",
       "...                                  ...      ...       ...  \n",
       "2116850                              NaN  34.0157 -118.2704  \n",
       "2116867                         BROADWAY  33.9807 -118.2783  \n",
       "2116897                              NaN  34.0091 -118.2740  \n",
       "2116908                              NaN  34.0343 -118.2451  \n",
       "2116946                              NaN  33.9788 -118.2739  \n",
       "\n",
       "[100052 rows x 28 columns]"
      ]
     },
     "execution_count": 52,
     "metadata": {},
     "output_type": "execute_result"
    }
   ],
   "source": [
    "data_by_area['Newton']"
   ]
  },
  {
   "cell_type": "code",
   "execution_count": 54,
   "id": "angry-first",
   "metadata": {},
   "outputs": [],
   "source": [
    "lat_lon_by_area = {}\n",
    "for area in areas_list:\n",
    "    data = to2019[to2019['AREA NAME']==area][['AREA NAME', 'LAT', 'LON']]\n",
    "    lat_lon_by_area[area] = data"
   ]
  },
  {
   "cell_type": "code",
   "execution_count": 62,
   "id": "biological-syndication",
   "metadata": {},
   "outputs": [
    {
     "data": {
      "text/html": [
       "<div>\n",
       "<style scoped>\n",
       "    .dataframe tbody tr th:only-of-type {\n",
       "        vertical-align: middle;\n",
       "    }\n",
       "\n",
       "    .dataframe tbody tr th {\n",
       "        vertical-align: top;\n",
       "    }\n",
       "\n",
       "    .dataframe thead th {\n",
       "        text-align: right;\n",
       "    }\n",
       "</style>\n",
       "<table border=\"1\" class=\"dataframe\">\n",
       "  <thead>\n",
       "    <tr style=\"text-align: right;\">\n",
       "      <th></th>\n",
       "      <th>AREA NAME</th>\n",
       "      <th>LAT</th>\n",
       "      <th>LON</th>\n",
       "    </tr>\n",
       "  </thead>\n",
       "  <tbody>\n",
       "    <tr>\n",
       "      <th>0</th>\n",
       "      <td>Newton</td>\n",
       "      <td>33.9825</td>\n",
       "      <td>-118.2695</td>\n",
       "    </tr>\n",
       "    <tr>\n",
       "      <th>2</th>\n",
       "      <td>Newton</td>\n",
       "      <td>34.0224</td>\n",
       "      <td>-118.2524</td>\n",
       "    </tr>\n",
       "    <tr>\n",
       "      <th>77</th>\n",
       "      <td>Newton</td>\n",
       "      <td>34.0371</td>\n",
       "      <td>-118.2475</td>\n",
       "    </tr>\n",
       "    <tr>\n",
       "      <th>344</th>\n",
       "      <td>Newton</td>\n",
       "      <td>34.0376</td>\n",
       "      <td>-118.2531</td>\n",
       "    </tr>\n",
       "    <tr>\n",
       "      <th>345</th>\n",
       "      <td>Newton</td>\n",
       "      <td>34.0369</td>\n",
       "      <td>-118.2522</td>\n",
       "    </tr>\n",
       "    <tr>\n",
       "      <th>...</th>\n",
       "      <td>...</td>\n",
       "      <td>...</td>\n",
       "      <td>...</td>\n",
       "    </tr>\n",
       "    <tr>\n",
       "      <th>2116850</th>\n",
       "      <td>Newton</td>\n",
       "      <td>34.0157</td>\n",
       "      <td>-118.2704</td>\n",
       "    </tr>\n",
       "    <tr>\n",
       "      <th>2116867</th>\n",
       "      <td>Newton</td>\n",
       "      <td>33.9807</td>\n",
       "      <td>-118.2783</td>\n",
       "    </tr>\n",
       "    <tr>\n",
       "      <th>2116897</th>\n",
       "      <td>Newton</td>\n",
       "      <td>34.0091</td>\n",
       "      <td>-118.2740</td>\n",
       "    </tr>\n",
       "    <tr>\n",
       "      <th>2116908</th>\n",
       "      <td>Newton</td>\n",
       "      <td>34.0343</td>\n",
       "      <td>-118.2451</td>\n",
       "    </tr>\n",
       "    <tr>\n",
       "      <th>2116946</th>\n",
       "      <td>Newton</td>\n",
       "      <td>33.9788</td>\n",
       "      <td>-118.2739</td>\n",
       "    </tr>\n",
       "  </tbody>\n",
       "</table>\n",
       "<p>100052 rows × 3 columns</p>\n",
       "</div>"
      ],
      "text/plain": [
       "        AREA NAME      LAT       LON\n",
       "0          Newton  33.9825 -118.2695\n",
       "2          Newton  34.0224 -118.2524\n",
       "77         Newton  34.0371 -118.2475\n",
       "344        Newton  34.0376 -118.2531\n",
       "345        Newton  34.0369 -118.2522\n",
       "...           ...      ...       ...\n",
       "2116850    Newton  34.0157 -118.2704\n",
       "2116867    Newton  33.9807 -118.2783\n",
       "2116897    Newton  34.0091 -118.2740\n",
       "2116908    Newton  34.0343 -118.2451\n",
       "2116946    Newton  33.9788 -118.2739\n",
       "\n",
       "[100052 rows x 3 columns]"
      ]
     },
     "execution_count": 62,
     "metadata": {},
     "output_type": "execute_result"
    }
   ],
   "source": [
    "lat_lon_by_area['Newton']"
   ]
  },
  {
   "cell_type": "code",
   "execution_count": 71,
   "id": "julian-methodology",
   "metadata": {},
   "outputs": [
    {
     "name": "stdout",
     "output_type": "stream",
     "text": [
      "Area: Newton\n",
      "Centroid: [33.999127253828014, -118.23277240834763]\n",
      "Sum: 6403.845829577912\n",
      "Average distance to centroid: 0.0640051756044648\n",
      "\n",
      "Area: Pacific\n",
      "Centroid: [33.96609416869482, -118.36061393117905]\n",
      "Sum: 15644.714530063342\n",
      "Average distance to centroid: 0.13896284068557443\n",
      "\n",
      "Area: Hollywood\n",
      "Centroid: [34.08268917170453, -118.27288347446078]\n",
      "Sum: 11865.558016069337\n",
      "Average distance to centroid: 0.11975372178950311\n",
      "\n",
      "Area: Central\n",
      "Centroid: [34.03598781003711, -118.21182004372808]\n",
      "Sum: 7993.163348488488\n",
      "Average distance to centroid: 0.08128502922142154\n",
      "\n",
      "Area: Northeast\n",
      "Centroid: [34.09342767333839, -118.1904090307404]\n",
      "Sum: 11481.09181036233\n",
      "Average distance to centroid: 0.11444013207569803\n",
      "\n",
      "Area: Hollenbeck\n",
      "Centroid: [34.0332803100636, -118.12318765003077]\n",
      "Sum: 13084.566078728445\n",
      "Average distance to centroid: 0.16778526465337049\n",
      "\n",
      "Area: Southwest\n",
      "Centroid: [34.0036590409008, -118.2641742752153]\n",
      "Sum: 15488.323857021554\n",
      "Average distance to centroid: 0.11428557408721438\n",
      "\n",
      "Area: Southeast\n",
      "Centroid: [33.92334667700805, -118.21007181016087]\n",
      "Sum: 13249.040656341554\n",
      "Average distance to centroid: 0.11879777501516736\n",
      "\n",
      "Area: Rampart\n",
      "Centroid: [34.04849295840631, -118.22057651054622]\n",
      "Sum: 10186.94942144598\n",
      "Average distance to centroid: 0.11362641987937916\n",
      "\n",
      "Area: Olympic\n",
      "Centroid: [34.05138873162652, -118.27036131974587]\n",
      "Sum: 6103.827387847651\n",
      "Average distance to centroid: 0.06399349340386709\n",
      "\n",
      "Area: Wilshire\n",
      "Centroid: [34.04731156049806, -118.30354013128212]\n",
      "Sum: 9055.230482807454\n",
      "Average distance to centroid: 0.1021297311513969\n",
      "\n",
      "Area: 77th Street\n",
      "Centroid: [33.96469904463199, -118.25145787989463]\n",
      "Sum: 14270.465678667675\n",
      "Average distance to centroid: 0.09815368204381125\n",
      "\n",
      "Area: Harbor\n",
      "Centroid: [33.75386232457092, -118.22953140669128]\n",
      "Sum: 11733.264851882406\n",
      "Average distance to centroid: 0.12745236641193142\n",
      "\n",
      "Area: West LA\n",
      "Centroid: [34.03630770292408, -118.38379341688922]\n",
      "Sum: 10711.016096226647\n",
      "Average distance to centroid: 0.12018374920027207\n",
      "\n",
      "Area: Van Nuys\n",
      "Centroid: [34.16422856112296, -118.39639767952147]\n",
      "Sum: 10699.597304811396\n",
      "Average distance to centroid: 0.1072028745960844\n",
      "\n",
      "Area: West Valley\n",
      "Centroid: [34.17131787108721, -118.46514493764087]\n",
      "Sum: 10760.163674717149\n",
      "Average distance to centroid: 0.12003484610692698\n",
      "\n",
      "Area: Mission\n",
      "Centroid: [34.24122064135216, -118.39751079821717]\n",
      "Sum: 12430.709403778623\n",
      "Average distance to centroid: 0.11992271941593947\n",
      "\n",
      "Area: Topanga\n",
      "Centroid: [34.18185929796905, -118.56225045041357]\n",
      "Sum: 8417.546653836933\n",
      "Average distance to centroid: 0.0861676629047266\n",
      "\n",
      "Area: N Hollywood\n",
      "Centroid: [34.15713011176222, -118.3317096296231]\n",
      "Sum: 13235.377173004597\n",
      "Average distance to centroid: 0.11610794768935186\n",
      "\n",
      "Area: Foothill\n",
      "Centroid: [34.241576390956745, -118.35247817258248]\n",
      "Sum: 6547.731782073128\n",
      "Average distance to centroid: 0.08192140055391955\n",
      "\n",
      "Area: Devonshire\n",
      "Centroid: [34.23024633348177, -118.46489180431429]\n",
      "Sum: 14961.221090794603\n",
      "Average distance to centroid: 0.15493740967859948\n",
      "\n"
     ]
    }
   ],
   "source": [
    "avg_dists_to_centroids = {}\n",
    "for key in data_by_area:\n",
    "    print('Area:', key)\n",
    "    centroid = [lat_lon_by_area[key]['LAT'].mean(), lat_lon_by_area[key]['LON'].mean()]\n",
    "    print('Centroid:', centroid)\n",
    "    sum_ = 0\n",
    "    for i in range(lat_lon_by_area[key].shape[0]):\n",
    "        point = lat_lon_by_area[key].iloc[i,:][['LON','LAT']]\n",
    "        dist = ((point['LON']-centroid[1])**2 + (point['LAT']-centroid[0])**2)**0.5\n",
    "        sum_ = sum_ + dist\n",
    "    print('Sum:', sum_)\n",
    "    average_dist = sum_ / lat_lon_by_area[key].shape[0] \n",
    "    print('Average distance to centroid:', average_dist)\n",
    "    avg_dists_to_centroids[key] = average_dist\n",
    "    print()"
   ]
  },
  {
   "cell_type": "code",
   "execution_count": 72,
   "id": "modified-fabric",
   "metadata": {},
   "outputs": [
    {
     "data": {
      "text/plain": [
       "{'Newton': 0.0640051756044648,\n",
       " 'Pacific': 0.13896284068557443,\n",
       " 'Hollywood': 0.11975372178950311,\n",
       " 'Central': 0.08128502922142154,\n",
       " 'Northeast': 0.11444013207569803,\n",
       " 'Hollenbeck': 0.16778526465337049,\n",
       " 'Southwest': 0.11428557408721438,\n",
       " 'Southeast': 0.11879777501516736,\n",
       " 'Rampart': 0.11362641987937916,\n",
       " 'Olympic': 0.06399349340386709,\n",
       " 'Wilshire': 0.1021297311513969,\n",
       " '77th Street': 0.09815368204381125,\n",
       " 'Harbor': 0.12745236641193142,\n",
       " 'West LA': 0.12018374920027207,\n",
       " 'Van Nuys': 0.1072028745960844,\n",
       " 'West Valley': 0.12003484610692698,\n",
       " 'Mission': 0.11992271941593947,\n",
       " 'Topanga': 0.0861676629047266,\n",
       " 'N Hollywood': 0.11610794768935186,\n",
       " 'Foothill': 0.08192140055391955,\n",
       " 'Devonshire': 0.15493740967859948}"
      ]
     },
     "execution_count": 72,
     "metadata": {},
     "output_type": "execute_result"
    }
   ],
   "source": [
    "avg_dists_to_centroids"
   ]
  },
  {
   "cell_type": "code",
   "execution_count": 77,
   "id": "convenient-elizabeth",
   "metadata": {},
   "outputs": [
    {
     "data": {
      "text/html": [
       "<div>\n",
       "<style scoped>\n",
       "    .dataframe tbody tr th:only-of-type {\n",
       "        vertical-align: middle;\n",
       "    }\n",
       "\n",
       "    .dataframe tbody tr th {\n",
       "        vertical-align: top;\n",
       "    }\n",
       "\n",
       "    .dataframe thead th {\n",
       "        text-align: right;\n",
       "    }\n",
       "</style>\n",
       "<table border=\"1\" class=\"dataframe\">\n",
       "  <thead>\n",
       "    <tr style=\"text-align: right;\">\n",
       "      <th></th>\n",
       "      <th>Newton</th>\n",
       "      <th>Pacific</th>\n",
       "      <th>Hollywood</th>\n",
       "      <th>Central</th>\n",
       "      <th>Northeast</th>\n",
       "      <th>Hollenbeck</th>\n",
       "      <th>Southwest</th>\n",
       "      <th>Southeast</th>\n",
       "      <th>Rampart</th>\n",
       "      <th>Olympic</th>\n",
       "      <th>...</th>\n",
       "      <th>77th Street</th>\n",
       "      <th>Harbor</th>\n",
       "      <th>West LA</th>\n",
       "      <th>Van Nuys</th>\n",
       "      <th>West Valley</th>\n",
       "      <th>Mission</th>\n",
       "      <th>Topanga</th>\n",
       "      <th>N Hollywood</th>\n",
       "      <th>Foothill</th>\n",
       "      <th>Devonshire</th>\n",
       "    </tr>\n",
       "  </thead>\n",
       "  <tbody>\n",
       "    <tr>\n",
       "      <th>avg_dist_to_centroid</th>\n",
       "      <td>0.064005</td>\n",
       "      <td>0.138963</td>\n",
       "      <td>0.119754</td>\n",
       "      <td>0.081285</td>\n",
       "      <td>0.11444</td>\n",
       "      <td>0.167785</td>\n",
       "      <td>0.114286</td>\n",
       "      <td>0.118798</td>\n",
       "      <td>0.113626</td>\n",
       "      <td>0.063993</td>\n",
       "      <td>...</td>\n",
       "      <td>0.098154</td>\n",
       "      <td>0.127452</td>\n",
       "      <td>0.120184</td>\n",
       "      <td>0.107203</td>\n",
       "      <td>0.120035</td>\n",
       "      <td>0.119923</td>\n",
       "      <td>0.086168</td>\n",
       "      <td>0.116108</td>\n",
       "      <td>0.081921</td>\n",
       "      <td>0.154937</td>\n",
       "    </tr>\n",
       "  </tbody>\n",
       "</table>\n",
       "<p>1 rows × 21 columns</p>\n",
       "</div>"
      ],
      "text/plain": [
       "                        Newton   Pacific  Hollywood   Central  Northeast  \\\n",
       "avg_dist_to_centroid  0.064005  0.138963   0.119754  0.081285    0.11444   \n",
       "\n",
       "                      Hollenbeck  Southwest  Southeast   Rampart   Olympic  \\\n",
       "avg_dist_to_centroid    0.167785   0.114286   0.118798  0.113626  0.063993   \n",
       "\n",
       "                      ...  77th Street    Harbor   West LA  Van Nuys  \\\n",
       "avg_dist_to_centroid  ...     0.098154  0.127452  0.120184  0.107203   \n",
       "\n",
       "                      West Valley   Mission   Topanga  N Hollywood  Foothill  \\\n",
       "avg_dist_to_centroid     0.120035  0.119923  0.086168     0.116108  0.081921   \n",
       "\n",
       "                      Devonshire  \n",
       "avg_dist_to_centroid    0.154937  \n",
       "\n",
       "[1 rows x 21 columns]"
      ]
     },
     "execution_count": 77,
     "metadata": {},
     "output_type": "execute_result"
    }
   ],
   "source": [
    "avg_dists_to_centroids_df = pd.DataFrame(data=avg_dists_to_centroids, index=['avg_dist_to_centroid'])\n",
    "avg_dists_to_centroids_df"
   ]
  },
  {
   "cell_type": "code",
   "execution_count": 79,
   "id": "killing-liquid",
   "metadata": {},
   "outputs": [],
   "source": [
    "avg_dists_to_centroids_df.to_csv('avg_dists_to_centroids.csv')"
   ]
  },
  {
   "cell_type": "code",
   "execution_count": 85,
   "id": "involved-aggregate",
   "metadata": {},
   "outputs": [
    {
     "name": "stdout",
     "output_type": "stream",
     "text": [
      "Centroid: [34.06358286769578, -118.30814584582376]\n",
      "Number of points: 2116954\n",
      "0\n",
      "50000\n",
      "100000\n",
      "150000\n",
      "200000\n",
      "250000\n",
      "300000\n",
      "350000\n",
      "400000\n",
      "450000\n",
      "500000\n",
      "550000\n",
      "600000\n",
      "650000\n",
      "700000\n",
      "750000\n",
      "800000\n",
      "850000\n",
      "900000\n",
      "950000\n",
      "1000000\n",
      "1050000\n",
      "1100000\n",
      "1150000\n",
      "1200000\n",
      "1250000\n",
      "1300000\n",
      "1350000\n",
      "1400000\n",
      "1450000\n",
      "1500000\n",
      "1550000\n",
      "1600000\n",
      "1650000\n",
      "1700000\n",
      "1750000\n",
      "1800000\n",
      "1850000\n",
      "1900000\n",
      "1950000\n",
      "2000000\n",
      "2050000\n",
      "2100000\n",
      "Sum: 402512.3267263472\n",
      "Average distance to centroid: 0.19013749317479134\n",
      "\n"
     ]
    }
   ],
   "source": [
    "centroid = [to2019['LAT'].mean(), to2019['LON'].mean()]\n",
    "print('Centroid:', centroid)\n",
    "sum_ = 0\n",
    "print('Number of points:', to2019.shape[0])\n",
    "for i in range(to2019.shape[0]):\n",
    "    if i%50000 == 0:\n",
    "        print(i)\n",
    "    point = to2019.iloc[i,:][['LON','LAT']]\n",
    "    dist = ((point['LON']-centroid[1])**2 + (point['LAT']-centroid[0])**2)**0.5\n",
    "    sum_ = sum_ + dist\n",
    "print('Sum:', sum_)\n",
    "average_dist = sum_ / to2019.shape[0] \n",
    "print('Average distance to centroid:', average_dist)\n",
    "print()"
   ]
  },
  {
   "cell_type": "code",
   "execution_count": 86,
   "id": "dominican-telling",
   "metadata": {},
   "outputs": [],
   "source": [
    "avg_dists_to_centroids['All points'] = average_dist"
   ]
  },
  {
   "cell_type": "code",
   "execution_count": 87,
   "id": "basic-employee",
   "metadata": {},
   "outputs": [
    {
     "data": {
      "text/plain": [
       "{'Newton': 0.0640051756044648,\n",
       " 'Pacific': 0.13896284068557443,\n",
       " 'Hollywood': 0.11975372178950311,\n",
       " 'Central': 0.08128502922142154,\n",
       " 'Northeast': 0.11444013207569803,\n",
       " 'Hollenbeck': 0.16778526465337049,\n",
       " 'Southwest': 0.11428557408721438,\n",
       " 'Southeast': 0.11879777501516736,\n",
       " 'Rampart': 0.11362641987937916,\n",
       " 'Olympic': 0.06399349340386709,\n",
       " 'Wilshire': 0.1021297311513969,\n",
       " '77th Street': 0.09815368204381125,\n",
       " 'Harbor': 0.12745236641193142,\n",
       " 'West LA': 0.12018374920027207,\n",
       " 'Van Nuys': 0.1072028745960844,\n",
       " 'West Valley': 0.12003484610692698,\n",
       " 'Mission': 0.11992271941593947,\n",
       " 'Topanga': 0.0861676629047266,\n",
       " 'N Hollywood': 0.11610794768935186,\n",
       " 'Foothill': 0.08192140055391955,\n",
       " 'Devonshire': 0.15493740967859948,\n",
       " 'All points': 0.19013749317479134}"
      ]
     },
     "execution_count": 87,
     "metadata": {},
     "output_type": "execute_result"
    }
   ],
   "source": [
    "avg_dists_to_centroids"
   ]
  },
  {
   "cell_type": "code",
   "execution_count": 88,
   "id": "moral-straight",
   "metadata": {},
   "outputs": [
    {
     "data": {
      "text/html": [
       "<div>\n",
       "<style scoped>\n",
       "    .dataframe tbody tr th:only-of-type {\n",
       "        vertical-align: middle;\n",
       "    }\n",
       "\n",
       "    .dataframe tbody tr th {\n",
       "        vertical-align: top;\n",
       "    }\n",
       "\n",
       "    .dataframe thead th {\n",
       "        text-align: right;\n",
       "    }\n",
       "</style>\n",
       "<table border=\"1\" class=\"dataframe\">\n",
       "  <thead>\n",
       "    <tr style=\"text-align: right;\">\n",
       "      <th></th>\n",
       "      <th>Newton</th>\n",
       "      <th>Pacific</th>\n",
       "      <th>Hollywood</th>\n",
       "      <th>Central</th>\n",
       "      <th>Northeast</th>\n",
       "      <th>Hollenbeck</th>\n",
       "      <th>Southwest</th>\n",
       "      <th>Southeast</th>\n",
       "      <th>Rampart</th>\n",
       "      <th>Olympic</th>\n",
       "      <th>...</th>\n",
       "      <th>Harbor</th>\n",
       "      <th>West LA</th>\n",
       "      <th>Van Nuys</th>\n",
       "      <th>West Valley</th>\n",
       "      <th>Mission</th>\n",
       "      <th>Topanga</th>\n",
       "      <th>N Hollywood</th>\n",
       "      <th>Foothill</th>\n",
       "      <th>Devonshire</th>\n",
       "      <th>All points</th>\n",
       "    </tr>\n",
       "  </thead>\n",
       "  <tbody>\n",
       "    <tr>\n",
       "      <th>avg_dist_to_centroid</th>\n",
       "      <td>0.064005</td>\n",
       "      <td>0.138963</td>\n",
       "      <td>0.119754</td>\n",
       "      <td>0.081285</td>\n",
       "      <td>0.11444</td>\n",
       "      <td>0.167785</td>\n",
       "      <td>0.114286</td>\n",
       "      <td>0.118798</td>\n",
       "      <td>0.113626</td>\n",
       "      <td>0.063993</td>\n",
       "      <td>...</td>\n",
       "      <td>0.127452</td>\n",
       "      <td>0.120184</td>\n",
       "      <td>0.107203</td>\n",
       "      <td>0.120035</td>\n",
       "      <td>0.119923</td>\n",
       "      <td>0.086168</td>\n",
       "      <td>0.116108</td>\n",
       "      <td>0.081921</td>\n",
       "      <td>0.154937</td>\n",
       "      <td>0.190137</td>\n",
       "    </tr>\n",
       "  </tbody>\n",
       "</table>\n",
       "<p>1 rows × 22 columns</p>\n",
       "</div>"
      ],
      "text/plain": [
       "                        Newton   Pacific  Hollywood   Central  Northeast  \\\n",
       "avg_dist_to_centroid  0.064005  0.138963   0.119754  0.081285    0.11444   \n",
       "\n",
       "                      Hollenbeck  Southwest  Southeast   Rampart   Olympic  \\\n",
       "avg_dist_to_centroid    0.167785   0.114286   0.118798  0.113626  0.063993   \n",
       "\n",
       "                      ...    Harbor   West LA  Van Nuys  West Valley  \\\n",
       "avg_dist_to_centroid  ...  0.127452  0.120184  0.107203     0.120035   \n",
       "\n",
       "                       Mission   Topanga  N Hollywood  Foothill  Devonshire  \\\n",
       "avg_dist_to_centroid  0.119923  0.086168     0.116108  0.081921    0.154937   \n",
       "\n",
       "                      All points  \n",
       "avg_dist_to_centroid    0.190137  \n",
       "\n",
       "[1 rows x 22 columns]"
      ]
     },
     "execution_count": 88,
     "metadata": {},
     "output_type": "execute_result"
    }
   ],
   "source": [
    "avg_dists_to_centroids_df = pd.DataFrame(data=avg_dists_to_centroids, index=['avg_dist_to_centroid'])\n",
    "avg_dists_to_centroids_df"
   ]
  },
  {
   "cell_type": "code",
   "execution_count": 89,
   "id": "agricultural-creek",
   "metadata": {},
   "outputs": [],
   "source": [
    "avg_dists_to_centroids_df.to_csv('to2019_avg_dists_to_centroids.csv')"
   ]
  },
  {
   "cell_type": "markdown",
   "id": "radical-knowing",
   "metadata": {},
   "source": [
    "## Remove the 'All points' value and simply compute the average"
   ]
  },
  {
   "cell_type": "code",
   "execution_count": 133,
   "id": "fantastic-wildlife",
   "metadata": {},
   "outputs": [
    {
     "data": {
      "text/plain": [
       "{'Newton': 0.0640051756044648,\n",
       " 'Pacific': 0.13896284068557443,\n",
       " 'Hollywood': 0.11975372178950311,\n",
       " 'Central': 0.08128502922142154,\n",
       " 'Northeast': 0.11444013207569803,\n",
       " 'Hollenbeck': 0.16778526465337049,\n",
       " 'Southwest': 0.11428557408721438,\n",
       " 'Southeast': 0.11879777501516736,\n",
       " 'Rampart': 0.11362641987937916,\n",
       " 'Olympic': 0.06399349340386709,\n",
       " 'Wilshire': 0.1021297311513969,\n",
       " '77th Street': 0.09815368204381125,\n",
       " 'Harbor': 0.12745236641193142,\n",
       " 'West LA': 0.12018374920027207,\n",
       " 'Van Nuys': 0.1072028745960844,\n",
       " 'West Valley': 0.12003484610692698,\n",
       " 'Mission': 0.11992271941593947,\n",
       " 'Topanga': 0.0861676629047266,\n",
       " 'N Hollywood': 0.11610794768935186,\n",
       " 'Foothill': 0.08192140055391955,\n",
       " 'Devonshire': 0.15493740967859948}"
      ]
     },
     "execution_count": 133,
     "metadata": {},
     "output_type": "execute_result"
    }
   ],
   "source": [
    "avg_dists_to_centroids.pop('All points')\n",
    "avg_dists_to_centroids"
   ]
  },
  {
   "cell_type": "code",
   "execution_count": 147,
   "id": "affected-forty",
   "metadata": {},
   "outputs": [
    {
     "data": {
      "text/plain": [
       "[0.0640051756044648,\n",
       " 0.13896284068557443,\n",
       " 0.11975372178950311,\n",
       " 0.08128502922142154,\n",
       " 0.11444013207569803,\n",
       " 0.16778526465337049,\n",
       " 0.11428557408721438,\n",
       " 0.11879777501516736,\n",
       " 0.11362641987937916,\n",
       " 0.06399349340386709,\n",
       " 0.1021297311513969,\n",
       " 0.09815368204381125,\n",
       " 0.12745236641193142,\n",
       " 0.12018374920027207,\n",
       " 0.1072028745960844,\n",
       " 0.12003484610692698,\n",
       " 0.11992271941593947,\n",
       " 0.0861676629047266,\n",
       " 0.11610794768935186,\n",
       " 0.08192140055391955,\n",
       " 0.15493740967859948]"
      ]
     },
     "execution_count": 147,
     "metadata": {},
     "output_type": "execute_result"
    }
   ],
   "source": [
    "avg_distances = list(avg_dists_to_centroids.values())\n",
    "avg_distances"
   ]
  },
  {
   "cell_type": "code",
   "execution_count": 148,
   "id": "bacterial-cooking",
   "metadata": {},
   "outputs": [
    {
     "data": {
      "text/plain": [
       "[100052,\n",
       " 112582,\n",
       " 99083,\n",
       " 98335,\n",
       " 100324,\n",
       " 77984,\n",
       " 135523,\n",
       " 111526,\n",
       " 89653,\n",
       " 95382,\n",
       " 88664,\n",
       " 145389,\n",
       " 92060,\n",
       " 89122,\n",
       " 99807,\n",
       " 89642,\n",
       " 103656,\n",
       " 97688,\n",
       " 113992,\n",
       " 79927,\n",
       " 96563]"
      ]
     },
     "execution_count": 148,
     "metadata": {},
     "output_type": "execute_result"
    }
   ],
   "source": [
    "counts = []\n",
    "for key in data_by_area:\n",
    "    counts.append(data_by_area[key].shape[0])\n",
    "counts"
   ]
  },
  {
   "cell_type": "code",
   "execution_count": 150,
   "id": "eligible-semiconductor",
   "metadata": {},
   "outputs": [
    {
     "data": {
      "text/plain": [
       "234323.4051285472"
      ]
     },
     "execution_count": 150,
     "metadata": {},
     "output_type": "execute_result"
    }
   ],
   "source": [
    "weighted_sum = 0\n",
    "for i in range(len(counts)):\n",
    "    weighted_sum = weighted_sum + (avg_distances[i] * counts[i])\n",
    "weighted_sum"
   ]
  },
  {
   "cell_type": "code",
   "execution_count": 153,
   "id": "proper-partition",
   "metadata": {},
   "outputs": [
    {
     "data": {
      "text/plain": [
       "2116954"
      ]
     },
     "execution_count": 153,
     "metadata": {},
     "output_type": "execute_result"
    }
   ],
   "source": [
    "sum(counts)"
   ]
  },
  {
   "cell_type": "code",
   "execution_count": 157,
   "id": "informed-consent",
   "metadata": {},
   "outputs": [
    {
     "data": {
      "text/plain": [
       "0.1106889451204642"
      ]
     },
     "execution_count": 157,
     "metadata": {},
     "output_type": "execute_result"
    }
   ],
   "source": [
    "weighted_avg = weighted_sum / sum(counts)\n",
    "weighted_avg"
   ]
  },
  {
   "cell_type": "markdown",
   "id": "recorded-motion",
   "metadata": {},
   "source": [
    "## Grouped bar plot"
   ]
  },
  {
   "cell_type": "code",
   "execution_count": 158,
   "id": "based-denial",
   "metadata": {},
   "outputs": [
    {
     "data": {
      "text/plain": [
       "[0.1106889451204642,\n",
       " 0.1106889451204642,\n",
       " 0.1106889451204642,\n",
       " 0.1106889451204642,\n",
       " 0.1106889451204642,\n",
       " 0.1106889451204642,\n",
       " 0.1106889451204642,\n",
       " 0.1106889451204642,\n",
       " 0.1106889451204642,\n",
       " 0.1106889451204642,\n",
       " 0.1106889451204642,\n",
       " 0.1106889451204642,\n",
       " 0.1106889451204642,\n",
       " 0.1106889451204642,\n",
       " 0.1106889451204642,\n",
       " 0.1106889451204642,\n",
       " 0.1106889451204642,\n",
       " 0.1106889451204642,\n",
       " 0.1106889451204642,\n",
       " 0.1106889451204642,\n",
       " 0.1106889451204642]"
      ]
     },
     "execution_count": 158,
     "metadata": {},
     "output_type": "execute_result"
    }
   ],
   "source": [
    "a = weighted_avg\n",
    "constant_list = []\n",
    "for i in range(avg_dists_to_centroids_df.iloc[:,:-1].values.shape[1]):\n",
    "    constant_list.append(a)\n",
    "constant_list"
   ]
  },
  {
   "cell_type": "code",
   "execution_count": 160,
   "id": "pressed-lesbian",
   "metadata": {},
   "outputs": [
    {
     "data": {
      "application/vnd.plotly.v1+json": {
       "config": {
        "plotlyServerURL": "https://plot.ly"
       },
       "data": [
        {
         "name": "Average distance of this area's points to this area's centroid",
         "type": "bar",
         "x": [
          "Newton",
          "Pacific",
          "Hollywood",
          "Central",
          "Northeast",
          "Hollenbeck",
          "Southwest",
          "Southeast",
          "Rampart",
          "Olympic",
          "Wilshire",
          "77th Street",
          "Harbor",
          "West LA",
          "Van Nuys",
          "West Valley",
          "Mission",
          "Topanga",
          "N Hollywood",
          "Foothill",
          "Devonshire"
         ],
         "y": [
          0.0640051756044648,
          0.13896284068557443,
          0.11975372178950311,
          0.08128502922142154,
          0.11444013207569803,
          0.16778526465337049,
          0.11428557408721438,
          0.11879777501516736,
          0.11362641987937916,
          0.06399349340386709,
          0.1021297311513969,
          0.09815368204381125,
          0.12745236641193142,
          0.12018374920027207,
          0.1072028745960844,
          0.12003484610692698,
          0.11992271941593947,
          0.0861676629047266,
          0.11610794768935186,
          0.08192140055391955,
          0.15493740967859948
         ]
        },
        {
         "name": "Average distance of all points to their respective centroid",
         "type": "bar",
         "x": [
          "Newton",
          "Pacific",
          "Hollywood",
          "Central",
          "Northeast",
          "Hollenbeck",
          "Southwest",
          "Southeast",
          "Rampart",
          "Olympic",
          "Wilshire",
          "77th Street",
          "Harbor",
          "West LA",
          "Van Nuys",
          "West Valley",
          "Mission",
          "Topanga",
          "N Hollywood",
          "Foothill",
          "Devonshire"
         ],
         "y": [
          0.1106889451204642,
          0.1106889451204642,
          0.1106889451204642,
          0.1106889451204642,
          0.1106889451204642,
          0.1106889451204642,
          0.1106889451204642,
          0.1106889451204642,
          0.1106889451204642,
          0.1106889451204642,
          0.1106889451204642,
          0.1106889451204642,
          0.1106889451204642,
          0.1106889451204642,
          0.1106889451204642,
          0.1106889451204642,
          0.1106889451204642,
          0.1106889451204642,
          0.1106889451204642,
          0.1106889451204642,
          0.1106889451204642
         ]
        }
       ],
       "layout": {
        "template": {
         "data": {
          "bar": [
           {
            "error_x": {
             "color": "#2a3f5f"
            },
            "error_y": {
             "color": "#2a3f5f"
            },
            "marker": {
             "line": {
              "color": "#E5ECF6",
              "width": 0.5
             }
            },
            "type": "bar"
           }
          ],
          "barpolar": [
           {
            "marker": {
             "line": {
              "color": "#E5ECF6",
              "width": 0.5
             }
            },
            "type": "barpolar"
           }
          ],
          "carpet": [
           {
            "aaxis": {
             "endlinecolor": "#2a3f5f",
             "gridcolor": "white",
             "linecolor": "white",
             "minorgridcolor": "white",
             "startlinecolor": "#2a3f5f"
            },
            "baxis": {
             "endlinecolor": "#2a3f5f",
             "gridcolor": "white",
             "linecolor": "white",
             "minorgridcolor": "white",
             "startlinecolor": "#2a3f5f"
            },
            "type": "carpet"
           }
          ],
          "choropleth": [
           {
            "colorbar": {
             "outlinewidth": 0,
             "ticks": ""
            },
            "type": "choropleth"
           }
          ],
          "contour": [
           {
            "colorbar": {
             "outlinewidth": 0,
             "ticks": ""
            },
            "colorscale": [
             [
              0,
              "#0d0887"
             ],
             [
              0.1111111111111111,
              "#46039f"
             ],
             [
              0.2222222222222222,
              "#7201a8"
             ],
             [
              0.3333333333333333,
              "#9c179e"
             ],
             [
              0.4444444444444444,
              "#bd3786"
             ],
             [
              0.5555555555555556,
              "#d8576b"
             ],
             [
              0.6666666666666666,
              "#ed7953"
             ],
             [
              0.7777777777777778,
              "#fb9f3a"
             ],
             [
              0.8888888888888888,
              "#fdca26"
             ],
             [
              1,
              "#f0f921"
             ]
            ],
            "type": "contour"
           }
          ],
          "contourcarpet": [
           {
            "colorbar": {
             "outlinewidth": 0,
             "ticks": ""
            },
            "type": "contourcarpet"
           }
          ],
          "heatmap": [
           {
            "colorbar": {
             "outlinewidth": 0,
             "ticks": ""
            },
            "colorscale": [
             [
              0,
              "#0d0887"
             ],
             [
              0.1111111111111111,
              "#46039f"
             ],
             [
              0.2222222222222222,
              "#7201a8"
             ],
             [
              0.3333333333333333,
              "#9c179e"
             ],
             [
              0.4444444444444444,
              "#bd3786"
             ],
             [
              0.5555555555555556,
              "#d8576b"
             ],
             [
              0.6666666666666666,
              "#ed7953"
             ],
             [
              0.7777777777777778,
              "#fb9f3a"
             ],
             [
              0.8888888888888888,
              "#fdca26"
             ],
             [
              1,
              "#f0f921"
             ]
            ],
            "type": "heatmap"
           }
          ],
          "heatmapgl": [
           {
            "colorbar": {
             "outlinewidth": 0,
             "ticks": ""
            },
            "colorscale": [
             [
              0,
              "#0d0887"
             ],
             [
              0.1111111111111111,
              "#46039f"
             ],
             [
              0.2222222222222222,
              "#7201a8"
             ],
             [
              0.3333333333333333,
              "#9c179e"
             ],
             [
              0.4444444444444444,
              "#bd3786"
             ],
             [
              0.5555555555555556,
              "#d8576b"
             ],
             [
              0.6666666666666666,
              "#ed7953"
             ],
             [
              0.7777777777777778,
              "#fb9f3a"
             ],
             [
              0.8888888888888888,
              "#fdca26"
             ],
             [
              1,
              "#f0f921"
             ]
            ],
            "type": "heatmapgl"
           }
          ],
          "histogram": [
           {
            "marker": {
             "colorbar": {
              "outlinewidth": 0,
              "ticks": ""
             }
            },
            "type": "histogram"
           }
          ],
          "histogram2d": [
           {
            "colorbar": {
             "outlinewidth": 0,
             "ticks": ""
            },
            "colorscale": [
             [
              0,
              "#0d0887"
             ],
             [
              0.1111111111111111,
              "#46039f"
             ],
             [
              0.2222222222222222,
              "#7201a8"
             ],
             [
              0.3333333333333333,
              "#9c179e"
             ],
             [
              0.4444444444444444,
              "#bd3786"
             ],
             [
              0.5555555555555556,
              "#d8576b"
             ],
             [
              0.6666666666666666,
              "#ed7953"
             ],
             [
              0.7777777777777778,
              "#fb9f3a"
             ],
             [
              0.8888888888888888,
              "#fdca26"
             ],
             [
              1,
              "#f0f921"
             ]
            ],
            "type": "histogram2d"
           }
          ],
          "histogram2dcontour": [
           {
            "colorbar": {
             "outlinewidth": 0,
             "ticks": ""
            },
            "colorscale": [
             [
              0,
              "#0d0887"
             ],
             [
              0.1111111111111111,
              "#46039f"
             ],
             [
              0.2222222222222222,
              "#7201a8"
             ],
             [
              0.3333333333333333,
              "#9c179e"
             ],
             [
              0.4444444444444444,
              "#bd3786"
             ],
             [
              0.5555555555555556,
              "#d8576b"
             ],
             [
              0.6666666666666666,
              "#ed7953"
             ],
             [
              0.7777777777777778,
              "#fb9f3a"
             ],
             [
              0.8888888888888888,
              "#fdca26"
             ],
             [
              1,
              "#f0f921"
             ]
            ],
            "type": "histogram2dcontour"
           }
          ],
          "mesh3d": [
           {
            "colorbar": {
             "outlinewidth": 0,
             "ticks": ""
            },
            "type": "mesh3d"
           }
          ],
          "parcoords": [
           {
            "line": {
             "colorbar": {
              "outlinewidth": 0,
              "ticks": ""
             }
            },
            "type": "parcoords"
           }
          ],
          "pie": [
           {
            "automargin": true,
            "type": "pie"
           }
          ],
          "scatter": [
           {
            "marker": {
             "colorbar": {
              "outlinewidth": 0,
              "ticks": ""
             }
            },
            "type": "scatter"
           }
          ],
          "scatter3d": [
           {
            "line": {
             "colorbar": {
              "outlinewidth": 0,
              "ticks": ""
             }
            },
            "marker": {
             "colorbar": {
              "outlinewidth": 0,
              "ticks": ""
             }
            },
            "type": "scatter3d"
           }
          ],
          "scattercarpet": [
           {
            "marker": {
             "colorbar": {
              "outlinewidth": 0,
              "ticks": ""
             }
            },
            "type": "scattercarpet"
           }
          ],
          "scattergeo": [
           {
            "marker": {
             "colorbar": {
              "outlinewidth": 0,
              "ticks": ""
             }
            },
            "type": "scattergeo"
           }
          ],
          "scattergl": [
           {
            "marker": {
             "colorbar": {
              "outlinewidth": 0,
              "ticks": ""
             }
            },
            "type": "scattergl"
           }
          ],
          "scattermapbox": [
           {
            "marker": {
             "colorbar": {
              "outlinewidth": 0,
              "ticks": ""
             }
            },
            "type": "scattermapbox"
           }
          ],
          "scatterpolar": [
           {
            "marker": {
             "colorbar": {
              "outlinewidth": 0,
              "ticks": ""
             }
            },
            "type": "scatterpolar"
           }
          ],
          "scatterpolargl": [
           {
            "marker": {
             "colorbar": {
              "outlinewidth": 0,
              "ticks": ""
             }
            },
            "type": "scatterpolargl"
           }
          ],
          "scatterternary": [
           {
            "marker": {
             "colorbar": {
              "outlinewidth": 0,
              "ticks": ""
             }
            },
            "type": "scatterternary"
           }
          ],
          "surface": [
           {
            "colorbar": {
             "outlinewidth": 0,
             "ticks": ""
            },
            "colorscale": [
             [
              0,
              "#0d0887"
             ],
             [
              0.1111111111111111,
              "#46039f"
             ],
             [
              0.2222222222222222,
              "#7201a8"
             ],
             [
              0.3333333333333333,
              "#9c179e"
             ],
             [
              0.4444444444444444,
              "#bd3786"
             ],
             [
              0.5555555555555556,
              "#d8576b"
             ],
             [
              0.6666666666666666,
              "#ed7953"
             ],
             [
              0.7777777777777778,
              "#fb9f3a"
             ],
             [
              0.8888888888888888,
              "#fdca26"
             ],
             [
              1,
              "#f0f921"
             ]
            ],
            "type": "surface"
           }
          ],
          "table": [
           {
            "cells": {
             "fill": {
              "color": "#EBF0F8"
             },
             "line": {
              "color": "white"
             }
            },
            "header": {
             "fill": {
              "color": "#C8D4E3"
             },
             "line": {
              "color": "white"
             }
            },
            "type": "table"
           }
          ]
         },
         "layout": {
          "annotationdefaults": {
           "arrowcolor": "#2a3f5f",
           "arrowhead": 0,
           "arrowwidth": 1
          },
          "autotypenumbers": "strict",
          "coloraxis": {
           "colorbar": {
            "outlinewidth": 0,
            "ticks": ""
           }
          },
          "colorscale": {
           "diverging": [
            [
             0,
             "#8e0152"
            ],
            [
             0.1,
             "#c51b7d"
            ],
            [
             0.2,
             "#de77ae"
            ],
            [
             0.3,
             "#f1b6da"
            ],
            [
             0.4,
             "#fde0ef"
            ],
            [
             0.5,
             "#f7f7f7"
            ],
            [
             0.6,
             "#e6f5d0"
            ],
            [
             0.7,
             "#b8e186"
            ],
            [
             0.8,
             "#7fbc41"
            ],
            [
             0.9,
             "#4d9221"
            ],
            [
             1,
             "#276419"
            ]
           ],
           "sequential": [
            [
             0,
             "#0d0887"
            ],
            [
             0.1111111111111111,
             "#46039f"
            ],
            [
             0.2222222222222222,
             "#7201a8"
            ],
            [
             0.3333333333333333,
             "#9c179e"
            ],
            [
             0.4444444444444444,
             "#bd3786"
            ],
            [
             0.5555555555555556,
             "#d8576b"
            ],
            [
             0.6666666666666666,
             "#ed7953"
            ],
            [
             0.7777777777777778,
             "#fb9f3a"
            ],
            [
             0.8888888888888888,
             "#fdca26"
            ],
            [
             1,
             "#f0f921"
            ]
           ],
           "sequentialminus": [
            [
             0,
             "#0d0887"
            ],
            [
             0.1111111111111111,
             "#46039f"
            ],
            [
             0.2222222222222222,
             "#7201a8"
            ],
            [
             0.3333333333333333,
             "#9c179e"
            ],
            [
             0.4444444444444444,
             "#bd3786"
            ],
            [
             0.5555555555555556,
             "#d8576b"
            ],
            [
             0.6666666666666666,
             "#ed7953"
            ],
            [
             0.7777777777777778,
             "#fb9f3a"
            ],
            [
             0.8888888888888888,
             "#fdca26"
            ],
            [
             1,
             "#f0f921"
            ]
           ]
          },
          "colorway": [
           "#636efa",
           "#EF553B",
           "#00cc96",
           "#ab63fa",
           "#FFA15A",
           "#19d3f3",
           "#FF6692",
           "#B6E880",
           "#FF97FF",
           "#FECB52"
          ],
          "font": {
           "color": "#2a3f5f"
          },
          "geo": {
           "bgcolor": "white",
           "lakecolor": "white",
           "landcolor": "#E5ECF6",
           "showlakes": true,
           "showland": true,
           "subunitcolor": "white"
          },
          "hoverlabel": {
           "align": "left"
          },
          "hovermode": "closest",
          "mapbox": {
           "style": "light"
          },
          "paper_bgcolor": "white",
          "plot_bgcolor": "#E5ECF6",
          "polar": {
           "angularaxis": {
            "gridcolor": "white",
            "linecolor": "white",
            "ticks": ""
           },
           "bgcolor": "#E5ECF6",
           "radialaxis": {
            "gridcolor": "white",
            "linecolor": "white",
            "ticks": ""
           }
          },
          "scene": {
           "xaxis": {
            "backgroundcolor": "#E5ECF6",
            "gridcolor": "white",
            "gridwidth": 2,
            "linecolor": "white",
            "showbackground": true,
            "ticks": "",
            "zerolinecolor": "white"
           },
           "yaxis": {
            "backgroundcolor": "#E5ECF6",
            "gridcolor": "white",
            "gridwidth": 2,
            "linecolor": "white",
            "showbackground": true,
            "ticks": "",
            "zerolinecolor": "white"
           },
           "zaxis": {
            "backgroundcolor": "#E5ECF6",
            "gridcolor": "white",
            "gridwidth": 2,
            "linecolor": "white",
            "showbackground": true,
            "ticks": "",
            "zerolinecolor": "white"
           }
          },
          "shapedefaults": {
           "line": {
            "color": "#2a3f5f"
           }
          },
          "ternary": {
           "aaxis": {
            "gridcolor": "white",
            "linecolor": "white",
            "ticks": ""
           },
           "baxis": {
            "gridcolor": "white",
            "linecolor": "white",
            "ticks": ""
           },
           "bgcolor": "#E5ECF6",
           "caxis": {
            "gridcolor": "white",
            "linecolor": "white",
            "ticks": ""
           }
          },
          "title": {
           "x": 0.05
          },
          "xaxis": {
           "automargin": true,
           "gridcolor": "white",
           "linecolor": "white",
           "ticks": "",
           "title": {
            "standoff": 15
           },
           "zerolinecolor": "white",
           "zerolinewidth": 2
          },
          "yaxis": {
           "automargin": true,
           "gridcolor": "white",
           "linecolor": "white",
           "ticks": "",
           "title": {
            "standoff": 15
           },
           "zerolinecolor": "white",
           "zerolinewidth": 2
          }
         }
        }
       }
      },
      "text/html": [
       "<div>                            <div id=\"4168a450-ec1f-422f-9847-673ff20b49cb\" class=\"plotly-graph-div\" style=\"height:525px; width:100%;\"></div>            <script type=\"text/javascript\">                require([\"plotly\"], function(Plotly) {                    window.PLOTLYENV=window.PLOTLYENV || {};                                    if (document.getElementById(\"4168a450-ec1f-422f-9847-673ff20b49cb\")) {                    Plotly.newPlot(                        \"4168a450-ec1f-422f-9847-673ff20b49cb\",                        [{\"name\": \"Average distance of this area's points to this area's centroid\", \"type\": \"bar\", \"x\": [\"Newton\", \"Pacific\", \"Hollywood\", \"Central\", \"Northeast\", \"Hollenbeck\", \"Southwest\", \"Southeast\", \"Rampart\", \"Olympic\", \"Wilshire\", \"77th Street\", \"Harbor\", \"West LA\", \"Van Nuys\", \"West Valley\", \"Mission\", \"Topanga\", \"N Hollywood\", \"Foothill\", \"Devonshire\"], \"y\": [0.0640051756044648, 0.13896284068557443, 0.11975372178950311, 0.08128502922142154, 0.11444013207569803, 0.16778526465337049, 0.11428557408721438, 0.11879777501516736, 0.11362641987937916, 0.06399349340386709, 0.1021297311513969, 0.09815368204381125, 0.12745236641193142, 0.12018374920027207, 0.1072028745960844, 0.12003484610692698, 0.11992271941593947, 0.0861676629047266, 0.11610794768935186, 0.08192140055391955, 0.15493740967859948]}, {\"name\": \"Average distance of all points to their respective centroid\", \"type\": \"bar\", \"x\": [\"Newton\", \"Pacific\", \"Hollywood\", \"Central\", \"Northeast\", \"Hollenbeck\", \"Southwest\", \"Southeast\", \"Rampart\", \"Olympic\", \"Wilshire\", \"77th Street\", \"Harbor\", \"West LA\", \"Van Nuys\", \"West Valley\", \"Mission\", \"Topanga\", \"N Hollywood\", \"Foothill\", \"Devonshire\"], \"y\": [0.1106889451204642, 0.1106889451204642, 0.1106889451204642, 0.1106889451204642, 0.1106889451204642, 0.1106889451204642, 0.1106889451204642, 0.1106889451204642, 0.1106889451204642, 0.1106889451204642, 0.1106889451204642, 0.1106889451204642, 0.1106889451204642, 0.1106889451204642, 0.1106889451204642, 0.1106889451204642, 0.1106889451204642, 0.1106889451204642, 0.1106889451204642, 0.1106889451204642, 0.1106889451204642]}],                        {\"template\": {\"data\": {\"bar\": [{\"error_x\": {\"color\": \"#2a3f5f\"}, \"error_y\": {\"color\": \"#2a3f5f\"}, \"marker\": {\"line\": {\"color\": \"#E5ECF6\", \"width\": 0.5}}, \"type\": \"bar\"}], \"barpolar\": [{\"marker\": {\"line\": {\"color\": \"#E5ECF6\", \"width\": 0.5}}, \"type\": \"barpolar\"}], \"carpet\": [{\"aaxis\": {\"endlinecolor\": \"#2a3f5f\", \"gridcolor\": \"white\", \"linecolor\": \"white\", \"minorgridcolor\": \"white\", \"startlinecolor\": \"#2a3f5f\"}, \"baxis\": {\"endlinecolor\": \"#2a3f5f\", \"gridcolor\": \"white\", \"linecolor\": \"white\", \"minorgridcolor\": \"white\", \"startlinecolor\": \"#2a3f5f\"}, \"type\": \"carpet\"}], \"choropleth\": [{\"colorbar\": {\"outlinewidth\": 0, \"ticks\": \"\"}, \"type\": \"choropleth\"}], \"contour\": [{\"colorbar\": {\"outlinewidth\": 0, \"ticks\": \"\"}, \"colorscale\": [[0.0, \"#0d0887\"], [0.1111111111111111, \"#46039f\"], [0.2222222222222222, \"#7201a8\"], [0.3333333333333333, \"#9c179e\"], [0.4444444444444444, \"#bd3786\"], [0.5555555555555556, \"#d8576b\"], [0.6666666666666666, \"#ed7953\"], [0.7777777777777778, \"#fb9f3a\"], [0.8888888888888888, \"#fdca26\"], [1.0, \"#f0f921\"]], \"type\": \"contour\"}], \"contourcarpet\": [{\"colorbar\": {\"outlinewidth\": 0, \"ticks\": \"\"}, \"type\": \"contourcarpet\"}], \"heatmap\": [{\"colorbar\": {\"outlinewidth\": 0, \"ticks\": \"\"}, \"colorscale\": [[0.0, \"#0d0887\"], [0.1111111111111111, \"#46039f\"], [0.2222222222222222, \"#7201a8\"], [0.3333333333333333, \"#9c179e\"], [0.4444444444444444, \"#bd3786\"], [0.5555555555555556, \"#d8576b\"], [0.6666666666666666, \"#ed7953\"], [0.7777777777777778, \"#fb9f3a\"], [0.8888888888888888, \"#fdca26\"], [1.0, \"#f0f921\"]], \"type\": \"heatmap\"}], \"heatmapgl\": [{\"colorbar\": {\"outlinewidth\": 0, \"ticks\": \"\"}, \"colorscale\": [[0.0, \"#0d0887\"], [0.1111111111111111, \"#46039f\"], [0.2222222222222222, \"#7201a8\"], [0.3333333333333333, \"#9c179e\"], [0.4444444444444444, \"#bd3786\"], [0.5555555555555556, \"#d8576b\"], [0.6666666666666666, \"#ed7953\"], [0.7777777777777778, \"#fb9f3a\"], [0.8888888888888888, \"#fdca26\"], [1.0, \"#f0f921\"]], \"type\": \"heatmapgl\"}], \"histogram\": [{\"marker\": {\"colorbar\": {\"outlinewidth\": 0, \"ticks\": \"\"}}, \"type\": \"histogram\"}], \"histogram2d\": [{\"colorbar\": {\"outlinewidth\": 0, \"ticks\": \"\"}, \"colorscale\": [[0.0, \"#0d0887\"], [0.1111111111111111, \"#46039f\"], [0.2222222222222222, \"#7201a8\"], [0.3333333333333333, \"#9c179e\"], [0.4444444444444444, \"#bd3786\"], [0.5555555555555556, \"#d8576b\"], [0.6666666666666666, \"#ed7953\"], [0.7777777777777778, \"#fb9f3a\"], [0.8888888888888888, \"#fdca26\"], [1.0, \"#f0f921\"]], \"type\": \"histogram2d\"}], \"histogram2dcontour\": [{\"colorbar\": {\"outlinewidth\": 0, \"ticks\": \"\"}, \"colorscale\": [[0.0, \"#0d0887\"], [0.1111111111111111, \"#46039f\"], [0.2222222222222222, \"#7201a8\"], [0.3333333333333333, \"#9c179e\"], [0.4444444444444444, \"#bd3786\"], [0.5555555555555556, \"#d8576b\"], [0.6666666666666666, \"#ed7953\"], [0.7777777777777778, \"#fb9f3a\"], [0.8888888888888888, \"#fdca26\"], [1.0, \"#f0f921\"]], \"type\": \"histogram2dcontour\"}], \"mesh3d\": [{\"colorbar\": {\"outlinewidth\": 0, \"ticks\": \"\"}, \"type\": \"mesh3d\"}], \"parcoords\": [{\"line\": {\"colorbar\": {\"outlinewidth\": 0, \"ticks\": \"\"}}, \"type\": \"parcoords\"}], \"pie\": [{\"automargin\": true, \"type\": \"pie\"}], \"scatter\": [{\"marker\": {\"colorbar\": {\"outlinewidth\": 0, \"ticks\": \"\"}}, \"type\": \"scatter\"}], \"scatter3d\": [{\"line\": {\"colorbar\": {\"outlinewidth\": 0, \"ticks\": \"\"}}, \"marker\": {\"colorbar\": {\"outlinewidth\": 0, \"ticks\": \"\"}}, \"type\": \"scatter3d\"}], \"scattercarpet\": [{\"marker\": {\"colorbar\": {\"outlinewidth\": 0, \"ticks\": \"\"}}, \"type\": \"scattercarpet\"}], \"scattergeo\": [{\"marker\": {\"colorbar\": {\"outlinewidth\": 0, \"ticks\": \"\"}}, \"type\": \"scattergeo\"}], \"scattergl\": [{\"marker\": {\"colorbar\": {\"outlinewidth\": 0, \"ticks\": \"\"}}, \"type\": \"scattergl\"}], \"scattermapbox\": [{\"marker\": {\"colorbar\": {\"outlinewidth\": 0, \"ticks\": \"\"}}, \"type\": \"scattermapbox\"}], \"scatterpolar\": [{\"marker\": {\"colorbar\": {\"outlinewidth\": 0, \"ticks\": \"\"}}, \"type\": \"scatterpolar\"}], \"scatterpolargl\": [{\"marker\": {\"colorbar\": {\"outlinewidth\": 0, \"ticks\": \"\"}}, \"type\": \"scatterpolargl\"}], \"scatterternary\": [{\"marker\": {\"colorbar\": {\"outlinewidth\": 0, \"ticks\": \"\"}}, \"type\": \"scatterternary\"}], \"surface\": [{\"colorbar\": {\"outlinewidth\": 0, \"ticks\": \"\"}, \"colorscale\": [[0.0, \"#0d0887\"], [0.1111111111111111, \"#46039f\"], [0.2222222222222222, \"#7201a8\"], [0.3333333333333333, \"#9c179e\"], [0.4444444444444444, \"#bd3786\"], [0.5555555555555556, \"#d8576b\"], [0.6666666666666666, \"#ed7953\"], [0.7777777777777778, \"#fb9f3a\"], [0.8888888888888888, \"#fdca26\"], [1.0, \"#f0f921\"]], \"type\": \"surface\"}], \"table\": [{\"cells\": {\"fill\": {\"color\": \"#EBF0F8\"}, \"line\": {\"color\": \"white\"}}, \"header\": {\"fill\": {\"color\": \"#C8D4E3\"}, \"line\": {\"color\": \"white\"}}, \"type\": \"table\"}]}, \"layout\": {\"annotationdefaults\": {\"arrowcolor\": \"#2a3f5f\", \"arrowhead\": 0, \"arrowwidth\": 1}, \"autotypenumbers\": \"strict\", \"coloraxis\": {\"colorbar\": {\"outlinewidth\": 0, \"ticks\": \"\"}}, \"colorscale\": {\"diverging\": [[0, \"#8e0152\"], [0.1, \"#c51b7d\"], [0.2, \"#de77ae\"], [0.3, \"#f1b6da\"], [0.4, \"#fde0ef\"], [0.5, \"#f7f7f7\"], [0.6, \"#e6f5d0\"], [0.7, \"#b8e186\"], [0.8, \"#7fbc41\"], [0.9, \"#4d9221\"], [1, \"#276419\"]], \"sequential\": [[0.0, \"#0d0887\"], [0.1111111111111111, \"#46039f\"], [0.2222222222222222, \"#7201a8\"], [0.3333333333333333, \"#9c179e\"], [0.4444444444444444, \"#bd3786\"], [0.5555555555555556, \"#d8576b\"], [0.6666666666666666, \"#ed7953\"], [0.7777777777777778, \"#fb9f3a\"], [0.8888888888888888, \"#fdca26\"], [1.0, \"#f0f921\"]], \"sequentialminus\": [[0.0, \"#0d0887\"], [0.1111111111111111, \"#46039f\"], [0.2222222222222222, \"#7201a8\"], [0.3333333333333333, \"#9c179e\"], [0.4444444444444444, \"#bd3786\"], [0.5555555555555556, \"#d8576b\"], [0.6666666666666666, \"#ed7953\"], [0.7777777777777778, \"#fb9f3a\"], [0.8888888888888888, \"#fdca26\"], [1.0, \"#f0f921\"]]}, \"colorway\": [\"#636efa\", \"#EF553B\", \"#00cc96\", \"#ab63fa\", \"#FFA15A\", \"#19d3f3\", \"#FF6692\", \"#B6E880\", \"#FF97FF\", \"#FECB52\"], \"font\": {\"color\": \"#2a3f5f\"}, \"geo\": {\"bgcolor\": \"white\", \"lakecolor\": \"white\", \"landcolor\": \"#E5ECF6\", \"showlakes\": true, \"showland\": true, \"subunitcolor\": \"white\"}, \"hoverlabel\": {\"align\": \"left\"}, \"hovermode\": \"closest\", \"mapbox\": {\"style\": \"light\"}, \"paper_bgcolor\": \"white\", \"plot_bgcolor\": \"#E5ECF6\", \"polar\": {\"angularaxis\": {\"gridcolor\": \"white\", \"linecolor\": \"white\", \"ticks\": \"\"}, \"bgcolor\": \"#E5ECF6\", \"radialaxis\": {\"gridcolor\": \"white\", \"linecolor\": \"white\", \"ticks\": \"\"}}, \"scene\": {\"xaxis\": {\"backgroundcolor\": \"#E5ECF6\", \"gridcolor\": \"white\", \"gridwidth\": 2, \"linecolor\": \"white\", \"showbackground\": true, \"ticks\": \"\", \"zerolinecolor\": \"white\"}, \"yaxis\": {\"backgroundcolor\": \"#E5ECF6\", \"gridcolor\": \"white\", \"gridwidth\": 2, \"linecolor\": \"white\", \"showbackground\": true, \"ticks\": \"\", \"zerolinecolor\": \"white\"}, \"zaxis\": {\"backgroundcolor\": \"#E5ECF6\", \"gridcolor\": \"white\", \"gridwidth\": 2, \"linecolor\": \"white\", \"showbackground\": true, \"ticks\": \"\", \"zerolinecolor\": \"white\"}}, \"shapedefaults\": {\"line\": {\"color\": \"#2a3f5f\"}}, \"ternary\": {\"aaxis\": {\"gridcolor\": \"white\", \"linecolor\": \"white\", \"ticks\": \"\"}, \"baxis\": {\"gridcolor\": \"white\", \"linecolor\": \"white\", \"ticks\": \"\"}, \"bgcolor\": \"#E5ECF6\", \"caxis\": {\"gridcolor\": \"white\", \"linecolor\": \"white\", \"ticks\": \"\"}}, \"title\": {\"x\": 0.05}, \"xaxis\": {\"automargin\": true, \"gridcolor\": \"white\", \"linecolor\": \"white\", \"ticks\": \"\", \"title\": {\"standoff\": 15}, \"zerolinecolor\": \"white\", \"zerolinewidth\": 2}, \"yaxis\": {\"automargin\": true, \"gridcolor\": \"white\", \"linecolor\": \"white\", \"ticks\": \"\", \"title\": {\"standoff\": 15}, \"zerolinecolor\": \"white\", \"zerolinewidth\": 2}}}},                        {\"responsive\": true}                    ).then(function(){\n",
       "                            \n",
       "var gd = document.getElementById('4168a450-ec1f-422f-9847-673ff20b49cb');\n",
       "var x = new MutationObserver(function (mutations, observer) {{\n",
       "        var display = window.getComputedStyle(gd).display;\n",
       "        if (!display || display === 'none') {{\n",
       "            console.log([gd, 'removed!']);\n",
       "            Plotly.purge(gd);\n",
       "            observer.disconnect();\n",
       "        }}\n",
       "}});\n",
       "\n",
       "// Listen for the removal of the full notebook cells\n",
       "var notebookContainer = gd.closest('#notebook-container');\n",
       "if (notebookContainer) {{\n",
       "    x.observe(notebookContainer, {childList: true});\n",
       "}}\n",
       "\n",
       "// Listen for the clearing of the current output cell\n",
       "var outputEl = gd.closest('.output');\n",
       "if (outputEl) {{\n",
       "    x.observe(outputEl, {childList: true});\n",
       "}}\n",
       "\n",
       "                        })                };                });            </script>        </div>"
      ]
     },
     "metadata": {},
     "output_type": "display_data"
    }
   ],
   "source": [
    "x = list(pd.unique(to2019['AREA NAME']))\n",
    "\n",
    "plot = go.Figure(data=[go.Bar(\n",
    "    name = \"Average distance of this area's points to this area's centroid\",\n",
    "    x = x,\n",
    "    y = avg_dists_to_centroids_df.iloc[:,:-1].values[0]\n",
    "   ),\n",
    "                       go.Bar(\n",
    "    name = 'Average distance of all points to their respective centroid',\n",
    "    x = x,\n",
    "    y = constant_list\n",
    "   )\n",
    "])\n",
    "                   \n",
    "plot.show()"
   ]
  },
  {
   "cell_type": "code",
   "execution_count": 191,
   "id": "italian-trademark",
   "metadata": {},
   "outputs": [
    {
     "data": {
      "application/vnd.plotly.v1+json": {
       "config": {
        "plotlyServerURL": "https://plot.ly"
       },
       "data": [
        {
         "alignmentgroup": "True",
         "hovertemplate": "Area=%{x}<br>Average \"crime density\"=%{y}<extra></extra>",
         "legendgroup": "",
         "marker": {
          "color": "#636efa"
         },
         "name": "",
         "offsetgroup": "",
         "orientation": "v",
         "showlegend": false,
         "textposition": "auto",
         "type": "bar",
         "x": [
          "Newton",
          "Los Angeles as a whole"
         ],
         "xaxis": "x",
         "y": [
          0.0640051756044648,
          0.1106889451204642
         ],
         "yaxis": "y"
        }
       ],
       "layout": {
        "barmode": "relative",
        "legend": {
         "tracegroupgap": 0
        },
        "template": {
         "data": {
          "bar": [
           {
            "error_x": {
             "color": "#2a3f5f"
            },
            "error_y": {
             "color": "#2a3f5f"
            },
            "marker": {
             "line": {
              "color": "#E5ECF6",
              "width": 0.5
             }
            },
            "type": "bar"
           }
          ],
          "barpolar": [
           {
            "marker": {
             "line": {
              "color": "#E5ECF6",
              "width": 0.5
             }
            },
            "type": "barpolar"
           }
          ],
          "carpet": [
           {
            "aaxis": {
             "endlinecolor": "#2a3f5f",
             "gridcolor": "white",
             "linecolor": "white",
             "minorgridcolor": "white",
             "startlinecolor": "#2a3f5f"
            },
            "baxis": {
             "endlinecolor": "#2a3f5f",
             "gridcolor": "white",
             "linecolor": "white",
             "minorgridcolor": "white",
             "startlinecolor": "#2a3f5f"
            },
            "type": "carpet"
           }
          ],
          "choropleth": [
           {
            "colorbar": {
             "outlinewidth": 0,
             "ticks": ""
            },
            "type": "choropleth"
           }
          ],
          "contour": [
           {
            "colorbar": {
             "outlinewidth": 0,
             "ticks": ""
            },
            "colorscale": [
             [
              0,
              "#0d0887"
             ],
             [
              0.1111111111111111,
              "#46039f"
             ],
             [
              0.2222222222222222,
              "#7201a8"
             ],
             [
              0.3333333333333333,
              "#9c179e"
             ],
             [
              0.4444444444444444,
              "#bd3786"
             ],
             [
              0.5555555555555556,
              "#d8576b"
             ],
             [
              0.6666666666666666,
              "#ed7953"
             ],
             [
              0.7777777777777778,
              "#fb9f3a"
             ],
             [
              0.8888888888888888,
              "#fdca26"
             ],
             [
              1,
              "#f0f921"
             ]
            ],
            "type": "contour"
           }
          ],
          "contourcarpet": [
           {
            "colorbar": {
             "outlinewidth": 0,
             "ticks": ""
            },
            "type": "contourcarpet"
           }
          ],
          "heatmap": [
           {
            "colorbar": {
             "outlinewidth": 0,
             "ticks": ""
            },
            "colorscale": [
             [
              0,
              "#0d0887"
             ],
             [
              0.1111111111111111,
              "#46039f"
             ],
             [
              0.2222222222222222,
              "#7201a8"
             ],
             [
              0.3333333333333333,
              "#9c179e"
             ],
             [
              0.4444444444444444,
              "#bd3786"
             ],
             [
              0.5555555555555556,
              "#d8576b"
             ],
             [
              0.6666666666666666,
              "#ed7953"
             ],
             [
              0.7777777777777778,
              "#fb9f3a"
             ],
             [
              0.8888888888888888,
              "#fdca26"
             ],
             [
              1,
              "#f0f921"
             ]
            ],
            "type": "heatmap"
           }
          ],
          "heatmapgl": [
           {
            "colorbar": {
             "outlinewidth": 0,
             "ticks": ""
            },
            "colorscale": [
             [
              0,
              "#0d0887"
             ],
             [
              0.1111111111111111,
              "#46039f"
             ],
             [
              0.2222222222222222,
              "#7201a8"
             ],
             [
              0.3333333333333333,
              "#9c179e"
             ],
             [
              0.4444444444444444,
              "#bd3786"
             ],
             [
              0.5555555555555556,
              "#d8576b"
             ],
             [
              0.6666666666666666,
              "#ed7953"
             ],
             [
              0.7777777777777778,
              "#fb9f3a"
             ],
             [
              0.8888888888888888,
              "#fdca26"
             ],
             [
              1,
              "#f0f921"
             ]
            ],
            "type": "heatmapgl"
           }
          ],
          "histogram": [
           {
            "marker": {
             "colorbar": {
              "outlinewidth": 0,
              "ticks": ""
             }
            },
            "type": "histogram"
           }
          ],
          "histogram2d": [
           {
            "colorbar": {
             "outlinewidth": 0,
             "ticks": ""
            },
            "colorscale": [
             [
              0,
              "#0d0887"
             ],
             [
              0.1111111111111111,
              "#46039f"
             ],
             [
              0.2222222222222222,
              "#7201a8"
             ],
             [
              0.3333333333333333,
              "#9c179e"
             ],
             [
              0.4444444444444444,
              "#bd3786"
             ],
             [
              0.5555555555555556,
              "#d8576b"
             ],
             [
              0.6666666666666666,
              "#ed7953"
             ],
             [
              0.7777777777777778,
              "#fb9f3a"
             ],
             [
              0.8888888888888888,
              "#fdca26"
             ],
             [
              1,
              "#f0f921"
             ]
            ],
            "type": "histogram2d"
           }
          ],
          "histogram2dcontour": [
           {
            "colorbar": {
             "outlinewidth": 0,
             "ticks": ""
            },
            "colorscale": [
             [
              0,
              "#0d0887"
             ],
             [
              0.1111111111111111,
              "#46039f"
             ],
             [
              0.2222222222222222,
              "#7201a8"
             ],
             [
              0.3333333333333333,
              "#9c179e"
             ],
             [
              0.4444444444444444,
              "#bd3786"
             ],
             [
              0.5555555555555556,
              "#d8576b"
             ],
             [
              0.6666666666666666,
              "#ed7953"
             ],
             [
              0.7777777777777778,
              "#fb9f3a"
             ],
             [
              0.8888888888888888,
              "#fdca26"
             ],
             [
              1,
              "#f0f921"
             ]
            ],
            "type": "histogram2dcontour"
           }
          ],
          "mesh3d": [
           {
            "colorbar": {
             "outlinewidth": 0,
             "ticks": ""
            },
            "type": "mesh3d"
           }
          ],
          "parcoords": [
           {
            "line": {
             "colorbar": {
              "outlinewidth": 0,
              "ticks": ""
             }
            },
            "type": "parcoords"
           }
          ],
          "pie": [
           {
            "automargin": true,
            "type": "pie"
           }
          ],
          "scatter": [
           {
            "marker": {
             "colorbar": {
              "outlinewidth": 0,
              "ticks": ""
             }
            },
            "type": "scatter"
           }
          ],
          "scatter3d": [
           {
            "line": {
             "colorbar": {
              "outlinewidth": 0,
              "ticks": ""
             }
            },
            "marker": {
             "colorbar": {
              "outlinewidth": 0,
              "ticks": ""
             }
            },
            "type": "scatter3d"
           }
          ],
          "scattercarpet": [
           {
            "marker": {
             "colorbar": {
              "outlinewidth": 0,
              "ticks": ""
             }
            },
            "type": "scattercarpet"
           }
          ],
          "scattergeo": [
           {
            "marker": {
             "colorbar": {
              "outlinewidth": 0,
              "ticks": ""
             }
            },
            "type": "scattergeo"
           }
          ],
          "scattergl": [
           {
            "marker": {
             "colorbar": {
              "outlinewidth": 0,
              "ticks": ""
             }
            },
            "type": "scattergl"
           }
          ],
          "scattermapbox": [
           {
            "marker": {
             "colorbar": {
              "outlinewidth": 0,
              "ticks": ""
             }
            },
            "type": "scattermapbox"
           }
          ],
          "scatterpolar": [
           {
            "marker": {
             "colorbar": {
              "outlinewidth": 0,
              "ticks": ""
             }
            },
            "type": "scatterpolar"
           }
          ],
          "scatterpolargl": [
           {
            "marker": {
             "colorbar": {
              "outlinewidth": 0,
              "ticks": ""
             }
            },
            "type": "scatterpolargl"
           }
          ],
          "scatterternary": [
           {
            "marker": {
             "colorbar": {
              "outlinewidth": 0,
              "ticks": ""
             }
            },
            "type": "scatterternary"
           }
          ],
          "surface": [
           {
            "colorbar": {
             "outlinewidth": 0,
             "ticks": ""
            },
            "colorscale": [
             [
              0,
              "#0d0887"
             ],
             [
              0.1111111111111111,
              "#46039f"
             ],
             [
              0.2222222222222222,
              "#7201a8"
             ],
             [
              0.3333333333333333,
              "#9c179e"
             ],
             [
              0.4444444444444444,
              "#bd3786"
             ],
             [
              0.5555555555555556,
              "#d8576b"
             ],
             [
              0.6666666666666666,
              "#ed7953"
             ],
             [
              0.7777777777777778,
              "#fb9f3a"
             ],
             [
              0.8888888888888888,
              "#fdca26"
             ],
             [
              1,
              "#f0f921"
             ]
            ],
            "type": "surface"
           }
          ],
          "table": [
           {
            "cells": {
             "fill": {
              "color": "#EBF0F8"
             },
             "line": {
              "color": "white"
             }
            },
            "header": {
             "fill": {
              "color": "#C8D4E3"
             },
             "line": {
              "color": "white"
             }
            },
            "type": "table"
           }
          ]
         },
         "layout": {
          "annotationdefaults": {
           "arrowcolor": "#2a3f5f",
           "arrowhead": 0,
           "arrowwidth": 1
          },
          "autotypenumbers": "strict",
          "coloraxis": {
           "colorbar": {
            "outlinewidth": 0,
            "ticks": ""
           }
          },
          "colorscale": {
           "diverging": [
            [
             0,
             "#8e0152"
            ],
            [
             0.1,
             "#c51b7d"
            ],
            [
             0.2,
             "#de77ae"
            ],
            [
             0.3,
             "#f1b6da"
            ],
            [
             0.4,
             "#fde0ef"
            ],
            [
             0.5,
             "#f7f7f7"
            ],
            [
             0.6,
             "#e6f5d0"
            ],
            [
             0.7,
             "#b8e186"
            ],
            [
             0.8,
             "#7fbc41"
            ],
            [
             0.9,
             "#4d9221"
            ],
            [
             1,
             "#276419"
            ]
           ],
           "sequential": [
            [
             0,
             "#0d0887"
            ],
            [
             0.1111111111111111,
             "#46039f"
            ],
            [
             0.2222222222222222,
             "#7201a8"
            ],
            [
             0.3333333333333333,
             "#9c179e"
            ],
            [
             0.4444444444444444,
             "#bd3786"
            ],
            [
             0.5555555555555556,
             "#d8576b"
            ],
            [
             0.6666666666666666,
             "#ed7953"
            ],
            [
             0.7777777777777778,
             "#fb9f3a"
            ],
            [
             0.8888888888888888,
             "#fdca26"
            ],
            [
             1,
             "#f0f921"
            ]
           ],
           "sequentialminus": [
            [
             0,
             "#0d0887"
            ],
            [
             0.1111111111111111,
             "#46039f"
            ],
            [
             0.2222222222222222,
             "#7201a8"
            ],
            [
             0.3333333333333333,
             "#9c179e"
            ],
            [
             0.4444444444444444,
             "#bd3786"
            ],
            [
             0.5555555555555556,
             "#d8576b"
            ],
            [
             0.6666666666666666,
             "#ed7953"
            ],
            [
             0.7777777777777778,
             "#fb9f3a"
            ],
            [
             0.8888888888888888,
             "#fdca26"
            ],
            [
             1,
             "#f0f921"
            ]
           ]
          },
          "colorway": [
           "#636efa",
           "#EF553B",
           "#00cc96",
           "#ab63fa",
           "#FFA15A",
           "#19d3f3",
           "#FF6692",
           "#B6E880",
           "#FF97FF",
           "#FECB52"
          ],
          "font": {
           "color": "#2a3f5f"
          },
          "geo": {
           "bgcolor": "white",
           "lakecolor": "white",
           "landcolor": "#E5ECF6",
           "showlakes": true,
           "showland": true,
           "subunitcolor": "white"
          },
          "hoverlabel": {
           "align": "left"
          },
          "hovermode": "closest",
          "mapbox": {
           "style": "light"
          },
          "paper_bgcolor": "white",
          "plot_bgcolor": "#E5ECF6",
          "polar": {
           "angularaxis": {
            "gridcolor": "white",
            "linecolor": "white",
            "ticks": ""
           },
           "bgcolor": "#E5ECF6",
           "radialaxis": {
            "gridcolor": "white",
            "linecolor": "white",
            "ticks": ""
           }
          },
          "scene": {
           "xaxis": {
            "backgroundcolor": "#E5ECF6",
            "gridcolor": "white",
            "gridwidth": 2,
            "linecolor": "white",
            "showbackground": true,
            "ticks": "",
            "zerolinecolor": "white"
           },
           "yaxis": {
            "backgroundcolor": "#E5ECF6",
            "gridcolor": "white",
            "gridwidth": 2,
            "linecolor": "white",
            "showbackground": true,
            "ticks": "",
            "zerolinecolor": "white"
           },
           "zaxis": {
            "backgroundcolor": "#E5ECF6",
            "gridcolor": "white",
            "gridwidth": 2,
            "linecolor": "white",
            "showbackground": true,
            "ticks": "",
            "zerolinecolor": "white"
           }
          },
          "shapedefaults": {
           "line": {
            "color": "#2a3f5f"
           }
          },
          "ternary": {
           "aaxis": {
            "gridcolor": "white",
            "linecolor": "white",
            "ticks": ""
           },
           "baxis": {
            "gridcolor": "white",
            "linecolor": "white",
            "ticks": ""
           },
           "bgcolor": "#E5ECF6",
           "caxis": {
            "gridcolor": "white",
            "linecolor": "white",
            "ticks": ""
           }
          },
          "title": {
           "x": 0.05
          },
          "xaxis": {
           "automargin": true,
           "gridcolor": "white",
           "linecolor": "white",
           "ticks": "",
           "title": {
            "standoff": 15
           },
           "zerolinecolor": "white",
           "zerolinewidth": 2
          },
          "yaxis": {
           "automargin": true,
           "gridcolor": "white",
           "linecolor": "white",
           "ticks": "",
           "title": {
            "standoff": 15
           },
           "zerolinecolor": "white",
           "zerolinewidth": 2
          }
         }
        },
        "title": {
         "text": "Compared average \"crime densities\" of Newton and LA as a whole"
        },
        "xaxis": {
         "anchor": "y",
         "domain": [
          0,
          1
         ],
         "title": {
          "text": "Area"
         }
        },
        "yaxis": {
         "anchor": "x",
         "domain": [
          0,
          1
         ],
         "title": {
          "text": "Average \"crime density\""
         }
        }
       }
      },
      "text/html": [
       "<div>                            <div id=\"d99c244a-a9f3-4484-b7f0-1cd37e9d118f\" class=\"plotly-graph-div\" style=\"height:525px; width:100%;\"></div>            <script type=\"text/javascript\">                require([\"plotly\"], function(Plotly) {                    window.PLOTLYENV=window.PLOTLYENV || {};                                    if (document.getElementById(\"d99c244a-a9f3-4484-b7f0-1cd37e9d118f\")) {                    Plotly.newPlot(                        \"d99c244a-a9f3-4484-b7f0-1cd37e9d118f\",                        [{\"alignmentgroup\": \"True\", \"hovertemplate\": \"Area=%{x}<br>Average \\\"crime density\\\"=%{y}<extra></extra>\", \"legendgroup\": \"\", \"marker\": {\"color\": \"#636efa\"}, \"name\": \"\", \"offsetgroup\": \"\", \"orientation\": \"v\", \"showlegend\": false, \"textposition\": \"auto\", \"type\": \"bar\", \"x\": [\"Newton\", \"Los Angeles as a whole\"], \"xaxis\": \"x\", \"y\": [0.0640051756044648, 0.1106889451204642], \"yaxis\": \"y\"}],                        {\"barmode\": \"relative\", \"legend\": {\"tracegroupgap\": 0}, \"template\": {\"data\": {\"bar\": [{\"error_x\": {\"color\": \"#2a3f5f\"}, \"error_y\": {\"color\": \"#2a3f5f\"}, \"marker\": {\"line\": {\"color\": \"#E5ECF6\", \"width\": 0.5}}, \"type\": \"bar\"}], \"barpolar\": [{\"marker\": {\"line\": {\"color\": \"#E5ECF6\", \"width\": 0.5}}, \"type\": \"barpolar\"}], \"carpet\": [{\"aaxis\": {\"endlinecolor\": \"#2a3f5f\", \"gridcolor\": \"white\", \"linecolor\": \"white\", \"minorgridcolor\": \"white\", \"startlinecolor\": \"#2a3f5f\"}, \"baxis\": {\"endlinecolor\": \"#2a3f5f\", \"gridcolor\": \"white\", \"linecolor\": \"white\", \"minorgridcolor\": \"white\", \"startlinecolor\": \"#2a3f5f\"}, \"type\": \"carpet\"}], \"choropleth\": [{\"colorbar\": {\"outlinewidth\": 0, \"ticks\": \"\"}, \"type\": \"choropleth\"}], \"contour\": [{\"colorbar\": {\"outlinewidth\": 0, \"ticks\": \"\"}, \"colorscale\": [[0.0, \"#0d0887\"], [0.1111111111111111, \"#46039f\"], [0.2222222222222222, \"#7201a8\"], [0.3333333333333333, \"#9c179e\"], [0.4444444444444444, \"#bd3786\"], [0.5555555555555556, \"#d8576b\"], [0.6666666666666666, \"#ed7953\"], [0.7777777777777778, \"#fb9f3a\"], [0.8888888888888888, \"#fdca26\"], [1.0, \"#f0f921\"]], \"type\": \"contour\"}], \"contourcarpet\": [{\"colorbar\": {\"outlinewidth\": 0, \"ticks\": \"\"}, \"type\": \"contourcarpet\"}], \"heatmap\": [{\"colorbar\": {\"outlinewidth\": 0, \"ticks\": \"\"}, \"colorscale\": [[0.0, \"#0d0887\"], [0.1111111111111111, \"#46039f\"], [0.2222222222222222, \"#7201a8\"], [0.3333333333333333, \"#9c179e\"], [0.4444444444444444, \"#bd3786\"], [0.5555555555555556, \"#d8576b\"], [0.6666666666666666, \"#ed7953\"], [0.7777777777777778, \"#fb9f3a\"], [0.8888888888888888, \"#fdca26\"], [1.0, \"#f0f921\"]], \"type\": \"heatmap\"}], \"heatmapgl\": [{\"colorbar\": {\"outlinewidth\": 0, \"ticks\": \"\"}, \"colorscale\": [[0.0, \"#0d0887\"], [0.1111111111111111, \"#46039f\"], [0.2222222222222222, \"#7201a8\"], [0.3333333333333333, \"#9c179e\"], [0.4444444444444444, \"#bd3786\"], [0.5555555555555556, \"#d8576b\"], [0.6666666666666666, \"#ed7953\"], [0.7777777777777778, \"#fb9f3a\"], [0.8888888888888888, \"#fdca26\"], [1.0, \"#f0f921\"]], \"type\": \"heatmapgl\"}], \"histogram\": [{\"marker\": {\"colorbar\": {\"outlinewidth\": 0, \"ticks\": \"\"}}, \"type\": \"histogram\"}], \"histogram2d\": [{\"colorbar\": {\"outlinewidth\": 0, \"ticks\": \"\"}, \"colorscale\": [[0.0, \"#0d0887\"], [0.1111111111111111, \"#46039f\"], [0.2222222222222222, \"#7201a8\"], [0.3333333333333333, \"#9c179e\"], [0.4444444444444444, \"#bd3786\"], [0.5555555555555556, \"#d8576b\"], [0.6666666666666666, \"#ed7953\"], [0.7777777777777778, \"#fb9f3a\"], [0.8888888888888888, \"#fdca26\"], [1.0, \"#f0f921\"]], \"type\": \"histogram2d\"}], \"histogram2dcontour\": [{\"colorbar\": {\"outlinewidth\": 0, \"ticks\": \"\"}, \"colorscale\": [[0.0, \"#0d0887\"], [0.1111111111111111, \"#46039f\"], [0.2222222222222222, \"#7201a8\"], [0.3333333333333333, \"#9c179e\"], [0.4444444444444444, \"#bd3786\"], [0.5555555555555556, \"#d8576b\"], [0.6666666666666666, \"#ed7953\"], [0.7777777777777778, \"#fb9f3a\"], [0.8888888888888888, \"#fdca26\"], [1.0, \"#f0f921\"]], \"type\": \"histogram2dcontour\"}], \"mesh3d\": [{\"colorbar\": {\"outlinewidth\": 0, \"ticks\": \"\"}, \"type\": \"mesh3d\"}], \"parcoords\": [{\"line\": {\"colorbar\": {\"outlinewidth\": 0, \"ticks\": \"\"}}, \"type\": \"parcoords\"}], \"pie\": [{\"automargin\": true, \"type\": \"pie\"}], \"scatter\": [{\"marker\": {\"colorbar\": {\"outlinewidth\": 0, \"ticks\": \"\"}}, \"type\": \"scatter\"}], \"scatter3d\": [{\"line\": {\"colorbar\": {\"outlinewidth\": 0, \"ticks\": \"\"}}, \"marker\": {\"colorbar\": {\"outlinewidth\": 0, \"ticks\": \"\"}}, \"type\": \"scatter3d\"}], \"scattercarpet\": [{\"marker\": {\"colorbar\": {\"outlinewidth\": 0, \"ticks\": \"\"}}, \"type\": \"scattercarpet\"}], \"scattergeo\": [{\"marker\": {\"colorbar\": {\"outlinewidth\": 0, \"ticks\": \"\"}}, \"type\": \"scattergeo\"}], \"scattergl\": [{\"marker\": {\"colorbar\": {\"outlinewidth\": 0, \"ticks\": \"\"}}, \"type\": \"scattergl\"}], \"scattermapbox\": [{\"marker\": {\"colorbar\": {\"outlinewidth\": 0, \"ticks\": \"\"}}, \"type\": \"scattermapbox\"}], \"scatterpolar\": [{\"marker\": {\"colorbar\": {\"outlinewidth\": 0, \"ticks\": \"\"}}, \"type\": \"scatterpolar\"}], \"scatterpolargl\": [{\"marker\": {\"colorbar\": {\"outlinewidth\": 0, \"ticks\": \"\"}}, \"type\": \"scatterpolargl\"}], \"scatterternary\": [{\"marker\": {\"colorbar\": {\"outlinewidth\": 0, \"ticks\": \"\"}}, \"type\": \"scatterternary\"}], \"surface\": [{\"colorbar\": {\"outlinewidth\": 0, \"ticks\": \"\"}, \"colorscale\": [[0.0, \"#0d0887\"], [0.1111111111111111, \"#46039f\"], [0.2222222222222222, \"#7201a8\"], [0.3333333333333333, \"#9c179e\"], [0.4444444444444444, \"#bd3786\"], [0.5555555555555556, \"#d8576b\"], [0.6666666666666666, \"#ed7953\"], [0.7777777777777778, \"#fb9f3a\"], [0.8888888888888888, \"#fdca26\"], [1.0, \"#f0f921\"]], \"type\": \"surface\"}], \"table\": [{\"cells\": {\"fill\": {\"color\": \"#EBF0F8\"}, \"line\": {\"color\": \"white\"}}, \"header\": {\"fill\": {\"color\": \"#C8D4E3\"}, \"line\": {\"color\": \"white\"}}, \"type\": \"table\"}]}, \"layout\": {\"annotationdefaults\": {\"arrowcolor\": \"#2a3f5f\", \"arrowhead\": 0, \"arrowwidth\": 1}, \"autotypenumbers\": \"strict\", \"coloraxis\": {\"colorbar\": {\"outlinewidth\": 0, \"ticks\": \"\"}}, \"colorscale\": {\"diverging\": [[0, \"#8e0152\"], [0.1, \"#c51b7d\"], [0.2, \"#de77ae\"], [0.3, \"#f1b6da\"], [0.4, \"#fde0ef\"], [0.5, \"#f7f7f7\"], [0.6, \"#e6f5d0\"], [0.7, \"#b8e186\"], [0.8, \"#7fbc41\"], [0.9, \"#4d9221\"], [1, \"#276419\"]], \"sequential\": [[0.0, \"#0d0887\"], [0.1111111111111111, \"#46039f\"], [0.2222222222222222, \"#7201a8\"], [0.3333333333333333, \"#9c179e\"], [0.4444444444444444, \"#bd3786\"], [0.5555555555555556, \"#d8576b\"], [0.6666666666666666, \"#ed7953\"], [0.7777777777777778, \"#fb9f3a\"], [0.8888888888888888, \"#fdca26\"], [1.0, \"#f0f921\"]], \"sequentialminus\": [[0.0, \"#0d0887\"], [0.1111111111111111, \"#46039f\"], [0.2222222222222222, \"#7201a8\"], [0.3333333333333333, \"#9c179e\"], [0.4444444444444444, \"#bd3786\"], [0.5555555555555556, \"#d8576b\"], [0.6666666666666666, \"#ed7953\"], [0.7777777777777778, \"#fb9f3a\"], [0.8888888888888888, \"#fdca26\"], [1.0, \"#f0f921\"]]}, \"colorway\": [\"#636efa\", \"#EF553B\", \"#00cc96\", \"#ab63fa\", \"#FFA15A\", \"#19d3f3\", \"#FF6692\", \"#B6E880\", \"#FF97FF\", \"#FECB52\"], \"font\": {\"color\": \"#2a3f5f\"}, \"geo\": {\"bgcolor\": \"white\", \"lakecolor\": \"white\", \"landcolor\": \"#E5ECF6\", \"showlakes\": true, \"showland\": true, \"subunitcolor\": \"white\"}, \"hoverlabel\": {\"align\": \"left\"}, \"hovermode\": \"closest\", \"mapbox\": {\"style\": \"light\"}, \"paper_bgcolor\": \"white\", \"plot_bgcolor\": \"#E5ECF6\", \"polar\": {\"angularaxis\": {\"gridcolor\": \"white\", \"linecolor\": \"white\", \"ticks\": \"\"}, \"bgcolor\": \"#E5ECF6\", \"radialaxis\": {\"gridcolor\": \"white\", \"linecolor\": \"white\", \"ticks\": \"\"}}, \"scene\": {\"xaxis\": {\"backgroundcolor\": \"#E5ECF6\", \"gridcolor\": \"white\", \"gridwidth\": 2, \"linecolor\": \"white\", \"showbackground\": true, \"ticks\": \"\", \"zerolinecolor\": \"white\"}, \"yaxis\": {\"backgroundcolor\": \"#E5ECF6\", \"gridcolor\": \"white\", \"gridwidth\": 2, \"linecolor\": \"white\", \"showbackground\": true, \"ticks\": \"\", \"zerolinecolor\": \"white\"}, \"zaxis\": {\"backgroundcolor\": \"#E5ECF6\", \"gridcolor\": \"white\", \"gridwidth\": 2, \"linecolor\": \"white\", \"showbackground\": true, \"ticks\": \"\", \"zerolinecolor\": \"white\"}}, \"shapedefaults\": {\"line\": {\"color\": \"#2a3f5f\"}}, \"ternary\": {\"aaxis\": {\"gridcolor\": \"white\", \"linecolor\": \"white\", \"ticks\": \"\"}, \"baxis\": {\"gridcolor\": \"white\", \"linecolor\": \"white\", \"ticks\": \"\"}, \"bgcolor\": \"#E5ECF6\", \"caxis\": {\"gridcolor\": \"white\", \"linecolor\": \"white\", \"ticks\": \"\"}}, \"title\": {\"x\": 0.05}, \"xaxis\": {\"automargin\": true, \"gridcolor\": \"white\", \"linecolor\": \"white\", \"ticks\": \"\", \"title\": {\"standoff\": 15}, \"zerolinecolor\": \"white\", \"zerolinewidth\": 2}, \"yaxis\": {\"automargin\": true, \"gridcolor\": \"white\", \"linecolor\": \"white\", \"ticks\": \"\", \"title\": {\"standoff\": 15}, \"zerolinecolor\": \"white\", \"zerolinewidth\": 2}}}, \"title\": {\"text\": \"Compared average \\\"crime densities\\\" of Newton and LA as a whole\"}, \"xaxis\": {\"anchor\": \"y\", \"domain\": [0.0, 1.0], \"title\": {\"text\": \"Area\"}}, \"yaxis\": {\"anchor\": \"x\", \"domain\": [0.0, 1.0], \"title\": {\"text\": \"Average \\\"crime density\\\"\"}}},                        {\"responsive\": true}                    ).then(function(){\n",
       "                            \n",
       "var gd = document.getElementById('d99c244a-a9f3-4484-b7f0-1cd37e9d118f');\n",
       "var x = new MutationObserver(function (mutations, observer) {{\n",
       "        var display = window.getComputedStyle(gd).display;\n",
       "        if (!display || display === 'none') {{\n",
       "            console.log([gd, 'removed!']);\n",
       "            Plotly.purge(gd);\n",
       "            observer.disconnect();\n",
       "        }}\n",
       "}});\n",
       "\n",
       "// Listen for the removal of the full notebook cells\n",
       "var notebookContainer = gd.closest('#notebook-container');\n",
       "if (notebookContainer) {{\n",
       "    x.observe(notebookContainer, {childList: true});\n",
       "}}\n",
       "\n",
       "// Listen for the clearing of the current output cell\n",
       "var outputEl = gd.closest('.output');\n",
       "if (outputEl) {{\n",
       "    x.observe(outputEl, {childList: true});\n",
       "}}\n",
       "\n",
       "                        })                };                });            </script>        </div>"
      ]
     },
     "metadata": {},
     "output_type": "display_data"
    }
   ],
   "source": [
    "selected = 'Newton'\n",
    "data = {}\n",
    "data[selected] = avg_dists_to_centroids_df[selected].values[0]\n",
    "data['Los Angeles as a whole'] = weighted_avg\n",
    "data_df = pd.DataFrame(data=data, index=['Average \"crime density\"']).transpose().reset_index().rename(columns={'index':'Area'})\n",
    "title = 'Compared average \"crime densities\" of ' + selected + ' and LA as a whole'\n",
    "fig = px.bar(data_df, x='Area', y='Average \"crime density\"', title=title)\n",
    "fig.show()"
   ]
  },
  {
   "cell_type": "markdown",
   "id": "satellite-midnight",
   "metadata": {},
   "source": [
    "## Getting the areas' shapes"
   ]
  },
  {
   "cell_type": "code",
   "execution_count": null,
   "id": "purple-accessory",
   "metadata": {},
   "outputs": [],
   "source": []
  },
  {
   "cell_type": "code",
   "execution_count": null,
   "id": "lined-possible",
   "metadata": {},
   "outputs": [],
   "source": []
  },
  {
   "cell_type": "code",
   "execution_count": null,
   "id": "alleged-crawford",
   "metadata": {},
   "outputs": [],
   "source": []
  },
  {
   "cell_type": "code",
   "execution_count": null,
   "id": "driving-leather",
   "metadata": {},
   "outputs": [],
   "source": []
  },
  {
   "cell_type": "code",
   "execution_count": null,
   "id": "realistic-atlas",
   "metadata": {},
   "outputs": [],
   "source": []
  },
  {
   "cell_type": "code",
   "execution_count": null,
   "id": "recognized-penny",
   "metadata": {},
   "outputs": [],
   "source": []
  },
  {
   "cell_type": "code",
   "execution_count": null,
   "id": "civil-partner",
   "metadata": {},
   "outputs": [],
   "source": []
  },
  {
   "cell_type": "code",
   "execution_count": 11,
   "id": "exempt-organic",
   "metadata": {},
   "outputs": [
    {
     "data": {
      "text/plain": [
       "'12/31/2019 12:00:00 AM'"
      ]
     },
     "execution_count": 11,
     "metadata": {},
     "output_type": "execute_result"
    }
   ],
   "source": [
    "to2019['DATE OCC'].max()"
   ]
  },
  {
   "cell_type": "code",
   "execution_count": 12,
   "id": "annoying-shareware",
   "metadata": {},
   "outputs": [
    {
     "data": {
      "text/plain": [
       "'12/31/2020 12:00:00 AM'"
      ]
     },
     "execution_count": 12,
     "metadata": {},
     "output_type": "execute_result"
    }
   ],
   "source": [
    "to2019['Date Rptd'].max()"
   ]
  },
  {
   "cell_type": "code",
   "execution_count": 79,
   "id": "reflected-discretion",
   "metadata": {},
   "outputs": [
    {
     "data": {
      "text/plain": [
       "1303"
      ]
     },
     "execution_count": 79,
     "metadata": {},
     "output_type": "execute_result"
    }
   ],
   "source": [
    "len(pd.unique(to2019['Rpt Dist No']))"
   ]
  },
  {
   "cell_type": "code",
   "execution_count": 7,
   "id": "insured-firewall",
   "metadata": {},
   "outputs": [
    {
     "data": {
      "text/plain": [
       "0            300 E  GAGE                         AV\n",
       "1                   SEPULVEDA                    BL\n",
       "2           1300 E  21ST                         ST\n",
       "3                   CAHUENGA                     BL\n",
       "4                   8TH                          ST\n",
       "                             ...                   \n",
       "2116949     1400 N  LA BREA                      AV\n",
       "2116950             WILLOUGHBY                   AV\n",
       "2116951                                         6TH\n",
       "2116952    17200    NAPA                         ST\n",
       "2116953     1700    BARRY                        AV\n",
       "Name: LOCATION, Length: 2116954, dtype: object"
      ]
     },
     "execution_count": 7,
     "metadata": {},
     "output_type": "execute_result"
    }
   ],
   "source": [
    "to2019['LOCATION']"
   ]
  },
  {
   "cell_type": "code",
   "execution_count": 10,
   "id": "olympic-chain",
   "metadata": {},
   "outputs": [
    {
     "data": {
      "text/plain": [
       "(2116954, 28)"
      ]
     },
     "execution_count": 10,
     "metadata": {},
     "output_type": "execute_result"
    }
   ],
   "source": [
    "to2019.shape"
   ]
  },
  {
   "cell_type": "code",
   "execution_count": 11,
   "id": "accredited-salmon",
   "metadata": {},
   "outputs": [
    {
     "data": {
      "text/plain": [
       "(231587, 28)"
      ]
     },
     "execution_count": 11,
     "metadata": {},
     "output_type": "execute_result"
    }
   ],
   "source": [
    "toPresent.shape"
   ]
  },
  {
   "cell_type": "code",
   "execution_count": 12,
   "id": "municipal-grass",
   "metadata": {},
   "outputs": [],
   "source": [
    "# https://www.geeksforgeeks.org/get-zip-code-with-given-location-using-geopy-in-python/\n",
    "\n",
    "from datetime import datetime\n",
    "from geopy.geocoders import Nominatim\n",
    "\n",
    "# initialize Nominatim API \n",
    "geolocator = Nominatim(user_agent=\"geoapiExercises\")\n",
    "\n",
    "def address_to_zipcode(address):\n",
    "    \n",
    "    print_times = True\n",
    "    \n",
    "    t0 = datetime.now()\n",
    "    \n",
    "    place = str.split(address)\n",
    "    #print(place)\n",
    "    place = ' '.join(place)\n",
    "    #print(place)\n",
    "    place = place + ' Los Angeles'\n",
    "    # print(place)\n",
    "    \n",
    "    t1 = datetime.now()\n",
    "    \n",
    "    location = geolocator.geocode(place)\n",
    "    \n",
    "    t2 = datetime.now()\n",
    "    \n",
    "    #print(type(location))\n",
    "    \n",
    "    NonesList = []\n",
    "    \n",
    "    if location is None:\n",
    "        NonesList.append(address)\n",
    "        \n",
    "        t3 = datetime.now()\n",
    "        \n",
    "        if print_times:\n",
    "            print('Total time:', t3-t0)\n",
    "            print('Geopy time:', t2-t1)\n",
    "            print('Share of Geopy time:', (t2-t1)/(t3-t0))\n",
    "        return None\n",
    "    \n",
    "    else:\n",
    "        location = location[0]\n",
    "\n",
    "        location = str.split(location, ',')\n",
    "        #print(location)\n",
    "        \n",
    "        if len(location) < 6:\n",
    "            NonesList.append(address)\n",
    "            \n",
    "            t3 = datetime.now()\n",
    "            if print_times:\n",
    "                print('Total time:', t3-t0)\n",
    "                print('Geopy time:', t2-t1)\n",
    "                print('Share of Geopy time:', (t2-t1)/(t3-t0))\n",
    "            return None\n",
    "        \n",
    "        else:\n",
    "            zipcode = location[5]\n",
    "            #print(zipcode)\n",
    "            \n",
    "            t3 = datetime.now()\n",
    "            if print_times:\n",
    "                print('Total time:', t3-t0)\n",
    "                print('Geopy time:', t2-t1)\n",
    "                print('Share of Geopy time:', (t2-t1)/(t3-t0))\n",
    "            return zipcode"
   ]
  },
  {
   "cell_type": "code",
   "execution_count": 13,
   "id": "prompt-civilian",
   "metadata": {
    "scrolled": false
   },
   "outputs": [
    {
     "name": "stdout",
     "output_type": "stream",
     "text": [
      "Total time: 0:00:00.250108\n",
      "Geopy time: 0:00:00.250084\n",
      "Share of Geopy time: 0.9999040414540918\n",
      "Total time: 0:00:00.831854\n",
      "Geopy time: 0:00:00.831825\n",
      "Share of Geopy time: 0.9999651381131786\n",
      "Total time: 0:00:00.204230\n",
      "Geopy time: 0:00:00.204207\n",
      "Share of Geopy time: 0.999887381873378\n",
      "Total time: 0:00:00.614078\n",
      "Geopy time: 0:00:00.614049\n",
      "Share of Geopy time: 0.9999527747289433\n"
     ]
    },
    {
     "ename": "KeyboardInterrupt",
     "evalue": "",
     "output_type": "error",
     "traceback": [
      "\u001b[0;31m---------------------------------------------------------------------------\u001b[0m",
      "\u001b[0;31mKeyboardInterrupt\u001b[0m                         Traceback (most recent call last)",
      "\u001b[0;32m<ipython-input-13-3f0d3afcca3f>\u001b[0m in \u001b[0;36m<module>\u001b[0;34m\u001b[0m\n\u001b[0;32m----> 1\u001b[0;31m \u001b[0mzipcodes_toPresent\u001b[0m \u001b[0;34m=\u001b[0m \u001b[0mtoPresent\u001b[0m\u001b[0;34m[\u001b[0m\u001b[0;34m'LOCATION'\u001b[0m\u001b[0;34m]\u001b[0m\u001b[0;34m.\u001b[0m\u001b[0mmap\u001b[0m\u001b[0;34m(\u001b[0m\u001b[0;32mlambda\u001b[0m \u001b[0mx\u001b[0m\u001b[0;34m:\u001b[0m \u001b[0maddress_to_zipcode\u001b[0m\u001b[0;34m(\u001b[0m\u001b[0mx\u001b[0m\u001b[0;34m)\u001b[0m\u001b[0;34m)\u001b[0m\u001b[0;34m\u001b[0m\u001b[0;34m\u001b[0m\u001b[0m\n\u001b[0m\u001b[1;32m      2\u001b[0m \u001b[0mzipcodes_toPresent\u001b[0m\u001b[0;34m\u001b[0m\u001b[0;34m\u001b[0m\u001b[0m\n",
      "\u001b[0;32m~/anaconda3/envs/dv_class/lib/python3.8/site-packages/pandas/core/series.py\u001b[0m in \u001b[0;36mmap\u001b[0;34m(self, arg, na_action)\u001b[0m\n\u001b[1;32m   3877\u001b[0m         \u001b[0mdtype\u001b[0m\u001b[0;34m:\u001b[0m \u001b[0mobject\u001b[0m\u001b[0;34m\u001b[0m\u001b[0;34m\u001b[0m\u001b[0m\n\u001b[1;32m   3878\u001b[0m         \"\"\"\n\u001b[0;32m-> 3879\u001b[0;31m         \u001b[0mnew_values\u001b[0m \u001b[0;34m=\u001b[0m \u001b[0msuper\u001b[0m\u001b[0;34m(\u001b[0m\u001b[0;34m)\u001b[0m\u001b[0;34m.\u001b[0m\u001b[0m_map_values\u001b[0m\u001b[0;34m(\u001b[0m\u001b[0marg\u001b[0m\u001b[0;34m,\u001b[0m \u001b[0mna_action\u001b[0m\u001b[0;34m=\u001b[0m\u001b[0mna_action\u001b[0m\u001b[0;34m)\u001b[0m\u001b[0;34m\u001b[0m\u001b[0;34m\u001b[0m\u001b[0m\n\u001b[0m\u001b[1;32m   3880\u001b[0m         return self._constructor(new_values, index=self.index).__finalize__(\n\u001b[1;32m   3881\u001b[0m             \u001b[0mself\u001b[0m\u001b[0;34m,\u001b[0m \u001b[0mmethod\u001b[0m\u001b[0;34m=\u001b[0m\u001b[0;34m\"map\"\u001b[0m\u001b[0;34m\u001b[0m\u001b[0;34m\u001b[0m\u001b[0m\n",
      "\u001b[0;32m~/anaconda3/envs/dv_class/lib/python3.8/site-packages/pandas/core/base.py\u001b[0m in \u001b[0;36m_map_values\u001b[0;34m(self, mapper, na_action)\u001b[0m\n\u001b[1;32m    935\u001b[0m \u001b[0;34m\u001b[0m\u001b[0m\n\u001b[1;32m    936\u001b[0m         \u001b[0;31m# mapper is a function\u001b[0m\u001b[0;34m\u001b[0m\u001b[0;34m\u001b[0m\u001b[0;34m\u001b[0m\u001b[0m\n\u001b[0;32m--> 937\u001b[0;31m         \u001b[0mnew_values\u001b[0m \u001b[0;34m=\u001b[0m \u001b[0mmap_f\u001b[0m\u001b[0;34m(\u001b[0m\u001b[0mvalues\u001b[0m\u001b[0;34m,\u001b[0m \u001b[0mmapper\u001b[0m\u001b[0;34m)\u001b[0m\u001b[0;34m\u001b[0m\u001b[0;34m\u001b[0m\u001b[0m\n\u001b[0m\u001b[1;32m    938\u001b[0m \u001b[0;34m\u001b[0m\u001b[0m\n\u001b[1;32m    939\u001b[0m         \u001b[0;32mreturn\u001b[0m \u001b[0mnew_values\u001b[0m\u001b[0;34m\u001b[0m\u001b[0;34m\u001b[0m\u001b[0m\n",
      "\u001b[0;32mpandas/_libs/lib.pyx\u001b[0m in \u001b[0;36mpandas._libs.lib.map_infer\u001b[0;34m()\u001b[0m\n",
      "\u001b[0;32m<ipython-input-13-3f0d3afcca3f>\u001b[0m in \u001b[0;36m<lambda>\u001b[0;34m(x)\u001b[0m\n\u001b[0;32m----> 1\u001b[0;31m \u001b[0mzipcodes_toPresent\u001b[0m \u001b[0;34m=\u001b[0m \u001b[0mtoPresent\u001b[0m\u001b[0;34m[\u001b[0m\u001b[0;34m'LOCATION'\u001b[0m\u001b[0;34m]\u001b[0m\u001b[0;34m.\u001b[0m\u001b[0mmap\u001b[0m\u001b[0;34m(\u001b[0m\u001b[0;32mlambda\u001b[0m \u001b[0mx\u001b[0m\u001b[0;34m:\u001b[0m \u001b[0maddress_to_zipcode\u001b[0m\u001b[0;34m(\u001b[0m\u001b[0mx\u001b[0m\u001b[0;34m)\u001b[0m\u001b[0;34m)\u001b[0m\u001b[0;34m\u001b[0m\u001b[0;34m\u001b[0m\u001b[0m\n\u001b[0m\u001b[1;32m      2\u001b[0m \u001b[0mzipcodes_toPresent\u001b[0m\u001b[0;34m\u001b[0m\u001b[0;34m\u001b[0m\u001b[0m\n",
      "\u001b[0;32m<ipython-input-12-a960874df8b2>\u001b[0m in \u001b[0;36maddress_to_zipcode\u001b[0;34m(address)\u001b[0m\n\u001b[1;32m     22\u001b[0m     \u001b[0mt1\u001b[0m \u001b[0;34m=\u001b[0m \u001b[0mdatetime\u001b[0m\u001b[0;34m.\u001b[0m\u001b[0mnow\u001b[0m\u001b[0;34m(\u001b[0m\u001b[0;34m)\u001b[0m\u001b[0;34m\u001b[0m\u001b[0;34m\u001b[0m\u001b[0m\n\u001b[1;32m     23\u001b[0m \u001b[0;34m\u001b[0m\u001b[0m\n\u001b[0;32m---> 24\u001b[0;31m     \u001b[0mlocation\u001b[0m \u001b[0;34m=\u001b[0m \u001b[0mgeolocator\u001b[0m\u001b[0;34m.\u001b[0m\u001b[0mgeocode\u001b[0m\u001b[0;34m(\u001b[0m\u001b[0mplace\u001b[0m\u001b[0;34m)\u001b[0m\u001b[0;34m\u001b[0m\u001b[0;34m\u001b[0m\u001b[0m\n\u001b[0m\u001b[1;32m     25\u001b[0m \u001b[0;34m\u001b[0m\u001b[0m\n\u001b[1;32m     26\u001b[0m     \u001b[0mt2\u001b[0m \u001b[0;34m=\u001b[0m \u001b[0mdatetime\u001b[0m\u001b[0;34m.\u001b[0m\u001b[0mnow\u001b[0m\u001b[0;34m(\u001b[0m\u001b[0;34m)\u001b[0m\u001b[0;34m\u001b[0m\u001b[0;34m\u001b[0m\u001b[0m\n",
      "\u001b[0;32m~/anaconda3/envs/dv_class/lib/python3.8/site-packages/geopy/geocoders/nominatim.py\u001b[0m in \u001b[0;36mgeocode\u001b[0;34m(self, query, exactly_one, timeout, limit, addressdetails, language, geometry, extratags, country_codes, viewbox, bounded, featuretype, namedetails)\u001b[0m\n\u001b[1;32m    295\u001b[0m         \u001b[0mlogger\u001b[0m\u001b[0;34m.\u001b[0m\u001b[0mdebug\u001b[0m\u001b[0;34m(\u001b[0m\u001b[0;34m\"%s.geocode: %s\"\u001b[0m\u001b[0;34m,\u001b[0m \u001b[0mself\u001b[0m\u001b[0;34m.\u001b[0m\u001b[0m__class__\u001b[0m\u001b[0;34m.\u001b[0m\u001b[0m__name__\u001b[0m\u001b[0;34m,\u001b[0m \u001b[0murl\u001b[0m\u001b[0;34m)\u001b[0m\u001b[0;34m\u001b[0m\u001b[0;34m\u001b[0m\u001b[0m\n\u001b[1;32m    296\u001b[0m         \u001b[0mcallback\u001b[0m \u001b[0;34m=\u001b[0m \u001b[0mpartial\u001b[0m\u001b[0;34m(\u001b[0m\u001b[0mself\u001b[0m\u001b[0;34m.\u001b[0m\u001b[0m_parse_json\u001b[0m\u001b[0;34m,\u001b[0m \u001b[0mexactly_one\u001b[0m\u001b[0;34m=\u001b[0m\u001b[0mexactly_one\u001b[0m\u001b[0;34m)\u001b[0m\u001b[0;34m\u001b[0m\u001b[0;34m\u001b[0m\u001b[0m\n\u001b[0;32m--> 297\u001b[0;31m         \u001b[0;32mreturn\u001b[0m \u001b[0mself\u001b[0m\u001b[0;34m.\u001b[0m\u001b[0m_call_geocoder\u001b[0m\u001b[0;34m(\u001b[0m\u001b[0murl\u001b[0m\u001b[0;34m,\u001b[0m \u001b[0mcallback\u001b[0m\u001b[0;34m,\u001b[0m \u001b[0mtimeout\u001b[0m\u001b[0;34m=\u001b[0m\u001b[0mtimeout\u001b[0m\u001b[0;34m)\u001b[0m\u001b[0;34m\u001b[0m\u001b[0;34m\u001b[0m\u001b[0m\n\u001b[0m\u001b[1;32m    298\u001b[0m \u001b[0;34m\u001b[0m\u001b[0m\n\u001b[1;32m    299\u001b[0m     def reverse(\n",
      "\u001b[0;32m~/anaconda3/envs/dv_class/lib/python3.8/site-packages/geopy/geocoders/base.py\u001b[0m in \u001b[0;36m_call_geocoder\u001b[0;34m(self, url, callback, timeout, is_json, headers)\u001b[0m\n\u001b[1;32m    358\u001b[0m         \u001b[0;32mtry\u001b[0m\u001b[0;34m:\u001b[0m\u001b[0;34m\u001b[0m\u001b[0;34m\u001b[0m\u001b[0m\n\u001b[1;32m    359\u001b[0m             \u001b[0;32mif\u001b[0m \u001b[0mis_json\u001b[0m\u001b[0;34m:\u001b[0m\u001b[0;34m\u001b[0m\u001b[0;34m\u001b[0m\u001b[0m\n\u001b[0;32m--> 360\u001b[0;31m                 \u001b[0mresult\u001b[0m \u001b[0;34m=\u001b[0m \u001b[0mself\u001b[0m\u001b[0;34m.\u001b[0m\u001b[0madapter\u001b[0m\u001b[0;34m.\u001b[0m\u001b[0mget_json\u001b[0m\u001b[0;34m(\u001b[0m\u001b[0murl\u001b[0m\u001b[0;34m,\u001b[0m \u001b[0mtimeout\u001b[0m\u001b[0;34m=\u001b[0m\u001b[0mtimeout\u001b[0m\u001b[0;34m,\u001b[0m \u001b[0mheaders\u001b[0m\u001b[0;34m=\u001b[0m\u001b[0mreq_headers\u001b[0m\u001b[0;34m)\u001b[0m\u001b[0;34m\u001b[0m\u001b[0;34m\u001b[0m\u001b[0m\n\u001b[0m\u001b[1;32m    361\u001b[0m             \u001b[0;32melse\u001b[0m\u001b[0;34m:\u001b[0m\u001b[0;34m\u001b[0m\u001b[0;34m\u001b[0m\u001b[0m\n\u001b[1;32m    362\u001b[0m                 \u001b[0mresult\u001b[0m \u001b[0;34m=\u001b[0m \u001b[0mself\u001b[0m\u001b[0;34m.\u001b[0m\u001b[0madapter\u001b[0m\u001b[0;34m.\u001b[0m\u001b[0mget_text\u001b[0m\u001b[0;34m(\u001b[0m\u001b[0murl\u001b[0m\u001b[0;34m,\u001b[0m \u001b[0mtimeout\u001b[0m\u001b[0;34m=\u001b[0m\u001b[0mtimeout\u001b[0m\u001b[0;34m,\u001b[0m \u001b[0mheaders\u001b[0m\u001b[0;34m=\u001b[0m\u001b[0mreq_headers\u001b[0m\u001b[0;34m)\u001b[0m\u001b[0;34m\u001b[0m\u001b[0;34m\u001b[0m\u001b[0m\n",
      "\u001b[0;32m~/anaconda3/envs/dv_class/lib/python3.8/site-packages/geopy/adapters.py\u001b[0m in \u001b[0;36mget_json\u001b[0;34m(self, url, timeout, headers)\u001b[0m\n\u001b[1;32m    375\u001b[0m \u001b[0;34m\u001b[0m\u001b[0m\n\u001b[1;32m    376\u001b[0m     \u001b[0;32mdef\u001b[0m \u001b[0mget_json\u001b[0m\u001b[0;34m(\u001b[0m\u001b[0mself\u001b[0m\u001b[0;34m,\u001b[0m \u001b[0murl\u001b[0m\u001b[0;34m,\u001b[0m \u001b[0;34m*\u001b[0m\u001b[0;34m,\u001b[0m \u001b[0mtimeout\u001b[0m\u001b[0;34m,\u001b[0m \u001b[0mheaders\u001b[0m\u001b[0;34m)\u001b[0m\u001b[0;34m:\u001b[0m\u001b[0;34m\u001b[0m\u001b[0;34m\u001b[0m\u001b[0m\n\u001b[0;32m--> 377\u001b[0;31m         \u001b[0mresp\u001b[0m \u001b[0;34m=\u001b[0m \u001b[0mself\u001b[0m\u001b[0;34m.\u001b[0m\u001b[0m_request\u001b[0m\u001b[0;34m(\u001b[0m\u001b[0murl\u001b[0m\u001b[0;34m,\u001b[0m \u001b[0mtimeout\u001b[0m\u001b[0;34m=\u001b[0m\u001b[0mtimeout\u001b[0m\u001b[0;34m,\u001b[0m \u001b[0mheaders\u001b[0m\u001b[0;34m=\u001b[0m\u001b[0mheaders\u001b[0m\u001b[0;34m)\u001b[0m\u001b[0;34m\u001b[0m\u001b[0;34m\u001b[0m\u001b[0m\n\u001b[0m\u001b[1;32m    378\u001b[0m         \u001b[0;32mtry\u001b[0m\u001b[0;34m:\u001b[0m\u001b[0;34m\u001b[0m\u001b[0;34m\u001b[0m\u001b[0m\n\u001b[1;32m    379\u001b[0m             \u001b[0;32mreturn\u001b[0m \u001b[0mresp\u001b[0m\u001b[0;34m.\u001b[0m\u001b[0mjson\u001b[0m\u001b[0;34m(\u001b[0m\u001b[0;34m)\u001b[0m\u001b[0;34m\u001b[0m\u001b[0;34m\u001b[0m\u001b[0m\n",
      "\u001b[0;32m~/anaconda3/envs/dv_class/lib/python3.8/site-packages/geopy/adapters.py\u001b[0m in \u001b[0;36m_request\u001b[0;34m(self, url, timeout, headers)\u001b[0m\n\u001b[1;32m    385\u001b[0m     \u001b[0;32mdef\u001b[0m \u001b[0m_request\u001b[0m\u001b[0;34m(\u001b[0m\u001b[0mself\u001b[0m\u001b[0;34m,\u001b[0m \u001b[0murl\u001b[0m\u001b[0;34m,\u001b[0m \u001b[0;34m*\u001b[0m\u001b[0;34m,\u001b[0m \u001b[0mtimeout\u001b[0m\u001b[0;34m,\u001b[0m \u001b[0mheaders\u001b[0m\u001b[0;34m)\u001b[0m\u001b[0;34m:\u001b[0m\u001b[0;34m\u001b[0m\u001b[0;34m\u001b[0m\u001b[0m\n\u001b[1;32m    386\u001b[0m         \u001b[0;32mtry\u001b[0m\u001b[0;34m:\u001b[0m\u001b[0;34m\u001b[0m\u001b[0;34m\u001b[0m\u001b[0m\n\u001b[0;32m--> 387\u001b[0;31m             \u001b[0mresp\u001b[0m \u001b[0;34m=\u001b[0m \u001b[0mself\u001b[0m\u001b[0;34m.\u001b[0m\u001b[0msession\u001b[0m\u001b[0;34m.\u001b[0m\u001b[0mget\u001b[0m\u001b[0;34m(\u001b[0m\u001b[0murl\u001b[0m\u001b[0;34m,\u001b[0m \u001b[0mtimeout\u001b[0m\u001b[0;34m=\u001b[0m\u001b[0mtimeout\u001b[0m\u001b[0;34m,\u001b[0m \u001b[0mheaders\u001b[0m\u001b[0;34m=\u001b[0m\u001b[0mheaders\u001b[0m\u001b[0;34m)\u001b[0m\u001b[0;34m\u001b[0m\u001b[0;34m\u001b[0m\u001b[0m\n\u001b[0m\u001b[1;32m    388\u001b[0m         \u001b[0;32mexcept\u001b[0m \u001b[0mException\u001b[0m \u001b[0;32mas\u001b[0m \u001b[0merror\u001b[0m\u001b[0;34m:\u001b[0m\u001b[0;34m\u001b[0m\u001b[0;34m\u001b[0m\u001b[0m\n\u001b[1;32m    389\u001b[0m             \u001b[0mmessage\u001b[0m \u001b[0;34m=\u001b[0m \u001b[0mstr\u001b[0m\u001b[0;34m(\u001b[0m\u001b[0merror\u001b[0m\u001b[0;34m)\u001b[0m\u001b[0;34m\u001b[0m\u001b[0;34m\u001b[0m\u001b[0m\n",
      "\u001b[0;32m~/anaconda3/envs/dv_class/lib/python3.8/site-packages/requests/sessions.py\u001b[0m in \u001b[0;36mget\u001b[0;34m(self, url, **kwargs)\u001b[0m\n\u001b[1;32m    553\u001b[0m \u001b[0;34m\u001b[0m\u001b[0m\n\u001b[1;32m    554\u001b[0m         \u001b[0mkwargs\u001b[0m\u001b[0;34m.\u001b[0m\u001b[0msetdefault\u001b[0m\u001b[0;34m(\u001b[0m\u001b[0;34m'allow_redirects'\u001b[0m\u001b[0;34m,\u001b[0m \u001b[0;32mTrue\u001b[0m\u001b[0;34m)\u001b[0m\u001b[0;34m\u001b[0m\u001b[0;34m\u001b[0m\u001b[0m\n\u001b[0;32m--> 555\u001b[0;31m         \u001b[0;32mreturn\u001b[0m \u001b[0mself\u001b[0m\u001b[0;34m.\u001b[0m\u001b[0mrequest\u001b[0m\u001b[0;34m(\u001b[0m\u001b[0;34m'GET'\u001b[0m\u001b[0;34m,\u001b[0m \u001b[0murl\u001b[0m\u001b[0;34m,\u001b[0m \u001b[0;34m**\u001b[0m\u001b[0mkwargs\u001b[0m\u001b[0;34m)\u001b[0m\u001b[0;34m\u001b[0m\u001b[0;34m\u001b[0m\u001b[0m\n\u001b[0m\u001b[1;32m    556\u001b[0m \u001b[0;34m\u001b[0m\u001b[0m\n\u001b[1;32m    557\u001b[0m     \u001b[0;32mdef\u001b[0m \u001b[0moptions\u001b[0m\u001b[0;34m(\u001b[0m\u001b[0mself\u001b[0m\u001b[0;34m,\u001b[0m \u001b[0murl\u001b[0m\u001b[0;34m,\u001b[0m \u001b[0;34m**\u001b[0m\u001b[0mkwargs\u001b[0m\u001b[0;34m)\u001b[0m\u001b[0;34m:\u001b[0m\u001b[0;34m\u001b[0m\u001b[0;34m\u001b[0m\u001b[0m\n",
      "\u001b[0;32m~/anaconda3/envs/dv_class/lib/python3.8/site-packages/requests/sessions.py\u001b[0m in \u001b[0;36mrequest\u001b[0;34m(self, method, url, params, data, headers, cookies, files, auth, timeout, allow_redirects, proxies, hooks, stream, verify, cert, json)\u001b[0m\n\u001b[1;32m    540\u001b[0m         }\n\u001b[1;32m    541\u001b[0m         \u001b[0msend_kwargs\u001b[0m\u001b[0;34m.\u001b[0m\u001b[0mupdate\u001b[0m\u001b[0;34m(\u001b[0m\u001b[0msettings\u001b[0m\u001b[0;34m)\u001b[0m\u001b[0;34m\u001b[0m\u001b[0;34m\u001b[0m\u001b[0m\n\u001b[0;32m--> 542\u001b[0;31m         \u001b[0mresp\u001b[0m \u001b[0;34m=\u001b[0m \u001b[0mself\u001b[0m\u001b[0;34m.\u001b[0m\u001b[0msend\u001b[0m\u001b[0;34m(\u001b[0m\u001b[0mprep\u001b[0m\u001b[0;34m,\u001b[0m \u001b[0;34m**\u001b[0m\u001b[0msend_kwargs\u001b[0m\u001b[0;34m)\u001b[0m\u001b[0;34m\u001b[0m\u001b[0;34m\u001b[0m\u001b[0m\n\u001b[0m\u001b[1;32m    543\u001b[0m \u001b[0;34m\u001b[0m\u001b[0m\n\u001b[1;32m    544\u001b[0m         \u001b[0;32mreturn\u001b[0m \u001b[0mresp\u001b[0m\u001b[0;34m\u001b[0m\u001b[0;34m\u001b[0m\u001b[0m\n",
      "\u001b[0;32m~/anaconda3/envs/dv_class/lib/python3.8/site-packages/requests/sessions.py\u001b[0m in \u001b[0;36msend\u001b[0;34m(self, request, **kwargs)\u001b[0m\n\u001b[1;32m    653\u001b[0m \u001b[0;34m\u001b[0m\u001b[0m\n\u001b[1;32m    654\u001b[0m         \u001b[0;31m# Send the request\u001b[0m\u001b[0;34m\u001b[0m\u001b[0;34m\u001b[0m\u001b[0;34m\u001b[0m\u001b[0m\n\u001b[0;32m--> 655\u001b[0;31m         \u001b[0mr\u001b[0m \u001b[0;34m=\u001b[0m \u001b[0madapter\u001b[0m\u001b[0;34m.\u001b[0m\u001b[0msend\u001b[0m\u001b[0;34m(\u001b[0m\u001b[0mrequest\u001b[0m\u001b[0;34m,\u001b[0m \u001b[0;34m**\u001b[0m\u001b[0mkwargs\u001b[0m\u001b[0;34m)\u001b[0m\u001b[0;34m\u001b[0m\u001b[0;34m\u001b[0m\u001b[0m\n\u001b[0m\u001b[1;32m    656\u001b[0m \u001b[0;34m\u001b[0m\u001b[0m\n\u001b[1;32m    657\u001b[0m         \u001b[0;31m# Total elapsed time of the request (approximately)\u001b[0m\u001b[0;34m\u001b[0m\u001b[0;34m\u001b[0m\u001b[0;34m\u001b[0m\u001b[0m\n",
      "\u001b[0;32m~/anaconda3/envs/dv_class/lib/python3.8/site-packages/requests/adapters.py\u001b[0m in \u001b[0;36msend\u001b[0;34m(self, request, stream, timeout, verify, cert, proxies)\u001b[0m\n\u001b[1;32m    437\u001b[0m         \u001b[0;32mtry\u001b[0m\u001b[0;34m:\u001b[0m\u001b[0;34m\u001b[0m\u001b[0;34m\u001b[0m\u001b[0m\n\u001b[1;32m    438\u001b[0m             \u001b[0;32mif\u001b[0m \u001b[0;32mnot\u001b[0m \u001b[0mchunked\u001b[0m\u001b[0;34m:\u001b[0m\u001b[0;34m\u001b[0m\u001b[0;34m\u001b[0m\u001b[0m\n\u001b[0;32m--> 439\u001b[0;31m                 resp = conn.urlopen(\n\u001b[0m\u001b[1;32m    440\u001b[0m                     \u001b[0mmethod\u001b[0m\u001b[0;34m=\u001b[0m\u001b[0mrequest\u001b[0m\u001b[0;34m.\u001b[0m\u001b[0mmethod\u001b[0m\u001b[0;34m,\u001b[0m\u001b[0;34m\u001b[0m\u001b[0;34m\u001b[0m\u001b[0m\n\u001b[1;32m    441\u001b[0m                     \u001b[0murl\u001b[0m\u001b[0;34m=\u001b[0m\u001b[0murl\u001b[0m\u001b[0;34m,\u001b[0m\u001b[0;34m\u001b[0m\u001b[0;34m\u001b[0m\u001b[0m\n",
      "\u001b[0;32m~/anaconda3/envs/dv_class/lib/python3.8/site-packages/urllib3/connectionpool.py\u001b[0m in \u001b[0;36murlopen\u001b[0;34m(self, method, url, body, headers, retries, redirect, assert_same_host, timeout, pool_timeout, release_conn, chunked, body_pos, **response_kw)\u001b[0m\n\u001b[1;32m    697\u001b[0m \u001b[0;34m\u001b[0m\u001b[0m\n\u001b[1;32m    698\u001b[0m             \u001b[0;31m# Make the request on the httplib connection object.\u001b[0m\u001b[0;34m\u001b[0m\u001b[0;34m\u001b[0m\u001b[0;34m\u001b[0m\u001b[0m\n\u001b[0;32m--> 699\u001b[0;31m             httplib_response = self._make_request(\n\u001b[0m\u001b[1;32m    700\u001b[0m                 \u001b[0mconn\u001b[0m\u001b[0;34m,\u001b[0m\u001b[0;34m\u001b[0m\u001b[0;34m\u001b[0m\u001b[0m\n\u001b[1;32m    701\u001b[0m                 \u001b[0mmethod\u001b[0m\u001b[0;34m,\u001b[0m\u001b[0;34m\u001b[0m\u001b[0;34m\u001b[0m\u001b[0m\n",
      "\u001b[0;32m~/anaconda3/envs/dv_class/lib/python3.8/site-packages/urllib3/connectionpool.py\u001b[0m in \u001b[0;36m_make_request\u001b[0;34m(self, conn, method, url, timeout, chunked, **httplib_request_kw)\u001b[0m\n\u001b[1;32m    443\u001b[0m                     \u001b[0;31m# Python 3 (including for exceptions like SystemExit).\u001b[0m\u001b[0;34m\u001b[0m\u001b[0;34m\u001b[0m\u001b[0;34m\u001b[0m\u001b[0m\n\u001b[1;32m    444\u001b[0m                     \u001b[0;31m# Otherwise it looks like a bug in the code.\u001b[0m\u001b[0;34m\u001b[0m\u001b[0;34m\u001b[0m\u001b[0;34m\u001b[0m\u001b[0m\n\u001b[0;32m--> 445\u001b[0;31m                     \u001b[0msix\u001b[0m\u001b[0;34m.\u001b[0m\u001b[0mraise_from\u001b[0m\u001b[0;34m(\u001b[0m\u001b[0me\u001b[0m\u001b[0;34m,\u001b[0m \u001b[0;32mNone\u001b[0m\u001b[0;34m)\u001b[0m\u001b[0;34m\u001b[0m\u001b[0;34m\u001b[0m\u001b[0m\n\u001b[0m\u001b[1;32m    446\u001b[0m         \u001b[0;32mexcept\u001b[0m \u001b[0;34m(\u001b[0m\u001b[0mSocketTimeout\u001b[0m\u001b[0;34m,\u001b[0m \u001b[0mBaseSSLError\u001b[0m\u001b[0;34m,\u001b[0m \u001b[0mSocketError\u001b[0m\u001b[0;34m)\u001b[0m \u001b[0;32mas\u001b[0m \u001b[0me\u001b[0m\u001b[0;34m:\u001b[0m\u001b[0;34m\u001b[0m\u001b[0;34m\u001b[0m\u001b[0m\n\u001b[1;32m    447\u001b[0m             \u001b[0mself\u001b[0m\u001b[0;34m.\u001b[0m\u001b[0m_raise_timeout\u001b[0m\u001b[0;34m(\u001b[0m\u001b[0merr\u001b[0m\u001b[0;34m=\u001b[0m\u001b[0me\u001b[0m\u001b[0;34m,\u001b[0m \u001b[0murl\u001b[0m\u001b[0;34m=\u001b[0m\u001b[0murl\u001b[0m\u001b[0;34m,\u001b[0m \u001b[0mtimeout_value\u001b[0m\u001b[0;34m=\u001b[0m\u001b[0mread_timeout\u001b[0m\u001b[0;34m)\u001b[0m\u001b[0;34m\u001b[0m\u001b[0;34m\u001b[0m\u001b[0m\n",
      "\u001b[0;32m~/anaconda3/envs/dv_class/lib/python3.8/site-packages/urllib3/packages/six.py\u001b[0m in \u001b[0;36mraise_from\u001b[0;34m(value, from_value)\u001b[0m\n",
      "\u001b[0;32m~/anaconda3/envs/dv_class/lib/python3.8/site-packages/urllib3/connectionpool.py\u001b[0m in \u001b[0;36m_make_request\u001b[0;34m(self, conn, method, url, timeout, chunked, **httplib_request_kw)\u001b[0m\n\u001b[1;32m    438\u001b[0m                 \u001b[0;31m# Python 3\u001b[0m\u001b[0;34m\u001b[0m\u001b[0;34m\u001b[0m\u001b[0;34m\u001b[0m\u001b[0m\n\u001b[1;32m    439\u001b[0m                 \u001b[0;32mtry\u001b[0m\u001b[0;34m:\u001b[0m\u001b[0;34m\u001b[0m\u001b[0;34m\u001b[0m\u001b[0m\n\u001b[0;32m--> 440\u001b[0;31m                     \u001b[0mhttplib_response\u001b[0m \u001b[0;34m=\u001b[0m \u001b[0mconn\u001b[0m\u001b[0;34m.\u001b[0m\u001b[0mgetresponse\u001b[0m\u001b[0;34m(\u001b[0m\u001b[0;34m)\u001b[0m\u001b[0;34m\u001b[0m\u001b[0;34m\u001b[0m\u001b[0m\n\u001b[0m\u001b[1;32m    441\u001b[0m                 \u001b[0;32mexcept\u001b[0m \u001b[0mBaseException\u001b[0m \u001b[0;32mas\u001b[0m \u001b[0me\u001b[0m\u001b[0;34m:\u001b[0m\u001b[0;34m\u001b[0m\u001b[0;34m\u001b[0m\u001b[0m\n\u001b[1;32m    442\u001b[0m                     \u001b[0;31m# Remove the TypeError from the exception chain in\u001b[0m\u001b[0;34m\u001b[0m\u001b[0;34m\u001b[0m\u001b[0;34m\u001b[0m\u001b[0m\n",
      "\u001b[0;32m~/anaconda3/envs/dv_class/lib/python3.8/http/client.py\u001b[0m in \u001b[0;36mgetresponse\u001b[0;34m(self)\u001b[0m\n\u001b[1;32m   1345\u001b[0m         \u001b[0;32mtry\u001b[0m\u001b[0;34m:\u001b[0m\u001b[0;34m\u001b[0m\u001b[0;34m\u001b[0m\u001b[0m\n\u001b[1;32m   1346\u001b[0m             \u001b[0;32mtry\u001b[0m\u001b[0;34m:\u001b[0m\u001b[0;34m\u001b[0m\u001b[0;34m\u001b[0m\u001b[0m\n\u001b[0;32m-> 1347\u001b[0;31m                 \u001b[0mresponse\u001b[0m\u001b[0;34m.\u001b[0m\u001b[0mbegin\u001b[0m\u001b[0;34m(\u001b[0m\u001b[0;34m)\u001b[0m\u001b[0;34m\u001b[0m\u001b[0;34m\u001b[0m\u001b[0m\n\u001b[0m\u001b[1;32m   1348\u001b[0m             \u001b[0;32mexcept\u001b[0m \u001b[0mConnectionError\u001b[0m\u001b[0;34m:\u001b[0m\u001b[0;34m\u001b[0m\u001b[0;34m\u001b[0m\u001b[0m\n\u001b[1;32m   1349\u001b[0m                 \u001b[0mself\u001b[0m\u001b[0;34m.\u001b[0m\u001b[0mclose\u001b[0m\u001b[0;34m(\u001b[0m\u001b[0;34m)\u001b[0m\u001b[0;34m\u001b[0m\u001b[0;34m\u001b[0m\u001b[0m\n",
      "\u001b[0;32m~/anaconda3/envs/dv_class/lib/python3.8/http/client.py\u001b[0m in \u001b[0;36mbegin\u001b[0;34m(self)\u001b[0m\n\u001b[1;32m    305\u001b[0m         \u001b[0;31m# read until we get a non-100 response\u001b[0m\u001b[0;34m\u001b[0m\u001b[0;34m\u001b[0m\u001b[0;34m\u001b[0m\u001b[0m\n\u001b[1;32m    306\u001b[0m         \u001b[0;32mwhile\u001b[0m \u001b[0;32mTrue\u001b[0m\u001b[0;34m:\u001b[0m\u001b[0;34m\u001b[0m\u001b[0;34m\u001b[0m\u001b[0m\n\u001b[0;32m--> 307\u001b[0;31m             \u001b[0mversion\u001b[0m\u001b[0;34m,\u001b[0m \u001b[0mstatus\u001b[0m\u001b[0;34m,\u001b[0m \u001b[0mreason\u001b[0m \u001b[0;34m=\u001b[0m \u001b[0mself\u001b[0m\u001b[0;34m.\u001b[0m\u001b[0m_read_status\u001b[0m\u001b[0;34m(\u001b[0m\u001b[0;34m)\u001b[0m\u001b[0;34m\u001b[0m\u001b[0;34m\u001b[0m\u001b[0m\n\u001b[0m\u001b[1;32m    308\u001b[0m             \u001b[0;32mif\u001b[0m \u001b[0mstatus\u001b[0m \u001b[0;34m!=\u001b[0m \u001b[0mCONTINUE\u001b[0m\u001b[0;34m:\u001b[0m\u001b[0;34m\u001b[0m\u001b[0;34m\u001b[0m\u001b[0m\n\u001b[1;32m    309\u001b[0m                 \u001b[0;32mbreak\u001b[0m\u001b[0;34m\u001b[0m\u001b[0;34m\u001b[0m\u001b[0m\n",
      "\u001b[0;32m~/anaconda3/envs/dv_class/lib/python3.8/http/client.py\u001b[0m in \u001b[0;36m_read_status\u001b[0;34m(self)\u001b[0m\n\u001b[1;32m    266\u001b[0m \u001b[0;34m\u001b[0m\u001b[0m\n\u001b[1;32m    267\u001b[0m     \u001b[0;32mdef\u001b[0m \u001b[0m_read_status\u001b[0m\u001b[0;34m(\u001b[0m\u001b[0mself\u001b[0m\u001b[0;34m)\u001b[0m\u001b[0;34m:\u001b[0m\u001b[0;34m\u001b[0m\u001b[0;34m\u001b[0m\u001b[0m\n\u001b[0;32m--> 268\u001b[0;31m         \u001b[0mline\u001b[0m \u001b[0;34m=\u001b[0m \u001b[0mstr\u001b[0m\u001b[0;34m(\u001b[0m\u001b[0mself\u001b[0m\u001b[0;34m.\u001b[0m\u001b[0mfp\u001b[0m\u001b[0;34m.\u001b[0m\u001b[0mreadline\u001b[0m\u001b[0;34m(\u001b[0m\u001b[0m_MAXLINE\u001b[0m \u001b[0;34m+\u001b[0m \u001b[0;36m1\u001b[0m\u001b[0;34m)\u001b[0m\u001b[0;34m,\u001b[0m \u001b[0;34m\"iso-8859-1\"\u001b[0m\u001b[0;34m)\u001b[0m\u001b[0;34m\u001b[0m\u001b[0;34m\u001b[0m\u001b[0m\n\u001b[0m\u001b[1;32m    269\u001b[0m         \u001b[0;32mif\u001b[0m \u001b[0mlen\u001b[0m\u001b[0;34m(\u001b[0m\u001b[0mline\u001b[0m\u001b[0;34m)\u001b[0m \u001b[0;34m>\u001b[0m \u001b[0m_MAXLINE\u001b[0m\u001b[0;34m:\u001b[0m\u001b[0;34m\u001b[0m\u001b[0;34m\u001b[0m\u001b[0m\n\u001b[1;32m    270\u001b[0m             \u001b[0;32mraise\u001b[0m \u001b[0mLineTooLong\u001b[0m\u001b[0;34m(\u001b[0m\u001b[0;34m\"status line\"\u001b[0m\u001b[0;34m)\u001b[0m\u001b[0;34m\u001b[0m\u001b[0;34m\u001b[0m\u001b[0m\n",
      "\u001b[0;32m~/anaconda3/envs/dv_class/lib/python3.8/socket.py\u001b[0m in \u001b[0;36mreadinto\u001b[0;34m(self, b)\u001b[0m\n\u001b[1;32m    667\u001b[0m         \u001b[0;32mwhile\u001b[0m \u001b[0;32mTrue\u001b[0m\u001b[0;34m:\u001b[0m\u001b[0;34m\u001b[0m\u001b[0;34m\u001b[0m\u001b[0m\n\u001b[1;32m    668\u001b[0m             \u001b[0;32mtry\u001b[0m\u001b[0;34m:\u001b[0m\u001b[0;34m\u001b[0m\u001b[0;34m\u001b[0m\u001b[0m\n\u001b[0;32m--> 669\u001b[0;31m                 \u001b[0;32mreturn\u001b[0m \u001b[0mself\u001b[0m\u001b[0;34m.\u001b[0m\u001b[0m_sock\u001b[0m\u001b[0;34m.\u001b[0m\u001b[0mrecv_into\u001b[0m\u001b[0;34m(\u001b[0m\u001b[0mb\u001b[0m\u001b[0;34m)\u001b[0m\u001b[0;34m\u001b[0m\u001b[0;34m\u001b[0m\u001b[0m\n\u001b[0m\u001b[1;32m    670\u001b[0m             \u001b[0;32mexcept\u001b[0m \u001b[0mtimeout\u001b[0m\u001b[0;34m:\u001b[0m\u001b[0;34m\u001b[0m\u001b[0;34m\u001b[0m\u001b[0m\n\u001b[1;32m    671\u001b[0m                 \u001b[0mself\u001b[0m\u001b[0;34m.\u001b[0m\u001b[0m_timeout_occurred\u001b[0m \u001b[0;34m=\u001b[0m \u001b[0;32mTrue\u001b[0m\u001b[0;34m\u001b[0m\u001b[0;34m\u001b[0m\u001b[0m\n",
      "\u001b[0;32m~/anaconda3/envs/dv_class/lib/python3.8/ssl.py\u001b[0m in \u001b[0;36mrecv_into\u001b[0;34m(self, buffer, nbytes, flags)\u001b[0m\n\u001b[1;32m   1239\u001b[0m                   \u001b[0;34m\"non-zero flags not allowed in calls to recv_into() on %s\"\u001b[0m \u001b[0;34m%\u001b[0m\u001b[0;34m\u001b[0m\u001b[0;34m\u001b[0m\u001b[0m\n\u001b[1;32m   1240\u001b[0m                   self.__class__)\n\u001b[0;32m-> 1241\u001b[0;31m             \u001b[0;32mreturn\u001b[0m \u001b[0mself\u001b[0m\u001b[0;34m.\u001b[0m\u001b[0mread\u001b[0m\u001b[0;34m(\u001b[0m\u001b[0mnbytes\u001b[0m\u001b[0;34m,\u001b[0m \u001b[0mbuffer\u001b[0m\u001b[0;34m)\u001b[0m\u001b[0;34m\u001b[0m\u001b[0;34m\u001b[0m\u001b[0m\n\u001b[0m\u001b[1;32m   1242\u001b[0m         \u001b[0;32melse\u001b[0m\u001b[0;34m:\u001b[0m\u001b[0;34m\u001b[0m\u001b[0;34m\u001b[0m\u001b[0m\n\u001b[1;32m   1243\u001b[0m             \u001b[0;32mreturn\u001b[0m \u001b[0msuper\u001b[0m\u001b[0;34m(\u001b[0m\u001b[0;34m)\u001b[0m\u001b[0;34m.\u001b[0m\u001b[0mrecv_into\u001b[0m\u001b[0;34m(\u001b[0m\u001b[0mbuffer\u001b[0m\u001b[0;34m,\u001b[0m \u001b[0mnbytes\u001b[0m\u001b[0;34m,\u001b[0m \u001b[0mflags\u001b[0m\u001b[0;34m)\u001b[0m\u001b[0;34m\u001b[0m\u001b[0;34m\u001b[0m\u001b[0m\n",
      "\u001b[0;32m~/anaconda3/envs/dv_class/lib/python3.8/ssl.py\u001b[0m in \u001b[0;36mread\u001b[0;34m(self, len, buffer)\u001b[0m\n\u001b[1;32m   1097\u001b[0m         \u001b[0;32mtry\u001b[0m\u001b[0;34m:\u001b[0m\u001b[0;34m\u001b[0m\u001b[0;34m\u001b[0m\u001b[0m\n\u001b[1;32m   1098\u001b[0m             \u001b[0;32mif\u001b[0m \u001b[0mbuffer\u001b[0m \u001b[0;32mis\u001b[0m \u001b[0;32mnot\u001b[0m \u001b[0;32mNone\u001b[0m\u001b[0;34m:\u001b[0m\u001b[0;34m\u001b[0m\u001b[0;34m\u001b[0m\u001b[0m\n\u001b[0;32m-> 1099\u001b[0;31m                 \u001b[0;32mreturn\u001b[0m \u001b[0mself\u001b[0m\u001b[0;34m.\u001b[0m\u001b[0m_sslobj\u001b[0m\u001b[0;34m.\u001b[0m\u001b[0mread\u001b[0m\u001b[0;34m(\u001b[0m\u001b[0mlen\u001b[0m\u001b[0;34m,\u001b[0m \u001b[0mbuffer\u001b[0m\u001b[0;34m)\u001b[0m\u001b[0;34m\u001b[0m\u001b[0;34m\u001b[0m\u001b[0m\n\u001b[0m\u001b[1;32m   1100\u001b[0m             \u001b[0;32melse\u001b[0m\u001b[0;34m:\u001b[0m\u001b[0;34m\u001b[0m\u001b[0;34m\u001b[0m\u001b[0m\n\u001b[1;32m   1101\u001b[0m                 \u001b[0;32mreturn\u001b[0m \u001b[0mself\u001b[0m\u001b[0;34m.\u001b[0m\u001b[0m_sslobj\u001b[0m\u001b[0;34m.\u001b[0m\u001b[0mread\u001b[0m\u001b[0;34m(\u001b[0m\u001b[0mlen\u001b[0m\u001b[0;34m)\u001b[0m\u001b[0;34m\u001b[0m\u001b[0;34m\u001b[0m\u001b[0m\n",
      "\u001b[0;31mKeyboardInterrupt\u001b[0m: "
     ]
    }
   ],
   "source": [
    "zipcodes_toPresent = toPresent['LOCATION'].map(lambda x: address_to_zipcode(x))\n",
    "zipcodes_toPresent"
   ]
  },
  {
   "cell_type": "code",
   "execution_count": 125,
   "id": "sharp-lemon",
   "metadata": {},
   "outputs": [
    {
     "data": {
      "text/plain": [
       "9.529354741944443"
      ]
     },
     "execution_count": 125,
     "metadata": {},
     "output_type": "execute_result"
    }
   ],
   "source": [
    "0.148133 * 231587 / 60 / 60"
   ]
  },
  {
   "cell_type": "code",
   "execution_count": 126,
   "id": "thermal-lithuania",
   "metadata": {},
   "outputs": [
    {
     "data": {
      "text/plain": [
       "87.10854080055555"
      ]
     },
     "execution_count": 126,
     "metadata": {},
     "output_type": "execute_result"
    }
   ],
   "source": [
    "0.148133 * 2116954 / 60 / 60"
   ]
  },
  {
   "cell_type": "markdown",
   "id": "elect-amateur",
   "metadata": {},
   "source": [
    "# LA census dataset"
   ]
  },
  {
   "cell_type": "code",
   "execution_count": 75,
   "id": "reserved-newspaper",
   "metadata": {},
   "outputs": [],
   "source": [
    "census_by_zipcode_2010 = pd.read_csv('/Users/philippmetzger/OneDrive/PHILIPP/NOVA IMS/2nd Semester/02 Data Visualisation 4 ECTS/00 Projects/Project 2/Potential datasets/census/2010-census-populations-by-zip-code.csv')\n",
    "census_by_council_district = pd.read_csv('/Users/philippmetzger/OneDrive/PHILIPP/NOVA IMS/2nd Semester/02 Data Visualisation 4 ECTS/00 Projects/Project 2/Potential datasets/census/census-data-by-council-district.csv')\n",
    "census_by_neighborhood_council = pd.read_csv('/Users/philippmetzger/OneDrive/PHILIPP/NOVA IMS/2nd Semester/02 Data Visualisation 4 ECTS/00 Projects/Project 2/Potential datasets/census/census-data-by-neighborhood-council.csv')"
   ]
  },
  {
   "cell_type": "code",
   "execution_count": 76,
   "id": "industrial-anthony",
   "metadata": {},
   "outputs": [
    {
     "data": {
      "text/html": [
       "<div>\n",
       "<style scoped>\n",
       "    .dataframe tbody tr th:only-of-type {\n",
       "        vertical-align: middle;\n",
       "    }\n",
       "\n",
       "    .dataframe tbody tr th {\n",
       "        vertical-align: top;\n",
       "    }\n",
       "\n",
       "    .dataframe thead th {\n",
       "        text-align: right;\n",
       "    }\n",
       "</style>\n",
       "<table border=\"1\" class=\"dataframe\">\n",
       "  <thead>\n",
       "    <tr style=\"text-align: right;\">\n",
       "      <th></th>\n",
       "      <th>Zip Code</th>\n",
       "      <th>Total Population</th>\n",
       "      <th>Median Age</th>\n",
       "      <th>Total Males</th>\n",
       "      <th>Total Females</th>\n",
       "      <th>Total Households</th>\n",
       "      <th>Average Household Size</th>\n",
       "    </tr>\n",
       "  </thead>\n",
       "  <tbody>\n",
       "    <tr>\n",
       "      <th>0</th>\n",
       "      <td>91371</td>\n",
       "      <td>1</td>\n",
       "      <td>73.5</td>\n",
       "      <td>0</td>\n",
       "      <td>1</td>\n",
       "      <td>1</td>\n",
       "      <td>1.00</td>\n",
       "    </tr>\n",
       "    <tr>\n",
       "      <th>1</th>\n",
       "      <td>90001</td>\n",
       "      <td>57110</td>\n",
       "      <td>26.6</td>\n",
       "      <td>28468</td>\n",
       "      <td>28642</td>\n",
       "      <td>12971</td>\n",
       "      <td>4.40</td>\n",
       "    </tr>\n",
       "    <tr>\n",
       "      <th>2</th>\n",
       "      <td>90002</td>\n",
       "      <td>51223</td>\n",
       "      <td>25.5</td>\n",
       "      <td>24876</td>\n",
       "      <td>26347</td>\n",
       "      <td>11731</td>\n",
       "      <td>4.36</td>\n",
       "    </tr>\n",
       "  </tbody>\n",
       "</table>\n",
       "</div>"
      ],
      "text/plain": [
       "   Zip Code  Total Population  Median Age  Total Males  Total Females  \\\n",
       "0     91371                 1        73.5            0              1   \n",
       "1     90001             57110        26.6        28468          28642   \n",
       "2     90002             51223        25.5        24876          26347   \n",
       "\n",
       "   Total Households  Average Household Size  \n",
       "0                 1                    1.00  \n",
       "1             12971                    4.40  \n",
       "2             11731                    4.36  "
      ]
     },
     "execution_count": 76,
     "metadata": {},
     "output_type": "execute_result"
    }
   ],
   "source": [
    "census_by_zipcode_2010.head(3)"
   ]
  },
  {
   "cell_type": "code",
   "execution_count": 57,
   "id": "consolidated-photograph",
   "metadata": {},
   "outputs": [
    {
     "data": {
      "text/html": [
       "<div>\n",
       "<style scoped>\n",
       "    .dataframe tbody tr th:only-of-type {\n",
       "        vertical-align: middle;\n",
       "    }\n",
       "\n",
       "    .dataframe tbody tr th {\n",
       "        vertical-align: top;\n",
       "    }\n",
       "\n",
       "    .dataframe thead th {\n",
       "        text-align: right;\n",
       "    }\n",
       "</style>\n",
       "<table border=\"1\" class=\"dataframe\">\n",
       "  <thead>\n",
       "    <tr style=\"text-align: right;\">\n",
       "      <th></th>\n",
       "      <th>Council District</th>\n",
       "      <th>Pop2010</th>\n",
       "      <th>White_pop</th>\n",
       "      <th>Black_pop</th>\n",
       "      <th>Ameri_es_pop</th>\n",
       "      <th>Asian_pop</th>\n",
       "      <th>Hawn_pi_pop</th>\n",
       "      <th>Hispanic_pop</th>\n",
       "      <th>Other_pop</th>\n",
       "      <th>Multi_pop</th>\n",
       "      <th>...</th>\n",
       "      <th>Marhh_chd</th>\n",
       "      <th>Marhh_no_c</th>\n",
       "      <th>Mhh_child</th>\n",
       "      <th>Fhh_child</th>\n",
       "      <th>Families</th>\n",
       "      <th>Avg_family_size</th>\n",
       "      <th>Housing_units</th>\n",
       "      <th>Vacant</th>\n",
       "      <th>Owner_occ</th>\n",
       "      <th>Renter_occ</th>\n",
       "    </tr>\n",
       "  </thead>\n",
       "  <tbody>\n",
       "    <tr>\n",
       "      <th>0</th>\n",
       "      <td>1 - Gilbert Cedillo</td>\n",
       "      <td>245216.22</td>\n",
       "      <td>90857.00</td>\n",
       "      <td>7759.13</td>\n",
       "      <td>2991.73</td>\n",
       "      <td>43397.31</td>\n",
       "      <td>243.41</td>\n",
       "      <td>172971.55</td>\n",
       "      <td>88016.11</td>\n",
       "      <td>11951.53</td>\n",
       "      <td>...</td>\n",
       "      <td>17472.38</td>\n",
       "      <td>12582.79</td>\n",
       "      <td>3923.03</td>\n",
       "      <td>8697.64</td>\n",
       "      <td>51391.85</td>\n",
       "      <td>2.68</td>\n",
       "      <td>85219.33</td>\n",
       "      <td>6204.52</td>\n",
       "      <td>15219.58</td>\n",
       "      <td>63795.23</td>\n",
       "    </tr>\n",
       "    <tr>\n",
       "      <th>1</th>\n",
       "      <td>10 - Herb J. Wesson Jr.</td>\n",
       "      <td>261297.85</td>\n",
       "      <td>68458.12</td>\n",
       "      <td>67087.07</td>\n",
       "      <td>2307.88</td>\n",
       "      <td>43148.34</td>\n",
       "      <td>308.11</td>\n",
       "      <td>126872.43</td>\n",
       "      <td>68188.27</td>\n",
       "      <td>11800.07</td>\n",
       "      <td>...</td>\n",
       "      <td>17301.48</td>\n",
       "      <td>14284.08</td>\n",
       "      <td>3736.82</td>\n",
       "      <td>10927.24</td>\n",
       "      <td>57677.78</td>\n",
       "      <td>2.52</td>\n",
       "      <td>103637.46</td>\n",
       "      <td>7721.54</td>\n",
       "      <td>21764.30</td>\n",
       "      <td>74151.62</td>\n",
       "    </tr>\n",
       "    <tr>\n",
       "      <th>2</th>\n",
       "      <td>11 - Mike Bonin</td>\n",
       "      <td>250726.93</td>\n",
       "      <td>174020.70</td>\n",
       "      <td>13569.60</td>\n",
       "      <td>1214.43</td>\n",
       "      <td>30132.14</td>\n",
       "      <td>521.02</td>\n",
       "      <td>47243.32</td>\n",
       "      <td>18894.80</td>\n",
       "      <td>12374.24</td>\n",
       "      <td>...</td>\n",
       "      <td>17305.63</td>\n",
       "      <td>24708.30</td>\n",
       "      <td>1874.20</td>\n",
       "      <td>4632.45</td>\n",
       "      <td>55447.15</td>\n",
       "      <td>2.07</td>\n",
       "      <td>123048.13</td>\n",
       "      <td>9183.91</td>\n",
       "      <td>50753.74</td>\n",
       "      <td>63110.49</td>\n",
       "    </tr>\n",
       "  </tbody>\n",
       "</table>\n",
       "<p>3 rows × 41 columns</p>\n",
       "</div>"
      ],
      "text/plain": [
       "          Council District    Pop2010  White_pop  Black_pop  Ameri_es_pop  \\\n",
       "0      1 - Gilbert Cedillo  245216.22   90857.00    7759.13       2991.73   \n",
       "1  10 - Herb J. Wesson Jr.  261297.85   68458.12   67087.07       2307.88   \n",
       "2          11 - Mike Bonin  250726.93  174020.70   13569.60       1214.43   \n",
       "\n",
       "   Asian_pop  Hawn_pi_pop  Hispanic_pop  Other_pop  Multi_pop  ...  Marhh_chd  \\\n",
       "0   43397.31       243.41     172971.55   88016.11   11951.53  ...   17472.38   \n",
       "1   43148.34       308.11     126872.43   68188.27   11800.07  ...   17301.48   \n",
       "2   30132.14       521.02      47243.32   18894.80   12374.24  ...   17305.63   \n",
       "\n",
       "   Marhh_no_c  Mhh_child  Fhh_child  Families  Avg_family_size  Housing_units  \\\n",
       "0    12582.79    3923.03    8697.64  51391.85             2.68       85219.33   \n",
       "1    14284.08    3736.82   10927.24  57677.78             2.52      103637.46   \n",
       "2    24708.30    1874.20    4632.45  55447.15             2.07      123048.13   \n",
       "\n",
       "    Vacant  Owner_occ  Renter_occ  \n",
       "0  6204.52   15219.58    63795.23  \n",
       "1  7721.54   21764.30    74151.62  \n",
       "2  9183.91   50753.74    63110.49  \n",
       "\n",
       "[3 rows x 41 columns]"
      ]
     },
     "execution_count": 57,
     "metadata": {},
     "output_type": "execute_result"
    }
   ],
   "source": [
    "census_by_council_district.head(3)"
   ]
  },
  {
   "cell_type": "code",
   "execution_count": 62,
   "id": "critical-evening",
   "metadata": {},
   "outputs": [
    {
     "data": {
      "text/plain": [
       "array(['1 - Gilbert Cedillo', '10 - Herb J. Wesson Jr.',\n",
       "       '11 - Mike Bonin', '12 - Mitchell Englander',\n",
       "       \"13 - Mitch O'Farrell\", '14 - Jose Huizar', '15 - Joe Buscaino',\n",
       "       '2 - Paul Krekorian', '3 - Bob Blumenfield', '4 - David Ryu',\n",
       "       '5 - Paul Koretz', '6 - Nury Martinez', '7 - Monica Rodriguez',\n",
       "       '8 - Marqueece Harris-Dawson', '9 - Curren D. Price Jr.'],\n",
       "      dtype=object)"
      ]
     },
     "execution_count": 62,
     "metadata": {},
     "output_type": "execute_result"
    }
   ],
   "source": [
    "pd.unique(census_by_council_district['Council District'])"
   ]
  },
  {
   "cell_type": "code",
   "execution_count": 60,
   "id": "acute-disney",
   "metadata": {},
   "outputs": [
    {
     "data": {
      "text/plain": [
       "['Council District',\n",
       " 'Pop2010',\n",
       " 'White_pop',\n",
       " 'Black_pop',\n",
       " 'Ameri_es_pop',\n",
       " 'Asian_pop',\n",
       " 'Hawn_pi_pop',\n",
       " 'Hispanic_pop',\n",
       " 'Other_pop',\n",
       " 'Multi_pop',\n",
       " 'Male_pop',\n",
       " 'Female_pop',\n",
       " 'Age_under5Ê',\n",
       " 'Age_5_9',\n",
       " 'Age_10_14',\n",
       " 'Age_15_19',\n",
       " 'Age_20_24',\n",
       " 'Age_25_34',\n",
       " 'Age_35_44',\n",
       " 'Age_45_54',\n",
       " 'Age_55_64',\n",
       " 'Age_65_74',\n",
       " 'Age_75_84',\n",
       " 'Age_85_up',\n",
       " 'Median_age',\n",
       " 'Med_age_male',\n",
       " 'Med_age_female',\n",
       " 'Households',\n",
       " 'Avg_hh_size',\n",
       " 'HouseholdsHsehld_1_m',\n",
       " 'Hsehld_1_f',\n",
       " 'Marhh_chd',\n",
       " 'Marhh_no_c',\n",
       " 'Mhh_child',\n",
       " 'Fhh_child',\n",
       " 'Families',\n",
       " 'Avg_family_size',\n",
       " 'Housing_units',\n",
       " 'Vacant',\n",
       " 'Owner_occ',\n",
       " 'Renter_occ']"
      ]
     },
     "execution_count": 60,
     "metadata": {},
     "output_type": "execute_result"
    }
   ],
   "source": [
    "list(census_by_council_district)"
   ]
  },
  {
   "cell_type": "code",
   "execution_count": 58,
   "id": "metropolitan-satisfaction",
   "metadata": {},
   "outputs": [
    {
     "data": {
      "text/html": [
       "<div>\n",
       "<style scoped>\n",
       "    .dataframe tbody tr th:only-of-type {\n",
       "        vertical-align: middle;\n",
       "    }\n",
       "\n",
       "    .dataframe tbody tr th {\n",
       "        vertical-align: top;\n",
       "    }\n",
       "\n",
       "    .dataframe thead th {\n",
       "        text-align: right;\n",
       "    }\n",
       "</style>\n",
       "<table border=\"1\" class=\"dataframe\">\n",
       "  <thead>\n",
       "    <tr style=\"text-align: right;\">\n",
       "      <th></th>\n",
       "      <th>NC_Name</th>\n",
       "      <th>Total Population</th>\n",
       "      <th>White_pop</th>\n",
       "      <th>Black_pop</th>\n",
       "      <th>Ameri_es_pop</th>\n",
       "      <th>Asian_pop</th>\n",
       "      <th>Hawn_pi_pop</th>\n",
       "      <th>Hispanic_pop</th>\n",
       "      <th>Other_pop</th>\n",
       "      <th>Multi_pop</th>\n",
       "      <th>In_Poverty</th>\n",
       "      <th>Owner_occ</th>\n",
       "      <th>Renter_occ</th>\n",
       "    </tr>\n",
       "  </thead>\n",
       "  <tbody>\n",
       "    <tr>\n",
       "      <th>0</th>\n",
       "      <td>ARLETA NC</td>\n",
       "      <td>34932.84</td>\n",
       "      <td>2882.67</td>\n",
       "      <td>409.67</td>\n",
       "      <td>67.64</td>\n",
       "      <td>4061.31</td>\n",
       "      <td>34.96</td>\n",
       "      <td>NaN</td>\n",
       "      <td>37.58</td>\n",
       "      <td>245.05</td>\n",
       "      <td>34700.56</td>\n",
       "      <td>5590.27</td>\n",
       "      <td>2159.94</td>\n",
       "    </tr>\n",
       "    <tr>\n",
       "      <th>1</th>\n",
       "      <td>ARROYO SECO NC</td>\n",
       "      <td>21711.47</td>\n",
       "      <td>4640.35</td>\n",
       "      <td>782.76</td>\n",
       "      <td>89.51</td>\n",
       "      <td>3215.37</td>\n",
       "      <td>25.38</td>\n",
       "      <td>NaN</td>\n",
       "      <td>66.98</td>\n",
       "      <td>263.12</td>\n",
       "      <td>21582.85</td>\n",
       "      <td>4138.14</td>\n",
       "      <td>3235.61</td>\n",
       "    </tr>\n",
       "    <tr>\n",
       "      <th>2</th>\n",
       "      <td>ATWATER VILLAGE NC</td>\n",
       "      <td>11385.40</td>\n",
       "      <td>3450.70</td>\n",
       "      <td>127.80</td>\n",
       "      <td>0.15</td>\n",
       "      <td>2379.08</td>\n",
       "      <td>71.85</td>\n",
       "      <td>NaN</td>\n",
       "      <td>0.37</td>\n",
       "      <td>252.76</td>\n",
       "      <td>11345.53</td>\n",
       "      <td>1877.30</td>\n",
       "      <td>2902.89</td>\n",
       "    </tr>\n",
       "  </tbody>\n",
       "</table>\n",
       "</div>"
      ],
      "text/plain": [
       "              NC_Name  Total Population  White_pop  Black_pop  Ameri_es_pop  \\\n",
       "0           ARLETA NC          34932.84    2882.67     409.67         67.64   \n",
       "1      ARROYO SECO NC          21711.47    4640.35     782.76         89.51   \n",
       "2  ATWATER VILLAGE NC          11385.40    3450.70     127.80          0.15   \n",
       "\n",
       "   Asian_pop  Hawn_pi_pop  Hispanic_pop  Other_pop  Multi_pop  In_Poverty  \\\n",
       "0    4061.31        34.96           NaN      37.58     245.05    34700.56   \n",
       "1    3215.37        25.38           NaN      66.98     263.12    21582.85   \n",
       "2    2379.08        71.85           NaN       0.37     252.76    11345.53   \n",
       "\n",
       "   Owner_occ  Renter_occ  \n",
       "0    5590.27     2159.94  \n",
       "1    4138.14     3235.61  \n",
       "2    1877.30     2902.89  "
      ]
     },
     "execution_count": 58,
     "metadata": {},
     "output_type": "execute_result"
    }
   ],
   "source": [
    "census_by_neighborhood_council.head(3)"
   ]
  },
  {
   "cell_type": "code",
   "execution_count": 59,
   "id": "present-brick",
   "metadata": {},
   "outputs": [
    {
     "data": {
      "text/plain": [
       "array(['Newton', 'Pacific', 'Hollywood', 'Central', 'Northeast',\n",
       "       'Hollenbeck', 'Southwest', 'Southeast', 'Rampart', 'Olympic',\n",
       "       'Wilshire', '77th Street', 'Harbor', 'West LA', 'Van Nuys',\n",
       "       'West Valley', 'Mission', 'Topanga', 'N Hollywood', 'Foothill',\n",
       "       'Devonshire'], dtype=object)"
      ]
     },
     "execution_count": 59,
     "metadata": {},
     "output_type": "execute_result"
    }
   ],
   "source": [
    "pd.unique(to2019['AREA NAME'])"
   ]
  },
  {
   "cell_type": "code",
   "execution_count": 61,
   "id": "positive-works",
   "metadata": {},
   "outputs": [
    {
     "data": {
      "text/plain": [
       "array(['ARLETA NC', 'ARROYO SECO NC', 'ATWATER VILLAGE NC',\n",
       "       'BEL AIR-BEVERLY CREST NC', 'BOYLE HEIGHTS NC', 'CANOGA PARK NC',\n",
       "       'CENTRAL ALAMEDA NC', 'CENTRAL HOLLYWOOD NC',\n",
       "       'CENTRAL SAN PEDRO NC', 'CHATSWORTH NC', 'COASTAL SAN PEDRO NC',\n",
       "       'COMMUNITY AND NEIGHBORS FOR NINTH DISTRICT UNITY (CANNDU)',\n",
       "       'DEL REY NC', 'DOWNTOWN LOS ANGELES', 'EAGLE ROCK NC',\n",
       "       'EAST HOLLYWOOD NC', 'ELYSIAN VALLEY RIVERSIDE NC',\n",
       "       'EMPOWERMENT CONGRESS CENTRAL AREA NDC',\n",
       "       'EMPOWERMENT CONGRESS NORTH AREA NDC',\n",
       "       'EMPOWERMENT CONGRESS SOUTHEAST AREA NDC',\n",
       "       'EMPOWERMENT CONGRESS SOUTHWEST AREA NDC',\n",
       "       'EMPOWERMENT CONGRESS WEST AREA NDC', 'ENCINO NC',\n",
       "       'FOOTHILL TRAILS DISTRICT NC', 'GLASSELL PARK NC',\n",
       "       'GRANADA HILLS NORTH NC', 'GRANADA HILLS SOUTH NC',\n",
       "       'GREATER CYPRESS PARK NC', 'GREATER ECHO PARK ELYSIAN NC',\n",
       "       'GREATER TOLUCA LAKE NC', 'GREATER VALLEY GLEN COUNCIL',\n",
       "       'GREATER WILSHIRE NC', 'HARBOR CITY NC', 'HARBOR GATEWAY NORTH NC',\n",
       "       'HARBOR GATEWAY SOUTH NC', 'HERMON NC', 'HISTORIC CULTURAL NC',\n",
       "       'HISTORIC HIGHLAND PARK NC', 'HOLLYWOOD HILLS WEST NC',\n",
       "       'HOLLYWOOD STUDIO DISTRICT NC', 'HOLLYWOOD UNITED NC', 'LA-32 NC',\n",
       "       'LAKE BALBOA NC', 'LINCOLN HEIGHTS NC', 'LOS FELIZ NC',\n",
       "       'MACARTHUR PARK NC', 'MAR VISTA CC', 'MID CITY NC',\n",
       "       'MID CITY WEST CC', 'MID-TOWN NORTH HOLLYWOOD NC',\n",
       "       'MISSION HILLS NC', 'NC VALLEY VILLAGE', 'NC WESTCHESTER/PLAYA',\n",
       "       'NOHO WEST NC', 'NORTH HILLS EAST', 'NORTH HILLS WEST NC',\n",
       "       'NORTH HOLLYWOOD NORTHEAST NC', 'NORTHRIDGE EAST',\n",
       "       'NORTHRIDGE SOUTH NC', 'NORTHRIDGE WEST', 'NORTHWEST SAN PEDRO NC',\n",
       "       'OLYMPIC PARK NC', 'P.I.C.O. NC', 'PACOIMA NC', 'PALMS NC',\n",
       "       'PANORAMA CITY NC', 'PARK MESA HEIGHTS CC', 'PICO UNION NC',\n",
       "       'PORTER RANCH NC', 'RAMPART VILLAGE NC', 'RESEDA NC',\n",
       "       'SHERMAN OAKS NC', 'SILVER LAKE NC', 'SOUTH CENTRAL NC',\n",
       "       'SOUTH ROBERTSON NC', 'STUDIO CITY NC', 'SUN VALLEY AREA NC',\n",
       "       'SUNLAND-TUJUNGA NC', 'SYLMAR NC', 'TARZANA NC',\n",
       "       'UNITED NEIGHBORHOODS OF THE HISTORIC ARLINGTON HEIGHTS, WEST ADAMS, AND JEFFERSON PARK COMMUNITY',\n",
       "       'VAN NUYS NC', 'VENICE NC', 'VOICES OF 90037', 'WATTS NC',\n",
       "       'WEST ADAMS NC', 'WEST HILLS NC', 'WEST LOS ANGELES NC',\n",
       "       'WESTLAKE NORTH NC', 'WESTLAKE SOUTH NC', 'WESTSIDE NC',\n",
       "       'WESTWOOD NC', 'WILMINGTON NC', 'WILSHIRE CENTER - KOREATOWN NC',\n",
       "       'WINNETKA NC', 'WOODLAND HILLS-WARNER CENTER NC', 'ZAPATA KING NC'],\n",
       "      dtype=object)"
      ]
     },
     "execution_count": 61,
     "metadata": {},
     "output_type": "execute_result"
    }
   ],
   "source": [
    "pd.unique(census_by_neighborhood_council['NC_Name'])"
   ]
  },
  {
   "cell_type": "markdown",
   "id": "amazing-installation",
   "metadata": {},
   "source": [
    "# LA income data"
   ]
  },
  {
   "cell_type": "code",
   "execution_count": 65,
   "id": "irish-senegal",
   "metadata": {},
   "outputs": [],
   "source": [
    "income = pd.read_csv('/Users/philippmetzger/OneDrive/PHILIPP/NOVA IMS/2nd Semester/02 Data Visualisation 4 ECTS/00 Projects/Project 2/Potential datasets/Median Household Income/Median_household_income_2012_2015.csv')"
   ]
  },
  {
   "cell_type": "code",
   "execution_count": 74,
   "id": "neural-louis",
   "metadata": {},
   "outputs": [
    {
     "data": {
      "text/plain": [
       "array([2015, 2012, 2013, 2014])"
      ]
     },
     "execution_count": 74,
     "metadata": {},
     "output_type": "execute_result"
    }
   ],
   "source": [
    "pd.unique(income['calendar_year'])"
   ]
  },
  {
   "cell_type": "code",
   "execution_count": 73,
   "id": "tender-skill",
   "metadata": {},
   "outputs": [
    {
     "data": {
      "text/html": [
       "<div>\n",
       "<style scoped>\n",
       "    .dataframe tbody tr th:only-of-type {\n",
       "        vertical-align: middle;\n",
       "    }\n",
       "\n",
       "    .dataframe tbody tr th {\n",
       "        vertical-align: top;\n",
       "    }\n",
       "\n",
       "    .dataframe thead th {\n",
       "        text-align: right;\n",
       "    }\n",
       "</style>\n",
       "<table border=\"1\" class=\"dataframe\">\n",
       "  <thead>\n",
       "    <tr style=\"text-align: right;\">\n",
       "      <th></th>\n",
       "      <th>category</th>\n",
       "      <th>indicator</th>\n",
       "      <th>sub_indicator</th>\n",
       "      <th>locality</th>\n",
       "      <th>gender</th>\n",
       "      <th>council_district</th>\n",
       "      <th>fiscal_year</th>\n",
       "      <th>fy_qtr</th>\n",
       "      <th>calendar_year</th>\n",
       "      <th>cy_qtr</th>\n",
       "      <th>quarter_start</th>\n",
       "      <th>as_of_date</th>\n",
       "      <th>unit_of_measure</th>\n",
       "      <th>unit_text</th>\n",
       "      <th>value</th>\n",
       "      <th>source</th>\n",
       "    </tr>\n",
       "  </thead>\n",
       "  <tbody>\n",
       "    <tr>\n",
       "      <th>52</th>\n",
       "      <td>DEMOGRAPHICS</td>\n",
       "      <td>MEDIAN HOUSEHOLD INCOME</td>\n",
       "      <td>NaN</td>\n",
       "      <td>LOS ANGELES CITY</td>\n",
       "      <td>NaN</td>\n",
       "      <td>1</td>\n",
       "      <td>NaN</td>\n",
       "      <td>NaN</td>\n",
       "      <td>2014</td>\n",
       "      <td>NaN</td>\n",
       "      <td>NaN</td>\n",
       "      <td>04-11-2017</td>\n",
       "      <td>$</td>\n",
       "      <td>NaN</td>\n",
       "      <td>38972.918</td>\n",
       "      <td>U.S. CENSUS BUREAU; BEACON ECONOMICS</td>\n",
       "    </tr>\n",
       "    <tr>\n",
       "      <th>40</th>\n",
       "      <td>DEMOGRAPHICS</td>\n",
       "      <td>MEDIAN HOUSEHOLD INCOME</td>\n",
       "      <td>NaN</td>\n",
       "      <td>LOS ANGELES CITY</td>\n",
       "      <td>NaN</td>\n",
       "      <td>10</td>\n",
       "      <td>NaN</td>\n",
       "      <td>NaN</td>\n",
       "      <td>2014</td>\n",
       "      <td>NaN</td>\n",
       "      <td>NaN</td>\n",
       "      <td>04-11-2017</td>\n",
       "      <td>$</td>\n",
       "      <td>NaN</td>\n",
       "      <td>39698.114</td>\n",
       "      <td>U.S. CENSUS BUREAU; BEACON ECONOMICS</td>\n",
       "    </tr>\n",
       "    <tr>\n",
       "      <th>6</th>\n",
       "      <td>DEMOGRAPHICS</td>\n",
       "      <td>MEDIAN HOUSEHOLD INCOME</td>\n",
       "      <td>NaN</td>\n",
       "      <td>LOS ANGELES CITY</td>\n",
       "      <td>NaN</td>\n",
       "      <td>11</td>\n",
       "      <td>NaN</td>\n",
       "      <td>NaN</td>\n",
       "      <td>2014</td>\n",
       "      <td>NaN</td>\n",
       "      <td>NaN</td>\n",
       "      <td>04-11-2017</td>\n",
       "      <td>$</td>\n",
       "      <td>NaN</td>\n",
       "      <td>81420.187</td>\n",
       "      <td>U.S. CENSUS BUREAU; BEACON ECONOMICS</td>\n",
       "    </tr>\n",
       "    <tr>\n",
       "      <th>31</th>\n",
       "      <td>DEMOGRAPHICS</td>\n",
       "      <td>MEDIAN HOUSEHOLD INCOME</td>\n",
       "      <td>NaN</td>\n",
       "      <td>LOS ANGELES CITY</td>\n",
       "      <td>NaN</td>\n",
       "      <td>12</td>\n",
       "      <td>NaN</td>\n",
       "      <td>NaN</td>\n",
       "      <td>2014</td>\n",
       "      <td>NaN</td>\n",
       "      <td>NaN</td>\n",
       "      <td>04-11-2017</td>\n",
       "      <td>$</td>\n",
       "      <td>NaN</td>\n",
       "      <td>70598.213</td>\n",
       "      <td>U.S. CENSUS BUREAU; BEACON ECONOMICS</td>\n",
       "    </tr>\n",
       "    <tr>\n",
       "      <th>34</th>\n",
       "      <td>DEMOGRAPHICS</td>\n",
       "      <td>MEDIAN HOUSEHOLD INCOME</td>\n",
       "      <td>NaN</td>\n",
       "      <td>LOS ANGELES CITY</td>\n",
       "      <td>NaN</td>\n",
       "      <td>13</td>\n",
       "      <td>NaN</td>\n",
       "      <td>NaN</td>\n",
       "      <td>2014</td>\n",
       "      <td>NaN</td>\n",
       "      <td>NaN</td>\n",
       "      <td>04-11-2017</td>\n",
       "      <td>$</td>\n",
       "      <td>NaN</td>\n",
       "      <td>40674.969</td>\n",
       "      <td>U.S. CENSUS BUREAU; BEACON ECONOMICS</td>\n",
       "    </tr>\n",
       "    <tr>\n",
       "      <th>20</th>\n",
       "      <td>DEMOGRAPHICS</td>\n",
       "      <td>MEDIAN HOUSEHOLD INCOME</td>\n",
       "      <td>NaN</td>\n",
       "      <td>LOS ANGELES CITY</td>\n",
       "      <td>NaN</td>\n",
       "      <td>14</td>\n",
       "      <td>NaN</td>\n",
       "      <td>NaN</td>\n",
       "      <td>2014</td>\n",
       "      <td>NaN</td>\n",
       "      <td>NaN</td>\n",
       "      <td>04-11-2017</td>\n",
       "      <td>$</td>\n",
       "      <td>NaN</td>\n",
       "      <td>36965.552</td>\n",
       "      <td>U.S. CENSUS BUREAU; BEACON ECONOMICS</td>\n",
       "    </tr>\n",
       "    <tr>\n",
       "      <th>57</th>\n",
       "      <td>DEMOGRAPHICS</td>\n",
       "      <td>MEDIAN HOUSEHOLD INCOME</td>\n",
       "      <td>NaN</td>\n",
       "      <td>LOS ANGELES CITY</td>\n",
       "      <td>NaN</td>\n",
       "      <td>15</td>\n",
       "      <td>NaN</td>\n",
       "      <td>NaN</td>\n",
       "      <td>2014</td>\n",
       "      <td>NaN</td>\n",
       "      <td>NaN</td>\n",
       "      <td>04-11-2017</td>\n",
       "      <td>$</td>\n",
       "      <td>NaN</td>\n",
       "      <td>45478.129</td>\n",
       "      <td>U.S. CENSUS BUREAU; BEACON ECONOMICS</td>\n",
       "    </tr>\n",
       "    <tr>\n",
       "      <th>62</th>\n",
       "      <td>DEMOGRAPHICS</td>\n",
       "      <td>MEDIAN HOUSEHOLD INCOME</td>\n",
       "      <td>NaN</td>\n",
       "      <td>LOS ANGELES CITY</td>\n",
       "      <td>NaN</td>\n",
       "      <td>2</td>\n",
       "      <td>NaN</td>\n",
       "      <td>NaN</td>\n",
       "      <td>2014</td>\n",
       "      <td>NaN</td>\n",
       "      <td>NaN</td>\n",
       "      <td>04-11-2017</td>\n",
       "      <td>$</td>\n",
       "      <td>NaN</td>\n",
       "      <td>55856.629</td>\n",
       "      <td>U.S. CENSUS BUREAU; BEACON ECONOMICS</td>\n",
       "    </tr>\n",
       "    <tr>\n",
       "      <th>56</th>\n",
       "      <td>DEMOGRAPHICS</td>\n",
       "      <td>MEDIAN HOUSEHOLD INCOME</td>\n",
       "      <td>NaN</td>\n",
       "      <td>LOS ANGELES CITY</td>\n",
       "      <td>NaN</td>\n",
       "      <td>3</td>\n",
       "      <td>NaN</td>\n",
       "      <td>NaN</td>\n",
       "      <td>2014</td>\n",
       "      <td>NaN</td>\n",
       "      <td>NaN</td>\n",
       "      <td>04-11-2017</td>\n",
       "      <td>$</td>\n",
       "      <td>NaN</td>\n",
       "      <td>67353.457</td>\n",
       "      <td>U.S. CENSUS BUREAU; BEACON ECONOMICS</td>\n",
       "    </tr>\n",
       "    <tr>\n",
       "      <th>38</th>\n",
       "      <td>DEMOGRAPHICS</td>\n",
       "      <td>MEDIAN HOUSEHOLD INCOME</td>\n",
       "      <td>NaN</td>\n",
       "      <td>LOS ANGELES CITY</td>\n",
       "      <td>NaN</td>\n",
       "      <td>4</td>\n",
       "      <td>NaN</td>\n",
       "      <td>NaN</td>\n",
       "      <td>2014</td>\n",
       "      <td>NaN</td>\n",
       "      <td>NaN</td>\n",
       "      <td>04-11-2017</td>\n",
       "      <td>$</td>\n",
       "      <td>NaN</td>\n",
       "      <td>62100.644</td>\n",
       "      <td>U.S. CENSUS BUREAU; BEACON ECONOMICS</td>\n",
       "    </tr>\n",
       "    <tr>\n",
       "      <th>16</th>\n",
       "      <td>DEMOGRAPHICS</td>\n",
       "      <td>MEDIAN HOUSEHOLD INCOME</td>\n",
       "      <td>NaN</td>\n",
       "      <td>LOS ANGELES CITY</td>\n",
       "      <td>NaN</td>\n",
       "      <td>5</td>\n",
       "      <td>NaN</td>\n",
       "      <td>NaN</td>\n",
       "      <td>2014</td>\n",
       "      <td>NaN</td>\n",
       "      <td>NaN</td>\n",
       "      <td>04-11-2017</td>\n",
       "      <td>$</td>\n",
       "      <td>NaN</td>\n",
       "      <td>67932.214</td>\n",
       "      <td>U.S. CENSUS BUREAU; BEACON ECONOMICS</td>\n",
       "    </tr>\n",
       "    <tr>\n",
       "      <th>23</th>\n",
       "      <td>DEMOGRAPHICS</td>\n",
       "      <td>MEDIAN HOUSEHOLD INCOME</td>\n",
       "      <td>NaN</td>\n",
       "      <td>LOS ANGELES CITY</td>\n",
       "      <td>NaN</td>\n",
       "      <td>6</td>\n",
       "      <td>NaN</td>\n",
       "      <td>NaN</td>\n",
       "      <td>2014</td>\n",
       "      <td>NaN</td>\n",
       "      <td>NaN</td>\n",
       "      <td>04-11-2017</td>\n",
       "      <td>$</td>\n",
       "      <td>NaN</td>\n",
       "      <td>48767.790</td>\n",
       "      <td>U.S. CENSUS BUREAU; BEACON ECONOMICS</td>\n",
       "    </tr>\n",
       "    <tr>\n",
       "      <th>21</th>\n",
       "      <td>DEMOGRAPHICS</td>\n",
       "      <td>MEDIAN HOUSEHOLD INCOME</td>\n",
       "      <td>NaN</td>\n",
       "      <td>LOS ANGELES CITY</td>\n",
       "      <td>NaN</td>\n",
       "      <td>7</td>\n",
       "      <td>NaN</td>\n",
       "      <td>NaN</td>\n",
       "      <td>2014</td>\n",
       "      <td>NaN</td>\n",
       "      <td>NaN</td>\n",
       "      <td>04-11-2017</td>\n",
       "      <td>$</td>\n",
       "      <td>NaN</td>\n",
       "      <td>56885.159</td>\n",
       "      <td>U.S. CENSUS BUREAU; BEACON ECONOMICS</td>\n",
       "    </tr>\n",
       "    <tr>\n",
       "      <th>18</th>\n",
       "      <td>DEMOGRAPHICS</td>\n",
       "      <td>MEDIAN HOUSEHOLD INCOME</td>\n",
       "      <td>NaN</td>\n",
       "      <td>LOS ANGELES CITY</td>\n",
       "      <td>NaN</td>\n",
       "      <td>8</td>\n",
       "      <td>NaN</td>\n",
       "      <td>NaN</td>\n",
       "      <td>2014</td>\n",
       "      <td>NaN</td>\n",
       "      <td>NaN</td>\n",
       "      <td>04-11-2017</td>\n",
       "      <td>$</td>\n",
       "      <td>NaN</td>\n",
       "      <td>32617.141</td>\n",
       "      <td>U.S. CENSUS BUREAU; BEACON ECONOMICS</td>\n",
       "    </tr>\n",
       "    <tr>\n",
       "      <th>13</th>\n",
       "      <td>DEMOGRAPHICS</td>\n",
       "      <td>MEDIAN HOUSEHOLD INCOME</td>\n",
       "      <td>NaN</td>\n",
       "      <td>LOS ANGELES CITY</td>\n",
       "      <td>NaN</td>\n",
       "      <td>9</td>\n",
       "      <td>NaN</td>\n",
       "      <td>NaN</td>\n",
       "      <td>2014</td>\n",
       "      <td>NaN</td>\n",
       "      <td>NaN</td>\n",
       "      <td>04-11-2017</td>\n",
       "      <td>$</td>\n",
       "      <td>NaN</td>\n",
       "      <td>29405.562</td>\n",
       "      <td>U.S. CENSUS BUREAU; BEACON ECONOMICS</td>\n",
       "    </tr>\n",
       "    <tr>\n",
       "      <th>10</th>\n",
       "      <td>DEMOGRAPHICS</td>\n",
       "      <td>MEDIAN HOUSEHOLD INCOME</td>\n",
       "      <td>NaN</td>\n",
       "      <td>LOS ANGELES CITY</td>\n",
       "      <td>NaN</td>\n",
       "      <td>CITY TOTAL</td>\n",
       "      <td>NaN</td>\n",
       "      <td>NaN</td>\n",
       "      <td>2014</td>\n",
       "      <td>NaN</td>\n",
       "      <td>NaN</td>\n",
       "      <td>04-11-2017</td>\n",
       "      <td>$</td>\n",
       "      <td>NaN</td>\n",
       "      <td>50544.000</td>\n",
       "      <td>U.S. CENSUS BUREAU; BEACON ECONOMICS</td>\n",
       "    </tr>\n",
       "    <tr>\n",
       "      <th>24</th>\n",
       "      <td>DEMOGRAPHICS</td>\n",
       "      <td>MEDIAN HOUSEHOLD INCOME</td>\n",
       "      <td>NaN</td>\n",
       "      <td>LOS ANGELES COUNTY</td>\n",
       "      <td>NaN</td>\n",
       "      <td>NaN</td>\n",
       "      <td>NaN</td>\n",
       "      <td>NaN</td>\n",
       "      <td>2014</td>\n",
       "      <td>NaN</td>\n",
       "      <td>NaN</td>\n",
       "      <td>04-11-2017</td>\n",
       "      <td>$</td>\n",
       "      <td>NaN</td>\n",
       "      <td>55746.000</td>\n",
       "      <td>U.S. CENSUS BUREAU; BEACON ECONOMICS</td>\n",
       "    </tr>\n",
       "  </tbody>\n",
       "</table>\n",
       "</div>"
      ],
      "text/plain": [
       "        category                indicator  sub_indicator            locality  \\\n",
       "52  DEMOGRAPHICS  MEDIAN HOUSEHOLD INCOME            NaN    LOS ANGELES CITY   \n",
       "40  DEMOGRAPHICS  MEDIAN HOUSEHOLD INCOME            NaN    LOS ANGELES CITY   \n",
       "6   DEMOGRAPHICS  MEDIAN HOUSEHOLD INCOME            NaN    LOS ANGELES CITY   \n",
       "31  DEMOGRAPHICS  MEDIAN HOUSEHOLD INCOME            NaN    LOS ANGELES CITY   \n",
       "34  DEMOGRAPHICS  MEDIAN HOUSEHOLD INCOME            NaN    LOS ANGELES CITY   \n",
       "20  DEMOGRAPHICS  MEDIAN HOUSEHOLD INCOME            NaN    LOS ANGELES CITY   \n",
       "57  DEMOGRAPHICS  MEDIAN HOUSEHOLD INCOME            NaN    LOS ANGELES CITY   \n",
       "62  DEMOGRAPHICS  MEDIAN HOUSEHOLD INCOME            NaN    LOS ANGELES CITY   \n",
       "56  DEMOGRAPHICS  MEDIAN HOUSEHOLD INCOME            NaN    LOS ANGELES CITY   \n",
       "38  DEMOGRAPHICS  MEDIAN HOUSEHOLD INCOME            NaN    LOS ANGELES CITY   \n",
       "16  DEMOGRAPHICS  MEDIAN HOUSEHOLD INCOME            NaN    LOS ANGELES CITY   \n",
       "23  DEMOGRAPHICS  MEDIAN HOUSEHOLD INCOME            NaN    LOS ANGELES CITY   \n",
       "21  DEMOGRAPHICS  MEDIAN HOUSEHOLD INCOME            NaN    LOS ANGELES CITY   \n",
       "18  DEMOGRAPHICS  MEDIAN HOUSEHOLD INCOME            NaN    LOS ANGELES CITY   \n",
       "13  DEMOGRAPHICS  MEDIAN HOUSEHOLD INCOME            NaN    LOS ANGELES CITY   \n",
       "10  DEMOGRAPHICS  MEDIAN HOUSEHOLD INCOME            NaN    LOS ANGELES CITY   \n",
       "24  DEMOGRAPHICS  MEDIAN HOUSEHOLD INCOME            NaN  LOS ANGELES COUNTY   \n",
       "\n",
       "    gender council_district  fiscal_year  fy_qtr  calendar_year  cy_qtr  \\\n",
       "52     NaN                1          NaN     NaN           2014     NaN   \n",
       "40     NaN               10          NaN     NaN           2014     NaN   \n",
       "6      NaN               11          NaN     NaN           2014     NaN   \n",
       "31     NaN               12          NaN     NaN           2014     NaN   \n",
       "34     NaN               13          NaN     NaN           2014     NaN   \n",
       "20     NaN               14          NaN     NaN           2014     NaN   \n",
       "57     NaN               15          NaN     NaN           2014     NaN   \n",
       "62     NaN                2          NaN     NaN           2014     NaN   \n",
       "56     NaN                3          NaN     NaN           2014     NaN   \n",
       "38     NaN                4          NaN     NaN           2014     NaN   \n",
       "16     NaN                5          NaN     NaN           2014     NaN   \n",
       "23     NaN                6          NaN     NaN           2014     NaN   \n",
       "21     NaN                7          NaN     NaN           2014     NaN   \n",
       "18     NaN                8          NaN     NaN           2014     NaN   \n",
       "13     NaN                9          NaN     NaN           2014     NaN   \n",
       "10     NaN       CITY TOTAL          NaN     NaN           2014     NaN   \n",
       "24     NaN              NaN          NaN     NaN           2014     NaN   \n",
       "\n",
       "    quarter_start  as_of_date unit_of_measure  unit_text      value  \\\n",
       "52            NaN  04-11-2017               $        NaN  38972.918   \n",
       "40            NaN  04-11-2017               $        NaN  39698.114   \n",
       "6             NaN  04-11-2017               $        NaN  81420.187   \n",
       "31            NaN  04-11-2017               $        NaN  70598.213   \n",
       "34            NaN  04-11-2017               $        NaN  40674.969   \n",
       "20            NaN  04-11-2017               $        NaN  36965.552   \n",
       "57            NaN  04-11-2017               $        NaN  45478.129   \n",
       "62            NaN  04-11-2017               $        NaN  55856.629   \n",
       "56            NaN  04-11-2017               $        NaN  67353.457   \n",
       "38            NaN  04-11-2017               $        NaN  62100.644   \n",
       "16            NaN  04-11-2017               $        NaN  67932.214   \n",
       "23            NaN  04-11-2017               $        NaN  48767.790   \n",
       "21            NaN  04-11-2017               $        NaN  56885.159   \n",
       "18            NaN  04-11-2017               $        NaN  32617.141   \n",
       "13            NaN  04-11-2017               $        NaN  29405.562   \n",
       "10            NaN  04-11-2017               $        NaN  50544.000   \n",
       "24            NaN  04-11-2017               $        NaN  55746.000   \n",
       "\n",
       "                                  source  \n",
       "52  U.S. CENSUS BUREAU; BEACON ECONOMICS  \n",
       "40  U.S. CENSUS BUREAU; BEACON ECONOMICS  \n",
       "6   U.S. CENSUS BUREAU; BEACON ECONOMICS  \n",
       "31  U.S. CENSUS BUREAU; BEACON ECONOMICS  \n",
       "34  U.S. CENSUS BUREAU; BEACON ECONOMICS  \n",
       "20  U.S. CENSUS BUREAU; BEACON ECONOMICS  \n",
       "57  U.S. CENSUS BUREAU; BEACON ECONOMICS  \n",
       "62  U.S. CENSUS BUREAU; BEACON ECONOMICS  \n",
       "56  U.S. CENSUS BUREAU; BEACON ECONOMICS  \n",
       "38  U.S. CENSUS BUREAU; BEACON ECONOMICS  \n",
       "16  U.S. CENSUS BUREAU; BEACON ECONOMICS  \n",
       "23  U.S. CENSUS BUREAU; BEACON ECONOMICS  \n",
       "21  U.S. CENSUS BUREAU; BEACON ECONOMICS  \n",
       "18  U.S. CENSUS BUREAU; BEACON ECONOMICS  \n",
       "13  U.S. CENSUS BUREAU; BEACON ECONOMICS  \n",
       "10  U.S. CENSUS BUREAU; BEACON ECONOMICS  \n",
       "24  U.S. CENSUS BUREAU; BEACON ECONOMICS  "
      ]
     },
     "execution_count": 73,
     "metadata": {},
     "output_type": "execute_result"
    }
   ],
   "source": [
    "income[income['calendar_year']==2014].sort_values(by='council_district')"
   ]
  },
  {
   "cell_type": "code",
   "execution_count": null,
   "id": "ready-arrangement",
   "metadata": {},
   "outputs": [],
   "source": []
  }
 ],
 "metadata": {
  "kernelspec": {
   "display_name": "Python 3",
   "language": "python",
   "name": "python3"
  },
  "language_info": {
   "codemirror_mode": {
    "name": "ipython",
    "version": 3
   },
   "file_extension": ".py",
   "mimetype": "text/x-python",
   "name": "python",
   "nbconvert_exporter": "python",
   "pygments_lexer": "ipython3",
   "version": "3.8.5"
  }
 },
 "nbformat": 4,
 "nbformat_minor": 5
}
